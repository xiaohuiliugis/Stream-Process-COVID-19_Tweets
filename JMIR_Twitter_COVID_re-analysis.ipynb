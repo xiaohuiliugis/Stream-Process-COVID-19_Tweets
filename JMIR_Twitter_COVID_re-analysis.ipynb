{
 "cells": [
  {
   "cell_type": "code",
   "execution_count": 186,
   "id": "45adb8fb",
   "metadata": {},
   "outputs": [],
   "source": [
    "import matplotlib.backends.backend_tkagg\n",
    "import matplotlib\n",
    "matplotlib.use(\"Agg\")  # or whichever backend you wish to use\n",
    "%matplotlib notebook\n",
    "%matplotlib inline\n",
    "\n",
    "import matplotlib.pyplot as plt\n",
    "import plotly.express as px\n",
    "import plotly.graph_objects as go\n",
    "from plotly.subplots import make_subplots\n",
    "\n",
    "\n",
    "import os,re\n",
    "import json\n",
    "import glob\n",
    "import pandas as pd\n",
    "import time,pytz\n",
    "import datetime\n",
    "import math\n",
    "import seaborn as sns\n",
    "import numpy as np\n",
    "import sklearn\n",
    "from sklearn import linear_model"
   ]
  },
  {
   "cell_type": "code",
   "execution_count": 2,
   "id": "81e4ec92",
   "metadata": {},
   "outputs": [],
   "source": [
    "in_dir = r'C:\\Users\\u6037208\\Box\\Twitter\\Tweets'\n",
    "out_dir = r'C:\\Users\\u6037208\\Box\\Twitter\\Analysis\\Output'\n",
    "twt_file = r'C:\\Users\\u6037208\\Box\\Twitter\\Tweets\\US_COVID_tweets.csv'"
   ]
  },
  {
   "cell_type": "code",
   "execution_count": 4,
   "id": "49b40e53",
   "metadata": {},
   "outputs": [
    {
     "data": {
      "text/html": [
       "<div>\n",
       "<style scoped>\n",
       "    .dataframe tbody tr th:only-of-type {\n",
       "        vertical-align: middle;\n",
       "    }\n",
       "\n",
       "    .dataframe tbody tr th {\n",
       "        vertical-align: top;\n",
       "    }\n",
       "\n",
       "    .dataframe thead th {\n",
       "        text-align: right;\n",
       "    }\n",
       "</style>\n",
       "<table border=\"1\" class=\"dataframe\">\n",
       "  <thead>\n",
       "    <tr style=\"text-align: right;\">\n",
       "      <th></th>\n",
       "      <th>created_at</th>\n",
       "      <th>full_text</th>\n",
       "      <th>geo.coordinates</th>\n",
       "      <th>coordinates</th>\n",
       "      <th>place.full_name</th>\n",
       "      <th>user.location</th>\n",
       "    </tr>\n",
       "  </thead>\n",
       "  <tbody>\n",
       "    <tr>\n",
       "      <th>0</th>\n",
       "      <td>Thu Mar 19 20:16:05 +0000 2020</td>\n",
       "      <td>Many ask us how they can support us during all...</td>\n",
       "      <td>[25.67931,-80.31869]</td>\n",
       "      <td>25.67931,-80.31869</td>\n",
       "      <td>Kendall, FL</td>\n",
       "      <td>9800 SW 77th Av Miami FL 33156</td>\n",
       "    </tr>\n",
       "    <tr>\n",
       "      <th>1</th>\n",
       "      <td>Thu Mar 19 20:39:55 +0000 2020</td>\n",
       "      <td>We wish that ceramic coating protected us from...</td>\n",
       "      <td>[41.07291,-111.99674]</td>\n",
       "      <td>41.07291,-111.99674</td>\n",
       "      <td>Layton, UT</td>\n",
       "      <td>Layton, UT</td>\n",
       "    </tr>\n",
       "    <tr>\n",
       "      <th>2</th>\n",
       "      <td>Thu Mar 19 20:28:50 +0000 2020</td>\n",
       "      <td>I HATE this Koon @Byrdgangshoota 🤦🏾‍♂️😂 Nigga ...</td>\n",
       "      <td>[40.85,-73.8669]</td>\n",
       "      <td>40.85,-73.8669</td>\n",
       "      <td>Bronx, NY</td>\n",
       "      <td>New York, NY</td>\n",
       "    </tr>\n",
       "    <tr>\n",
       "      <th>3</th>\n",
       "      <td>Thu Mar 19 21:02:22 +0000 2020</td>\n",
       "      <td>Day 3.... Corona-0, QueRona-3! Workout complet...</td>\n",
       "      <td>[32.7774,-96.7977]</td>\n",
       "      <td>32.7774,-96.7977</td>\n",
       "      <td>Dallas, TX</td>\n",
       "      <td>Dallas</td>\n",
       "    </tr>\n",
       "    <tr>\n",
       "      <th>4</th>\n",
       "      <td>Thu Mar 19 21:05:44 +0000 2020</td>\n",
       "      <td>Staying busy. \\n.\\n.\\n.\\n.\\n.\\n.\\n.\\n.\\n.\\n.\\n...</td>\n",
       "      <td>[34.1649,-118.3965]</td>\n",
       "      <td>34.1649,-118.3965</td>\n",
       "      <td>Los Angeles, CA</td>\n",
       "      <td>TX → LA</td>\n",
       "    </tr>\n",
       "  </tbody>\n",
       "</table>\n",
       "</div>"
      ],
      "text/plain": [
       "                       created_at  \\\n",
       "0  Thu Mar 19 20:16:05 +0000 2020   \n",
       "1  Thu Mar 19 20:39:55 +0000 2020   \n",
       "2  Thu Mar 19 20:28:50 +0000 2020   \n",
       "3  Thu Mar 19 21:02:22 +0000 2020   \n",
       "4  Thu Mar 19 21:05:44 +0000 2020   \n",
       "\n",
       "                                           full_text        geo.coordinates  \\\n",
       "0  Many ask us how they can support us during all...   [25.67931,-80.31869]   \n",
       "1  We wish that ceramic coating protected us from...  [41.07291,-111.99674]   \n",
       "2  I HATE this Koon @Byrdgangshoota 🤦🏾‍♂️😂 Nigga ...       [40.85,-73.8669]   \n",
       "3  Day 3.... Corona-0, QueRona-3! Workout complet...     [32.7774,-96.7977]   \n",
       "4  Staying busy. \\n.\\n.\\n.\\n.\\n.\\n.\\n.\\n.\\n.\\n.\\n...    [34.1649,-118.3965]   \n",
       "\n",
       "           coordinates  place.full_name                   user.location  \n",
       "0   25.67931,-80.31869      Kendall, FL  9800 SW 77th Av Miami FL 33156  \n",
       "1  41.07291,-111.99674       Layton, UT                      Layton, UT  \n",
       "2       40.85,-73.8669        Bronx, NY                    New York, NY  \n",
       "3     32.7774,-96.7977       Dallas, TX                          Dallas  \n",
       "4    34.1649,-118.3965  Los Angeles, CA                         TX → LA  "
      ]
     },
     "execution_count": 4,
     "metadata": {},
     "output_type": "execute_result"
    }
   ],
   "source": [
    "tweets = pd.read_csv(twt_file)\n",
    "tweets.drop(columns =[\"user.time_zone\", \"_id\",\"id\",\"id_str\",\"place.country_code\",\"user.id\",\"user.id_str\",\"place.name\",\"place.place_type\",\"user.name\",\"coordinates.coordinates\"],inplace = True)\n",
    "tweets.head()"
   ]
  },
  {
   "cell_type": "code",
   "execution_count": 5,
   "id": "ae8821a2",
   "metadata": {},
   "outputs": [
    {
     "data": {
      "text/html": [
       "<div>\n",
       "<style scoped>\n",
       "    .dataframe tbody tr th:only-of-type {\n",
       "        vertical-align: middle;\n",
       "    }\n",
       "\n",
       "    .dataframe tbody tr th {\n",
       "        vertical-align: top;\n",
       "    }\n",
       "\n",
       "    .dataframe thead th {\n",
       "        text-align: right;\n",
       "    }\n",
       "</style>\n",
       "<table border=\"1\" class=\"dataframe\">\n",
       "  <thead>\n",
       "    <tr style=\"text-align: right;\">\n",
       "      <th></th>\n",
       "      <th>created_at</th>\n",
       "      <th>full_text</th>\n",
       "      <th>geo.coordinates</th>\n",
       "      <th>coordinates</th>\n",
       "      <th>place.full_name</th>\n",
       "      <th>user.location</th>\n",
       "      <th>create_time</th>\n",
       "    </tr>\n",
       "  </thead>\n",
       "  <tbody>\n",
       "    <tr>\n",
       "      <th>0</th>\n",
       "      <td>Thu Mar 19 20:16:05 +0000 2020</td>\n",
       "      <td>Many ask us how they can support us during all...</td>\n",
       "      <td>[25.67931,-80.31869]</td>\n",
       "      <td>25.67931,-80.31869</td>\n",
       "      <td>Kendall, FL</td>\n",
       "      <td>9800 SW 77th Av Miami FL 33156</td>\n",
       "      <td>2020-03-19 20:16:05</td>\n",
       "    </tr>\n",
       "    <tr>\n",
       "      <th>1</th>\n",
       "      <td>Thu Mar 19 20:39:55 +0000 2020</td>\n",
       "      <td>We wish that ceramic coating protected us from...</td>\n",
       "      <td>[41.07291,-111.99674]</td>\n",
       "      <td>41.07291,-111.99674</td>\n",
       "      <td>Layton, UT</td>\n",
       "      <td>Layton, UT</td>\n",
       "      <td>2020-03-19 20:39:55</td>\n",
       "    </tr>\n",
       "    <tr>\n",
       "      <th>2</th>\n",
       "      <td>Thu Mar 19 20:28:50 +0000 2020</td>\n",
       "      <td>I HATE this Koon @Byrdgangshoota 🤦🏾‍♂️😂 Nigga ...</td>\n",
       "      <td>[40.85,-73.8669]</td>\n",
       "      <td>40.85,-73.8669</td>\n",
       "      <td>Bronx, NY</td>\n",
       "      <td>New York, NY</td>\n",
       "      <td>2020-03-19 20:28:50</td>\n",
       "    </tr>\n",
       "    <tr>\n",
       "      <th>3</th>\n",
       "      <td>Thu Mar 19 21:02:22 +0000 2020</td>\n",
       "      <td>Day 3.... Corona-0, QueRona-3! Workout complet...</td>\n",
       "      <td>[32.7774,-96.7977]</td>\n",
       "      <td>32.7774,-96.7977</td>\n",
       "      <td>Dallas, TX</td>\n",
       "      <td>Dallas</td>\n",
       "      <td>2020-03-19 21:02:22</td>\n",
       "    </tr>\n",
       "    <tr>\n",
       "      <th>4</th>\n",
       "      <td>Thu Mar 19 21:05:44 +0000 2020</td>\n",
       "      <td>Staying busy. \\n.\\n.\\n.\\n.\\n.\\n.\\n.\\n.\\n.\\n.\\n...</td>\n",
       "      <td>[34.1649,-118.3965]</td>\n",
       "      <td>34.1649,-118.3965</td>\n",
       "      <td>Los Angeles, CA</td>\n",
       "      <td>TX → LA</td>\n",
       "      <td>2020-03-19 21:05:44</td>\n",
       "    </tr>\n",
       "  </tbody>\n",
       "</table>\n",
       "</div>"
      ],
      "text/plain": [
       "                       created_at  \\\n",
       "0  Thu Mar 19 20:16:05 +0000 2020   \n",
       "1  Thu Mar 19 20:39:55 +0000 2020   \n",
       "2  Thu Mar 19 20:28:50 +0000 2020   \n",
       "3  Thu Mar 19 21:02:22 +0000 2020   \n",
       "4  Thu Mar 19 21:05:44 +0000 2020   \n",
       "\n",
       "                                           full_text        geo.coordinates  \\\n",
       "0  Many ask us how they can support us during all...   [25.67931,-80.31869]   \n",
       "1  We wish that ceramic coating protected us from...  [41.07291,-111.99674]   \n",
       "2  I HATE this Koon @Byrdgangshoota 🤦🏾‍♂️😂 Nigga ...       [40.85,-73.8669]   \n",
       "3  Day 3.... Corona-0, QueRona-3! Workout complet...     [32.7774,-96.7977]   \n",
       "4  Staying busy. \\n.\\n.\\n.\\n.\\n.\\n.\\n.\\n.\\n.\\n.\\n...    [34.1649,-118.3965]   \n",
       "\n",
       "           coordinates  place.full_name                   user.location  \\\n",
       "0   25.67931,-80.31869      Kendall, FL  9800 SW 77th Av Miami FL 33156   \n",
       "1  41.07291,-111.99674       Layton, UT                      Layton, UT   \n",
       "2       40.85,-73.8669        Bronx, NY                    New York, NY   \n",
       "3     32.7774,-96.7977       Dallas, TX                          Dallas   \n",
       "4    34.1649,-118.3965  Los Angeles, CA                         TX → LA   \n",
       "\n",
       "          create_time  \n",
       "0 2020-03-19 20:16:05  \n",
       "1 2020-03-19 20:39:55  \n",
       "2 2020-03-19 20:28:50  \n",
       "3 2020-03-19 21:02:22  \n",
       "4 2020-03-19 21:05:44  "
      ]
     },
     "execution_count": 5,
     "metadata": {},
     "output_type": "execute_result"
    }
   ],
   "source": [
    "# df['Discounted_Price'] = df.apply(lambda row: row.Cost - \n",
    "#                                   (row.Cost * 0.1), axis = 1)\n",
    "\n",
    "tweets['create_time'] = tweets.apply(lambda row: datetime.datetime.strptime(row[\"created_at\"],'%a %b %d %H:%M:%S +0000 %Y'),axis =1) \n",
    "tweets.head()"
   ]
  },
  {
   "cell_type": "code",
   "execution_count": 6,
   "id": "520a3ab0",
   "metadata": {},
   "outputs": [
    {
     "data": {
      "text/plain": [
       "pandas._libs.tslibs.timestamps.Timestamp"
      ]
     },
     "execution_count": 6,
     "metadata": {},
     "output_type": "execute_result"
    }
   ],
   "source": [
    "tweets[\"create_time\"][0]>tweets[\"create_time\"][1]\n",
    "type(tweets[\"create_time\"][0])"
   ]
  },
  {
   "cell_type": "code",
   "execution_count": 7,
   "id": "39a720f2",
   "metadata": {},
   "outputs": [
    {
     "data": {
      "text/html": [
       "<div>\n",
       "<style scoped>\n",
       "    .dataframe tbody tr th:only-of-type {\n",
       "        vertical-align: middle;\n",
       "    }\n",
       "\n",
       "    .dataframe tbody tr th {\n",
       "        vertical-align: top;\n",
       "    }\n",
       "\n",
       "    .dataframe thead th {\n",
       "        text-align: right;\n",
       "    }\n",
       "</style>\n",
       "<table border=\"1\" class=\"dataframe\">\n",
       "  <thead>\n",
       "    <tr style=\"text-align: right;\">\n",
       "      <th></th>\n",
       "      <th>created_at</th>\n",
       "      <th>full_text</th>\n",
       "      <th>geo.coordinates</th>\n",
       "      <th>coordinates</th>\n",
       "      <th>place.full_name</th>\n",
       "      <th>user.location</th>\n",
       "      <th>create_time</th>\n",
       "      <th>Wave</th>\n",
       "    </tr>\n",
       "    <tr>\n",
       "      <th>create_time</th>\n",
       "      <th></th>\n",
       "      <th></th>\n",
       "      <th></th>\n",
       "      <th></th>\n",
       "      <th></th>\n",
       "      <th></th>\n",
       "      <th></th>\n",
       "      <th></th>\n",
       "    </tr>\n",
       "  </thead>\n",
       "  <tbody>\n",
       "    <tr>\n",
       "      <th>2020-03-19 19:53:17</th>\n",
       "      <td>Thu Mar 19 19:53:17 +0000 2020</td>\n",
       "      <td>#statewaterheaters #getitin #corona #keepingpe...</td>\n",
       "      <td>[39.8841,-82.759]</td>\n",
       "      <td>39.8841,-82.759</td>\n",
       "      <td>Pickerington, OH</td>\n",
       "      <td>ohio</td>\n",
       "      <td>2020-03-19 19:53:17</td>\n",
       "      <td>Wave 1</td>\n",
       "    </tr>\n",
       "    <tr>\n",
       "      <th>2020-03-19 19:53:46</th>\n",
       "      <td>Thu Mar 19 19:53:46 +0000 2020</td>\n",
       "      <td>\"ain't no humans outside! (corona!)\" 😂😂😂🤣 @ Cl...</td>\n",
       "      <td>[41.4996,-81.6937]</td>\n",
       "      <td>41.4996,-81.6937</td>\n",
       "      <td>Cleveland, OH</td>\n",
       "      <td>Simple Pleasures Lane</td>\n",
       "      <td>2020-03-19 19:53:46</td>\n",
       "      <td>Wave 1</td>\n",
       "    </tr>\n",
       "    <tr>\n",
       "      <th>2020-03-19 19:56:46</th>\n",
       "      <td>Thu Mar 19 19:56:46 +0000 2020</td>\n",
       "      <td>current weather in Corona: moderate rain, 56°F...</td>\n",
       "      <td>[33.88,-117.58]</td>\n",
       "      <td>33.88,-117.58</td>\n",
       "      <td>Corona, CA</td>\n",
       "      <td>Corona, CA</td>\n",
       "      <td>2020-03-19 19:56:46</td>\n",
       "      <td>Wave 1</td>\n",
       "    </tr>\n",
       "    <tr>\n",
       "      <th>2020-03-19 19:58:28</th>\n",
       "      <td>Thu Mar 19 19:58:28 +0000 2020</td>\n",
       "      <td>Quarantine 🏓 training ! Adding some kicks 💥. \\...</td>\n",
       "      <td>[34.0522,-118.243]</td>\n",
       "      <td>34.0522,-118.243</td>\n",
       "      <td>Los Angeles, CA</td>\n",
       "      <td>Los Angeles</td>\n",
       "      <td>2020-03-19 19:58:28</td>\n",
       "      <td>Wave 1</td>\n",
       "    </tr>\n",
       "    <tr>\n",
       "      <th>2020-03-19 20:05:01</th>\n",
       "      <td>Thu Mar 19 20:05:01 +0000 2020</td>\n",
       "      <td>#quarantine #stockpiling #food #sexylatino #la...</td>\n",
       "      <td>[34.1509,-118.355]</td>\n",
       "      <td>34.1509,-118.355</td>\n",
       "      <td>Los Angeles, CA</td>\n",
       "      <td>North Hollywood, Los Angeles</td>\n",
       "      <td>2020-03-19 20:05:01</td>\n",
       "      <td>Wave 1</td>\n",
       "    </tr>\n",
       "    <tr>\n",
       "      <th>2020-03-19 20:06:34</th>\n",
       "      <td>Thu Mar 19 20:06:34 +0000 2020</td>\n",
       "      <td>You know you got a good friend when they send ...</td>\n",
       "      <td>[34.07347,-118.40033]</td>\n",
       "      <td>34.07347,-118.40033</td>\n",
       "      <td>Beverly Hills, CA</td>\n",
       "      <td>Beverly Hills, California</td>\n",
       "      <td>2020-03-19 20:06:34</td>\n",
       "      <td>Wave 1</td>\n",
       "    </tr>\n",
       "    <tr>\n",
       "      <th>2020-03-19 20:08:58</th>\n",
       "      <td>Thu Mar 19 20:08:58 +0000 2020</td>\n",
       "      <td>How’s My Quarantine Going You Ask??? Well... L...</td>\n",
       "      <td>[38.0297,-84.4947]</td>\n",
       "      <td>38.0297,-84.4947</td>\n",
       "      <td>Kentucky, USA</td>\n",
       "      <td>Lexington, KY</td>\n",
       "      <td>2020-03-19 20:08:58</td>\n",
       "      <td>Wave 1</td>\n",
       "    </tr>\n",
       "    <tr>\n",
       "      <th>2020-03-19 20:12:13</th>\n",
       "      <td>Thu Mar 19 20:12:13 +0000 2020</td>\n",
       "      <td>The rarest diamonds on planet Earth. The pink ...</td>\n",
       "      <td>[18.35,-64.9004]</td>\n",
       "      <td>18.35,-64.9004</td>\n",
       "      <td>Charlotte Amalie, Virgin Islands</td>\n",
       "      <td>St. Thomas, USVI</td>\n",
       "      <td>2020-03-19 20:12:13</td>\n",
       "      <td>Wave 1</td>\n",
       "    </tr>\n",
       "    <tr>\n",
       "      <th>2020-03-19 20:12:28</th>\n",
       "      <td>Thu Mar 19 20:12:28 +0000 2020</td>\n",
       "      <td>Well one positive thing about this Corona Viru...</td>\n",
       "      <td>[42.6703,-71.3025]</td>\n",
       "      <td>42.6703,-71.3025</td>\n",
       "      <td>Dracut, MA</td>\n",
       "      <td>NaN</td>\n",
       "      <td>2020-03-19 20:12:28</td>\n",
       "      <td>Wave 1</td>\n",
       "    </tr>\n",
       "    <tr>\n",
       "      <th>2020-03-19 20:13:19</th>\n",
       "      <td>Thu Mar 19 20:13:19 +0000 2020</td>\n",
       "      <td>Quarantine Boredom? READ COMICS\\nDEAD WRONG pa...</td>\n",
       "      <td>[25.8261866,-80.2803877]</td>\n",
       "      <td>25.8261866,-80.2803877</td>\n",
       "      <td>Hialeah, FL</td>\n",
       "      <td>Miami FL</td>\n",
       "      <td>2020-03-19 20:13:19</td>\n",
       "      <td>Wave 1</td>\n",
       "    </tr>\n",
       "    <tr>\n",
       "      <th>2020-03-19 20:13:56</th>\n",
       "      <td>Thu Mar 19 20:13:56 +0000 2020</td>\n",
       "      <td>Be back soon my friends #corona #cov19 #notMyV...</td>\n",
       "      <td>[41.883222,-87.632496]</td>\n",
       "      <td>41.883222,-87.632496</td>\n",
       "      <td>Chicago, IL</td>\n",
       "      <td>Chicago, IL</td>\n",
       "      <td>2020-03-19 20:13:56</td>\n",
       "      <td>Wave 1</td>\n",
       "    </tr>\n",
       "    <tr>\n",
       "      <th>2020-03-19 20:14:05</th>\n",
       "      <td>Thu Mar 19 20:14:05 +0000 2020</td>\n",
       "      <td>Here’s a smile because I feel like we need it!...</td>\n",
       "      <td>[40.70542461,-73.9961493]</td>\n",
       "      <td>40.70542461,-73.9961493</td>\n",
       "      <td>New York, USA</td>\n",
       "      <td>United Kingdom</td>\n",
       "      <td>2020-03-19 20:14:05</td>\n",
       "      <td>Wave 1</td>\n",
       "    </tr>\n",
       "  </tbody>\n",
       "</table>\n",
       "</div>"
      ],
      "text/plain": [
       "                                         created_at  \\\n",
       "create_time                                           \n",
       "2020-03-19 19:53:17  Thu Mar 19 19:53:17 +0000 2020   \n",
       "2020-03-19 19:53:46  Thu Mar 19 19:53:46 +0000 2020   \n",
       "2020-03-19 19:56:46  Thu Mar 19 19:56:46 +0000 2020   \n",
       "2020-03-19 19:58:28  Thu Mar 19 19:58:28 +0000 2020   \n",
       "2020-03-19 20:05:01  Thu Mar 19 20:05:01 +0000 2020   \n",
       "2020-03-19 20:06:34  Thu Mar 19 20:06:34 +0000 2020   \n",
       "2020-03-19 20:08:58  Thu Mar 19 20:08:58 +0000 2020   \n",
       "2020-03-19 20:12:13  Thu Mar 19 20:12:13 +0000 2020   \n",
       "2020-03-19 20:12:28  Thu Mar 19 20:12:28 +0000 2020   \n",
       "2020-03-19 20:13:19  Thu Mar 19 20:13:19 +0000 2020   \n",
       "2020-03-19 20:13:56  Thu Mar 19 20:13:56 +0000 2020   \n",
       "2020-03-19 20:14:05  Thu Mar 19 20:14:05 +0000 2020   \n",
       "\n",
       "                                                             full_text  \\\n",
       "create_time                                                              \n",
       "2020-03-19 19:53:17  #statewaterheaters #getitin #corona #keepingpe...   \n",
       "2020-03-19 19:53:46  \"ain't no humans outside! (corona!)\" 😂😂😂🤣 @ Cl...   \n",
       "2020-03-19 19:56:46  current weather in Corona: moderate rain, 56°F...   \n",
       "2020-03-19 19:58:28  Quarantine 🏓 training ! Adding some kicks 💥. \\...   \n",
       "2020-03-19 20:05:01  #quarantine #stockpiling #food #sexylatino #la...   \n",
       "2020-03-19 20:06:34  You know you got a good friend when they send ...   \n",
       "2020-03-19 20:08:58  How’s My Quarantine Going You Ask??? Well... L...   \n",
       "2020-03-19 20:12:13  The rarest diamonds on planet Earth. The pink ...   \n",
       "2020-03-19 20:12:28  Well one positive thing about this Corona Viru...   \n",
       "2020-03-19 20:13:19  Quarantine Boredom? READ COMICS\\nDEAD WRONG pa...   \n",
       "2020-03-19 20:13:56  Be back soon my friends #corona #cov19 #notMyV...   \n",
       "2020-03-19 20:14:05  Here’s a smile because I feel like we need it!...   \n",
       "\n",
       "                               geo.coordinates              coordinates  \\\n",
       "create_time                                                               \n",
       "2020-03-19 19:53:17          [39.8841,-82.759]          39.8841,-82.759   \n",
       "2020-03-19 19:53:46         [41.4996,-81.6937]         41.4996,-81.6937   \n",
       "2020-03-19 19:56:46            [33.88,-117.58]            33.88,-117.58   \n",
       "2020-03-19 19:58:28         [34.0522,-118.243]         34.0522,-118.243   \n",
       "2020-03-19 20:05:01         [34.1509,-118.355]         34.1509,-118.355   \n",
       "2020-03-19 20:06:34      [34.07347,-118.40033]      34.07347,-118.40033   \n",
       "2020-03-19 20:08:58         [38.0297,-84.4947]         38.0297,-84.4947   \n",
       "2020-03-19 20:12:13           [18.35,-64.9004]           18.35,-64.9004   \n",
       "2020-03-19 20:12:28         [42.6703,-71.3025]         42.6703,-71.3025   \n",
       "2020-03-19 20:13:19   [25.8261866,-80.2803877]   25.8261866,-80.2803877   \n",
       "2020-03-19 20:13:56     [41.883222,-87.632496]     41.883222,-87.632496   \n",
       "2020-03-19 20:14:05  [40.70542461,-73.9961493]  40.70542461,-73.9961493   \n",
       "\n",
       "                                      place.full_name  \\\n",
       "create_time                                             \n",
       "2020-03-19 19:53:17                  Pickerington, OH   \n",
       "2020-03-19 19:53:46                     Cleveland, OH   \n",
       "2020-03-19 19:56:46                        Corona, CA   \n",
       "2020-03-19 19:58:28                   Los Angeles, CA   \n",
       "2020-03-19 20:05:01                   Los Angeles, CA   \n",
       "2020-03-19 20:06:34                 Beverly Hills, CA   \n",
       "2020-03-19 20:08:58                     Kentucky, USA   \n",
       "2020-03-19 20:12:13  Charlotte Amalie, Virgin Islands   \n",
       "2020-03-19 20:12:28                        Dracut, MA   \n",
       "2020-03-19 20:13:19                       Hialeah, FL   \n",
       "2020-03-19 20:13:56                       Chicago, IL   \n",
       "2020-03-19 20:14:05                     New York, USA   \n",
       "\n",
       "                                    user.location         create_time    Wave  \n",
       "create_time                                                                    \n",
       "2020-03-19 19:53:17                          ohio 2020-03-19 19:53:17  Wave 1  \n",
       "2020-03-19 19:53:46         Simple Pleasures Lane 2020-03-19 19:53:46  Wave 1  \n",
       "2020-03-19 19:56:46                    Corona, CA 2020-03-19 19:56:46  Wave 1  \n",
       "2020-03-19 19:58:28                   Los Angeles 2020-03-19 19:58:28  Wave 1  \n",
       "2020-03-19 20:05:01  North Hollywood, Los Angeles 2020-03-19 20:05:01  Wave 1  \n",
       "2020-03-19 20:06:34    Beverly Hills, California  2020-03-19 20:06:34  Wave 1  \n",
       "2020-03-19 20:08:58                 Lexington, KY 2020-03-19 20:08:58  Wave 1  \n",
       "2020-03-19 20:12:13              St. Thomas, USVI 2020-03-19 20:12:13  Wave 1  \n",
       "2020-03-19 20:12:28                           NaN 2020-03-19 20:12:28  Wave 1  \n",
       "2020-03-19 20:13:19                      Miami FL 2020-03-19 20:13:19  Wave 1  \n",
       "2020-03-19 20:13:56                   Chicago, IL 2020-03-19 20:13:56  Wave 1  \n",
       "2020-03-19 20:14:05                United Kingdom 2020-03-19 20:14:05  Wave 1  "
      ]
     },
     "execution_count": 7,
     "metadata": {},
     "output_type": "execute_result"
    }
   ],
   "source": [
    "# separate tweets into three waves, wave 1: March 1-May 31;wave 2: June 1-Aug 31; wave 3: Sep 1 - Dec 31, 2020\n",
    "tweets.loc[tweets.create_time <='2020-05-31','Wave'] = \"Wave 1\"\n",
    "tweets.loc[(tweets.create_time >'2020-05-31') & (tweets.create_time <='2020-08-31'),'Wave'] = \"Wave 2\"\n",
    "tweets.loc[tweets.create_time > '2020-09-01','Wave'] = \"Wave 3\"\n",
    "\n",
    "\n",
    "tweets.set_index('create_time', drop=False, append=False, inplace=True, verify_integrity=False)\n",
    "tweets= tweets.sort_index(ascending=True)\n",
    "tweets.head(12)"
   ]
  },
  {
   "cell_type": "code",
   "execution_count": 8,
   "id": "f8a64acb",
   "metadata": {},
   "outputs": [],
   "source": [
    "# returns the # of weeks after Mar 1, 2020. i.e., Mar 8, 2020 will be the 2nd week. \n",
    "def find_weeks(time):\n",
    "    start = datetime.datetime.strptime(\"Thu Mar 19 19:53:17 +0000 2020\",'%a %b %d %H:%M:%S +0000 %Y')\n",
    "    time1 = datetime.datetime.strptime(time,'%a %b %d %H:%M:%S +0000 %Y')\n",
    "    tt = math.floor((time1-start).days/7)+1\n",
    "    return tt"
   ]
  },
  {
   "cell_type": "code",
   "execution_count": 9,
   "id": "94a99c00",
   "metadata": {},
   "outputs": [],
   "source": [
    "tweets['Week'] = tweets[\"created_at\"].apply(find_weeks)\n",
    "#tweets.head(10)"
   ]
  },
  {
   "cell_type": "code",
   "execution_count": 10,
   "id": "d72502aa",
   "metadata": {
    "scrolled": true
   },
   "outputs": [
    {
     "data": {
      "application/javascript": [
       "/* Put everything inside the global mpl namespace */\n",
       "/* global mpl */\n",
       "window.mpl = {};\n",
       "\n",
       "mpl.get_websocket_type = function () {\n",
       "    if (typeof WebSocket !== 'undefined') {\n",
       "        return WebSocket;\n",
       "    } else if (typeof MozWebSocket !== 'undefined') {\n",
       "        return MozWebSocket;\n",
       "    } else {\n",
       "        alert(\n",
       "            'Your browser does not have WebSocket support. ' +\n",
       "                'Please try Chrome, Safari or Firefox ≥ 6. ' +\n",
       "                'Firefox 4 and 5 are also supported but you ' +\n",
       "                'have to enable WebSockets in about:config.'\n",
       "        );\n",
       "    }\n",
       "};\n",
       "\n",
       "mpl.figure = function (figure_id, websocket, ondownload, parent_element) {\n",
       "    this.id = figure_id;\n",
       "\n",
       "    this.ws = websocket;\n",
       "\n",
       "    this.supports_binary = this.ws.binaryType !== undefined;\n",
       "\n",
       "    if (!this.supports_binary) {\n",
       "        var warnings = document.getElementById('mpl-warnings');\n",
       "        if (warnings) {\n",
       "            warnings.style.display = 'block';\n",
       "            warnings.textContent =\n",
       "                'This browser does not support binary websocket messages. ' +\n",
       "                'Performance may be slow.';\n",
       "        }\n",
       "    }\n",
       "\n",
       "    this.imageObj = new Image();\n",
       "\n",
       "    this.context = undefined;\n",
       "    this.message = undefined;\n",
       "    this.canvas = undefined;\n",
       "    this.rubberband_canvas = undefined;\n",
       "    this.rubberband_context = undefined;\n",
       "    this.format_dropdown = undefined;\n",
       "\n",
       "    this.image_mode = 'full';\n",
       "\n",
       "    this.root = document.createElement('div');\n",
       "    this.root.setAttribute('style', 'display: inline-block');\n",
       "    this._root_extra_style(this.root);\n",
       "\n",
       "    parent_element.appendChild(this.root);\n",
       "\n",
       "    this._init_header(this);\n",
       "    this._init_canvas(this);\n",
       "    this._init_toolbar(this);\n",
       "\n",
       "    var fig = this;\n",
       "\n",
       "    this.waiting = false;\n",
       "\n",
       "    this.ws.onopen = function () {\n",
       "        fig.send_message('supports_binary', { value: fig.supports_binary });\n",
       "        fig.send_message('send_image_mode', {});\n",
       "        if (fig.ratio !== 1) {\n",
       "            fig.send_message('set_dpi_ratio', { dpi_ratio: fig.ratio });\n",
       "        }\n",
       "        fig.send_message('refresh', {});\n",
       "    };\n",
       "\n",
       "    this.imageObj.onload = function () {\n",
       "        if (fig.image_mode === 'full') {\n",
       "            // Full images could contain transparency (where diff images\n",
       "            // almost always do), so we need to clear the canvas so that\n",
       "            // there is no ghosting.\n",
       "            fig.context.clearRect(0, 0, fig.canvas.width, fig.canvas.height);\n",
       "        }\n",
       "        fig.context.drawImage(fig.imageObj, 0, 0);\n",
       "    };\n",
       "\n",
       "    this.imageObj.onunload = function () {\n",
       "        fig.ws.close();\n",
       "    };\n",
       "\n",
       "    this.ws.onmessage = this._make_on_message_function(this);\n",
       "\n",
       "    this.ondownload = ondownload;\n",
       "};\n",
       "\n",
       "mpl.figure.prototype._init_header = function () {\n",
       "    var titlebar = document.createElement('div');\n",
       "    titlebar.classList =\n",
       "        'ui-dialog-titlebar ui-widget-header ui-corner-all ui-helper-clearfix';\n",
       "    var titletext = document.createElement('div');\n",
       "    titletext.classList = 'ui-dialog-title';\n",
       "    titletext.setAttribute(\n",
       "        'style',\n",
       "        'width: 100%; text-align: center; padding: 3px;'\n",
       "    );\n",
       "    titlebar.appendChild(titletext);\n",
       "    this.root.appendChild(titlebar);\n",
       "    this.header = titletext;\n",
       "};\n",
       "\n",
       "mpl.figure.prototype._canvas_extra_style = function (_canvas_div) {};\n",
       "\n",
       "mpl.figure.prototype._root_extra_style = function (_canvas_div) {};\n",
       "\n",
       "mpl.figure.prototype._init_canvas = function () {\n",
       "    var fig = this;\n",
       "\n",
       "    var canvas_div = (this.canvas_div = document.createElement('div'));\n",
       "    canvas_div.setAttribute(\n",
       "        'style',\n",
       "        'border: 1px solid #ddd;' +\n",
       "            'box-sizing: content-box;' +\n",
       "            'clear: both;' +\n",
       "            'min-height: 1px;' +\n",
       "            'min-width: 1px;' +\n",
       "            'outline: 0;' +\n",
       "            'overflow: hidden;' +\n",
       "            'position: relative;' +\n",
       "            'resize: both;'\n",
       "    );\n",
       "\n",
       "    function on_keyboard_event_closure(name) {\n",
       "        return function (event) {\n",
       "            return fig.key_event(event, name);\n",
       "        };\n",
       "    }\n",
       "\n",
       "    canvas_div.addEventListener(\n",
       "        'keydown',\n",
       "        on_keyboard_event_closure('key_press')\n",
       "    );\n",
       "    canvas_div.addEventListener(\n",
       "        'keyup',\n",
       "        on_keyboard_event_closure('key_release')\n",
       "    );\n",
       "\n",
       "    this._canvas_extra_style(canvas_div);\n",
       "    this.root.appendChild(canvas_div);\n",
       "\n",
       "    var canvas = (this.canvas = document.createElement('canvas'));\n",
       "    canvas.classList.add('mpl-canvas');\n",
       "    canvas.setAttribute('style', 'box-sizing: content-box;');\n",
       "\n",
       "    this.context = canvas.getContext('2d');\n",
       "\n",
       "    var backingStore =\n",
       "        this.context.backingStorePixelRatio ||\n",
       "        this.context.webkitBackingStorePixelRatio ||\n",
       "        this.context.mozBackingStorePixelRatio ||\n",
       "        this.context.msBackingStorePixelRatio ||\n",
       "        this.context.oBackingStorePixelRatio ||\n",
       "        this.context.backingStorePixelRatio ||\n",
       "        1;\n",
       "\n",
       "    this.ratio = (window.devicePixelRatio || 1) / backingStore;\n",
       "\n",
       "    var rubberband_canvas = (this.rubberband_canvas = document.createElement(\n",
       "        'canvas'\n",
       "    ));\n",
       "    rubberband_canvas.setAttribute(\n",
       "        'style',\n",
       "        'box-sizing: content-box; position: absolute; left: 0; top: 0; z-index: 1;'\n",
       "    );\n",
       "\n",
       "    // Apply a ponyfill if ResizeObserver is not implemented by browser.\n",
       "    if (this.ResizeObserver === undefined) {\n",
       "        if (window.ResizeObserver !== undefined) {\n",
       "            this.ResizeObserver = window.ResizeObserver;\n",
       "        } else {\n",
       "            var obs = _JSXTOOLS_RESIZE_OBSERVER({});\n",
       "            this.ResizeObserver = obs.ResizeObserver;\n",
       "        }\n",
       "    }\n",
       "\n",
       "    this.resizeObserverInstance = new this.ResizeObserver(function (entries) {\n",
       "        var nentries = entries.length;\n",
       "        for (var i = 0; i < nentries; i++) {\n",
       "            var entry = entries[i];\n",
       "            var width, height;\n",
       "            if (entry.contentBoxSize) {\n",
       "                if (entry.contentBoxSize instanceof Array) {\n",
       "                    // Chrome 84 implements new version of spec.\n",
       "                    width = entry.contentBoxSize[0].inlineSize;\n",
       "                    height = entry.contentBoxSize[0].blockSize;\n",
       "                } else {\n",
       "                    // Firefox implements old version of spec.\n",
       "                    width = entry.contentBoxSize.inlineSize;\n",
       "                    height = entry.contentBoxSize.blockSize;\n",
       "                }\n",
       "            } else {\n",
       "                // Chrome <84 implements even older version of spec.\n",
       "                width = entry.contentRect.width;\n",
       "                height = entry.contentRect.height;\n",
       "            }\n",
       "\n",
       "            // Keep the size of the canvas and rubber band canvas in sync with\n",
       "            // the canvas container.\n",
       "            if (entry.devicePixelContentBoxSize) {\n",
       "                // Chrome 84 implements new version of spec.\n",
       "                canvas.setAttribute(\n",
       "                    'width',\n",
       "                    entry.devicePixelContentBoxSize[0].inlineSize\n",
       "                );\n",
       "                canvas.setAttribute(\n",
       "                    'height',\n",
       "                    entry.devicePixelContentBoxSize[0].blockSize\n",
       "                );\n",
       "            } else {\n",
       "                canvas.setAttribute('width', width * fig.ratio);\n",
       "                canvas.setAttribute('height', height * fig.ratio);\n",
       "            }\n",
       "            canvas.setAttribute(\n",
       "                'style',\n",
       "                'width: ' + width + 'px; height: ' + height + 'px;'\n",
       "            );\n",
       "\n",
       "            rubberband_canvas.setAttribute('width', width);\n",
       "            rubberband_canvas.setAttribute('height', height);\n",
       "\n",
       "            // And update the size in Python. We ignore the initial 0/0 size\n",
       "            // that occurs as the element is placed into the DOM, which should\n",
       "            // otherwise not happen due to the minimum size styling.\n",
       "            if (fig.ws.readyState == 1 && width != 0 && height != 0) {\n",
       "                fig.request_resize(width, height);\n",
       "            }\n",
       "        }\n",
       "    });\n",
       "    this.resizeObserverInstance.observe(canvas_div);\n",
       "\n",
       "    function on_mouse_event_closure(name) {\n",
       "        return function (event) {\n",
       "            return fig.mouse_event(event, name);\n",
       "        };\n",
       "    }\n",
       "\n",
       "    rubberband_canvas.addEventListener(\n",
       "        'mousedown',\n",
       "        on_mouse_event_closure('button_press')\n",
       "    );\n",
       "    rubberband_canvas.addEventListener(\n",
       "        'mouseup',\n",
       "        on_mouse_event_closure('button_release')\n",
       "    );\n",
       "    // Throttle sequential mouse events to 1 every 20ms.\n",
       "    rubberband_canvas.addEventListener(\n",
       "        'mousemove',\n",
       "        on_mouse_event_closure('motion_notify')\n",
       "    );\n",
       "\n",
       "    rubberband_canvas.addEventListener(\n",
       "        'mouseenter',\n",
       "        on_mouse_event_closure('figure_enter')\n",
       "    );\n",
       "    rubberband_canvas.addEventListener(\n",
       "        'mouseleave',\n",
       "        on_mouse_event_closure('figure_leave')\n",
       "    );\n",
       "\n",
       "    canvas_div.addEventListener('wheel', function (event) {\n",
       "        if (event.deltaY < 0) {\n",
       "            event.step = 1;\n",
       "        } else {\n",
       "            event.step = -1;\n",
       "        }\n",
       "        on_mouse_event_closure('scroll')(event);\n",
       "    });\n",
       "\n",
       "    canvas_div.appendChild(canvas);\n",
       "    canvas_div.appendChild(rubberband_canvas);\n",
       "\n",
       "    this.rubberband_context = rubberband_canvas.getContext('2d');\n",
       "    this.rubberband_context.strokeStyle = '#000000';\n",
       "\n",
       "    this._resize_canvas = function (width, height, forward) {\n",
       "        if (forward) {\n",
       "            canvas_div.style.width = width + 'px';\n",
       "            canvas_div.style.height = height + 'px';\n",
       "        }\n",
       "    };\n",
       "\n",
       "    // Disable right mouse context menu.\n",
       "    this.rubberband_canvas.addEventListener('contextmenu', function (_e) {\n",
       "        event.preventDefault();\n",
       "        return false;\n",
       "    });\n",
       "\n",
       "    function set_focus() {\n",
       "        canvas.focus();\n",
       "        canvas_div.focus();\n",
       "    }\n",
       "\n",
       "    window.setTimeout(set_focus, 100);\n",
       "};\n",
       "\n",
       "mpl.figure.prototype._init_toolbar = function () {\n",
       "    var fig = this;\n",
       "\n",
       "    var toolbar = document.createElement('div');\n",
       "    toolbar.classList = 'mpl-toolbar';\n",
       "    this.root.appendChild(toolbar);\n",
       "\n",
       "    function on_click_closure(name) {\n",
       "        return function (_event) {\n",
       "            return fig.toolbar_button_onclick(name);\n",
       "        };\n",
       "    }\n",
       "\n",
       "    function on_mouseover_closure(tooltip) {\n",
       "        return function (event) {\n",
       "            if (!event.currentTarget.disabled) {\n",
       "                return fig.toolbar_button_onmouseover(tooltip);\n",
       "            }\n",
       "        };\n",
       "    }\n",
       "\n",
       "    fig.buttons = {};\n",
       "    var buttonGroup = document.createElement('div');\n",
       "    buttonGroup.classList = 'mpl-button-group';\n",
       "    for (var toolbar_ind in mpl.toolbar_items) {\n",
       "        var name = mpl.toolbar_items[toolbar_ind][0];\n",
       "        var tooltip = mpl.toolbar_items[toolbar_ind][1];\n",
       "        var image = mpl.toolbar_items[toolbar_ind][2];\n",
       "        var method_name = mpl.toolbar_items[toolbar_ind][3];\n",
       "\n",
       "        if (!name) {\n",
       "            /* Instead of a spacer, we start a new button group. */\n",
       "            if (buttonGroup.hasChildNodes()) {\n",
       "                toolbar.appendChild(buttonGroup);\n",
       "            }\n",
       "            buttonGroup = document.createElement('div');\n",
       "            buttonGroup.classList = 'mpl-button-group';\n",
       "            continue;\n",
       "        }\n",
       "\n",
       "        var button = (fig.buttons[name] = document.createElement('button'));\n",
       "        button.classList = 'mpl-widget';\n",
       "        button.setAttribute('role', 'button');\n",
       "        button.setAttribute('aria-disabled', 'false');\n",
       "        button.addEventListener('click', on_click_closure(method_name));\n",
       "        button.addEventListener('mouseover', on_mouseover_closure(tooltip));\n",
       "\n",
       "        var icon_img = document.createElement('img');\n",
       "        icon_img.src = '_images/' + image + '.png';\n",
       "        icon_img.srcset = '_images/' + image + '_large.png 2x';\n",
       "        icon_img.alt = tooltip;\n",
       "        button.appendChild(icon_img);\n",
       "\n",
       "        buttonGroup.appendChild(button);\n",
       "    }\n",
       "\n",
       "    if (buttonGroup.hasChildNodes()) {\n",
       "        toolbar.appendChild(buttonGroup);\n",
       "    }\n",
       "\n",
       "    var fmt_picker = document.createElement('select');\n",
       "    fmt_picker.classList = 'mpl-widget';\n",
       "    toolbar.appendChild(fmt_picker);\n",
       "    this.format_dropdown = fmt_picker;\n",
       "\n",
       "    for (var ind in mpl.extensions) {\n",
       "        var fmt = mpl.extensions[ind];\n",
       "        var option = document.createElement('option');\n",
       "        option.selected = fmt === mpl.default_extension;\n",
       "        option.innerHTML = fmt;\n",
       "        fmt_picker.appendChild(option);\n",
       "    }\n",
       "\n",
       "    var status_bar = document.createElement('span');\n",
       "    status_bar.classList = 'mpl-message';\n",
       "    toolbar.appendChild(status_bar);\n",
       "    this.message = status_bar;\n",
       "};\n",
       "\n",
       "mpl.figure.prototype.request_resize = function (x_pixels, y_pixels) {\n",
       "    // Request matplotlib to resize the figure. Matplotlib will then trigger a resize in the client,\n",
       "    // which will in turn request a refresh of the image.\n",
       "    this.send_message('resize', { width: x_pixels, height: y_pixels });\n",
       "};\n",
       "\n",
       "mpl.figure.prototype.send_message = function (type, properties) {\n",
       "    properties['type'] = type;\n",
       "    properties['figure_id'] = this.id;\n",
       "    this.ws.send(JSON.stringify(properties));\n",
       "};\n",
       "\n",
       "mpl.figure.prototype.send_draw_message = function () {\n",
       "    if (!this.waiting) {\n",
       "        this.waiting = true;\n",
       "        this.ws.send(JSON.stringify({ type: 'draw', figure_id: this.id }));\n",
       "    }\n",
       "};\n",
       "\n",
       "mpl.figure.prototype.handle_save = function (fig, _msg) {\n",
       "    var format_dropdown = fig.format_dropdown;\n",
       "    var format = format_dropdown.options[format_dropdown.selectedIndex].value;\n",
       "    fig.ondownload(fig, format);\n",
       "};\n",
       "\n",
       "mpl.figure.prototype.handle_resize = function (fig, msg) {\n",
       "    var size = msg['size'];\n",
       "    if (size[0] !== fig.canvas.width || size[1] !== fig.canvas.height) {\n",
       "        fig._resize_canvas(size[0], size[1], msg['forward']);\n",
       "        fig.send_message('refresh', {});\n",
       "    }\n",
       "};\n",
       "\n",
       "mpl.figure.prototype.handle_rubberband = function (fig, msg) {\n",
       "    var x0 = msg['x0'] / fig.ratio;\n",
       "    var y0 = (fig.canvas.height - msg['y0']) / fig.ratio;\n",
       "    var x1 = msg['x1'] / fig.ratio;\n",
       "    var y1 = (fig.canvas.height - msg['y1']) / fig.ratio;\n",
       "    x0 = Math.floor(x0) + 0.5;\n",
       "    y0 = Math.floor(y0) + 0.5;\n",
       "    x1 = Math.floor(x1) + 0.5;\n",
       "    y1 = Math.floor(y1) + 0.5;\n",
       "    var min_x = Math.min(x0, x1);\n",
       "    var min_y = Math.min(y0, y1);\n",
       "    var width = Math.abs(x1 - x0);\n",
       "    var height = Math.abs(y1 - y0);\n",
       "\n",
       "    fig.rubberband_context.clearRect(\n",
       "        0,\n",
       "        0,\n",
       "        fig.canvas.width / fig.ratio,\n",
       "        fig.canvas.height / fig.ratio\n",
       "    );\n",
       "\n",
       "    fig.rubberband_context.strokeRect(min_x, min_y, width, height);\n",
       "};\n",
       "\n",
       "mpl.figure.prototype.handle_figure_label = function (fig, msg) {\n",
       "    // Updates the figure title.\n",
       "    fig.header.textContent = msg['label'];\n",
       "};\n",
       "\n",
       "mpl.figure.prototype.handle_cursor = function (fig, msg) {\n",
       "    var cursor = msg['cursor'];\n",
       "    switch (cursor) {\n",
       "        case 0:\n",
       "            cursor = 'pointer';\n",
       "            break;\n",
       "        case 1:\n",
       "            cursor = 'default';\n",
       "            break;\n",
       "        case 2:\n",
       "            cursor = 'crosshair';\n",
       "            break;\n",
       "        case 3:\n",
       "            cursor = 'move';\n",
       "            break;\n",
       "    }\n",
       "    fig.rubberband_canvas.style.cursor = cursor;\n",
       "};\n",
       "\n",
       "mpl.figure.prototype.handle_message = function (fig, msg) {\n",
       "    fig.message.textContent = msg['message'];\n",
       "};\n",
       "\n",
       "mpl.figure.prototype.handle_draw = function (fig, _msg) {\n",
       "    // Request the server to send over a new figure.\n",
       "    fig.send_draw_message();\n",
       "};\n",
       "\n",
       "mpl.figure.prototype.handle_image_mode = function (fig, msg) {\n",
       "    fig.image_mode = msg['mode'];\n",
       "};\n",
       "\n",
       "mpl.figure.prototype.handle_history_buttons = function (fig, msg) {\n",
       "    for (var key in msg) {\n",
       "        if (!(key in fig.buttons)) {\n",
       "            continue;\n",
       "        }\n",
       "        fig.buttons[key].disabled = !msg[key];\n",
       "        fig.buttons[key].setAttribute('aria-disabled', !msg[key]);\n",
       "    }\n",
       "};\n",
       "\n",
       "mpl.figure.prototype.handle_navigate_mode = function (fig, msg) {\n",
       "    if (msg['mode'] === 'PAN') {\n",
       "        fig.buttons['Pan'].classList.add('active');\n",
       "        fig.buttons['Zoom'].classList.remove('active');\n",
       "    } else if (msg['mode'] === 'ZOOM') {\n",
       "        fig.buttons['Pan'].classList.remove('active');\n",
       "        fig.buttons['Zoom'].classList.add('active');\n",
       "    } else {\n",
       "        fig.buttons['Pan'].classList.remove('active');\n",
       "        fig.buttons['Zoom'].classList.remove('active');\n",
       "    }\n",
       "};\n",
       "\n",
       "mpl.figure.prototype.updated_canvas_event = function () {\n",
       "    // Called whenever the canvas gets updated.\n",
       "    this.send_message('ack', {});\n",
       "};\n",
       "\n",
       "// A function to construct a web socket function for onmessage handling.\n",
       "// Called in the figure constructor.\n",
       "mpl.figure.prototype._make_on_message_function = function (fig) {\n",
       "    return function socket_on_message(evt) {\n",
       "        if (evt.data instanceof Blob) {\n",
       "            /* FIXME: We get \"Resource interpreted as Image but\n",
       "             * transferred with MIME type text/plain:\" errors on\n",
       "             * Chrome.  But how to set the MIME type?  It doesn't seem\n",
       "             * to be part of the websocket stream */\n",
       "            evt.data.type = 'image/png';\n",
       "\n",
       "            /* Free the memory for the previous frames */\n",
       "            if (fig.imageObj.src) {\n",
       "                (window.URL || window.webkitURL).revokeObjectURL(\n",
       "                    fig.imageObj.src\n",
       "                );\n",
       "            }\n",
       "\n",
       "            fig.imageObj.src = (window.URL || window.webkitURL).createObjectURL(\n",
       "                evt.data\n",
       "            );\n",
       "            fig.updated_canvas_event();\n",
       "            fig.waiting = false;\n",
       "            return;\n",
       "        } else if (\n",
       "            typeof evt.data === 'string' &&\n",
       "            evt.data.slice(0, 21) === 'data:image/png;base64'\n",
       "        ) {\n",
       "            fig.imageObj.src = evt.data;\n",
       "            fig.updated_canvas_event();\n",
       "            fig.waiting = false;\n",
       "            return;\n",
       "        }\n",
       "\n",
       "        var msg = JSON.parse(evt.data);\n",
       "        var msg_type = msg['type'];\n",
       "\n",
       "        // Call the  \"handle_{type}\" callback, which takes\n",
       "        // the figure and JSON message as its only arguments.\n",
       "        try {\n",
       "            var callback = fig['handle_' + msg_type];\n",
       "        } catch (e) {\n",
       "            console.log(\n",
       "                \"No handler for the '\" + msg_type + \"' message type: \",\n",
       "                msg\n",
       "            );\n",
       "            return;\n",
       "        }\n",
       "\n",
       "        if (callback) {\n",
       "            try {\n",
       "                // console.log(\"Handling '\" + msg_type + \"' message: \", msg);\n",
       "                callback(fig, msg);\n",
       "            } catch (e) {\n",
       "                console.log(\n",
       "                    \"Exception inside the 'handler_\" + msg_type + \"' callback:\",\n",
       "                    e,\n",
       "                    e.stack,\n",
       "                    msg\n",
       "                );\n",
       "            }\n",
       "        }\n",
       "    };\n",
       "};\n",
       "\n",
       "// from http://stackoverflow.com/questions/1114465/getting-mouse-location-in-canvas\n",
       "mpl.findpos = function (e) {\n",
       "    //this section is from http://www.quirksmode.org/js/events_properties.html\n",
       "    var targ;\n",
       "    if (!e) {\n",
       "        e = window.event;\n",
       "    }\n",
       "    if (e.target) {\n",
       "        targ = e.target;\n",
       "    } else if (e.srcElement) {\n",
       "        targ = e.srcElement;\n",
       "    }\n",
       "    if (targ.nodeType === 3) {\n",
       "        // defeat Safari bug\n",
       "        targ = targ.parentNode;\n",
       "    }\n",
       "\n",
       "    // pageX,Y are the mouse positions relative to the document\n",
       "    var boundingRect = targ.getBoundingClientRect();\n",
       "    var x = e.pageX - (boundingRect.left + document.body.scrollLeft);\n",
       "    var y = e.pageY - (boundingRect.top + document.body.scrollTop);\n",
       "\n",
       "    return { x: x, y: y };\n",
       "};\n",
       "\n",
       "/*\n",
       " * return a copy of an object with only non-object keys\n",
       " * we need this to avoid circular references\n",
       " * http://stackoverflow.com/a/24161582/3208463\n",
       " */\n",
       "function simpleKeys(original) {\n",
       "    return Object.keys(original).reduce(function (obj, key) {\n",
       "        if (typeof original[key] !== 'object') {\n",
       "            obj[key] = original[key];\n",
       "        }\n",
       "        return obj;\n",
       "    }, {});\n",
       "}\n",
       "\n",
       "mpl.figure.prototype.mouse_event = function (event, name) {\n",
       "    var canvas_pos = mpl.findpos(event);\n",
       "\n",
       "    if (name === 'button_press') {\n",
       "        this.canvas.focus();\n",
       "        this.canvas_div.focus();\n",
       "    }\n",
       "\n",
       "    var x = canvas_pos.x * this.ratio;\n",
       "    var y = canvas_pos.y * this.ratio;\n",
       "\n",
       "    this.send_message(name, {\n",
       "        x: x,\n",
       "        y: y,\n",
       "        button: event.button,\n",
       "        step: event.step,\n",
       "        guiEvent: simpleKeys(event),\n",
       "    });\n",
       "\n",
       "    /* This prevents the web browser from automatically changing to\n",
       "     * the text insertion cursor when the button is pressed.  We want\n",
       "     * to control all of the cursor setting manually through the\n",
       "     * 'cursor' event from matplotlib */\n",
       "    event.preventDefault();\n",
       "    return false;\n",
       "};\n",
       "\n",
       "mpl.figure.prototype._key_event_extra = function (_event, _name) {\n",
       "    // Handle any extra behaviour associated with a key event\n",
       "};\n",
       "\n",
       "mpl.figure.prototype.key_event = function (event, name) {\n",
       "    // Prevent repeat events\n",
       "    if (name === 'key_press') {\n",
       "        if (event.which === this._key) {\n",
       "            return;\n",
       "        } else {\n",
       "            this._key = event.which;\n",
       "        }\n",
       "    }\n",
       "    if (name === 'key_release') {\n",
       "        this._key = null;\n",
       "    }\n",
       "\n",
       "    var value = '';\n",
       "    if (event.ctrlKey && event.which !== 17) {\n",
       "        value += 'ctrl+';\n",
       "    }\n",
       "    if (event.altKey && event.which !== 18) {\n",
       "        value += 'alt+';\n",
       "    }\n",
       "    if (event.shiftKey && event.which !== 16) {\n",
       "        value += 'shift+';\n",
       "    }\n",
       "\n",
       "    value += 'k';\n",
       "    value += event.which.toString();\n",
       "\n",
       "    this._key_event_extra(event, name);\n",
       "\n",
       "    this.send_message(name, { key: value, guiEvent: simpleKeys(event) });\n",
       "    return false;\n",
       "};\n",
       "\n",
       "mpl.figure.prototype.toolbar_button_onclick = function (name) {\n",
       "    if (name === 'download') {\n",
       "        this.handle_save(this, null);\n",
       "    } else {\n",
       "        this.send_message('toolbar_button', { name: name });\n",
       "    }\n",
       "};\n",
       "\n",
       "mpl.figure.prototype.toolbar_button_onmouseover = function (tooltip) {\n",
       "    this.message.textContent = tooltip;\n",
       "};\n",
       "\n",
       "///////////////// REMAINING CONTENT GENERATED BY embed_js.py /////////////////\n",
       "// prettier-ignore\n",
       "var _JSXTOOLS_RESIZE_OBSERVER=function(A){var t,i=new WeakMap,n=new WeakMap,a=new WeakMap,r=new WeakMap,o=new Set;function s(e){if(!(this instanceof s))throw new TypeError(\"Constructor requires 'new' operator\");i.set(this,e)}function h(){throw new TypeError(\"Function is not a constructor\")}function c(e,t,i,n){e=0 in arguments?Number(arguments[0]):0,t=1 in arguments?Number(arguments[1]):0,i=2 in arguments?Number(arguments[2]):0,n=3 in arguments?Number(arguments[3]):0,this.right=(this.x=this.left=e)+(this.width=i),this.bottom=(this.y=this.top=t)+(this.height=n),Object.freeze(this)}function d(){t=requestAnimationFrame(d);var s=new WeakMap,p=new Set;o.forEach((function(t){r.get(t).forEach((function(i){var r=t instanceof window.SVGElement,o=a.get(t),d=r?0:parseFloat(o.paddingTop),f=r?0:parseFloat(o.paddingRight),l=r?0:parseFloat(o.paddingBottom),u=r?0:parseFloat(o.paddingLeft),g=r?0:parseFloat(o.borderTopWidth),m=r?0:parseFloat(o.borderRightWidth),w=r?0:parseFloat(o.borderBottomWidth),b=u+f,F=d+l,v=(r?0:parseFloat(o.borderLeftWidth))+m,W=g+w,y=r?0:t.offsetHeight-W-t.clientHeight,E=r?0:t.offsetWidth-v-t.clientWidth,R=b+v,z=F+W,M=r?t.width:parseFloat(o.width)-R-E,O=r?t.height:parseFloat(o.height)-z-y;if(n.has(t)){var k=n.get(t);if(k[0]===M&&k[1]===O)return}n.set(t,[M,O]);var S=Object.create(h.prototype);S.target=t,S.contentRect=new c(u,d,M,O),s.has(i)||(s.set(i,[]),p.add(i)),s.get(i).push(S)}))})),p.forEach((function(e){i.get(e).call(e,s.get(e),e)}))}return s.prototype.observe=function(i){if(i instanceof window.Element){r.has(i)||(r.set(i,new Set),o.add(i),a.set(i,window.getComputedStyle(i)));var n=r.get(i);n.has(this)||n.add(this),cancelAnimationFrame(t),t=requestAnimationFrame(d)}},s.prototype.unobserve=function(i){if(i instanceof window.Element&&r.has(i)){var n=r.get(i);n.has(this)&&(n.delete(this),n.size||(r.delete(i),o.delete(i))),n.size||r.delete(i),o.size||cancelAnimationFrame(t)}},A.DOMRectReadOnly=c,A.ResizeObserver=s,A.ResizeObserverEntry=h,A}; // eslint-disable-line\n",
       "mpl.toolbar_items = [[\"Home\", \"Reset original view\", \"fa fa-home icon-home\", \"home\"], [\"Back\", \"Back to previous view\", \"fa fa-arrow-left icon-arrow-left\", \"back\"], [\"Forward\", \"Forward to next view\", \"fa fa-arrow-right icon-arrow-right\", \"forward\"], [\"\", \"\", \"\", \"\"], [\"Pan\", \"Left button pans, Right button zooms\\nx/y fixes axis, CTRL fixes aspect\", \"fa fa-arrows icon-move\", \"pan\"], [\"Zoom\", \"Zoom to rectangle\\nx/y fixes axis, CTRL fixes aspect\", \"fa fa-square-o icon-check-empty\", \"zoom\"], [\"\", \"\", \"\", \"\"], [\"Download\", \"Download plot\", \"fa fa-floppy-o icon-save\", \"download\"]];\n",
       "\n",
       "mpl.extensions = [\"eps\", \"jpeg\", \"pdf\", \"png\", \"ps\", \"raw\", \"svg\", \"tif\"];\n",
       "\n",
       "mpl.default_extension = \"png\";/* global mpl */\n",
       "\n",
       "var comm_websocket_adapter = function (comm) {\n",
       "    // Create a \"websocket\"-like object which calls the given IPython comm\n",
       "    // object with the appropriate methods. Currently this is a non binary\n",
       "    // socket, so there is still some room for performance tuning.\n",
       "    var ws = {};\n",
       "\n",
       "    ws.close = function () {\n",
       "        comm.close();\n",
       "    };\n",
       "    ws.send = function (m) {\n",
       "        //console.log('sending', m);\n",
       "        comm.send(m);\n",
       "    };\n",
       "    // Register the callback with on_msg.\n",
       "    comm.on_msg(function (msg) {\n",
       "        //console.log('receiving', msg['content']['data'], msg);\n",
       "        // Pass the mpl event to the overridden (by mpl) onmessage function.\n",
       "        ws.onmessage(msg['content']['data']);\n",
       "    });\n",
       "    return ws;\n",
       "};\n",
       "\n",
       "mpl.mpl_figure_comm = function (comm, msg) {\n",
       "    // This is the function which gets called when the mpl process\n",
       "    // starts-up an IPython Comm through the \"matplotlib\" channel.\n",
       "\n",
       "    var id = msg.content.data.id;\n",
       "    // Get hold of the div created by the display call when the Comm\n",
       "    // socket was opened in Python.\n",
       "    var element = document.getElementById(id);\n",
       "    var ws_proxy = comm_websocket_adapter(comm);\n",
       "\n",
       "    function ondownload(figure, _format) {\n",
       "        window.open(figure.canvas.toDataURL());\n",
       "    }\n",
       "\n",
       "    var fig = new mpl.figure(id, ws_proxy, ondownload, element);\n",
       "\n",
       "    // Call onopen now - mpl needs it, as it is assuming we've passed it a real\n",
       "    // web socket which is closed, not our websocket->open comm proxy.\n",
       "    ws_proxy.onopen();\n",
       "\n",
       "    fig.parent_element = element;\n",
       "    fig.cell_info = mpl.find_output_cell(\"<div id='\" + id + \"'></div>\");\n",
       "    if (!fig.cell_info) {\n",
       "        console.error('Failed to find cell for figure', id, fig);\n",
       "        return;\n",
       "    }\n",
       "    fig.cell_info[0].output_area.element.on(\n",
       "        'cleared',\n",
       "        { fig: fig },\n",
       "        fig._remove_fig_handler\n",
       "    );\n",
       "};\n",
       "\n",
       "mpl.figure.prototype.handle_close = function (fig, msg) {\n",
       "    var width = fig.canvas.width / fig.ratio;\n",
       "    fig.cell_info[0].output_area.element.off(\n",
       "        'cleared',\n",
       "        fig._remove_fig_handler\n",
       "    );\n",
       "    fig.resizeObserverInstance.unobserve(fig.canvas_div);\n",
       "\n",
       "    // Update the output cell to use the data from the current canvas.\n",
       "    fig.push_to_output();\n",
       "    var dataURL = fig.canvas.toDataURL();\n",
       "    // Re-enable the keyboard manager in IPython - without this line, in FF,\n",
       "    // the notebook keyboard shortcuts fail.\n",
       "    IPython.keyboard_manager.enable();\n",
       "    fig.parent_element.innerHTML =\n",
       "        '<img src=\"' + dataURL + '\" width=\"' + width + '\">';\n",
       "    fig.close_ws(fig, msg);\n",
       "};\n",
       "\n",
       "mpl.figure.prototype.close_ws = function (fig, msg) {\n",
       "    fig.send_message('closing', msg);\n",
       "    // fig.ws.close()\n",
       "};\n",
       "\n",
       "mpl.figure.prototype.push_to_output = function (_remove_interactive) {\n",
       "    // Turn the data on the canvas into data in the output cell.\n",
       "    var width = this.canvas.width / this.ratio;\n",
       "    var dataURL = this.canvas.toDataURL();\n",
       "    this.cell_info[1]['text/html'] =\n",
       "        '<img src=\"' + dataURL + '\" width=\"' + width + '\">';\n",
       "};\n",
       "\n",
       "mpl.figure.prototype.updated_canvas_event = function () {\n",
       "    // Tell IPython that the notebook contents must change.\n",
       "    IPython.notebook.set_dirty(true);\n",
       "    this.send_message('ack', {});\n",
       "    var fig = this;\n",
       "    // Wait a second, then push the new image to the DOM so\n",
       "    // that it is saved nicely (might be nice to debounce this).\n",
       "    setTimeout(function () {\n",
       "        fig.push_to_output();\n",
       "    }, 1000);\n",
       "};\n",
       "\n",
       "mpl.figure.prototype._init_toolbar = function () {\n",
       "    var fig = this;\n",
       "\n",
       "    var toolbar = document.createElement('div');\n",
       "    toolbar.classList = 'btn-toolbar';\n",
       "    this.root.appendChild(toolbar);\n",
       "\n",
       "    function on_click_closure(name) {\n",
       "        return function (_event) {\n",
       "            return fig.toolbar_button_onclick(name);\n",
       "        };\n",
       "    }\n",
       "\n",
       "    function on_mouseover_closure(tooltip) {\n",
       "        return function (event) {\n",
       "            if (!event.currentTarget.disabled) {\n",
       "                return fig.toolbar_button_onmouseover(tooltip);\n",
       "            }\n",
       "        };\n",
       "    }\n",
       "\n",
       "    fig.buttons = {};\n",
       "    var buttonGroup = document.createElement('div');\n",
       "    buttonGroup.classList = 'btn-group';\n",
       "    var button;\n",
       "    for (var toolbar_ind in mpl.toolbar_items) {\n",
       "        var name = mpl.toolbar_items[toolbar_ind][0];\n",
       "        var tooltip = mpl.toolbar_items[toolbar_ind][1];\n",
       "        var image = mpl.toolbar_items[toolbar_ind][2];\n",
       "        var method_name = mpl.toolbar_items[toolbar_ind][3];\n",
       "\n",
       "        if (!name) {\n",
       "            /* Instead of a spacer, we start a new button group. */\n",
       "            if (buttonGroup.hasChildNodes()) {\n",
       "                toolbar.appendChild(buttonGroup);\n",
       "            }\n",
       "            buttonGroup = document.createElement('div');\n",
       "            buttonGroup.classList = 'btn-group';\n",
       "            continue;\n",
       "        }\n",
       "\n",
       "        button = fig.buttons[name] = document.createElement('button');\n",
       "        button.classList = 'btn btn-default';\n",
       "        button.href = '#';\n",
       "        button.title = name;\n",
       "        button.innerHTML = '<i class=\"fa ' + image + ' fa-lg\"></i>';\n",
       "        button.addEventListener('click', on_click_closure(method_name));\n",
       "        button.addEventListener('mouseover', on_mouseover_closure(tooltip));\n",
       "        buttonGroup.appendChild(button);\n",
       "    }\n",
       "\n",
       "    if (buttonGroup.hasChildNodes()) {\n",
       "        toolbar.appendChild(buttonGroup);\n",
       "    }\n",
       "\n",
       "    // Add the status bar.\n",
       "    var status_bar = document.createElement('span');\n",
       "    status_bar.classList = 'mpl-message pull-right';\n",
       "    toolbar.appendChild(status_bar);\n",
       "    this.message = status_bar;\n",
       "\n",
       "    // Add the close button to the window.\n",
       "    var buttongrp = document.createElement('div');\n",
       "    buttongrp.classList = 'btn-group inline pull-right';\n",
       "    button = document.createElement('button');\n",
       "    button.classList = 'btn btn-mini btn-primary';\n",
       "    button.href = '#';\n",
       "    button.title = 'Stop Interaction';\n",
       "    button.innerHTML = '<i class=\"fa fa-power-off icon-remove icon-large\"></i>';\n",
       "    button.addEventListener('click', function (_evt) {\n",
       "        fig.handle_close(fig, {});\n",
       "    });\n",
       "    button.addEventListener(\n",
       "        'mouseover',\n",
       "        on_mouseover_closure('Stop Interaction')\n",
       "    );\n",
       "    buttongrp.appendChild(button);\n",
       "    var titlebar = this.root.querySelector('.ui-dialog-titlebar');\n",
       "    titlebar.insertBefore(buttongrp, titlebar.firstChild);\n",
       "};\n",
       "\n",
       "mpl.figure.prototype._remove_fig_handler = function (event) {\n",
       "    var fig = event.data.fig;\n",
       "    if (event.target !== this) {\n",
       "        // Ignore bubbled events from children.\n",
       "        return;\n",
       "    }\n",
       "    fig.close_ws(fig, {});\n",
       "};\n",
       "\n",
       "mpl.figure.prototype._root_extra_style = function (el) {\n",
       "    el.style.boxSizing = 'content-box'; // override notebook setting of border-box.\n",
       "};\n",
       "\n",
       "mpl.figure.prototype._canvas_extra_style = function (el) {\n",
       "    // this is important to make the div 'focusable\n",
       "    el.setAttribute('tabindex', 0);\n",
       "    // reach out to IPython and tell the keyboard manager to turn it's self\n",
       "    // off when our div gets focus\n",
       "\n",
       "    // location in version 3\n",
       "    if (IPython.notebook.keyboard_manager) {\n",
       "        IPython.notebook.keyboard_manager.register_events(el);\n",
       "    } else {\n",
       "        // location in version 2\n",
       "        IPython.keyboard_manager.register_events(el);\n",
       "    }\n",
       "};\n",
       "\n",
       "mpl.figure.prototype._key_event_extra = function (event, _name) {\n",
       "    var manager = IPython.notebook.keyboard_manager;\n",
       "    if (!manager) {\n",
       "        manager = IPython.keyboard_manager;\n",
       "    }\n",
       "\n",
       "    // Check for shift+enter\n",
       "    if (event.shiftKey && event.which === 13) {\n",
       "        this.canvas_div.blur();\n",
       "        // select the cell after this one\n",
       "        var index = IPython.notebook.find_cell_index(this.cell_info[0]);\n",
       "        IPython.notebook.select(index + 1);\n",
       "    }\n",
       "};\n",
       "\n",
       "mpl.figure.prototype.handle_save = function (fig, _msg) {\n",
       "    fig.ondownload(fig, null);\n",
       "};\n",
       "\n",
       "mpl.find_output_cell = function (html_output) {\n",
       "    // Return the cell and output element which can be found *uniquely* in the notebook.\n",
       "    // Note - this is a bit hacky, but it is done because the \"notebook_saving.Notebook\"\n",
       "    // IPython event is triggered only after the cells have been serialised, which for\n",
       "    // our purposes (turning an active figure into a static one), is too late.\n",
       "    var cells = IPython.notebook.get_cells();\n",
       "    var ncells = cells.length;\n",
       "    for (var i = 0; i < ncells; i++) {\n",
       "        var cell = cells[i];\n",
       "        if (cell.cell_type === 'code') {\n",
       "            for (var j = 0; j < cell.output_area.outputs.length; j++) {\n",
       "                var data = cell.output_area.outputs[j];\n",
       "                if (data.data) {\n",
       "                    // IPython >= 3 moved mimebundle to data attribute of output\n",
       "                    data = data.data;\n",
       "                }\n",
       "                if (data['text/html'] === html_output) {\n",
       "                    return [cell, data, j];\n",
       "                }\n",
       "            }\n",
       "        }\n",
       "    }\n",
       "};\n",
       "\n",
       "// Register the function which deals with the matplotlib target/channel.\n",
       "// The kernel may be null if the page has been refreshed.\n",
       "if (IPython.notebook.kernel !== null) {\n",
       "    IPython.notebook.kernel.comm_manager.register_target(\n",
       "        'matplotlib',\n",
       "        mpl.mpl_figure_comm\n",
       "    );\n",
       "}\n"
      ],
      "text/plain": [
       "<IPython.core.display.Javascript object>"
      ]
     },
     "metadata": {},
     "output_type": "display_data"
    },
    {
     "data": {
      "text/html": [
       "<img src=\"data:image/png;base64,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\" width=\"1270\">"
      ],
      "text/plain": [
       "<IPython.core.display.HTML object>"
      ]
     },
     "metadata": {},
     "output_type": "display_data"
    }
   ],
   "source": [
    "### tweets.groupby([\"week\"]).size().plot(kind = \"bar\",figsize =(10,10),color )\n",
    "# use unstack()\n",
    "#data.groupby(['date','type']).count()['amount'].unstack().plot(ax=ax)\n",
    "sns.set(font_scale=1.6)\n",
    "g = sns.displot(data = tweets, x= \"Week\",kde = False, hue = \"Wave\",palette =sns.color_palette(\"husl\", 3), height=5, aspect=2.2)\n",
    "g.set_axis_labels(\"Weeks since the U.S. COVID-19 Lockdown on March 20, 2020\", \"Tweets Volume\", fontsize = 20)\n",
    "g.set_titles(\"Weekly Tweets Volume between March 1-December 31, 2020\")\n",
    "plt.title(\"Weekly Tweets Volume, 3/20/2020 through 12/31/2020\")\n",
    "plt.show()"
   ]
  },
  {
   "cell_type": "code",
   "execution_count": 11,
   "id": "7fcf1612",
   "metadata": {},
   "outputs": [],
   "source": [
    "# add 4 cols: Asain(138), Black(2278), Latino(478), Whites (1156)\n",
    "tweets.loc[tweets['full_text'].str.lower().str.contains('asia'), 'Asian'] = 1\n",
    "tweets.loc[tweets['full_text'].str.lower().str.contains('black'), 'Black'] = 1\n",
    "tweets.loc[tweets['full_text'].str.lower().str.contains('latin'), 'Latino'] = 1\n",
    "tweets.loc[tweets['full_text'].str.lower().str.contains('hispanic'), 'Latino'] = 1\n",
    "tweets.loc[tweets['full_text'].str.lower().str.contains('white'), 'White'] = 1"
   ]
  },
  {
   "cell_type": "code",
   "execution_count": 12,
   "id": "fdf41412",
   "metadata": {},
   "outputs": [
    {
     "data": {
      "text/html": [
       "<div>\n",
       "<style scoped>\n",
       "    .dataframe tbody tr th:only-of-type {\n",
       "        vertical-align: middle;\n",
       "    }\n",
       "\n",
       "    .dataframe tbody tr th {\n",
       "        vertical-align: top;\n",
       "    }\n",
       "\n",
       "    .dataframe thead th {\n",
       "        text-align: right;\n",
       "    }\n",
       "</style>\n",
       "<table border=\"1\" class=\"dataframe\">\n",
       "  <thead>\n",
       "    <tr style=\"text-align: right;\">\n",
       "      <th></th>\n",
       "      <th>created_at</th>\n",
       "      <th>full_text</th>\n",
       "      <th>geo.coordinates</th>\n",
       "      <th>coordinates</th>\n",
       "      <th>place.full_name</th>\n",
       "      <th>user.location</th>\n",
       "      <th>create_time</th>\n",
       "      <th>Wave</th>\n",
       "      <th>Week</th>\n",
       "      <th>Asian</th>\n",
       "      <th>Black</th>\n",
       "      <th>Latino</th>\n",
       "      <th>White</th>\n",
       "    </tr>\n",
       "    <tr>\n",
       "      <th>create_time</th>\n",
       "      <th></th>\n",
       "      <th></th>\n",
       "      <th></th>\n",
       "      <th></th>\n",
       "      <th></th>\n",
       "      <th></th>\n",
       "      <th></th>\n",
       "      <th></th>\n",
       "      <th></th>\n",
       "      <th></th>\n",
       "      <th></th>\n",
       "      <th></th>\n",
       "      <th></th>\n",
       "    </tr>\n",
       "  </thead>\n",
       "  <tbody>\n",
       "    <tr>\n",
       "      <th>2020-03-19 20:05:01</th>\n",
       "      <td>Thu Mar 19 20:05:01 +0000 2020</td>\n",
       "      <td>#quarantine #stockpiling #food #sexylatino #la...</td>\n",
       "      <td>[34.1509,-118.355]</td>\n",
       "      <td>34.1509,-118.355</td>\n",
       "      <td>Los Angeles, CA</td>\n",
       "      <td>North Hollywood, Los Angeles</td>\n",
       "      <td>2020-03-19 20:05:01</td>\n",
       "      <td>Wave 1</td>\n",
       "      <td>1</td>\n",
       "      <td>NaN</td>\n",
       "      <td>NaN</td>\n",
       "      <td>1.0</td>\n",
       "      <td>NaN</td>\n",
       "    </tr>\n",
       "    <tr>\n",
       "      <th>2020-03-20 09:19:43</th>\n",
       "      <td>Fri Mar 20 09:19:43 +0000 2020</td>\n",
       "      <td>Thanks for sharing 33.666.9999\\n#drdrew\\n\\nRep...</td>\n",
       "      <td>[25.7752,-80.192]</td>\n",
       "      <td>25.7752,-80.192</td>\n",
       "      <td>Miami, FL</td>\n",
       "      <td>Allapattah, U.S.A.</td>\n",
       "      <td>2020-03-20 09:19:43</td>\n",
       "      <td>Wave 1</td>\n",
       "      <td>1</td>\n",
       "      <td>NaN</td>\n",
       "      <td>NaN</td>\n",
       "      <td>1.0</td>\n",
       "      <td>NaN</td>\n",
       "    </tr>\n",
       "    <tr>\n",
       "      <th>2020-03-21 17:51:32</th>\n",
       "      <td>Sat Mar 21 17:51:32 +0000 2020</td>\n",
       "      <td>Lesbian social isolating. #corona🍺 @ New York,...</td>\n",
       "      <td>[40.7142,-74.0064]</td>\n",
       "      <td>40.7142,-74.0064</td>\n",
       "      <td>Manhattan, NY</td>\n",
       "      <td>London, England</td>\n",
       "      <td>2020-03-21 17:51:32</td>\n",
       "      <td>Wave 1</td>\n",
       "      <td>1</td>\n",
       "      <td>NaN</td>\n",
       "      <td>NaN</td>\n",
       "      <td>1.0</td>\n",
       "      <td>NaN</td>\n",
       "    </tr>\n",
       "    <tr>\n",
       "      <th>2020-03-23 12:00:54</th>\n",
       "      <td>Mon Mar 23 12:00:54 +0000 2020</td>\n",
       "      <td>Would have been here now #stayhomesavelives #s...</td>\n",
       "      <td>[27.37691,-82.63402]</td>\n",
       "      <td>27.37691,-82.63402</td>\n",
       "      <td>Longboat Key, FL</td>\n",
       "      <td>Halifax, Nova Scotia, Canada</td>\n",
       "      <td>2020-03-23 12:00:54</td>\n",
       "      <td>Wave 1</td>\n",
       "      <td>1</td>\n",
       "      <td>NaN</td>\n",
       "      <td>NaN</td>\n",
       "      <td>1.0</td>\n",
       "      <td>NaN</td>\n",
       "    </tr>\n",
       "    <tr>\n",
       "      <th>2020-03-24 00:44:01</th>\n",
       "      <td>Tue Mar 24 00:44:01 +0000 2020</td>\n",
       "      <td>Tonight's corona special. L51&amp;amp;L52 \\n#princ...</td>\n",
       "      <td>[40.6215,-74.2452]</td>\n",
       "      <td>40.6215,-74.2452</td>\n",
       "      <td>Linden, NJ</td>\n",
       "      <td>NaN</td>\n",
       "      <td>2020-03-24 00:44:01</td>\n",
       "      <td>Wave 1</td>\n",
       "      <td>1</td>\n",
       "      <td>NaN</td>\n",
       "      <td>NaN</td>\n",
       "      <td>1.0</td>\n",
       "      <td>NaN</td>\n",
       "    </tr>\n",
       "  </tbody>\n",
       "</table>\n",
       "</div>"
      ],
      "text/plain": [
       "                                         created_at  \\\n",
       "create_time                                           \n",
       "2020-03-19 20:05:01  Thu Mar 19 20:05:01 +0000 2020   \n",
       "2020-03-20 09:19:43  Fri Mar 20 09:19:43 +0000 2020   \n",
       "2020-03-21 17:51:32  Sat Mar 21 17:51:32 +0000 2020   \n",
       "2020-03-23 12:00:54  Mon Mar 23 12:00:54 +0000 2020   \n",
       "2020-03-24 00:44:01  Tue Mar 24 00:44:01 +0000 2020   \n",
       "\n",
       "                                                             full_text  \\\n",
       "create_time                                                              \n",
       "2020-03-19 20:05:01  #quarantine #stockpiling #food #sexylatino #la...   \n",
       "2020-03-20 09:19:43  Thanks for sharing 33.666.9999\\n#drdrew\\n\\nRep...   \n",
       "2020-03-21 17:51:32  Lesbian social isolating. #corona🍺 @ New York,...   \n",
       "2020-03-23 12:00:54  Would have been here now #stayhomesavelives #s...   \n",
       "2020-03-24 00:44:01  Tonight's corona special. L51&amp;L52 \\n#princ...   \n",
       "\n",
       "                          geo.coordinates         coordinates  \\\n",
       "create_time                                                     \n",
       "2020-03-19 20:05:01    [34.1509,-118.355]    34.1509,-118.355   \n",
       "2020-03-20 09:19:43     [25.7752,-80.192]     25.7752,-80.192   \n",
       "2020-03-21 17:51:32    [40.7142,-74.0064]    40.7142,-74.0064   \n",
       "2020-03-23 12:00:54  [27.37691,-82.63402]  27.37691,-82.63402   \n",
       "2020-03-24 00:44:01    [40.6215,-74.2452]    40.6215,-74.2452   \n",
       "\n",
       "                      place.full_name                 user.location  \\\n",
       "create_time                                                           \n",
       "2020-03-19 20:05:01   Los Angeles, CA  North Hollywood, Los Angeles   \n",
       "2020-03-20 09:19:43         Miami, FL            Allapattah, U.S.A.   \n",
       "2020-03-21 17:51:32     Manhattan, NY               London, England   \n",
       "2020-03-23 12:00:54  Longboat Key, FL  Halifax, Nova Scotia, Canada   \n",
       "2020-03-24 00:44:01        Linden, NJ                           NaN   \n",
       "\n",
       "                            create_time    Wave  Week  Asian  Black  Latino  \\\n",
       "create_time                                                                   \n",
       "2020-03-19 20:05:01 2020-03-19 20:05:01  Wave 1     1    NaN    NaN     1.0   \n",
       "2020-03-20 09:19:43 2020-03-20 09:19:43  Wave 1     1    NaN    NaN     1.0   \n",
       "2020-03-21 17:51:32 2020-03-21 17:51:32  Wave 1     1    NaN    NaN     1.0   \n",
       "2020-03-23 12:00:54 2020-03-23 12:00:54  Wave 1     1    NaN    NaN     1.0   \n",
       "2020-03-24 00:44:01 2020-03-24 00:44:01  Wave 1     1    NaN    NaN     1.0   \n",
       "\n",
       "                     White  \n",
       "create_time                 \n",
       "2020-03-19 20:05:01    NaN  \n",
       "2020-03-20 09:19:43    NaN  \n",
       "2020-03-21 17:51:32    NaN  \n",
       "2020-03-23 12:00:54    NaN  \n",
       "2020-03-24 00:44:01    NaN  "
      ]
     },
     "execution_count": 12,
     "metadata": {},
     "output_type": "execute_result"
    }
   ],
   "source": [
    "tweets[tweets['Latino']==1].head()\n"
   ]
  },
  {
   "cell_type": "code",
   "execution_count": 13,
   "id": "aa029712",
   "metadata": {},
   "outputs": [],
   "source": [
    "tweets.to_csv(r'C:\\Users\\u6037208\\Box\\Twitter\\Tweets\\US_COVID_tweets_10152020.csv')"
   ]
  },
  {
   "cell_type": "code",
   "execution_count": 19,
   "id": "c5dd0e56",
   "metadata": {},
   "outputs": [
    {
     "data": {
      "text/plain": [
       "create_time\n",
       "2020-03-19 19:53:17    OH\n",
       "2020-03-19 19:53:46    OH\n",
       "2020-03-19 19:56:46    CA\n",
       "2020-03-19 19:58:28    CA\n",
       "2020-03-19 20:05:01    CA\n",
       "                       ..\n",
       "2021-01-01 04:15:06    NY\n",
       "2021-01-01 04:15:34    TX\n",
       "2021-01-01 04:19:14    GA\n",
       "2021-01-01 04:23:45    SA\n",
       "2021-01-01 04:24:39    NY\n",
       "Name: State, Length: 122120, dtype: object"
      ]
     },
     "execution_count": 19,
     "metadata": {},
     "output_type": "execute_result"
    }
   ],
   "source": [
    "#tweets.drop(columns =[\"wave\",\"week\"], inplace = True)\n",
    "\n",
    "# most rows in \"place.full_name\" use format \"city name, state name\" format, str[-2:] takes the last 2 characters (state abbreviation)\n",
    "# and save it to a new field \"State\". \n",
    "tweets[\"State\"] = tweets[\"place.full_name\"].str[-2:]\n",
    "tweets[\"State\"]"
   ]
  },
  {
   "cell_type": "code",
   "execution_count": 341,
   "id": "ec27af33",
   "metadata": {},
   "outputs": [],
   "source": [
    "# There are 12252 rows with a state abbreviation of \"SA\", which means the last 2 characters are not state abbr but \"USA\"\n",
    "# need to identify those rows and assign correct state abbrs in \"State\" field\n",
    "state_name = tweets[\"State\"].value_counts().to_frame()\n",
    "state_name.to_csv(\"State_name_check.csv\")"
   ]
  },
  {
   "cell_type": "code",
   "execution_count": 20,
   "id": "77cbe9ed",
   "metadata": {},
   "outputs": [],
   "source": [
    "state_name = []\n",
    "state_name =list(set(list(tweets[\"State\"])))\n",
    "len(state_name)\n",
    "state_name.sort(reverse=True)\n",
    "# after sort alphabetically, the first 23 are lower case ones, which are made up state names, so will be skipped\n",
    "#state_name[23:]\n"
   ]
  },
  {
   "cell_type": "code",
   "execution_count": 21,
   "id": "357e9af0",
   "metadata": {},
   "outputs": [
    {
     "name": "stdout",
     "output_type": "stream",
     "text": [
      "                                         created_at  \\\n",
      "create_time                                           \n",
      "2020-03-19 19:53:17  Thu Mar 19 19:53:17 +0000 2020   \n",
      "2020-03-19 19:53:46  Thu Mar 19 19:53:46 +0000 2020   \n",
      "2020-03-19 19:56:46  Thu Mar 19 19:56:46 +0000 2020   \n",
      "2020-03-19 19:58:28  Thu Mar 19 19:58:28 +0000 2020   \n",
      "2020-03-19 20:05:01  Thu Mar 19 20:05:01 +0000 2020   \n",
      "\n",
      "                                                             full_text  \\\n",
      "create_time                                                              \n",
      "2020-03-19 19:53:17  #statewaterheaters #getitin #corona #keepingpe...   \n",
      "2020-03-19 19:53:46  \"ain't no humans outside! (corona!)\" 😂😂😂🤣 @ Cl...   \n",
      "2020-03-19 19:56:46  current weather in Corona: moderate rain, 56°F...   \n",
      "2020-03-19 19:58:28  Quarantine 🏓 training ! Adding some kicks 💥. \\...   \n",
      "2020-03-19 20:05:01  #quarantine #stockpiling #food #sexylatino #la...   \n",
      "\n",
      "                        geo.coordinates       coordinates   place.full_name  \\\n",
      "create_time                                                                   \n",
      "2020-03-19 19:53:17   [39.8841,-82.759]   39.8841,-82.759  Pickerington, OH   \n",
      "2020-03-19 19:53:46  [41.4996,-81.6937]  41.4996,-81.6937     Cleveland, OH   \n",
      "2020-03-19 19:56:46     [33.88,-117.58]     33.88,-117.58        Corona, CA   \n",
      "2020-03-19 19:58:28  [34.0522,-118.243]  34.0522,-118.243   Los Angeles, CA   \n",
      "2020-03-19 20:05:01  [34.1509,-118.355]  34.1509,-118.355   Los Angeles, CA   \n",
      "\n",
      "                                    user.location         create_time    Wave  \\\n",
      "create_time                                                                     \n",
      "2020-03-19 19:53:17                          ohio 2020-03-19 19:53:17  Wave 1   \n",
      "2020-03-19 19:53:46         Simple Pleasures Lane 2020-03-19 19:53:46  Wave 1   \n",
      "2020-03-19 19:56:46                    Corona, CA 2020-03-19 19:56:46  Wave 1   \n",
      "2020-03-19 19:58:28                   Los Angeles 2020-03-19 19:58:28  Wave 1   \n",
      "2020-03-19 20:05:01  North Hollywood, Los Angeles 2020-03-19 20:05:01  Wave 1   \n",
      "\n",
      "                     Week  Asian  Black  Latino  White State (False, State)  \\\n",
      "create_time                                                                   \n",
      "2020-03-19 19:53:17     1    NaN    NaN     NaN    NaN    OH             WY   \n",
      "2020-03-19 19:53:46     1    NaN    NaN     NaN    NaN    OH             WY   \n",
      "2020-03-19 19:56:46     1    NaN    NaN     NaN    NaN    CA             WY   \n",
      "2020-03-19 19:58:28     1    NaN    NaN     NaN    NaN    CA             WY   \n",
      "2020-03-19 20:05:01     1    NaN    NaN     1.0    NaN    CA             WY   \n",
      "\n",
      "                    (True, State)  \n",
      "create_time                        \n",
      "2020-03-19 19:53:17            MO  \n",
      "2020-03-19 19:53:46            MO  \n",
      "2020-03-19 19:56:46            MO  \n",
      "2020-03-19 19:58:28            MO  \n",
      "2020-03-19 20:05:01            MO  \n"
     ]
    }
   ],
   "source": [
    "\n",
    "# st_name contains the names and abbrivations of 50 US states and DC. \n",
    "st_name =pd.read_csv(r'C:\\Users\\u6037208\\Box\\Twitter\\Tweets\\US_States_full name_vs_Abbr.csv', names=('State', 'ST')) \n",
    "\n",
    "# 12252 rows in column \"place.full_name\" use \"state name, USA\" format, \n",
    "# while the rest use \"city name, state abbrivation\" format. This step look for those 12252 rows, and replace \n",
    "# the full state with state abbreviations to be consistent with other rows\n",
    "\n",
    "for index, row in tweets.iterrows():\n",
    "    if 'SA' in row[\"State\"]:\n",
    "        for index2,row2 in st_name.iterrows():\n",
    "            tweets[row[\"place.full_name\"][:-5] in row2[\"State\"],'State'] = row2[\"ST\"]\n",
    "\n",
    "print (tweets.head())\n",
    "# tweets[tweets[\"State\"]==\"SA\"]"
   ]
  },
  {
   "cell_type": "code",
   "execution_count": 22,
   "id": "9cacd7fe",
   "metadata": {},
   "outputs": [
    {
     "data": {
      "text/html": [
       "<div>\n",
       "<style scoped>\n",
       "    .dataframe tbody tr th:only-of-type {\n",
       "        vertical-align: middle;\n",
       "    }\n",
       "\n",
       "    .dataframe tbody tr th {\n",
       "        vertical-align: top;\n",
       "    }\n",
       "\n",
       "    .dataframe thead th {\n",
       "        text-align: right;\n",
       "    }\n",
       "</style>\n",
       "<table border=\"1\" class=\"dataframe\">\n",
       "  <thead>\n",
       "    <tr style=\"text-align: right;\">\n",
       "      <th></th>\n",
       "      <th>created_at</th>\n",
       "      <th>full_text</th>\n",
       "      <th>geo.coordinates</th>\n",
       "      <th>coordinates</th>\n",
       "      <th>place.full_name</th>\n",
       "      <th>user.location</th>\n",
       "      <th>create_time</th>\n",
       "      <th>Wave</th>\n",
       "      <th>Week</th>\n",
       "      <th>Asian</th>\n",
       "      <th>Black</th>\n",
       "      <th>Latino</th>\n",
       "      <th>White</th>\n",
       "      <th>State</th>\n",
       "      <th>(False, State)</th>\n",
       "      <th>(True, State)</th>\n",
       "    </tr>\n",
       "    <tr>\n",
       "      <th>create_time</th>\n",
       "      <th></th>\n",
       "      <th></th>\n",
       "      <th></th>\n",
       "      <th></th>\n",
       "      <th></th>\n",
       "      <th></th>\n",
       "      <th></th>\n",
       "      <th></th>\n",
       "      <th></th>\n",
       "      <th></th>\n",
       "      <th></th>\n",
       "      <th></th>\n",
       "      <th></th>\n",
       "      <th></th>\n",
       "      <th></th>\n",
       "      <th></th>\n",
       "    </tr>\n",
       "  </thead>\n",
       "  <tbody>\n",
       "  </tbody>\n",
       "</table>\n",
       "</div>"
      ],
      "text/plain": [
       "Empty DataFrame\n",
       "Columns: [created_at, full_text, geo.coordinates, coordinates, place.full_name, user.location, create_time, Wave, Week, Asian, Black, Latino, White, State, (False, State), (True, State)]\n",
       "Index: []"
      ]
     },
     "execution_count": 22,
     "metadata": {},
     "output_type": "execute_result"
    }
   ],
   "source": [
    "# The \"place.full_name\" field for many rows ends with \"San Francisco\", so the Stata abbreviation were \"co\", change \"co\" to \"CA\" \n",
    "# co= tweets[tweets['State']=='co']\n",
    "# co.to_csv(\"co.csv\")\n",
    " \n",
    "tweets.loc[tweets.State =='co','State'] = \"CA\"\n",
    "tweets[tweets['State']=='co']"
   ]
  },
  {
   "cell_type": "code",
   "execution_count": 23,
   "id": "e88069f3",
   "metadata": {},
   "outputs": [],
   "source": [
    "# create a new dataframe sumarizing tweets volume for each race by wave and state\n",
    "TW_Wave_State = tweets.groupby([\"Wave\",\"State\"]).sum()\n",
    "\n",
    "TW_Wave_State.columns = ['Week', 'Asian','Black','Latino', 'White']\n",
    "# reset index to get grouped columns back\n",
    "TW_Wave_State = TW_Wave_State.reset_index()\n",
    "TW_Wave_State.head()\n",
    "TW_Wave_State.to_csv('tweet_summary_by_wave_state.csv')\n",
    "# in the \"tweet_summary_by_wave_state_process.csv\", deleted the rows without a valid state name, also  because \n",
    "# those records hardly contain any race name word "
   ]
  },
  {
   "cell_type": "code",
   "execution_count": 24,
   "id": "b3544d25",
   "metadata": {},
   "outputs": [
    {
     "data": {
      "text/html": [
       "<div>\n",
       "<style scoped>\n",
       "    .dataframe tbody tr th:only-of-type {\n",
       "        vertical-align: middle;\n",
       "    }\n",
       "\n",
       "    .dataframe tbody tr th {\n",
       "        vertical-align: top;\n",
       "    }\n",
       "\n",
       "    .dataframe thead th {\n",
       "        text-align: right;\n",
       "    }\n",
       "</style>\n",
       "<table border=\"1\" class=\"dataframe\">\n",
       "  <thead>\n",
       "    <tr style=\"text-align: right;\">\n",
       "      <th></th>\n",
       "      <th>Time</th>\n",
       "      <th>State</th>\n",
       "      <th>Cases_White</th>\n",
       "      <th>Cases_Black</th>\n",
       "      <th>Cases_Latinx</th>\n",
       "      <th>Cases_Asian</th>\n",
       "      <th>Deaths_White</th>\n",
       "      <th>Deaths_Black</th>\n",
       "      <th>Deaths_Latinx</th>\n",
       "      <th>Deaths_Asian</th>\n",
       "    </tr>\n",
       "  </thead>\n",
       "  <tbody>\n",
       "    <tr>\n",
       "      <th>0</th>\n",
       "      <td>20201230</td>\n",
       "      <td>AK</td>\n",
       "      <td>14623.0</td>\n",
       "      <td>1245.0</td>\n",
       "      <td>NaN</td>\n",
       "      <td>1864.0</td>\n",
       "      <td>74.0</td>\n",
       "      <td>8.0</td>\n",
       "      <td>NaN</td>\n",
       "      <td>20.0</td>\n",
       "    </tr>\n",
       "    <tr>\n",
       "      <th>1</th>\n",
       "      <td>20201230</td>\n",
       "      <td>AL</td>\n",
       "      <td>111969.0</td>\n",
       "      <td>59617.0</td>\n",
       "      <td>NaN</td>\n",
       "      <td>1378.0</td>\n",
       "      <td>2404.0</td>\n",
       "      <td>1352.0</td>\n",
       "      <td>NaN</td>\n",
       "      <td>15.0</td>\n",
       "    </tr>\n",
       "    <tr>\n",
       "      <th>2</th>\n",
       "      <td>20201230</td>\n",
       "      <td>AR</td>\n",
       "      <td>140576.0</td>\n",
       "      <td>37146.0</td>\n",
       "      <td>NaN</td>\n",
       "      <td>2002.0</td>\n",
       "      <td>2550.0</td>\n",
       "      <td>540.0</td>\n",
       "      <td>NaN</td>\n",
       "      <td>22.0</td>\n",
       "    </tr>\n",
       "    <tr>\n",
       "      <th>3</th>\n",
       "      <td>20201230</td>\n",
       "      <td>AZ</td>\n",
       "      <td>162683.0</td>\n",
       "      <td>14804.0</td>\n",
       "      <td>147562.0</td>\n",
       "      <td>6281.0</td>\n",
       "      <td>3960.0</td>\n",
       "      <td>243.0</td>\n",
       "      <td>2503.0</td>\n",
       "      <td>87.0</td>\n",
       "    </tr>\n",
       "    <tr>\n",
       "      <th>4</th>\n",
       "      <td>20201230</td>\n",
       "      <td>CA</td>\n",
       "      <td>319136.0</td>\n",
       "      <td>64518.0</td>\n",
       "      <td>887580.0</td>\n",
       "      <td>100569.0</td>\n",
       "      <td>7679.0</td>\n",
       "      <td>1697.0</td>\n",
       "      <td>11575.0</td>\n",
       "      <td>2818.0</td>\n",
       "    </tr>\n",
       "  </tbody>\n",
       "</table>\n",
       "</div>"
      ],
      "text/plain": [
       "       Time State  Cases_White  Cases_Black  Cases_Latinx  Cases_Asian  \\\n",
       "0  20201230    AK      14623.0       1245.0           NaN       1864.0   \n",
       "1  20201230    AL     111969.0      59617.0           NaN       1378.0   \n",
       "2  20201230    AR     140576.0      37146.0           NaN       2002.0   \n",
       "3  20201230    AZ     162683.0      14804.0      147562.0       6281.0   \n",
       "4  20201230    CA     319136.0      64518.0      887580.0     100569.0   \n",
       "\n",
       "   Deaths_White  Deaths_Black  Deaths_Latinx  Deaths_Asian  \n",
       "0          74.0           8.0            NaN          20.0  \n",
       "1        2404.0        1352.0            NaN          15.0  \n",
       "2        2550.0         540.0            NaN          22.0  \n",
       "3        3960.0         243.0         2503.0          87.0  \n",
       "4        7679.0        1697.0        11575.0        2818.0  "
      ]
     },
     "execution_count": 24,
     "metadata": {},
     "output_type": "execute_result"
    }
   ],
   "source": [
    "#import the file with COVID cases and deaths by each race\n",
    "COVID_file = r'C:\\Users\\u6037208\\Box\\Twitter\\COVID_data\\COVID_case_death_state_race_process.csv'\n",
    "covid = pd.read_csv(COVID_file)\n",
    "covid.head()"
   ]
  },
  {
   "cell_type": "code",
   "execution_count": 28,
   "id": "f59eb616",
   "metadata": {},
   "outputs": [
    {
     "data": {
      "text/html": [
       "<div>\n",
       "<style scoped>\n",
       "    .dataframe tbody tr th:only-of-type {\n",
       "        vertical-align: middle;\n",
       "    }\n",
       "\n",
       "    .dataframe tbody tr th {\n",
       "        vertical-align: top;\n",
       "    }\n",
       "\n",
       "    .dataframe thead th {\n",
       "        text-align: right;\n",
       "    }\n",
       "</style>\n",
       "<table border=\"1\" class=\"dataframe\">\n",
       "  <thead>\n",
       "    <tr style=\"text-align: right;\">\n",
       "      <th></th>\n",
       "      <th>Time</th>\n",
       "      <th>State</th>\n",
       "      <th>Cases_White</th>\n",
       "      <th>Cases_Black</th>\n",
       "      <th>Cases_Latinx</th>\n",
       "      <th>Cases_Asian</th>\n",
       "      <th>Deaths_White</th>\n",
       "      <th>Deaths_Black</th>\n",
       "      <th>Deaths_Latinx</th>\n",
       "      <th>Deaths_Asian</th>\n",
       "      <th>create_time</th>\n",
       "    </tr>\n",
       "  </thead>\n",
       "  <tbody>\n",
       "    <tr>\n",
       "      <th>0</th>\n",
       "      <td>20201230</td>\n",
       "      <td>AK</td>\n",
       "      <td>14623.0</td>\n",
       "      <td>1245.0</td>\n",
       "      <td>NaN</td>\n",
       "      <td>1864.0</td>\n",
       "      <td>74.0</td>\n",
       "      <td>8.0</td>\n",
       "      <td>NaN</td>\n",
       "      <td>20.0</td>\n",
       "      <td>2020-12-30</td>\n",
       "    </tr>\n",
       "    <tr>\n",
       "      <th>1</th>\n",
       "      <td>20201230</td>\n",
       "      <td>AL</td>\n",
       "      <td>111969.0</td>\n",
       "      <td>59617.0</td>\n",
       "      <td>NaN</td>\n",
       "      <td>1378.0</td>\n",
       "      <td>2404.0</td>\n",
       "      <td>1352.0</td>\n",
       "      <td>NaN</td>\n",
       "      <td>15.0</td>\n",
       "      <td>2020-12-30</td>\n",
       "    </tr>\n",
       "    <tr>\n",
       "      <th>2</th>\n",
       "      <td>20201230</td>\n",
       "      <td>AR</td>\n",
       "      <td>140576.0</td>\n",
       "      <td>37146.0</td>\n",
       "      <td>NaN</td>\n",
       "      <td>2002.0</td>\n",
       "      <td>2550.0</td>\n",
       "      <td>540.0</td>\n",
       "      <td>NaN</td>\n",
       "      <td>22.0</td>\n",
       "      <td>2020-12-30</td>\n",
       "    </tr>\n",
       "    <tr>\n",
       "      <th>3</th>\n",
       "      <td>20201230</td>\n",
       "      <td>AZ</td>\n",
       "      <td>162683.0</td>\n",
       "      <td>14804.0</td>\n",
       "      <td>147562.0</td>\n",
       "      <td>6281.0</td>\n",
       "      <td>3960.0</td>\n",
       "      <td>243.0</td>\n",
       "      <td>2503.0</td>\n",
       "      <td>87.0</td>\n",
       "      <td>2020-12-30</td>\n",
       "    </tr>\n",
       "    <tr>\n",
       "      <th>4</th>\n",
       "      <td>20201230</td>\n",
       "      <td>CA</td>\n",
       "      <td>319136.0</td>\n",
       "      <td>64518.0</td>\n",
       "      <td>887580.0</td>\n",
       "      <td>100569.0</td>\n",
       "      <td>7679.0</td>\n",
       "      <td>1697.0</td>\n",
       "      <td>11575.0</td>\n",
       "      <td>2818.0</td>\n",
       "      <td>2020-12-30</td>\n",
       "    </tr>\n",
       "  </tbody>\n",
       "</table>\n",
       "</div>"
      ],
      "text/plain": [
       "       Time State  Cases_White  Cases_Black  Cases_Latinx  Cases_Asian  \\\n",
       "0  20201230    AK      14623.0       1245.0           NaN       1864.0   \n",
       "1  20201230    AL     111969.0      59617.0           NaN       1378.0   \n",
       "2  20201230    AR     140576.0      37146.0           NaN       2002.0   \n",
       "3  20201230    AZ     162683.0      14804.0      147562.0       6281.0   \n",
       "4  20201230    CA     319136.0      64518.0      887580.0     100569.0   \n",
       "\n",
       "   Deaths_White  Deaths_Black  Deaths_Latinx  Deaths_Asian create_time  \n",
       "0          74.0           8.0            NaN          20.0  2020-12-30  \n",
       "1        2404.0        1352.0            NaN          15.0  2020-12-30  \n",
       "2        2550.0         540.0            NaN          22.0  2020-12-30  \n",
       "3        3960.0         243.0         2503.0          87.0  2020-12-30  \n",
       "4        7679.0        1697.0        11575.0        2818.0  2020-12-30  "
      ]
     },
     "execution_count": 28,
     "metadata": {},
     "output_type": "execute_result"
    }
   ],
   "source": [
    "covid['create_time'] = covid.apply(lambda row: datetime.datetime.strptime(str(row[\"Time\"]),'%Y%m%d'),axis =1) \n",
    "covid.head()"
   ]
  },
  {
   "cell_type": "code",
   "execution_count": 91,
   "id": "a8180459",
   "metadata": {},
   "outputs": [
    {
     "data": {
      "text/html": [
       "<div>\n",
       "<style scoped>\n",
       "    .dataframe tbody tr th:only-of-type {\n",
       "        vertical-align: middle;\n",
       "    }\n",
       "\n",
       "    .dataframe tbody tr th {\n",
       "        vertical-align: top;\n",
       "    }\n",
       "\n",
       "    .dataframe thead th {\n",
       "        text-align: right;\n",
       "    }\n",
       "</style>\n",
       "<table border=\"1\" class=\"dataframe\">\n",
       "  <thead>\n",
       "    <tr style=\"text-align: right;\">\n",
       "      <th></th>\n",
       "      <th>Time</th>\n",
       "      <th>State</th>\n",
       "      <th>Cases_White</th>\n",
       "      <th>Cases_Black</th>\n",
       "      <th>Cases_Latinx</th>\n",
       "      <th>Cases_Asian</th>\n",
       "      <th>Deaths_White</th>\n",
       "      <th>Deaths_Black</th>\n",
       "      <th>Deaths_Latinx</th>\n",
       "      <th>Deaths_Asian</th>\n",
       "      <th>create_time</th>\n",
       "      <th>Wave</th>\n",
       "      <th>Week</th>\n",
       "      <th>Total_Cases</th>\n",
       "      <th>Total_Deaths</th>\n",
       "    </tr>\n",
       "    <tr>\n",
       "      <th>create_time</th>\n",
       "      <th></th>\n",
       "      <th></th>\n",
       "      <th></th>\n",
       "      <th></th>\n",
       "      <th></th>\n",
       "      <th></th>\n",
       "      <th></th>\n",
       "      <th></th>\n",
       "      <th></th>\n",
       "      <th></th>\n",
       "      <th></th>\n",
       "      <th></th>\n",
       "      <th></th>\n",
       "      <th></th>\n",
       "      <th></th>\n",
       "    </tr>\n",
       "  </thead>\n",
       "  <tbody>\n",
       "    <tr>\n",
       "      <th>2020-04-12</th>\n",
       "      <td>20200412</td>\n",
       "      <td>WY</td>\n",
       "      <td>NaN</td>\n",
       "      <td>NaN</td>\n",
       "      <td>NaN</td>\n",
       "      <td>NaN</td>\n",
       "      <td>NaN</td>\n",
       "      <td>NaN</td>\n",
       "      <td>NaN</td>\n",
       "      <td>NaN</td>\n",
       "      <td>2020-04-12</td>\n",
       "      <td>Wave 1</td>\n",
       "      <td>4</td>\n",
       "      <td>NaN</td>\n",
       "      <td>NaN</td>\n",
       "    </tr>\n",
       "    <tr>\n",
       "      <th>2020-04-12</th>\n",
       "      <td>20200412</td>\n",
       "      <td>ME</td>\n",
       "      <td>NaN</td>\n",
       "      <td>NaN</td>\n",
       "      <td>NaN</td>\n",
       "      <td>NaN</td>\n",
       "      <td>NaN</td>\n",
       "      <td>NaN</td>\n",
       "      <td>NaN</td>\n",
       "      <td>NaN</td>\n",
       "      <td>2020-04-12</td>\n",
       "      <td>Wave 1</td>\n",
       "      <td>4</td>\n",
       "      <td>NaN</td>\n",
       "      <td>NaN</td>\n",
       "    </tr>\n",
       "    <tr>\n",
       "      <th>2020-04-12</th>\n",
       "      <td>20200412</td>\n",
       "      <td>MD</td>\n",
       "      <td>2300.0</td>\n",
       "      <td>3200.0</td>\n",
       "      <td>NaN</td>\n",
       "      <td>190.0</td>\n",
       "      <td>83.0</td>\n",
       "      <td>104.0</td>\n",
       "      <td>NaN</td>\n",
       "      <td>8.0</td>\n",
       "      <td>2020-04-12</td>\n",
       "      <td>Wave 1</td>\n",
       "      <td>4</td>\n",
       "      <td>NaN</td>\n",
       "      <td>NaN</td>\n",
       "    </tr>\n",
       "    <tr>\n",
       "      <th>2020-04-12</th>\n",
       "      <td>20200412</td>\n",
       "      <td>MA</td>\n",
       "      <td>4271.0</td>\n",
       "      <td>1358.0</td>\n",
       "      <td>1885.0</td>\n",
       "      <td>331.0</td>\n",
       "      <td>199.0</td>\n",
       "      <td>20.0</td>\n",
       "      <td>28.0</td>\n",
       "      <td>13.0</td>\n",
       "      <td>2020-04-12</td>\n",
       "      <td>Wave 1</td>\n",
       "      <td>4</td>\n",
       "      <td>7845.0</td>\n",
       "      <td>260.0</td>\n",
       "    </tr>\n",
       "  </tbody>\n",
       "</table>\n",
       "</div>"
      ],
      "text/plain": [
       "                 Time State  Cases_White  Cases_Black  Cases_Latinx  \\\n",
       "create_time                                                           \n",
       "2020-04-12   20200412    WY          NaN          NaN           NaN   \n",
       "2020-04-12   20200412    ME          NaN          NaN           NaN   \n",
       "2020-04-12   20200412    MD       2300.0       3200.0           NaN   \n",
       "2020-04-12   20200412    MA       4271.0       1358.0        1885.0   \n",
       "\n",
       "             Cases_Asian  Deaths_White  Deaths_Black  Deaths_Latinx  \\\n",
       "create_time                                                           \n",
       "2020-04-12           NaN           NaN           NaN            NaN   \n",
       "2020-04-12           NaN           NaN           NaN            NaN   \n",
       "2020-04-12         190.0          83.0         104.0            NaN   \n",
       "2020-04-12         331.0         199.0          20.0           28.0   \n",
       "\n",
       "             Deaths_Asian create_time    Wave  Week  Total_Cases  Total_Deaths  \n",
       "create_time                                                                     \n",
       "2020-04-12            NaN  2020-04-12  Wave 1     4          NaN           NaN  \n",
       "2020-04-12            NaN  2020-04-12  Wave 1     4          NaN           NaN  \n",
       "2020-04-12            8.0  2020-04-12  Wave 1     4          NaN           NaN  \n",
       "2020-04-12           13.0  2020-04-12  Wave 1     4       7845.0         260.0  "
      ]
     },
     "execution_count": 91,
     "metadata": {},
     "output_type": "execute_result"
    }
   ],
   "source": [
    "# separate covid cases and deaths into three waves, wave 1: March 1-May 31;wave 2: June 1-Aug 31; wave 3: Sep 1 - Dec 31, 2020\n",
    "# \n",
    "covid.loc[covid.create_time <='2020-05-31','Wave'] = \"Wave 1\"\n",
    "covid.loc[(covid.create_time >'2020-05-31') & (covid.create_time <='2020-08-31'),'Wave'] = \"Wave 2\"\n",
    "covid.loc[covid.create_time > '2020-09-01','Wave'] = \"Wave 3\"\n",
    "\n",
    "\n",
    "covid.set_index('create_time', drop=False, append=False, inplace=True, verify_integrity=False)\n",
    "covid= covid.sort_index(ascending=True)\n",
    "covid.head(4)"
   ]
  },
  {
   "cell_type": "code",
   "execution_count": 30,
   "id": "fc295c62",
   "metadata": {},
   "outputs": [],
   "source": [
    "# returns the # of weeks after Mar 20, 2020. i.e., Mar 8, 2020 will be the 2nd week. \n",
    "def find_weeks_covid(time):\n",
    "    start = datetime.datetime.strptime(\"20200320\",'%Y%m%d')\n",
    "    time1 = datetime.datetime.strptime(str(time),'%Y%m%d')\n",
    "    week_no = math.floor((time1-start).days/7)+1\n",
    "    return  week_no"
   ]
  },
  {
   "cell_type": "code",
   "execution_count": 90,
   "id": "4ff35da7",
   "metadata": {
    "scrolled": true
   },
   "outputs": [
    {
     "data": {
      "text/html": [
       "<div>\n",
       "<style scoped>\n",
       "    .dataframe tbody tr th:only-of-type {\n",
       "        vertical-align: middle;\n",
       "    }\n",
       "\n",
       "    .dataframe tbody tr th {\n",
       "        vertical-align: top;\n",
       "    }\n",
       "\n",
       "    .dataframe thead th {\n",
       "        text-align: right;\n",
       "    }\n",
       "</style>\n",
       "<table border=\"1\" class=\"dataframe\">\n",
       "  <thead>\n",
       "    <tr style=\"text-align: right;\">\n",
       "      <th></th>\n",
       "      <th>Time</th>\n",
       "      <th>State</th>\n",
       "      <th>Cases_White</th>\n",
       "      <th>Cases_Black</th>\n",
       "      <th>Cases_Latinx</th>\n",
       "      <th>Cases_Asian</th>\n",
       "      <th>Deaths_White</th>\n",
       "      <th>Deaths_Black</th>\n",
       "      <th>Deaths_Latinx</th>\n",
       "      <th>Deaths_Asian</th>\n",
       "      <th>create_time</th>\n",
       "      <th>Wave</th>\n",
       "      <th>Week</th>\n",
       "      <th>Total_Cases</th>\n",
       "      <th>Total_Deaths</th>\n",
       "    </tr>\n",
       "    <tr>\n",
       "      <th>create_time</th>\n",
       "      <th></th>\n",
       "      <th></th>\n",
       "      <th></th>\n",
       "      <th></th>\n",
       "      <th></th>\n",
       "      <th></th>\n",
       "      <th></th>\n",
       "      <th></th>\n",
       "      <th></th>\n",
       "      <th></th>\n",
       "      <th></th>\n",
       "      <th></th>\n",
       "      <th></th>\n",
       "      <th></th>\n",
       "      <th></th>\n",
       "    </tr>\n",
       "  </thead>\n",
       "  <tbody>\n",
       "    <tr>\n",
       "      <th>2020-12-30</th>\n",
       "      <td>20201230</td>\n",
       "      <td>NE</td>\n",
       "      <td>87234.0</td>\n",
       "      <td>4464.0</td>\n",
       "      <td>NaN</td>\n",
       "      <td>2429.0</td>\n",
       "      <td>1105.0</td>\n",
       "      <td>58.0</td>\n",
       "      <td>NaN</td>\n",
       "      <td>23.0</td>\n",
       "      <td>2020-12-30</td>\n",
       "      <td>Wave 3</td>\n",
       "      <td>41</td>\n",
       "      <td>NaN</td>\n",
       "      <td>NaN</td>\n",
       "    </tr>\n",
       "    <tr>\n",
       "      <th>2020-12-30</th>\n",
       "      <td>20201230</td>\n",
       "      <td>ND</td>\n",
       "      <td>49538.0</td>\n",
       "      <td>2678.0</td>\n",
       "      <td>NaN</td>\n",
       "      <td>1255.0</td>\n",
       "      <td>NaN</td>\n",
       "      <td>NaN</td>\n",
       "      <td>NaN</td>\n",
       "      <td>NaN</td>\n",
       "      <td>2020-12-30</td>\n",
       "      <td>Wave 3</td>\n",
       "      <td>41</td>\n",
       "      <td>NaN</td>\n",
       "      <td>NaN</td>\n",
       "    </tr>\n",
       "    <tr>\n",
       "      <th>2020-12-30</th>\n",
       "      <td>20201230</td>\n",
       "      <td>NC</td>\n",
       "      <td>271212.0</td>\n",
       "      <td>91016.0</td>\n",
       "      <td>NaN</td>\n",
       "      <td>7989.0</td>\n",
       "      <td>4140.0</td>\n",
       "      <td>1692.0</td>\n",
       "      <td>NaN</td>\n",
       "      <td>80.0</td>\n",
       "      <td>2020-12-30</td>\n",
       "      <td>Wave 3</td>\n",
       "      <td>41</td>\n",
       "      <td>NaN</td>\n",
       "      <td>NaN</td>\n",
       "    </tr>\n",
       "    <tr>\n",
       "      <th>2020-12-30</th>\n",
       "      <td>20201230</td>\n",
       "      <td>MS</td>\n",
       "      <td>97054.0</td>\n",
       "      <td>72243.0</td>\n",
       "      <td>4770.0</td>\n",
       "      <td>871.0</td>\n",
       "      <td>2416.0</td>\n",
       "      <td>1957.0</td>\n",
       "      <td>50.0</td>\n",
       "      <td>15.0</td>\n",
       "      <td>2020-12-30</td>\n",
       "      <td>Wave 3</td>\n",
       "      <td>41</td>\n",
       "      <td>174938.0</td>\n",
       "      <td>4438.0</td>\n",
       "    </tr>\n",
       "    <tr>\n",
       "      <th>2020-12-30</th>\n",
       "      <td>20201230</td>\n",
       "      <td>AK</td>\n",
       "      <td>14623.0</td>\n",
       "      <td>1245.0</td>\n",
       "      <td>NaN</td>\n",
       "      <td>1864.0</td>\n",
       "      <td>74.0</td>\n",
       "      <td>8.0</td>\n",
       "      <td>NaN</td>\n",
       "      <td>20.0</td>\n",
       "      <td>2020-12-30</td>\n",
       "      <td>Wave 3</td>\n",
       "      <td>41</td>\n",
       "      <td>NaN</td>\n",
       "      <td>NaN</td>\n",
       "    </tr>\n",
       "  </tbody>\n",
       "</table>\n",
       "</div>"
      ],
      "text/plain": [
       "                 Time State  Cases_White  Cases_Black  Cases_Latinx  \\\n",
       "create_time                                                           \n",
       "2020-12-30   20201230    NE      87234.0       4464.0           NaN   \n",
       "2020-12-30   20201230    ND      49538.0       2678.0           NaN   \n",
       "2020-12-30   20201230    NC     271212.0      91016.0           NaN   \n",
       "2020-12-30   20201230    MS      97054.0      72243.0        4770.0   \n",
       "2020-12-30   20201230    AK      14623.0       1245.0           NaN   \n",
       "\n",
       "             Cases_Asian  Deaths_White  Deaths_Black  Deaths_Latinx  \\\n",
       "create_time                                                           \n",
       "2020-12-30        2429.0        1105.0          58.0            NaN   \n",
       "2020-12-30        1255.0           NaN           NaN            NaN   \n",
       "2020-12-30        7989.0        4140.0        1692.0            NaN   \n",
       "2020-12-30         871.0        2416.0        1957.0           50.0   \n",
       "2020-12-30        1864.0          74.0           8.0            NaN   \n",
       "\n",
       "             Deaths_Asian create_time    Wave  Week  Total_Cases  Total_Deaths  \n",
       "create_time                                                                     \n",
       "2020-12-30           23.0  2020-12-30  Wave 3    41          NaN           NaN  \n",
       "2020-12-30            NaN  2020-12-30  Wave 3    41          NaN           NaN  \n",
       "2020-12-30           80.0  2020-12-30  Wave 3    41          NaN           NaN  \n",
       "2020-12-30           15.0  2020-12-30  Wave 3    41     174938.0        4438.0  \n",
       "2020-12-30           20.0  2020-12-30  Wave 3    41          NaN           NaN  "
      ]
     },
     "execution_count": 90,
     "metadata": {},
     "output_type": "execute_result"
    }
   ],
   "source": [
    "covid['Week'] = covid[\"Time\"].apply(find_weeks_covid)\n",
    "covid.tail(5)"
   ]
  },
  {
   "cell_type": "code",
   "execution_count": 154,
   "id": "8815434d",
   "metadata": {},
   "outputs": [
    {
     "data": {
      "text/html": [
       "<div>\n",
       "<style scoped>\n",
       "    .dataframe tbody tr th:only-of-type {\n",
       "        vertical-align: middle;\n",
       "    }\n",
       "\n",
       "    .dataframe tbody tr th {\n",
       "        vertical-align: top;\n",
       "    }\n",
       "\n",
       "    .dataframe thead th {\n",
       "        text-align: right;\n",
       "    }\n",
       "</style>\n",
       "<table border=\"1\" class=\"dataframe\">\n",
       "  <thead>\n",
       "    <tr style=\"text-align: right;\">\n",
       "      <th></th>\n",
       "      <th>Time</th>\n",
       "      <th>State</th>\n",
       "      <th>Cases_White</th>\n",
       "      <th>Cases_Black</th>\n",
       "      <th>Cases_Latinx</th>\n",
       "      <th>Cases_Asian</th>\n",
       "      <th>Deaths_White</th>\n",
       "      <th>Deaths_Black</th>\n",
       "      <th>Deaths_Latinx</th>\n",
       "      <th>Deaths_Asian</th>\n",
       "      <th>create_time</th>\n",
       "      <th>Wave</th>\n",
       "      <th>Week</th>\n",
       "      <th>Total_Cases</th>\n",
       "      <th>Total_Deaths</th>\n",
       "    </tr>\n",
       "    <tr>\n",
       "      <th>create_time</th>\n",
       "      <th></th>\n",
       "      <th></th>\n",
       "      <th></th>\n",
       "      <th></th>\n",
       "      <th></th>\n",
       "      <th></th>\n",
       "      <th></th>\n",
       "      <th></th>\n",
       "      <th></th>\n",
       "      <th></th>\n",
       "      <th></th>\n",
       "      <th></th>\n",
       "      <th></th>\n",
       "      <th></th>\n",
       "      <th></th>\n",
       "    </tr>\n",
       "  </thead>\n",
       "  <tbody>\n",
       "    <tr>\n",
       "      <th>2020-04-12</th>\n",
       "      <td>20200412</td>\n",
       "      <td>WY</td>\n",
       "      <td>NaN</td>\n",
       "      <td>NaN</td>\n",
       "      <td>NaN</td>\n",
       "      <td>NaN</td>\n",
       "      <td>NaN</td>\n",
       "      <td>NaN</td>\n",
       "      <td>NaN</td>\n",
       "      <td>NaN</td>\n",
       "      <td>2020-04-12</td>\n",
       "      <td>Wave 1</td>\n",
       "      <td>4</td>\n",
       "      <td>NaN</td>\n",
       "      <td>NaN</td>\n",
       "    </tr>\n",
       "    <tr>\n",
       "      <th>2020-04-12</th>\n",
       "      <td>20200412</td>\n",
       "      <td>ME</td>\n",
       "      <td>NaN</td>\n",
       "      <td>NaN</td>\n",
       "      <td>NaN</td>\n",
       "      <td>NaN</td>\n",
       "      <td>NaN</td>\n",
       "      <td>NaN</td>\n",
       "      <td>NaN</td>\n",
       "      <td>NaN</td>\n",
       "      <td>2020-04-12</td>\n",
       "      <td>Wave 1</td>\n",
       "      <td>4</td>\n",
       "      <td>NaN</td>\n",
       "      <td>NaN</td>\n",
       "    </tr>\n",
       "    <tr>\n",
       "      <th>2020-04-12</th>\n",
       "      <td>20200412</td>\n",
       "      <td>MD</td>\n",
       "      <td>2300.0</td>\n",
       "      <td>3200.0</td>\n",
       "      <td>NaN</td>\n",
       "      <td>190.0</td>\n",
       "      <td>83.0</td>\n",
       "      <td>104.0</td>\n",
       "      <td>NaN</td>\n",
       "      <td>8.0</td>\n",
       "      <td>2020-04-12</td>\n",
       "      <td>Wave 1</td>\n",
       "      <td>4</td>\n",
       "      <td>NaN</td>\n",
       "      <td>NaN</td>\n",
       "    </tr>\n",
       "    <tr>\n",
       "      <th>2020-04-12</th>\n",
       "      <td>20200412</td>\n",
       "      <td>MA</td>\n",
       "      <td>4271.0</td>\n",
       "      <td>1358.0</td>\n",
       "      <td>1885.0</td>\n",
       "      <td>331.0</td>\n",
       "      <td>199.0</td>\n",
       "      <td>20.0</td>\n",
       "      <td>28.0</td>\n",
       "      <td>13.0</td>\n",
       "      <td>2020-04-12</td>\n",
       "      <td>Wave 1</td>\n",
       "      <td>4</td>\n",
       "      <td>7845.0</td>\n",
       "      <td>260.0</td>\n",
       "    </tr>\n",
       "    <tr>\n",
       "      <th>2020-04-12</th>\n",
       "      <td>20200412</td>\n",
       "      <td>LA</td>\n",
       "      <td>NaN</td>\n",
       "      <td>NaN</td>\n",
       "      <td>NaN</td>\n",
       "      <td>NaN</td>\n",
       "      <td>NaN</td>\n",
       "      <td>NaN</td>\n",
       "      <td>NaN</td>\n",
       "      <td>NaN</td>\n",
       "      <td>2020-04-12</td>\n",
       "      <td>Wave 1</td>\n",
       "      <td>4</td>\n",
       "      <td>NaN</td>\n",
       "      <td>NaN</td>\n",
       "    </tr>\n",
       "  </tbody>\n",
       "</table>\n",
       "</div>"
      ],
      "text/plain": [
       "                 Time State  Cases_White  Cases_Black  Cases_Latinx  \\\n",
       "create_time                                                           \n",
       "2020-04-12   20200412    WY          NaN          NaN           NaN   \n",
       "2020-04-12   20200412    ME          NaN          NaN           NaN   \n",
       "2020-04-12   20200412    MD       2300.0       3200.0           NaN   \n",
       "2020-04-12   20200412    MA       4271.0       1358.0        1885.0   \n",
       "2020-04-12   20200412    LA          NaN          NaN           NaN   \n",
       "\n",
       "             Cases_Asian  Deaths_White  Deaths_Black  Deaths_Latinx  \\\n",
       "create_time                                                           \n",
       "2020-04-12           NaN           NaN           NaN            NaN   \n",
       "2020-04-12           NaN           NaN           NaN            NaN   \n",
       "2020-04-12         190.0          83.0         104.0            NaN   \n",
       "2020-04-12         331.0         199.0          20.0           28.0   \n",
       "2020-04-12           NaN           NaN           NaN            NaN   \n",
       "\n",
       "             Deaths_Asian create_time    Wave  Week  Total_Cases  Total_Deaths  \n",
       "create_time                                                                     \n",
       "2020-04-12            NaN  2020-04-12  Wave 1     4          NaN           NaN  \n",
       "2020-04-12            NaN  2020-04-12  Wave 1     4          NaN           NaN  \n",
       "2020-04-12            8.0  2020-04-12  Wave 1     4          NaN           NaN  \n",
       "2020-04-12           13.0  2020-04-12  Wave 1     4       7845.0         260.0  \n",
       "2020-04-12            NaN  2020-04-12  Wave 1     4          NaN           NaN  "
      ]
     },
     "execution_count": 154,
     "metadata": {},
     "output_type": "execute_result"
    }
   ],
   "source": [
    "covid['Total_Cases'] = covid[\"Cases_White\"] + covid[\"Cases_Black\"] + covid[\"Cases_Latinx\"] + covid[\"Cases_Asian\"]\n",
    "covid['Total_Deaths'] = covid[\"Deaths_White\"] + covid[\"Deaths_Black\"] + covid[\"Deaths_Latinx\"] + covid[\"Deaths_Asian\"]\n",
    "covid.head()"
   ]
  },
  {
   "cell_type": "code",
   "execution_count": 155,
   "id": "69dcc7ed",
   "metadata": {
    "scrolled": false
   },
   "outputs": [
    {
     "data": {
      "text/html": [
       "<div>\n",
       "<style scoped>\n",
       "    .dataframe tbody tr th:only-of-type {\n",
       "        vertical-align: middle;\n",
       "    }\n",
       "\n",
       "    .dataframe tbody tr th {\n",
       "        vertical-align: top;\n",
       "    }\n",
       "\n",
       "    .dataframe thead th {\n",
       "        text-align: right;\n",
       "    }\n",
       "</style>\n",
       "<table border=\"1\" class=\"dataframe\">\n",
       "  <thead>\n",
       "    <tr style=\"text-align: right;\">\n",
       "      <th></th>\n",
       "      <th>create_time</th>\n",
       "      <th>Wave</th>\n",
       "      <th>Week</th>\n",
       "      <th>Total_Cases</th>\n",
       "      <th>Total_Deaths</th>\n",
       "    </tr>\n",
       "  </thead>\n",
       "  <tbody>\n",
       "    <tr>\n",
       "      <th>0</th>\n",
       "      <td>2020-04-12</td>\n",
       "      <td>Wave 1</td>\n",
       "      <td>4</td>\n",
       "      <td>51481.0</td>\n",
       "      <td>2350.0</td>\n",
       "    </tr>\n",
       "    <tr>\n",
       "      <th>1</th>\n",
       "      <td>2020-04-15</td>\n",
       "      <td>Wave 1</td>\n",
       "      <td>4</td>\n",
       "      <td>78892.0</td>\n",
       "      <td>11537.0</td>\n",
       "    </tr>\n",
       "    <tr>\n",
       "      <th>2</th>\n",
       "      <td>2020-04-19</td>\n",
       "      <td>Wave 1</td>\n",
       "      <td>5</td>\n",
       "      <td>92132.0</td>\n",
       "      <td>16975.0</td>\n",
       "    </tr>\n",
       "    <tr>\n",
       "      <th>3</th>\n",
       "      <td>2020-04-22</td>\n",
       "      <td>Wave 1</td>\n",
       "      <td>5</td>\n",
       "      <td>127286.0</td>\n",
       "      <td>14309.0</td>\n",
       "    </tr>\n",
       "    <tr>\n",
       "      <th>4</th>\n",
       "      <td>2020-04-26</td>\n",
       "      <td>Wave 1</td>\n",
       "      <td>6</td>\n",
       "      <td>149384.0</td>\n",
       "      <td>16703.0</td>\n",
       "    </tr>\n",
       "  </tbody>\n",
       "</table>\n",
       "</div>"
      ],
      "text/plain": [
       "  create_time    Wave  Week  Total_Cases  Total_Deaths\n",
       "0  2020-04-12  Wave 1     4      51481.0        2350.0\n",
       "1  2020-04-15  Wave 1     4      78892.0       11537.0\n",
       "2  2020-04-19  Wave 1     5      92132.0       16975.0\n",
       "3  2020-04-22  Wave 1     5     127286.0       14309.0\n",
       "4  2020-04-26  Wave 1     6     149384.0       16703.0"
      ]
     },
     "execution_count": 155,
     "metadata": {},
     "output_type": "execute_result"
    }
   ],
   "source": [
    "covid.columns\n",
    "\n",
    "covid_case_death_by_state = covid[['State', 'Wave', 'Week', 'Total_Cases','Total_Deaths']]\n",
    "# covid_case_death_by_state.to_csv('COVID_case_death_by_wave_week_state.csv')\n",
    "\n",
    "# covid_case_death dataframe keeps \"create_time\"(date),'Wave', 'Week' fields, and sum the data across all states\n",
    "\n",
    "covid_case_death = covid[['State', 'Wave', 'Week', 'Total_Cases','Total_Deaths']].groupby([\"create_time\",'Wave', 'Week']).agg({'Total_Cases':['sum'],\"Total_Deaths\":['sum']})\n",
    "# # rename columns\n",
    "covid_case_death.columns = ['Total_Cases','Total_Deaths']\n",
    "# # # reset index to get grouped columns back\n",
    "covid_case_death = covid_case_death.reset_index()\n",
    "covid_case_death.head()\n",
    "\n",
    "# covid_case_death.to_csv('COVID_case_death_by_wave_week_all_races_all_states.csv')\n",
    "\n",
    "# covid_case_death = covid.groupby([\"Week\",\"Wave\"]).agg({\"Total_Cases\":['max'],\"Total_Deaths\":['max']})\n",
    "# covid_case_death "
   ]
  },
  {
   "cell_type": "code",
   "execution_count": 97,
   "id": "65bbf34c",
   "metadata": {
    "scrolled": true
   },
   "outputs": [
    {
     "data": {
      "text/html": [
       "<div>\n",
       "<style scoped>\n",
       "    .dataframe tbody tr th:only-of-type {\n",
       "        vertical-align: middle;\n",
       "    }\n",
       "\n",
       "    .dataframe tbody tr th {\n",
       "        vertical-align: top;\n",
       "    }\n",
       "\n",
       "    .dataframe thead th {\n",
       "        text-align: right;\n",
       "    }\n",
       "</style>\n",
       "<table border=\"1\" class=\"dataframe\">\n",
       "  <thead>\n",
       "    <tr style=\"text-align: right;\">\n",
       "      <th></th>\n",
       "      <th>create_time</th>\n",
       "      <th>Wave</th>\n",
       "      <th>Week</th>\n",
       "      <th>Total_Cases</th>\n",
       "      <th>Total_Deaths</th>\n",
       "    </tr>\n",
       "  </thead>\n",
       "  <tbody>\n",
       "    <tr>\n",
       "      <th>71</th>\n",
       "      <td>2020-12-16</td>\n",
       "      <td>Wave 3</td>\n",
       "      <td>39</td>\n",
       "      <td>4656860.0</td>\n",
       "      <td>169101.0</td>\n",
       "    </tr>\n",
       "    <tr>\n",
       "      <th>72</th>\n",
       "      <td>2020-12-20</td>\n",
       "      <td>Wave 3</td>\n",
       "      <td>40</td>\n",
       "      <td>4943921.0</td>\n",
       "      <td>175062.0</td>\n",
       "    </tr>\n",
       "    <tr>\n",
       "      <th>73</th>\n",
       "      <td>2020-12-23</td>\n",
       "      <td>Wave 3</td>\n",
       "      <td>40</td>\n",
       "      <td>5116795.0</td>\n",
       "      <td>178054.0</td>\n",
       "    </tr>\n",
       "    <tr>\n",
       "      <th>74</th>\n",
       "      <td>2020-12-27</td>\n",
       "      <td>Wave 3</td>\n",
       "      <td>41</td>\n",
       "      <td>5249850.0</td>\n",
       "      <td>181857.0</td>\n",
       "    </tr>\n",
       "    <tr>\n",
       "      <th>75</th>\n",
       "      <td>2020-12-30</td>\n",
       "      <td>Wave 3</td>\n",
       "      <td>41</td>\n",
       "      <td>5514207.0</td>\n",
       "      <td>186270.0</td>\n",
       "    </tr>\n",
       "  </tbody>\n",
       "</table>\n",
       "</div>"
      ],
      "text/plain": [
       "   create_time    Wave  Week  Total_Cases  Total_Deaths\n",
       "71  2020-12-16  Wave 3    39    4656860.0      169101.0\n",
       "72  2020-12-20  Wave 3    40    4943921.0      175062.0\n",
       "73  2020-12-23  Wave 3    40    5116795.0      178054.0\n",
       "74  2020-12-27  Wave 3    41    5249850.0      181857.0\n",
       "75  2020-12-30  Wave 3    41    5514207.0      186270.0"
      ]
     },
     "execution_count": 97,
     "metadata": {},
     "output_type": "execute_result"
    }
   ],
   "source": [
    "# The data was collected every 3 days, so there are two dates within each week. \n",
    "# Cases and deaths were cumulative, to get the increased cases/deaths within the week, use the data on 2nd date minus 1st date \n",
    "covid_case_death.tail()\n"
   ]
  },
  {
   "cell_type": "code",
   "execution_count": 156,
   "id": "3f5c2b98",
   "metadata": {},
   "outputs": [
    {
     "data": {
      "text/html": [
       "<div>\n",
       "<style scoped>\n",
       "    .dataframe tbody tr th:only-of-type {\n",
       "        vertical-align: middle;\n",
       "    }\n",
       "\n",
       "    .dataframe tbody tr th {\n",
       "        vertical-align: top;\n",
       "    }\n",
       "\n",
       "    .dataframe thead th {\n",
       "        text-align: right;\n",
       "    }\n",
       "</style>\n",
       "<table border=\"1\" class=\"dataframe\">\n",
       "  <thead>\n",
       "    <tr style=\"text-align: right;\">\n",
       "      <th></th>\n",
       "      <th>create_time</th>\n",
       "      <th>Wave</th>\n",
       "      <th>Week</th>\n",
       "      <th>Total_Cases</th>\n",
       "      <th>Total_Deaths</th>\n",
       "      <th>Cases_Diff</th>\n",
       "      <th>Deaths_Diff</th>\n",
       "    </tr>\n",
       "  </thead>\n",
       "  <tbody>\n",
       "    <tr>\n",
       "      <th>1</th>\n",
       "      <td>2020-04-15</td>\n",
       "      <td>Wave 1</td>\n",
       "      <td>4</td>\n",
       "      <td>78892.0</td>\n",
       "      <td>11537.0</td>\n",
       "      <td>27411.0</td>\n",
       "      <td>9187.0</td>\n",
       "    </tr>\n",
       "    <tr>\n",
       "      <th>3</th>\n",
       "      <td>2020-04-22</td>\n",
       "      <td>Wave 1</td>\n",
       "      <td>5</td>\n",
       "      <td>127286.0</td>\n",
       "      <td>14309.0</td>\n",
       "      <td>35154.0</td>\n",
       "      <td>-2666.0</td>\n",
       "    </tr>\n",
       "    <tr>\n",
       "      <th>5</th>\n",
       "      <td>2020-04-29</td>\n",
       "      <td>Wave 1</td>\n",
       "      <td>6</td>\n",
       "      <td>170955.0</td>\n",
       "      <td>25989.0</td>\n",
       "      <td>21571.0</td>\n",
       "      <td>9286.0</td>\n",
       "    </tr>\n",
       "    <tr>\n",
       "      <th>7</th>\n",
       "      <td>2020-05-06</td>\n",
       "      <td>Wave 1</td>\n",
       "      <td>7</td>\n",
       "      <td>242666.0</td>\n",
       "      <td>34173.0</td>\n",
       "      <td>22815.0</td>\n",
       "      <td>2057.0</td>\n",
       "    </tr>\n",
       "    <tr>\n",
       "      <th>9</th>\n",
       "      <td>2020-05-13</td>\n",
       "      <td>Wave 1</td>\n",
       "      <td>8</td>\n",
       "      <td>352543.0</td>\n",
       "      <td>41236.0</td>\n",
       "      <td>82117.0</td>\n",
       "      <td>3093.0</td>\n",
       "    </tr>\n",
       "  </tbody>\n",
       "</table>\n",
       "</div>"
      ],
      "text/plain": [
       "  create_time    Wave  Week  Total_Cases  Total_Deaths  Cases_Diff  \\\n",
       "1  2020-04-15  Wave 1     4      78892.0       11537.0     27411.0   \n",
       "3  2020-04-22  Wave 1     5     127286.0       14309.0     35154.0   \n",
       "5  2020-04-29  Wave 1     6     170955.0       25989.0     21571.0   \n",
       "7  2020-05-06  Wave 1     7     242666.0       34173.0     22815.0   \n",
       "9  2020-05-13  Wave 1     8     352543.0       41236.0     82117.0   \n",
       "\n",
       "   Deaths_Diff  \n",
       "1       9187.0  \n",
       "3      -2666.0  \n",
       "5       9286.0  \n",
       "7       2057.0  \n",
       "9       3093.0  "
      ]
     },
     "execution_count": 156,
     "metadata": {},
     "output_type": "execute_result"
    }
   ],
   "source": [
    "# The data was collected every 3 days, so there are two dates within each week. \n",
    "# Cases and deaths were cumulative, to get the increased cases/deaths within the week, use the data on 2nd date minus 1st date \n",
    "covid_wk_case_death =covid_case_death\n",
    "covid_wk_case_death['Cases_Diff'] = covid_case_death['Total_Cases'].diff() # use diff() to get the diff btw data of 2 dates within the week\n",
    "covid_wk_case_death['Deaths_Diff'] = covid_case_death['Total_Deaths'].diff()\n",
    "covid_wk_case_death_2 = covid_wk_case_death[1::2] # select the odd numbered rows, which are the increased cases & deaths\n",
    "covid_wk_case_death_2.head()\n"
   ]
  },
  {
   "cell_type": "code",
   "execution_count": 164,
   "id": "d6e4d2f8",
   "metadata": {
    "scrolled": false
   },
   "outputs": [
    {
     "data": {
      "image/png": "[encoded data removed]",
      "text/plain": [
       "<Figure size 720x432 with 1 Axes>"
      ]
     },
     "metadata": {},
     "output_type": "display_data"
    }
   ],
   "source": [
    "# plot the weekly cases\n",
    "\n",
    "covid_wk_case_death_2 = covid_wk_case_death_2.set_index(\"Week\")\n",
    "colours = {\"Wave 1\": \"#F77189\", \"Wave 2\": \"#50B131\", \"Wave 3\": \"#3BA3EC\"}\n",
    "\n",
    "ax =covid_wk_case_death_2.Cases_Diff.plot(kind = 'bar', figsize=(10,6),fontsize=18, color=covid_wk_case_death_2['Wave'].replace(colours), title = \"Weekly COVID-19 Cases, 4/12/2020 through 12/31/2020\")\n",
    "# ax.set_xtick(['0','10','20','30','40'])\n",
    "plt.xticks(rotation=1, horizontalalignment=\"center\")\n",
    "plt.locator_params(axis=\"x\", nbins=5) # change the number of x-axis ticks\n",
    "plt.xlabel('Weeks since the U.S. COVID-19 Lockdown on March 20, 2020', fontsize=20)\n",
    "plt.ylabel('Weekly COVID-19 Cases', fontsize=20)\n",
    "plt.savefig(out_dir + \"\\Weekly COVID-19 Cases.jpg\",dpi=300)\n",
    "# ax.legend(['Wave 1', 'Wave 2'])"
   ]
  },
  {
   "cell_type": "code",
   "execution_count": 161,
   "id": "a3efe382",
   "metadata": {},
   "outputs": [],
   "source": [
    "# change the value of a minus death value to a positive number\n",
    "covid_wk_case_death_2.at[3,\"Deaths_Diff\"] = 2666"
   ]
  },
  {
   "cell_type": "code",
   "execution_count": 165,
   "id": "a26392c6",
   "metadata": {},
   "outputs": [
    {
     "data": {
      "image/png": "[encoded data removed]",
      "text/plain": [
       "<Figure size 720x432 with 1 Axes>"
      ]
     },
     "metadata": {},
     "output_type": "display_data"
    }
   ],
   "source": [
    "# plot the weekly deaths\n",
    "colours = {\"Wave 1\": \"#F77189\", \"Wave 2\": \"#50B131\", \"Wave 3\": \"#3BA3EC\"}\n",
    "ax =covid_wk_case_death_2.Deaths_Diff.plot(kind = 'bar', figsize=(10,6),fontsize=18, color=covid_wk_case_death_2['Wave'].replace(colours), title = \"Weekly COVID-19 Deaths, 4/12/2020 through 12/31/2020\")\n",
    "# ax.set_xtick(['0','10','20','30','40'])\n",
    "plt.xticks(rotation=1, horizontalalignment=\"center\")\n",
    "plt.locator_params(axis=\"x\", nbins=5) # change the number of x-axis ticks\n",
    "plt.xlabel('Weeks since the U.S. COVID-19 Lockdown on March 20, 2020', fontsize=20)\n",
    "plt.ylabel('Weekly COVID-19 Deaths', fontsize=20)\n",
    "plt.savefig(out_dir + \"\\Weekly COVID-19 Deaths.jpg\",dpi=300)\n",
    "# ax.legend(['Wave 1', 'Wave 2'])"
   ]
  },
  {
   "cell_type": "code",
   "execution_count": 535,
   "id": "73de09a2",
   "metadata": {},
   "outputs": [
    {
     "data": {
      "image/png": "[encoded data removed]",
      "text/plain": [
       "<Figure size 834.9x360 with 1 Axes>"
      ]
     },
     "metadata": {},
     "output_type": "display_data"
    }
   ],
   "source": [
    "\n",
    "#data.groupby(['date','type']).count()['amount'].unstack().plot(ax=ax)\n",
    "sns.set(font_scale=1.5) \n",
    "# covid_na =covid[~np.isnan(covid)] # remove the NaNs\n",
    "g = sns.displot(data = covid_case_death, x= \"Week\", y =\"Total_Cases_sum\",  hue = \"Wave\",palette =sns.color_palette(\"husl\", 3), height=5, aspect=2)\n",
    "g.set_axis_labels(\"Weeks since the U.S. COVID-19 Lockdown on March 20, 2020\", \"Total COVID-19 Cases\")\n",
    "plt.title(\"Weekly COVID-19 Cases, 3/20/2020 through 12/31/2020\")\n",
    "\n",
    "plt.savefig(out_dir + \"\\Weekly COVID-19 Cases_Old_legend.jpg\",dpi=300)\n",
    "plt.show()"
   ]
  },
  {
   "cell_type": "code",
   "execution_count": 404,
   "id": "3e7544ea",
   "metadata": {
    "scrolled": true
   },
   "outputs": [
    {
     "data": {
      "image/png": "[encoded data removed]",
      "text/plain": [
       "<Figure size 834.9x360 with 1 Axes>"
      ]
     },
     "metadata": {},
     "output_type": "display_data"
    }
   ],
   "source": [
    "#data.groupby(['date','type']).count()['amount'].unstack().plot(ax=ax)\n",
    "sns.set(font_scale=1.5) \n",
    "# covid_na =covid[~np.isnan(covid)] # remove the NaNs\n",
    "g = sns.displot(data = covid_na, x= \"Week\", y =\"Total_Deaths\",  hue = \"Wave\",palette =sns.color_palette(\"husl\", 3), height=5, aspect=2)\n",
    "g.set_axis_labels(\"Weeks since the U.S. COVID-19 Lockdown on March 20, 2020\", \"Total COVID-19 Deaths\")\n",
    "plt.title(\"Weekly COVID-19 Deaths, 3/20/2020 through 12/31/2020\")\n",
    "plt.show()"
   ]
  },
  {
   "cell_type": "code",
   "execution_count": 405,
   "id": "e430f0a9",
   "metadata": {},
   "outputs": [
    {
     "data": {
      "image/png": "[encoded data removed]",
      "text/plain": [
       "<Figure size 834.9x360 with 1 Axes>"
      ]
     },
     "metadata": {},
     "output_type": "display_data"
    }
   ],
   "source": [
    "#data.groupby(['date','type']).count()['amount'].unstack().plot(ax=ax)\n",
    "sns.set(font_scale=1.5) \n",
    "# covid_na =covid[~np.isnan(covid)] # remove the NaNs\n",
    "g = sns.displot(data = covid, x= \"Week\", y =\"Total_Deaths\",  hue = \"Wave\",palette =sns.color_palette(\"husl\", 3), height=5, aspect=2)\n",
    "g.set_axis_labels(\"Weeks since the U.S. COVID-19 Lockdown on March 20, 2020\", \"Total COVID-19 Deaths\")\n",
    "plt.title(\"Weekly COVID-19 Deaths, 3/20/2020 through 12/31/2020\")\n",
    "plt.show()"
   ]
  },
  {
   "cell_type": "code",
   "execution_count": 537,
   "id": "b6e970d1",
   "metadata": {
    "scrolled": true
   },
   "outputs": [
    {
     "data": {
      "text/html": [
       "<div>\n",
       "<style scoped>\n",
       "    .dataframe tbody tr th:only-of-type {\n",
       "        vertical-align: middle;\n",
       "    }\n",
       "\n",
       "    .dataframe tbody tr th {\n",
       "        vertical-align: top;\n",
       "    }\n",
       "\n",
       "    .dataframe thead th {\n",
       "        text-align: right;\n",
       "    }\n",
       "</style>\n",
       "<table border=\"1\" class=\"dataframe\">\n",
       "  <thead>\n",
       "    <tr style=\"text-align: right;\">\n",
       "      <th></th>\n",
       "      <th>Time</th>\n",
       "      <th>State</th>\n",
       "      <th>Cases_White</th>\n",
       "      <th>Cases_Black</th>\n",
       "      <th>Cases_Latinx</th>\n",
       "      <th>Cases_Asian</th>\n",
       "      <th>Deaths_White</th>\n",
       "      <th>Deaths_Black</th>\n",
       "      <th>Deaths_Latinx</th>\n",
       "      <th>Deaths_Asian</th>\n",
       "      <th>create_time</th>\n",
       "      <th>Wave</th>\n",
       "      <th>Week</th>\n",
       "      <th>Total_Cases</th>\n",
       "      <th>Total_Deaths</th>\n",
       "      <th>Total_Cases_week</th>\n",
       "    </tr>\n",
       "    <tr>\n",
       "      <th>create_time</th>\n",
       "      <th></th>\n",
       "      <th></th>\n",
       "      <th></th>\n",
       "      <th></th>\n",
       "      <th></th>\n",
       "      <th></th>\n",
       "      <th></th>\n",
       "      <th></th>\n",
       "      <th></th>\n",
       "      <th></th>\n",
       "      <th></th>\n",
       "      <th></th>\n",
       "      <th></th>\n",
       "      <th></th>\n",
       "      <th></th>\n",
       "      <th></th>\n",
       "    </tr>\n",
       "  </thead>\n",
       "  <tbody>\n",
       "    <tr>\n",
       "      <th>2020-04-12</th>\n",
       "      <td>20200412</td>\n",
       "      <td>MA</td>\n",
       "      <td>4271.0</td>\n",
       "      <td>1358.0</td>\n",
       "      <td>1885.0</td>\n",
       "      <td>331.0</td>\n",
       "      <td>199.0</td>\n",
       "      <td>20.0</td>\n",
       "      <td>28.0</td>\n",
       "      <td>13.0</td>\n",
       "      <td>2020-04-12</td>\n",
       "      <td>Wave 1</td>\n",
       "      <td>4</td>\n",
       "      <td>7845.0</td>\n",
       "      <td>260.0</td>\n",
       "      <td>NaN</td>\n",
       "    </tr>\n",
       "    <tr>\n",
       "      <th>2020-04-12</th>\n",
       "      <td>20200412</td>\n",
       "      <td>IL</td>\n",
       "      <td>5214.0</td>\n",
       "      <td>5458.0</td>\n",
       "      <td>2513.0</td>\n",
       "      <td>691.0</td>\n",
       "      <td>259.0</td>\n",
       "      <td>308.0</td>\n",
       "      <td>70.0</td>\n",
       "      <td>27.0</td>\n",
       "      <td>2020-04-12</td>\n",
       "      <td>Wave 1</td>\n",
       "      <td>4</td>\n",
       "      <td>13876.0</td>\n",
       "      <td>664.0</td>\n",
       "      <td>NaN</td>\n",
       "    </tr>\n",
       "    <tr>\n",
       "      <th>2020-04-12</th>\n",
       "      <td>20200412</td>\n",
       "      <td>CT</td>\n",
       "      <td>3030.0</td>\n",
       "      <td>993.0</td>\n",
       "      <td>1277.0</td>\n",
       "      <td>124.0</td>\n",
       "      <td>343.0</td>\n",
       "      <td>65.0</td>\n",
       "      <td>45.0</td>\n",
       "      <td>6.0</td>\n",
       "      <td>2020-04-12</td>\n",
       "      <td>Wave 1</td>\n",
       "      <td>4</td>\n",
       "      <td>5424.0</td>\n",
       "      <td>459.0</td>\n",
       "      <td>NaN</td>\n",
       "    </tr>\n",
       "    <tr>\n",
       "      <th>2020-04-12</th>\n",
       "      <td>20200412</td>\n",
       "      <td>CA</td>\n",
       "      <td>4323.0</td>\n",
       "      <td>945.0</td>\n",
       "      <td>4729.0</td>\n",
       "      <td>1756.0</td>\n",
       "      <td>224.0</td>\n",
       "      <td>54.0</td>\n",
       "      <td>147.0</td>\n",
       "      <td>92.0</td>\n",
       "      <td>2020-04-12</td>\n",
       "      <td>Wave 1</td>\n",
       "      <td>4</td>\n",
       "      <td>11753.0</td>\n",
       "      <td>517.0</td>\n",
       "      <td>NaN</td>\n",
       "    </tr>\n",
       "    <tr>\n",
       "      <th>2020-04-12</th>\n",
       "      <td>20200412</td>\n",
       "      <td>AZ</td>\n",
       "      <td>661.0</td>\n",
       "      <td>65.0</td>\n",
       "      <td>286.0</td>\n",
       "      <td>61.0</td>\n",
       "      <td>28.0</td>\n",
       "      <td>2.0</td>\n",
       "      <td>8.0</td>\n",
       "      <td>3.0</td>\n",
       "      <td>2020-04-12</td>\n",
       "      <td>Wave 1</td>\n",
       "      <td>4</td>\n",
       "      <td>1073.0</td>\n",
       "      <td>41.0</td>\n",
       "      <td>NaN</td>\n",
       "    </tr>\n",
       "  </tbody>\n",
       "</table>\n",
       "</div>"
      ],
      "text/plain": [
       "                 Time State  Cases_White  Cases_Black  Cases_Latinx  \\\n",
       "create_time                                                           \n",
       "2020-04-12   20200412    MA       4271.0       1358.0        1885.0   \n",
       "2020-04-12   20200412    IL       5214.0       5458.0        2513.0   \n",
       "2020-04-12   20200412    CT       3030.0        993.0        1277.0   \n",
       "2020-04-12   20200412    CA       4323.0        945.0        4729.0   \n",
       "2020-04-12   20200412    AZ        661.0         65.0         286.0   \n",
       "\n",
       "             Cases_Asian  Deaths_White  Deaths_Black  Deaths_Latinx  \\\n",
       "create_time                                                           \n",
       "2020-04-12         331.0         199.0          20.0           28.0   \n",
       "2020-04-12         691.0         259.0         308.0           70.0   \n",
       "2020-04-12         124.0         343.0          65.0           45.0   \n",
       "2020-04-12        1756.0         224.0          54.0          147.0   \n",
       "2020-04-12          61.0          28.0           2.0            8.0   \n",
       "\n",
       "             Deaths_Asian create_time    Wave  Week  Total_Cases  \\\n",
       "create_time                                                        \n",
       "2020-04-12           13.0  2020-04-12  Wave 1     4       7845.0   \n",
       "2020-04-12           27.0  2020-04-12  Wave 1     4      13876.0   \n",
       "2020-04-12            6.0  2020-04-12  Wave 1     4       5424.0   \n",
       "2020-04-12           92.0  2020-04-12  Wave 1     4      11753.0   \n",
       "2020-04-12            3.0  2020-04-12  Wave 1     4       1073.0   \n",
       "\n",
       "             Total_Deaths  Total_Cases_week  \n",
       "create_time                                  \n",
       "2020-04-12          260.0               NaN  \n",
       "2020-04-12          664.0               NaN  \n",
       "2020-04-12          459.0               NaN  \n",
       "2020-04-12          517.0               NaN  \n",
       "2020-04-12           41.0               NaN  "
      ]
     },
     "execution_count": 537,
     "metadata": {},
     "output_type": "execute_result"
    }
   ],
   "source": [
    "covid_na =covid[~pd.isnull(covid.Total_Cases)] # remove the NaNs from \"Total_Cases\" column\n",
    "covid_na.head()\n"
   ]
  },
  {
   "cell_type": "code",
   "execution_count": 591,
   "id": "755f1147",
   "metadata": {},
   "outputs": [
    {
     "data": {
      "text/html": [
       "<div>\n",
       "<style scoped>\n",
       "    .dataframe tbody tr th:only-of-type {\n",
       "        vertical-align: middle;\n",
       "    }\n",
       "\n",
       "    .dataframe tbody tr th {\n",
       "        vertical-align: top;\n",
       "    }\n",
       "\n",
       "    .dataframe thead th {\n",
       "        text-align: right;\n",
       "    }\n",
       "</style>\n",
       "<table border=\"1\" class=\"dataframe\">\n",
       "  <thead>\n",
       "    <tr style=\"text-align: right;\">\n",
       "      <th></th>\n",
       "      <th>Time</th>\n",
       "      <th>State</th>\n",
       "      <th>Cases_White</th>\n",
       "      <th>Cases_Black</th>\n",
       "      <th>Cases_Latinx</th>\n",
       "      <th>Cases_Asian</th>\n",
       "      <th>Deaths_White</th>\n",
       "      <th>Deaths_Black</th>\n",
       "      <th>Deaths_Latinx</th>\n",
       "      <th>Deaths_Asian</th>\n",
       "      <th>create_time</th>\n",
       "      <th>Wave</th>\n",
       "      <th>Week</th>\n",
       "      <th>Total_Cases</th>\n",
       "      <th>Total_Deaths</th>\n",
       "    </tr>\n",
       "    <tr>\n",
       "      <th>create_time</th>\n",
       "      <th></th>\n",
       "      <th></th>\n",
       "      <th></th>\n",
       "      <th></th>\n",
       "      <th></th>\n",
       "      <th></th>\n",
       "      <th></th>\n",
       "      <th></th>\n",
       "      <th></th>\n",
       "      <th></th>\n",
       "      <th></th>\n",
       "      <th></th>\n",
       "      <th></th>\n",
       "      <th></th>\n",
       "      <th></th>\n",
       "    </tr>\n",
       "  </thead>\n",
       "  <tbody>\n",
       "    <tr>\n",
       "      <th>2020-04-12</th>\n",
       "      <td>20200412</td>\n",
       "      <td>WY</td>\n",
       "      <td>NaN</td>\n",
       "      <td>NaN</td>\n",
       "      <td>NaN</td>\n",
       "      <td>NaN</td>\n",
       "      <td>NaN</td>\n",
       "      <td>NaN</td>\n",
       "      <td>NaN</td>\n",
       "      <td>NaN</td>\n",
       "      <td>2020-04-12</td>\n",
       "      <td>Wave 1</td>\n",
       "      <td>4</td>\n",
       "      <td>NaN</td>\n",
       "      <td>NaN</td>\n",
       "    </tr>\n",
       "    <tr>\n",
       "      <th>2020-04-12</th>\n",
       "      <td>20200412</td>\n",
       "      <td>ME</td>\n",
       "      <td>NaN</td>\n",
       "      <td>NaN</td>\n",
       "      <td>NaN</td>\n",
       "      <td>NaN</td>\n",
       "      <td>NaN</td>\n",
       "      <td>NaN</td>\n",
       "      <td>NaN</td>\n",
       "      <td>NaN</td>\n",
       "      <td>2020-04-12</td>\n",
       "      <td>Wave 1</td>\n",
       "      <td>4</td>\n",
       "      <td>NaN</td>\n",
       "      <td>NaN</td>\n",
       "    </tr>\n",
       "    <tr>\n",
       "      <th>2020-04-12</th>\n",
       "      <td>20200412</td>\n",
       "      <td>MD</td>\n",
       "      <td>2300.0</td>\n",
       "      <td>3200.0</td>\n",
       "      <td>NaN</td>\n",
       "      <td>190.0</td>\n",
       "      <td>83.0</td>\n",
       "      <td>104.0</td>\n",
       "      <td>NaN</td>\n",
       "      <td>8.0</td>\n",
       "      <td>2020-04-12</td>\n",
       "      <td>Wave 1</td>\n",
       "      <td>4</td>\n",
       "      <td>NaN</td>\n",
       "      <td>NaN</td>\n",
       "    </tr>\n",
       "    <tr>\n",
       "      <th>2020-04-12</th>\n",
       "      <td>20200412</td>\n",
       "      <td>MA</td>\n",
       "      <td>4271.0</td>\n",
       "      <td>1358.0</td>\n",
       "      <td>1885.0</td>\n",
       "      <td>331.0</td>\n",
       "      <td>199.0</td>\n",
       "      <td>20.0</td>\n",
       "      <td>28.0</td>\n",
       "      <td>13.0</td>\n",
       "      <td>2020-04-12</td>\n",
       "      <td>Wave 1</td>\n",
       "      <td>4</td>\n",
       "      <td>7845.0</td>\n",
       "      <td>260.0</td>\n",
       "    </tr>\n",
       "    <tr>\n",
       "      <th>2020-04-12</th>\n",
       "      <td>20200412</td>\n",
       "      <td>LA</td>\n",
       "      <td>NaN</td>\n",
       "      <td>NaN</td>\n",
       "      <td>NaN</td>\n",
       "      <td>NaN</td>\n",
       "      <td>NaN</td>\n",
       "      <td>NaN</td>\n",
       "      <td>NaN</td>\n",
       "      <td>NaN</td>\n",
       "      <td>2020-04-12</td>\n",
       "      <td>Wave 1</td>\n",
       "      <td>4</td>\n",
       "      <td>NaN</td>\n",
       "      <td>NaN</td>\n",
       "    </tr>\n",
       "  </tbody>\n",
       "</table>\n",
       "</div>"
      ],
      "text/plain": [
       "                 Time State  Cases_White  Cases_Black  Cases_Latinx  \\\n",
       "create_time                                                           \n",
       "2020-04-12   20200412    WY          NaN          NaN           NaN   \n",
       "2020-04-12   20200412    ME          NaN          NaN           NaN   \n",
       "2020-04-12   20200412    MD       2300.0       3200.0           NaN   \n",
       "2020-04-12   20200412    MA       4271.0       1358.0        1885.0   \n",
       "2020-04-12   20200412    LA          NaN          NaN           NaN   \n",
       "\n",
       "             Cases_Asian  Deaths_White  Deaths_Black  Deaths_Latinx  \\\n",
       "create_time                                                           \n",
       "2020-04-12           NaN           NaN           NaN            NaN   \n",
       "2020-04-12           NaN           NaN           NaN            NaN   \n",
       "2020-04-12         190.0          83.0         104.0            NaN   \n",
       "2020-04-12         331.0         199.0          20.0           28.0   \n",
       "2020-04-12           NaN           NaN           NaN            NaN   \n",
       "\n",
       "             Deaths_Asian create_time    Wave  Week  Total_Cases  Total_Deaths  \n",
       "create_time                                                                     \n",
       "2020-04-12            NaN  2020-04-12  Wave 1     4          NaN           NaN  \n",
       "2020-04-12            NaN  2020-04-12  Wave 1     4          NaN           NaN  \n",
       "2020-04-12            8.0  2020-04-12  Wave 1     4          NaN           NaN  \n",
       "2020-04-12           13.0  2020-04-12  Wave 1     4       7845.0         260.0  \n",
       "2020-04-12            NaN  2020-04-12  Wave 1     4          NaN           NaN  "
      ]
     },
     "execution_count": 591,
     "metadata": {},
     "output_type": "execute_result"
    }
   ],
   "source": [
    "covid.head()\n"
   ]
  },
  {
   "cell_type": "code",
   "execution_count": 177,
   "id": "4602127e",
   "metadata": {
    "scrolled": true
   },
   "outputs": [
    {
     "data": {
      "text/html": [
       "<div>\n",
       "<style scoped>\n",
       "    .dataframe tbody tr th:only-of-type {\n",
       "        vertical-align: middle;\n",
       "    }\n",
       "\n",
       "    .dataframe tbody tr th {\n",
       "        vertical-align: top;\n",
       "    }\n",
       "\n",
       "    .dataframe thead th {\n",
       "        text-align: right;\n",
       "    }\n",
       "</style>\n",
       "<table border=\"1\" class=\"dataframe\">\n",
       "  <thead>\n",
       "    <tr style=\"text-align: right;\">\n",
       "      <th></th>\n",
       "      <th>Wave</th>\n",
       "      <th>State</th>\n",
       "      <th>A_Case_Per100K</th>\n",
       "      <th>B_Case_Per100K</th>\n",
       "      <th>L_Case_Per100K</th>\n",
       "      <th>W_Case_Per100K</th>\n",
       "      <th>A_Death_Per100K</th>\n",
       "      <th>B_Death_Per100K</th>\n",
       "      <th>L_Death_Per100K</th>\n",
       "      <th>W_Death_Per100K</th>\n",
       "      <th>Twt_Asian</th>\n",
       "      <th>Twt_Black</th>\n",
       "      <th>Twt_Latino</th>\n",
       "      <th>Twt_White</th>\n",
       "    </tr>\n",
       "  </thead>\n",
       "  <tbody>\n",
       "    <tr>\n",
       "      <th>0</th>\n",
       "      <td>Wave 1</td>\n",
       "      <td>AK</td>\n",
       "      <td>100.660385</td>\n",
       "      <td>53.446818</td>\n",
       "      <td>0.000000</td>\n",
       "      <td>57.545383</td>\n",
       "      <td>4.376538</td>\n",
       "      <td>0.000000</td>\n",
       "      <td>0.000000</td>\n",
       "      <td>1.050098</td>\n",
       "      <td>0</td>\n",
       "      <td>0</td>\n",
       "      <td>0</td>\n",
       "      <td>0</td>\n",
       "    </tr>\n",
       "    <tr>\n",
       "      <th>1</th>\n",
       "      <td>Wave 1</td>\n",
       "      <td>AL</td>\n",
       "      <td>125.975025</td>\n",
       "      <td>580.842005</td>\n",
       "      <td>0.000000</td>\n",
       "      <td>206.611430</td>\n",
       "      <td>4.394478</td>\n",
       "      <td>21.432715</td>\n",
       "      <td>0.000000</td>\n",
       "      <td>9.576218</td>\n",
       "      <td>0</td>\n",
       "      <td>2</td>\n",
       "      <td>0</td>\n",
       "      <td>0</td>\n",
       "    </tr>\n",
       "    <tr>\n",
       "      <th>2</th>\n",
       "      <td>Wave 1</td>\n",
       "      <td>AR</td>\n",
       "      <td>164.478985</td>\n",
       "      <td>516.884145</td>\n",
       "      <td>0.000000</td>\n",
       "      <td>150.531394</td>\n",
       "      <td>2.222689</td>\n",
       "      <td>10.023892</td>\n",
       "      <td>0.000000</td>\n",
       "      <td>3.303606</td>\n",
       "      <td>0</td>\n",
       "      <td>1</td>\n",
       "      <td>0</td>\n",
       "      <td>0</td>\n",
       "    </tr>\n",
       "    <tr>\n",
       "      <th>3</th>\n",
       "      <td>Wave 1</td>\n",
       "      <td>AZ</td>\n",
       "      <td>88.971082</td>\n",
       "      <td>231.038271</td>\n",
       "      <td>213.663247</td>\n",
       "      <td>91.349523</td>\n",
       "      <td>5.157744</td>\n",
       "      <td>9.140668</td>\n",
       "      <td>6.434821</td>\n",
       "      <td>8.157520</td>\n",
       "      <td>2</td>\n",
       "      <td>5</td>\n",
       "      <td>0</td>\n",
       "      <td>2</td>\n",
       "    </tr>\n",
       "    <tr>\n",
       "      <th>4</th>\n",
       "      <td>Wave 1</td>\n",
       "      <td>CA</td>\n",
       "      <td>126.560121</td>\n",
       "      <td>181.571376</td>\n",
       "      <td>279.996223</td>\n",
       "      <td>67.554292</td>\n",
       "      <td>10.375507</td>\n",
       "      <td>17.424181</td>\n",
       "      <td>10.084485</td>\n",
       "      <td>5.683890</td>\n",
       "      <td>9</td>\n",
       "      <td>77</td>\n",
       "      <td>23</td>\n",
       "      <td>38</td>\n",
       "    </tr>\n",
       "  </tbody>\n",
       "</table>\n",
       "</div>"
      ],
      "text/plain": [
       "     Wave State  A_Case_Per100K  B_Case_Per100K  L_Case_Per100K  \\\n",
       "0  Wave 1    AK      100.660385       53.446818        0.000000   \n",
       "1  Wave 1    AL      125.975025      580.842005        0.000000   \n",
       "2  Wave 1    AR      164.478985      516.884145        0.000000   \n",
       "3  Wave 1    AZ       88.971082      231.038271      213.663247   \n",
       "4  Wave 1    CA      126.560121      181.571376      279.996223   \n",
       "\n",
       "   W_Case_Per100K  A_Death_Per100K  B_Death_Per100K  L_Death_Per100K  \\\n",
       "0       57.545383         4.376538         0.000000         0.000000   \n",
       "1      206.611430         4.394478        21.432715         0.000000   \n",
       "2      150.531394         2.222689        10.023892         0.000000   \n",
       "3       91.349523         5.157744         9.140668         6.434821   \n",
       "4       67.554292        10.375507        17.424181        10.084485   \n",
       "\n",
       "   W_Death_Per100K  Twt_Asian  Twt_Black  Twt_Latino  Twt_White  \n",
       "0         1.050098          0          0           0          0  \n",
       "1         9.576218          0          2           0          0  \n",
       "2         3.303606          0          1           0          0  \n",
       "3         8.157520          2          5           0          2  \n",
       "4         5.683890          9         77          23         38  "
      ]
     },
     "execution_count": 177,
     "metadata": {},
     "output_type": "execute_result"
    }
   ],
   "source": [
    "# import the csv with both covid per 100k and tweet volume by state abbreviation\n",
    "CovTw = pd.read_csv(\"tweet_COVID_per100k_summary_by_wave_state_Final.csv\")\n",
    "CovTw.head()"
   ]
  },
  {
   "cell_type": "code",
   "execution_count": 178,
   "id": "0c00f604",
   "metadata": {},
   "outputs": [
    {
     "data": {
      "text/plain": [
       "Index(['Wave', 'State', 'A_Case_Per100K', 'B_Case_Per100K', 'L_Case_Per100K',\n",
       "       'W_Case_Per100K', 'A_Death_Per100K', 'B_Death_Per100K',\n",
       "       'L_Death_Per100K', 'W_Death_Per100K', 'Twt_Asian', 'Twt_Black',\n",
       "       'Twt_Latino', 'Twt_White'],\n",
       "      dtype='object')"
      ]
     },
     "execution_count": 178,
     "metadata": {},
     "output_type": "execute_result"
    }
   ],
   "source": [
    "CovTw.columns"
   ]
  },
  {
   "cell_type": "code",
   "execution_count": 179,
   "id": "4a1b8140",
   "metadata": {
    "scrolled": false
   },
   "outputs": [
    {
     "data": {
      "text/plain": [
       "Twt_Asian      18\n",
       "Twt_Black     227\n",
       "Twt_Latino     56\n",
       "Twt_White      84\n",
       "dtype: int64"
      ]
     },
     "execution_count": 179,
     "metadata": {},
     "output_type": "execute_result"
    }
   ],
   "source": [
    "CovTw[['Twt_Asian', 'Twt_Black','Twt_Latino', 'Twt_White' ]].max()"
   ]
  },
  {
   "cell_type": "code",
   "execution_count": 180,
   "id": "65b79839",
   "metadata": {},
   "outputs": [
    {
     "data": {
      "application/vnd.plotly.v1+json": {
       "config": {
        "plotlyServerURL": "https://plot.ly"
       },
       "data": [
        {
         "colorscale": [
          [
           0,
           "#ADC5CF"
          ],
          [
           0.16666666666666666,
           "#92E0D0"
          ],
          [
           0.3333333333333333,
           "#61D2D1"
          ],
          [
           0.5,
           "#2D83A1"
          ],
          [
           0.6666666666666666,
           "#3596B5"
          ],
          [
           0.8333333333333334,
           "#1F5A79"
          ],
          [
           1,
           "#12355C"
          ]
         ],
         "geo": "geo",
         "locationmode": "USA-states",
         "locations": [
          "AK",
          "AL",
          "AR",
          "AZ",
          "CA",
          "CO",
          "CT",
          "DC",
          "DE",
          "FL",
          "GA",
          "HI",
          "IA",
          "ID",
          "IL",
          "IN",
          "KS",
          "KY",
          "LA",
          "MA",
          "MD",
          "ME",
          "MI",
          "MN",
          "MO",
          "MS",
          "MT",
          "NC",
          "ND",
          "NE",
          "NH",
          "NJ",
          "NM",
          "NV",
          "NY",
          "OH",
          "OK",
          "OR",
          "PA",
          "RI",
          "SC",
          "SD",
          "TN",
          "TX",
          "UT",
          "VA",
          "VT",
          "WA",
          "WI",
          "WV",
          "WY"
         ],
         "showscale": true,
         "type": "choropleth",
         "z": [
          0,
          0,
          0,
          2,
          9,
          1,
          1,
          1,
          0,
          2,
          2,
          2,
          1,
          0,
          0,
          2,
          0,
          0,
          1,
          0,
          3,
          0,
          1,
          1,
          0,
          0,
          0,
          1,
          0,
          0,
          0,
          2,
          0,
          0,
          4,
          2,
          0,
          1,
          0,
          0,
          1,
          0,
          1,
          2,
          0,
          0,
          0,
          0,
          1,
          0,
          0
         ],
         "zmax": 150,
         "zmin": 0
        },
        {
         "colorscale": [
          [
           0,
           "#ADC5CF"
          ],
          [
           0.16666666666666666,
           "#92E0D0"
          ],
          [
           0.3333333333333333,
           "#61D2D1"
          ],
          [
           0.5,
           "#2D83A1"
          ],
          [
           0.6666666666666666,
           "#3596B5"
          ],
          [
           0.8333333333333334,
           "#1F5A79"
          ],
          [
           1,
           "#12355C"
          ]
         ],
         "geo": "geo4",
         "locationmode": "USA-states",
         "locations": [
          "AK",
          "AL",
          "AR",
          "AZ",
          "CA",
          "CO",
          "CT",
          "DC",
          "DE",
          "FL",
          "GA",
          "HI",
          "IA",
          "ID",
          "IL",
          "IN",
          "KS",
          "KY",
          "LA",
          "MA",
          "MD",
          "ME",
          "MI",
          "MN",
          "MO",
          "MS",
          "MT",
          "NC",
          "ND",
          "NE",
          "NH",
          "NJ",
          "NM",
          "NV",
          "NY",
          "OH",
          "OK",
          "OR",
          "PA",
          "RI",
          "SC",
          "SD",
          "TN",
          "TX",
          "UT",
          "VA",
          "VT",
          "WA",
          "WI",
          "WV",
          "WY"
         ],
         "showscale": true,
         "type": "choropleth",
         "z": [
          0,
          2,
          1,
          5,
          77,
          1,
          2,
          20,
          0,
          34,
          96,
          0,
          0,
          0,
          19,
          3,
          0,
          1,
          7,
          3,
          11,
          0,
          4,
          10,
          3,
          0,
          0,
          7,
          0,
          2,
          0,
          10,
          2,
          4,
          74,
          5,
          0,
          8,
          7,
          4,
          2,
          0,
          5,
          22,
          1,
          8,
          0,
          5,
          2,
          1,
          0
         ],
         "zmax": 150,
         "zmin": 0
        },
        {
         "colorscale": [
          [
           0,
           "#ADC5CF"
          ],
          [
           0.16666666666666666,
           "#92E0D0"
          ],
          [
           0.3333333333333333,
           "#61D2D1"
          ],
          [
           0.5,
           "#2D83A1"
          ],
          [
           0.6666666666666666,
           "#3596B5"
          ],
          [
           0.8333333333333334,
           "#1F5A79"
          ],
          [
           1,
           "#12355C"
          ]
         ],
         "geo": "geo7",
         "locationmode": "USA-states",
         "locations": [
          "AK",
          "AL",
          "AR",
          "AZ",
          "CA",
          "CO",
          "CT",
          "DC",
          "DE",
          "FL",
          "GA",
          "HI",
          "IA",
          "ID",
          "IL",
          "IN",
          "KS",
          "KY",
          "LA",
          "MA",
          "MD",
          "ME",
          "MI",
          "MN",
          "MO",
          "MS",
          "MT",
          "NC",
          "ND",
          "NE",
          "NH",
          "NJ",
          "NM",
          "NV",
          "NY",
          "OH",
          "OK",
          "OR",
          "PA",
          "RI",
          "SC",
          "SD",
          "TN",
          "TX",
          "UT",
          "VA",
          "VT",
          "WA",
          "WI",
          "WV",
          "WY"
         ],
         "showscale": true,
         "type": "choropleth",
         "z": [
          0,
          0,
          0,
          0,
          23,
          1,
          2,
          7,
          0,
          9,
          2,
          0,
          0,
          0,
          4,
          1,
          0,
          0,
          5,
          1,
          0,
          0,
          1,
          0,
          0,
          0,
          1,
          0,
          0,
          1,
          0,
          3,
          0,
          0,
          19,
          2,
          0,
          0,
          0,
          0,
          0,
          0,
          3,
          12,
          0,
          1,
          0,
          0,
          1,
          0,
          0
         ],
         "zmax": 150,
         "zmin": 0
        },
        {
         "colorscale": [
          [
           0,
           "#ADC5CF"
          ],
          [
           0.16666666666666666,
           "#92E0D0"
          ],
          [
           0.3333333333333333,
           "#61D2D1"
          ],
          [
           0.5,
           "#2D83A1"
          ],
          [
           0.6666666666666666,
           "#3596B5"
          ],
          [
           0.8333333333333334,
           "#1F5A79"
          ],
          [
           1,
           "#12355C"
          ]
         ],
         "geo": "geo10",
         "locationmode": "USA-states",
         "locations": [
          "AK",
          "AL",
          "AR",
          "AZ",
          "CA",
          "CO",
          "CT",
          "DC",
          "DE",
          "FL",
          "GA",
          "HI",
          "IA",
          "ID",
          "IL",
          "IN",
          "KS",
          "KY",
          "LA",
          "MA",
          "MD",
          "ME",
          "MI",
          "MN",
          "MO",
          "MS",
          "MT",
          "NC",
          "ND",
          "NE",
          "NH",
          "NJ",
          "NM",
          "NV",
          "NY",
          "OH",
          "OK",
          "OR",
          "PA",
          "RI",
          "SC",
          "SD",
          "TN",
          "TX",
          "UT",
          "VA",
          "VT",
          "WA",
          "WI",
          "WV",
          "WY"
         ],
         "showscale": true,
         "type": "choropleth",
         "z": [
          0,
          0,
          0,
          2,
          38,
          4,
          1,
          41,
          0,
          11,
          6,
          4,
          0,
          0,
          8,
          5,
          0,
          1,
          4,
          7,
          4,
          0,
          3,
          4,
          2,
          1,
          0,
          5,
          0,
          1,
          0,
          11,
          2,
          4,
          55,
          4,
          2,
          5,
          0,
          1,
          0,
          0,
          2,
          19,
          3,
          8,
          2,
          8,
          0,
          0,
          0
         ],
         "zmax": 150,
         "zmin": 0
        },
        {
         "colorscale": [
          [
           0,
           "#ADC5CF"
          ],
          [
           0.16666666666666666,
           "#92E0D0"
          ],
          [
           0.3333333333333333,
           "#61D2D1"
          ],
          [
           0.5,
           "#2D83A1"
          ],
          [
           0.6666666666666666,
           "#3596B5"
          ],
          [
           0.8333333333333334,
           "#1F5A79"
          ],
          [
           1,
           "#12355C"
          ]
         ],
         "geo": "geo2",
         "locationmode": "USA-states",
         "locations": [
          "AK",
          "AL",
          "AR",
          "AZ",
          "CA",
          "CO",
          "CT",
          "DC",
          "DE",
          "FL",
          "GA",
          "HI",
          "IA",
          "ID",
          "IL",
          "IN",
          "KS",
          "KY",
          "LA",
          "MA",
          "MD",
          "ME",
          "MI",
          "MN",
          "MO",
          "MS",
          "MT",
          "NC",
          "ND",
          "NE",
          "NH",
          "NJ",
          "NM",
          "NV",
          "NY",
          "OH",
          "OK",
          "OR",
          "PA",
          "RI",
          "SC",
          "SD",
          "TN",
          "TX",
          "UT",
          "VA",
          "VT",
          "WA",
          "WI",
          "WV",
          "WY"
         ],
         "showscale": true,
         "type": "choropleth",
         "z": [
          0,
          0,
          0,
          1,
          15,
          0,
          0,
          4,
          0,
          0,
          0,
          0,
          0,
          0,
          0,
          0,
          0,
          0,
          0,
          0,
          3,
          1,
          1,
          0,
          1,
          0,
          0,
          1,
          0,
          0,
          0,
          0,
          0,
          0,
          18,
          2,
          0,
          1,
          1,
          0,
          1,
          0,
          0,
          5,
          0,
          1,
          0,
          1,
          0,
          0,
          0
         ],
         "zmax": 150,
         "zmin": 0
        },
        {
         "colorscale": [
          [
           0,
           "#ADC5CF"
          ],
          [
           0.16666666666666666,
           "#92E0D0"
          ],
          [
           0.3333333333333333,
           "#61D2D1"
          ],
          [
           0.5,
           "#2D83A1"
          ],
          [
           0.6666666666666666,
           "#3596B5"
          ],
          [
           0.8333333333333334,
           "#1F5A79"
          ],
          [
           1,
           "#12355C"
          ]
         ],
         "geo": "geo5",
         "locationmode": "USA-states",
         "locations": [
          "AK",
          "AL",
          "AR",
          "AZ",
          "CA",
          "CO",
          "CT",
          "DC",
          "DE",
          "FL",
          "GA",
          "HI",
          "IA",
          "ID",
          "IL",
          "IN",
          "KS",
          "KY",
          "LA",
          "MA",
          "MD",
          "ME",
          "MI",
          "MN",
          "MO",
          "MS",
          "MT",
          "NC",
          "ND",
          "NE",
          "NH",
          "NJ",
          "NM",
          "NV",
          "NY",
          "OH",
          "OK",
          "OR",
          "PA",
          "RI",
          "SC",
          "SD",
          "TN",
          "TX",
          "UT",
          "VA",
          "VT",
          "WA",
          "WI",
          "WV",
          "WY"
         ],
         "showscale": true,
         "type": "choropleth",
         "z": [
          0,
          13,
          0,
          2,
          226,
          13,
          4,
          52,
          0,
          74,
          80,
          1,
          4,
          1,
          36,
          15,
          3,
          3,
          22,
          25,
          37,
          1,
          18,
          7,
          6,
          10,
          1,
          24,
          0,
          6,
          1,
          23,
          1,
          12,
          227,
          17,
          4,
          14,
          39,
          3,
          7,
          3,
          8,
          72,
          2,
          14,
          2,
          19,
          6,
          1,
          0
         ],
         "zmax": 150,
         "zmin": 0
        },
        {
         "colorscale": [
          [
           0,
           "#ADC5CF"
          ],
          [
           0.16666666666666666,
           "#92E0D0"
          ],
          [
           0.3333333333333333,
           "#61D2D1"
          ],
          [
           0.5,
           "#2D83A1"
          ],
          [
           0.6666666666666666,
           "#3596B5"
          ],
          [
           0.8333333333333334,
           "#1F5A79"
          ],
          [
           1,
           "#12355C"
          ]
         ],
         "geo": "geo8",
         "locationmode": "USA-states",
         "locations": [
          "AK",
          "AL",
          "AR",
          "AZ",
          "CA",
          "CO",
          "CT",
          "DC",
          "DE",
          "FL",
          "GA",
          "HI",
          "IA",
          "ID",
          "IL",
          "IN",
          "KS",
          "KY",
          "LA",
          "MA",
          "MD",
          "ME",
          "MI",
          "MN",
          "MO",
          "MS",
          "MT",
          "NC",
          "ND",
          "NE",
          "NH",
          "NJ",
          "NM",
          "NV",
          "NY",
          "OH",
          "OK",
          "OR",
          "PA",
          "RI",
          "SC",
          "SD",
          "TN",
          "TX",
          "UT",
          "VA",
          "VT",
          "WA",
          "WI",
          "WV",
          "WY"
         ],
         "showscale": true,
         "type": "choropleth",
         "z": [
          0,
          1,
          0,
          3,
          56,
          2,
          0,
          6,
          0,
          12,
          6,
          0,
          0,
          0,
          11,
          5,
          0,
          0,
          2,
          1,
          7,
          0,
          1,
          0,
          1,
          0,
          13,
          8,
          0,
          0,
          0,
          6,
          1,
          4,
          29,
          0,
          0,
          2,
          3,
          1,
          1,
          0,
          2,
          17,
          1,
          1,
          0,
          1,
          1,
          0,
          0
         ],
         "zmax": 150,
         "zmin": 0
        },
        {
         "colorscale": [
          [
           0,
           "#ADC5CF"
          ],
          [
           0.16666666666666666,
           "#92E0D0"
          ],
          [
           0.3333333333333333,
           "#61D2D1"
          ],
          [
           0.5,
           "#2D83A1"
          ],
          [
           0.6666666666666666,
           "#3596B5"
          ],
          [
           0.8333333333333334,
           "#1F5A79"
          ],
          [
           1,
           "#12355C"
          ]
         ],
         "geo": "geo11",
         "locationmode": "USA-states",
         "locations": [
          "AK",
          "AL",
          "AR",
          "AZ",
          "CA",
          "CO",
          "CT",
          "DC",
          "DE",
          "FL",
          "GA",
          "HI",
          "IA",
          "ID",
          "IL",
          "IN",
          "KS",
          "KY",
          "LA",
          "MA",
          "MD",
          "ME",
          "MI",
          "MN",
          "MO",
          "MS",
          "MT",
          "NC",
          "ND",
          "NE",
          "NH",
          "NJ",
          "NM",
          "NV",
          "NY",
          "OH",
          "OK",
          "OR",
          "PA",
          "RI",
          "SC",
          "SD",
          "TN",
          "TX",
          "UT",
          "VA",
          "VT",
          "WA",
          "WI",
          "WV",
          "WY"
         ],
         "showscale": true,
         "type": "choropleth",
         "z": [
          0,
          4,
          2,
          4,
          71,
          1,
          4,
          62,
          0,
          29,
          9,
          2,
          1,
          2,
          14,
          10,
          0,
          1,
          5,
          9,
          13,
          0,
          6,
          1,
          1,
          1,
          1,
          6,
          0,
          1,
          0,
          3,
          1,
          3,
          84,
          11,
          3,
          5,
          17,
          1,
          1,
          1,
          4,
          40,
          5,
          6,
          1,
          11,
          1,
          6,
          0
         ],
         "zmax": 150,
         "zmin": 0
        },
        {
         "colorscale": [
          [
           0,
           "#ADC5CF"
          ],
          [
           0.16666666666666666,
           "#92E0D0"
          ],
          [
           0.3333333333333333,
           "#61D2D1"
          ],
          [
           0.5,
           "#2D83A1"
          ],
          [
           0.6666666666666666,
           "#3596B5"
          ],
          [
           0.8333333333333334,
           "#1F5A79"
          ],
          [
           1,
           "#12355C"
          ]
         ],
         "geo": "geo3",
         "locationmode": "USA-states",
         "locations": [
          "AK",
          "AL",
          "AR",
          "AZ",
          "CA",
          "CO",
          "CT",
          "DC",
          "DE",
          "FL",
          "GA",
          "HI",
          "IA",
          "ID",
          "IL",
          "IN",
          "KS",
          "KY",
          "LA",
          "MA",
          "MD",
          "ME",
          "MI",
          "MN",
          "MO",
          "MS",
          "MT",
          "NC",
          "ND",
          "NE",
          "NH",
          "NJ",
          "NM",
          "NV",
          "NY",
          "OH",
          "OK",
          "OR",
          "PA",
          "RI",
          "SC",
          "SD",
          "TN",
          "TX",
          "UT",
          "VA",
          "VT",
          "WA",
          "WI",
          "WV",
          "WY"
         ],
         "showscale": true,
         "type": "choropleth",
         "z": [
          0,
          0,
          0,
          0,
          6,
          0,
          0,
          1,
          0,
          1,
          0,
          0,
          0,
          0,
          3,
          0,
          0,
          1,
          1,
          1,
          0,
          0,
          0,
          0,
          0,
          0,
          0,
          0,
          0,
          0,
          0,
          0,
          0,
          1,
          8,
          1,
          0,
          1,
          1,
          0,
          0,
          0,
          0,
          3,
          0,
          0,
          0,
          0,
          0,
          0,
          0
         ],
         "zmax": 150,
         "zmin": 0
        },
        {
         "colorscale": [
          [
           0,
           "#ADC5CF"
          ],
          [
           0.16666666666666666,
           "#92E0D0"
          ],
          [
           0.3333333333333333,
           "#61D2D1"
          ],
          [
           0.5,
           "#2D83A1"
          ],
          [
           0.6666666666666666,
           "#3596B5"
          ],
          [
           0.8333333333333334,
           "#1F5A79"
          ],
          [
           1,
           "#12355C"
          ]
         ],
         "geo": "geo6",
         "locationmode": "USA-states",
         "locations": [
          "AK",
          "AL",
          "AR",
          "AZ",
          "CA",
          "CO",
          "CT",
          "DC",
          "DE",
          "FL",
          "GA",
          "HI",
          "IA",
          "ID",
          "IL",
          "IN",
          "KS",
          "KY",
          "LA",
          "MA",
          "MD",
          "ME",
          "MI",
          "MN",
          "MO",
          "MS",
          "MT",
          "NC",
          "ND",
          "NE",
          "NH",
          "NJ",
          "NM",
          "NV",
          "NY",
          "OH",
          "OK",
          "OR",
          "PA",
          "RI",
          "SC",
          "SD",
          "TN",
          "TX",
          "UT",
          "VA",
          "VT",
          "WA",
          "WI",
          "WV",
          "WY"
         ],
         "showscale": true,
         "type": "choropleth",
         "z": [
          0,
          6,
          0,
          3,
          80,
          1,
          3,
          14,
          0,
          32,
          27,
          2,
          0,
          0,
          13,
          1,
          0,
          1,
          17,
          4,
          12,
          1,
          14,
          2,
          11,
          7,
          1,
          6,
          0,
          2,
          1,
          5,
          0,
          5,
          85,
          8,
          0,
          9,
          18,
          2,
          4,
          1,
          5,
          26,
          2,
          7,
          3,
          7,
          1,
          0,
          0
         ],
         "zmax": 150,
         "zmin": 0
        },
        {
         "colorscale": [
          [
           0,
           "#ADC5CF"
          ],
          [
           0.16666666666666666,
           "#92E0D0"
          ],
          [
           0.3333333333333333,
           "#61D2D1"
          ],
          [
           0.5,
           "#2D83A1"
          ],
          [
           0.6666666666666666,
           "#3596B5"
          ],
          [
           0.8333333333333334,
           "#1F5A79"
          ],
          [
           1,
           "#12355C"
          ]
         ],
         "geo": "geo9",
         "locationmode": "USA-states",
         "locations": [
          "AK",
          "AL",
          "AR",
          "AZ",
          "CA",
          "CO",
          "CT",
          "DC",
          "DE",
          "FL",
          "GA",
          "HI",
          "IA",
          "ID",
          "IL",
          "IN",
          "KS",
          "KY",
          "LA",
          "MA",
          "MD",
          "ME",
          "MI",
          "MN",
          "MO",
          "MS",
          "MT",
          "NC",
          "ND",
          "NE",
          "NH",
          "NJ",
          "NM",
          "NV",
          "NY",
          "OH",
          "OK",
          "OR",
          "PA",
          "RI",
          "SC",
          "SD",
          "TN",
          "TX",
          "UT",
          "VA",
          "VT",
          "WA",
          "WI",
          "WV",
          "WY"
         ],
         "showscale": true,
         "type": "choropleth",
         "z": [
          0,
          1,
          0,
          0,
          46,
          0,
          0,
          0,
          0,
          4,
          7,
          1,
          0,
          0,
          5,
          2,
          0,
          0,
          0,
          2,
          2,
          0,
          1,
          1,
          0,
          0,
          20,
          2,
          0,
          0,
          0,
          4,
          0,
          2,
          18,
          0,
          0,
          4,
          1,
          1,
          0,
          0,
          0,
          9,
          4,
          1,
          0,
          2,
          2,
          0,
          0
         ],
         "zmax": 150,
         "zmin": 0
        },
        {
         "colorscale": [
          [
           0,
           "#ADC5CF"
          ],
          [
           0.16666666666666666,
           "#92E0D0"
          ],
          [
           0.3333333333333333,
           "#61D2D1"
          ],
          [
           0.5,
           "#2D83A1"
          ],
          [
           0.6666666666666666,
           "#3596B5"
          ],
          [
           0.8333333333333334,
           "#1F5A79"
          ],
          [
           1,
           "#12355C"
          ]
         ],
         "geo": "geo12",
         "locationmode": "USA-states",
         "locations": [
          "AK",
          "AL",
          "AR",
          "AZ",
          "CA",
          "CO",
          "CT",
          "DC",
          "DE",
          "FL",
          "GA",
          "HI",
          "IA",
          "ID",
          "IL",
          "IN",
          "KS",
          "KY",
          "LA",
          "MA",
          "MD",
          "ME",
          "MI",
          "MN",
          "MO",
          "MS",
          "MT",
          "NC",
          "ND",
          "NE",
          "NH",
          "NJ",
          "NM",
          "NV",
          "NY",
          "OH",
          "OK",
          "OR",
          "PA",
          "RI",
          "SC",
          "SD",
          "TN",
          "TX",
          "UT",
          "VA",
          "VT",
          "WA",
          "WI",
          "WV",
          "WY"
         ],
         "showscale": true,
         "type": "choropleth",
         "z": [
          0,
          3,
          0,
          3,
          47,
          3,
          3,
          58,
          0,
          18,
          10,
          2,
          0,
          1,
          11,
          3,
          0,
          0,
          14,
          3,
          5,
          0,
          10,
          3,
          3,
          1,
          3,
          6,
          0,
          1,
          0,
          5,
          1,
          3,
          41,
          5,
          0,
          3,
          5,
          1,
          0,
          0,
          4,
          15,
          0,
          3,
          0,
          0,
          2,
          1,
          0
         ],
         "zmax": 150,
         "zmin": 0
        }
       ],
       "layout": {
        "annotations": [
         {
          "font": {
           "size": 38
          },
          "showarrow": false,
          "text": "Wave 1",
          "x": 0.16666666666666666,
          "xanchor": "center",
          "xref": "paper",
          "y": 1,
          "yanchor": "bottom",
          "yref": "paper"
         },
         {
          "font": {
           "size": 38
          },
          "showarrow": false,
          "text": "Wave 2",
          "x": 0.5,
          "xanchor": "center",
          "xref": "paper",
          "y": 1,
          "yanchor": "bottom",
          "yref": "paper"
         },
         {
          "font": {
           "size": 38
          },
          "showarrow": false,
          "text": "Wave 3",
          "x": 0.8333333333333333,
          "xanchor": "center",
          "xref": "paper",
          "y": 1,
          "yanchor": "bottom",
          "yref": "paper"
         }
        ],
        "coloraxis": {
         "showscale": true
        },
        "font": {
         "family": "Calibri",
         "size": 42
        },
        "geo": {
         "domain": {
          "x": [
           0,
           0.3333333333333333
          ],
          "y": [
           0.7575000000000001,
           1
          ]
         },
         "scope": "usa"
        },
        "geo10": {
         "domain": {
          "x": [
           0,
           0.3333333333333333
          ],
          "y": [
           0,
           0.2425
          ]
         },
         "scope": "usa"
        },
        "geo11": {
         "domain": {
          "x": [
           0.3333333333333333,
           0.6666666666666666
          ],
          "y": [
           0,
           0.2425
          ]
         },
         "scope": "usa"
        },
        "geo12": {
         "domain": {
          "x": [
           0.6666666666666666,
           1
          ],
          "y": [
           0,
           0.2425
          ]
         },
         "scope": "usa"
        },
        "geo2": {
         "domain": {
          "x": [
           0.3333333333333333,
           0.6666666666666666
          ],
          "y": [
           0.7575000000000001,
           1
          ]
         },
         "scope": "usa"
        },
        "geo3": {
         "domain": {
          "x": [
           0.6666666666666666,
           1
          ],
          "y": [
           0.7575000000000001,
           1
          ]
         },
         "scope": "usa"
        },
        "geo4": {
         "domain": {
          "x": [
           0,
           0.3333333333333333
          ],
          "y": [
           0.505,
           0.7475
          ]
         },
         "scope": "usa"
        },
        "geo5": {
         "domain": {
          "x": [
           0.3333333333333333,
           0.6666666666666666
          ],
          "y": [
           0.505,
           0.7475
          ]
         },
         "scope": "usa"
        },
        "geo6": {
         "domain": {
          "x": [
           0.6666666666666666,
           1
          ],
          "y": [
           0.505,
           0.7475
          ]
         },
         "scope": "usa"
        },
        "geo7": {
         "domain": {
          "x": [
           0,
           0.3333333333333333
          ],
          "y": [
           0.2525,
           0.495
          ]
         },
         "scope": "usa"
        },
        "geo8": {
         "domain": {
          "x": [
           0.3333333333333333,
           0.6666666666666666
          ],
          "y": [
           0.2525,
           0.495
          ]
         },
         "scope": "usa"
        },
        "geo9": {
         "domain": {
          "x": [
           0.6666666666666666,
           1
          ],
          "y": [
           0.2525,
           0.495
          ]
         },
         "scope": "usa"
        },
        "margin": {
         "b": 15,
         "l": 1,
         "r": 0,
         "t": 70
        },
        "template": {
         "data": {
          "bar": [
           {
            "error_x": {
             "color": "#2a3f5f"
            },
            "error_y": {
             "color": "#2a3f5f"
            },
            "marker": {
             "line": {
              "color": "#E5ECF6",
              "width": 0.5
             },
             "pattern": {
              "fillmode": "overlay",
              "size": 10,
              "solidity": 0.2
             }
            },
            "type": "bar"
           }
          ],
          "barpolar": [
           {
            "marker": {
             "line": {
              "color": "#E5ECF6",
              "width": 0.5
             },
             "pattern": {
              "fillmode": "overlay",
              "size": 10,
              "solidity": 0.2
             }
            },
            "type": "barpolar"
           }
          ],
          "carpet": [
           {
            "aaxis": {
             "endlinecolor": "#2a3f5f",
             "gridcolor": "white",
             "linecolor": "white",
             "minorgridcolor": "white",
             "startlinecolor": "#2a3f5f"
            },
            "baxis": {
             "endlinecolor": "#2a3f5f",
             "gridcolor": "white",
             "linecolor": "white",
             "minorgridcolor": "white",
             "startlinecolor": "#2a3f5f"
            },
            "type": "carpet"
           }
          ],
          "choropleth": [
           {
            "colorbar": {
             "outlinewidth": 0,
             "ticks": ""
            },
            "type": "choropleth"
           }
          ],
          "contour": [
           {
            "colorbar": {
             "outlinewidth": 0,
             "ticks": ""
            },
            "colorscale": [
             [
              0,
              "#0d0887"
             ],
             [
              0.1111111111111111,
              "#46039f"
             ],
             [
              0.2222222222222222,
              "#7201a8"
             ],
             [
              0.3333333333333333,
              "#9c179e"
             ],
             [
              0.4444444444444444,
              "#bd3786"
             ],
             [
              0.5555555555555556,
              "#d8576b"
             ],
             [
              0.6666666666666666,
              "#ed7953"
             ],
             [
              0.7777777777777778,
              "#fb9f3a"
             ],
             [
              0.8888888888888888,
              "#fdca26"
             ],
             [
              1,
              "#f0f921"
             ]
            ],
            "type": "contour"
           }
          ],
          "contourcarpet": [
           {
            "colorbar": {
             "outlinewidth": 0,
             "ticks": ""
            },
            "type": "contourcarpet"
           }
          ],
          "heatmap": [
           {
            "colorbar": {
             "outlinewidth": 0,
             "ticks": ""
            },
            "colorscale": [
             [
              0,
              "#0d0887"
             ],
             [
              0.1111111111111111,
              "#46039f"
             ],
             [
              0.2222222222222222,
              "#7201a8"
             ],
             [
              0.3333333333333333,
              "#9c179e"
             ],
             [
              0.4444444444444444,
              "#bd3786"
             ],
             [
              0.5555555555555556,
              "#d8576b"
             ],
             [
              0.6666666666666666,
              "#ed7953"
             ],
             [
              0.7777777777777778,
              "#fb9f3a"
             ],
             [
              0.8888888888888888,
              "#fdca26"
             ],
             [
              1,
              "#f0f921"
             ]
            ],
            "type": "heatmap"
           }
          ],
          "heatmapgl": [
           {
            "colorbar": {
             "outlinewidth": 0,
             "ticks": ""
            },
            "colorscale": [
             [
              0,
              "#0d0887"
             ],
             [
              0.1111111111111111,
              "#46039f"
             ],
             [
              0.2222222222222222,
              "#7201a8"
             ],
             [
              0.3333333333333333,
              "#9c179e"
             ],
             [
              0.4444444444444444,
              "#bd3786"
             ],
             [
              0.5555555555555556,
              "#d8576b"
             ],
             [
              0.6666666666666666,
              "#ed7953"
             ],
             [
              0.7777777777777778,
              "#fb9f3a"
             ],
             [
              0.8888888888888888,
              "#fdca26"
             ],
             [
              1,
              "#f0f921"
             ]
            ],
            "type": "heatmapgl"
           }
          ],
          "histogram": [
           {
            "marker": {
             "pattern": {
              "fillmode": "overlay",
              "size": 10,
              "solidity": 0.2
             }
            },
            "type": "histogram"
           }
          ],
          "histogram2d": [
           {
            "colorbar": {
             "outlinewidth": 0,
             "ticks": ""
            },
            "colorscale": [
             [
              0,
              "#0d0887"
             ],
             [
              0.1111111111111111,
              "#46039f"
             ],
             [
              0.2222222222222222,
              "#7201a8"
             ],
             [
              0.3333333333333333,
              "#9c179e"
             ],
             [
              0.4444444444444444,
              "#bd3786"
             ],
             [
              0.5555555555555556,
              "#d8576b"
             ],
             [
              0.6666666666666666,
              "#ed7953"
             ],
             [
              0.7777777777777778,
              "#fb9f3a"
             ],
             [
              0.8888888888888888,
              "#fdca26"
             ],
             [
              1,
              "#f0f921"
             ]
            ],
            "type": "histogram2d"
           }
          ],
          "histogram2dcontour": [
           {
            "colorbar": {
             "outlinewidth": 0,
             "ticks": ""
            },
            "colorscale": [
             [
              0,
              "#0d0887"
             ],
             [
              0.1111111111111111,
              "#46039f"
             ],
             [
              0.2222222222222222,
              "#7201a8"
             ],
             [
              0.3333333333333333,
              "#9c179e"
             ],
             [
              0.4444444444444444,
              "#bd3786"
             ],
             [
              0.5555555555555556,
              "#d8576b"
             ],
             [
              0.6666666666666666,
              "#ed7953"
             ],
             [
              0.7777777777777778,
              "#fb9f3a"
             ],
             [
              0.8888888888888888,
              "#fdca26"
             ],
             [
              1,
              "#f0f921"
             ]
            ],
            "type": "histogram2dcontour"
           }
          ],
          "mesh3d": [
           {
            "colorbar": {
             "outlinewidth": 0,
             "ticks": ""
            },
            "type": "mesh3d"
           }
          ],
          "parcoords": [
           {
            "line": {
             "colorbar": {
              "outlinewidth": 0,
              "ticks": ""
             }
            },
            "type": "parcoords"
           }
          ],
          "pie": [
           {
            "automargin": true,
            "type": "pie"
           }
          ],
          "scatter": [
           {
            "marker": {
             "colorbar": {
              "outlinewidth": 0,
              "ticks": ""
             }
            },
            "type": "scatter"
           }
          ],
          "scatter3d": [
           {
            "line": {
             "colorbar": {
              "outlinewidth": 0,
              "ticks": ""
             }
            },
            "marker": {
             "colorbar": {
              "outlinewidth": 0,
              "ticks": ""
             }
            },
            "type": "scatter3d"
           }
          ],
          "scattercarpet": [
           {
            "marker": {
             "colorbar": {
              "outlinewidth": 0,
              "ticks": ""
             }
            },
            "type": "scattercarpet"
           }
          ],
          "scattergeo": [
           {
            "marker": {
             "colorbar": {
              "outlinewidth": 0,
              "ticks": ""
             }
            },
            "type": "scattergeo"
           }
          ],
          "scattergl": [
           {
            "marker": {
             "colorbar": {
              "outlinewidth": 0,
              "ticks": ""
             }
            },
            "type": "scattergl"
           }
          ],
          "scattermapbox": [
           {
            "marker": {
             "colorbar": {
              "outlinewidth": 0,
              "ticks": ""
             }
            },
            "type": "scattermapbox"
           }
          ],
          "scatterpolar": [
           {
            "marker": {
             "colorbar": {
              "outlinewidth": 0,
              "ticks": ""
             }
            },
            "type": "scatterpolar"
           }
          ],
          "scatterpolargl": [
           {
            "marker": {
             "colorbar": {
              "outlinewidth": 0,
              "ticks": ""
             }
            },
            "type": "scatterpolargl"
           }
          ],
          "scatterternary": [
           {
            "marker": {
             "colorbar": {
              "outlinewidth": 0,
              "ticks": ""
             }
            },
            "type": "scatterternary"
           }
          ],
          "surface": [
           {
            "colorbar": {
             "outlinewidth": 0,
             "ticks": ""
            },
            "colorscale": [
             [
              0,
              "#0d0887"
             ],
             [
              0.1111111111111111,
              "#46039f"
             ],
             [
              0.2222222222222222,
              "#7201a8"
             ],
             [
              0.3333333333333333,
              "#9c179e"
             ],
             [
              0.4444444444444444,
              "#bd3786"
             ],
             [
              0.5555555555555556,
              "#d8576b"
             ],
             [
              0.6666666666666666,
              "#ed7953"
             ],
             [
              0.7777777777777778,
              "#fb9f3a"
             ],
             [
              0.8888888888888888,
              "#fdca26"
             ],
             [
              1,
              "#f0f921"
             ]
            ],
            "type": "surface"
           }
          ],
          "table": [
           {
            "cells": {
             "fill": {
              "color": "#EBF0F8"
             },
             "line": {
              "color": "white"
             }
            },
            "header": {
             "fill": {
              "color": "#C8D4E3"
             },
             "line": {
              "color": "white"
             }
            },
            "type": "table"
           }
          ]
         },
         "layout": {
          "annotationdefaults": {
           "arrowcolor": "#2a3f5f",
           "arrowhead": 0,
           "arrowwidth": 1
          },
          "autotypenumbers": "strict",
          "coloraxis": {
           "colorbar": {
            "outlinewidth": 0,
            "ticks": ""
           }
          },
          "colorscale": {
           "diverging": [
            [
             0,
             "#8e0152"
            ],
            [
             0.1,
             "#c51b7d"
            ],
            [
             0.2,
             "#de77ae"
            ],
            [
             0.3,
             "#f1b6da"
            ],
            [
             0.4,
             "#fde0ef"
            ],
            [
             0.5,
             "#f7f7f7"
            ],
            [
             0.6,
             "#e6f5d0"
            ],
            [
             0.7,
             "#b8e186"
            ],
            [
             0.8,
             "#7fbc41"
            ],
            [
             0.9,
             "#4d9221"
            ],
            [
             1,
             "#276419"
            ]
           ],
           "sequential": [
            [
             0,
             "#0d0887"
            ],
            [
             0.1111111111111111,
             "#46039f"
            ],
            [
             0.2222222222222222,
             "#7201a8"
            ],
            [
             0.3333333333333333,
             "#9c179e"
            ],
            [
             0.4444444444444444,
             "#bd3786"
            ],
            [
             0.5555555555555556,
             "#d8576b"
            ],
            [
             0.6666666666666666,
             "#ed7953"
            ],
            [
             0.7777777777777778,
             "#fb9f3a"
            ],
            [
             0.8888888888888888,
             "#fdca26"
            ],
            [
             1,
             "#f0f921"
            ]
           ],
           "sequentialminus": [
            [
             0,
             "#0d0887"
            ],
            [
             0.1111111111111111,
             "#46039f"
            ],
            [
             0.2222222222222222,
             "#7201a8"
            ],
            [
             0.3333333333333333,
             "#9c179e"
            ],
            [
             0.4444444444444444,
             "#bd3786"
            ],
            [
             0.5555555555555556,
             "#d8576b"
            ],
            [
             0.6666666666666666,
             "#ed7953"
            ],
            [
             0.7777777777777778,
             "#fb9f3a"
            ],
            [
             0.8888888888888888,
             "#fdca26"
            ],
            [
             1,
             "#f0f921"
            ]
           ]
          },
          "colorway": [
           "#636efa",
           "#EF553B",
           "#00cc96",
           "#ab63fa",
           "#FFA15A",
           "#19d3f3",
           "#FF6692",
           "#B6E880",
           "#FF97FF",
           "#FECB52"
          ],
          "font": {
           "color": "#2a3f5f"
          },
          "geo": {
           "bgcolor": "white",
           "lakecolor": "white",
           "landcolor": "#E5ECF6",
           "showlakes": true,
           "showland": true,
           "subunitcolor": "white"
          },
          "hoverlabel": {
           "align": "left"
          },
          "hovermode": "closest",
          "mapbox": {
           "style": "light"
          },
          "paper_bgcolor": "white",
          "plot_bgcolor": "#E5ECF6",
          "polar": {
           "angularaxis": {
            "gridcolor": "white",
            "linecolor": "white",
            "ticks": ""
           },
           "bgcolor": "#E5ECF6",
           "radialaxis": {
            "gridcolor": "white",
            "linecolor": "white",
            "ticks": ""
           }
          },
          "scene": {
           "xaxis": {
            "backgroundcolor": "#E5ECF6",
            "gridcolor": "white",
            "gridwidth": 2,
            "linecolor": "white",
            "showbackground": true,
            "ticks": "",
            "zerolinecolor": "white"
           },
           "yaxis": {
            "backgroundcolor": "#E5ECF6",
            "gridcolor": "white",
            "gridwidth": 2,
            "linecolor": "white",
            "showbackground": true,
            "ticks": "",
            "zerolinecolor": "white"
           },
           "zaxis": {
            "backgroundcolor": "#E5ECF6",
            "gridcolor": "white",
            "gridwidth": 2,
            "linecolor": "white",
            "showbackground": true,
            "ticks": "",
            "zerolinecolor": "white"
           }
          },
          "shapedefaults": {
           "line": {
            "color": "#2a3f5f"
           }
          },
          "ternary": {
           "aaxis": {
            "gridcolor": "white",
            "linecolor": "white",
            "ticks": ""
           },
           "baxis": {
            "gridcolor": "white",
            "linecolor": "white",
            "ticks": ""
           },
           "bgcolor": "#E5ECF6",
           "caxis": {
            "gridcolor": "white",
            "linecolor": "white",
            "ticks": ""
           }
          },
          "title": {
           "x": 0.05
          },
          "xaxis": {
           "automargin": true,
           "gridcolor": "white",
           "linecolor": "white",
           "ticks": "",
           "title": {
            "standoff": 15
           },
           "zerolinecolor": "white",
           "zerolinewidth": 2
          },
          "yaxis": {
           "automargin": true,
           "gridcolor": "white",
           "linecolor": "white",
           "ticks": "",
           "title": {
            "standoff": 15
           },
           "zerolinecolor": "white",
           "zerolinewidth": 2
          }
         }
        },
        "title": {
         "text": "Tweet Volume by Race and Wave",
         "x": 0.5,
         "xanchor": "center"
        }
       }
      },
      "text/html": [
       "<div>                            <div id=\"7d5f49c6-3896-46a4-b79e-875607b1728f\" class=\"plotly-graph-div\" style=\"height:525px; width:100%;\"></div>            <script type=\"text/javascript\">                require([\"plotly\"], function(Plotly) {                    window.PLOTLYENV=window.PLOTLYENV || {};                                    if (document.getElementById(\"7d5f49c6-3896-46a4-b79e-875607b1728f\")) {                    Plotly.newPlot(                        \"7d5f49c6-3896-46a4-b79e-875607b1728f\",                        [{\"colorscale\":[[0.0,\"#ADC5CF\"],[0.16666666666666666,\"#92E0D0\"],[0.3333333333333333,\"#61D2D1\"],[0.5,\"#2D83A1\"],[0.6666666666666666,\"#3596B5\"],[0.8333333333333334,\"#1F5A79\"],[1.0,\"#12355C\"]],\"geo\":\"geo\",\"locationmode\":\"USA-states\",\"locations\":[\"AK\",\"AL\",\"AR\",\"AZ\",\"CA\",\"CO\",\"CT\",\"DC\",\"DE\",\"FL\",\"GA\",\"HI\",\"IA\",\"ID\",\"IL\",\"IN\",\"KS\",\"KY\",\"LA\",\"MA\",\"MD\",\"ME\",\"MI\",\"MN\",\"MO\",\"MS\",\"MT\",\"NC\",\"ND\",\"NE\",\"NH\",\"NJ\",\"NM\",\"NV\",\"NY\",\"OH\",\"OK\",\"OR\",\"PA\",\"RI\",\"SC\",\"SD\",\"TN\",\"TX\",\"UT\",\"VA\",\"VT\",\"WA\",\"WI\",\"WV\",\"WY\"],\"showscale\":true,\"type\":\"choropleth\",\"z\":[0,0,0,2,9,1,1,1,0,2,2,2,1,0,0,2,0,0,1,0,3,0,1,1,0,0,0,1,0,0,0,2,0,0,4,2,0,1,0,0,1,0,1,2,0,0,0,0,1,0,0],\"zmax\":150,\"zmin\":0},{\"colorscale\":[[0.0,\"#ADC5CF\"],[0.16666666666666666,\"#92E0D0\"],[0.3333333333333333,\"#61D2D1\"],[0.5,\"#2D83A1\"],[0.6666666666666666,\"#3596B5\"],[0.8333333333333334,\"#1F5A79\"],[1.0,\"#12355C\"]],\"geo\":\"geo4\",\"locationmode\":\"USA-states\",\"locations\":[\"AK\",\"AL\",\"AR\",\"AZ\",\"CA\",\"CO\",\"CT\",\"DC\",\"DE\",\"FL\",\"GA\",\"HI\",\"IA\",\"ID\",\"IL\",\"IN\",\"KS\",\"KY\",\"LA\",\"MA\",\"MD\",\"ME\",\"MI\",\"MN\",\"MO\",\"MS\",\"MT\",\"NC\",\"ND\",\"NE\",\"NH\",\"NJ\",\"NM\",\"NV\",\"NY\",\"OH\",\"OK\",\"OR\",\"PA\",\"RI\",\"SC\",\"SD\",\"TN\",\"TX\",\"UT\",\"VA\",\"VT\",\"WA\",\"WI\",\"WV\",\"WY\"],\"showscale\":true,\"type\":\"choropleth\",\"z\":[0,2,1,5,77,1,2,20,0,34,96,0,0,0,19,3,0,1,7,3,11,0,4,10,3,0,0,7,0,2,0,10,2,4,74,5,0,8,7,4,2,0,5,22,1,8,0,5,2,1,0],\"zmax\":150,\"zmin\":0},{\"colorscale\":[[0.0,\"#ADC5CF\"],[0.16666666666666666,\"#92E0D0\"],[0.3333333333333333,\"#61D2D1\"],[0.5,\"#2D83A1\"],[0.6666666666666666,\"#3596B5\"],[0.8333333333333334,\"#1F5A79\"],[1.0,\"#12355C\"]],\"geo\":\"geo7\",\"locationmode\":\"USA-states\",\"locations\":[\"AK\",\"AL\",\"AR\",\"AZ\",\"CA\",\"CO\",\"CT\",\"DC\",\"DE\",\"FL\",\"GA\",\"HI\",\"IA\",\"ID\",\"IL\",\"IN\",\"KS\",\"KY\",\"LA\",\"MA\",\"MD\",\"ME\",\"MI\",\"MN\",\"MO\",\"MS\",\"MT\",\"NC\",\"ND\",\"NE\",\"NH\",\"NJ\",\"NM\",\"NV\",\"NY\",\"OH\",\"OK\",\"OR\",\"PA\",\"RI\",\"SC\",\"SD\",\"TN\",\"TX\",\"UT\",\"VA\",\"VT\",\"WA\",\"WI\",\"WV\",\"WY\"],\"showscale\":true,\"type\":\"choropleth\",\"z\":[0,0,0,0,23,1,2,7,0,9,2,0,0,0,4,1,0,0,5,1,0,0,1,0,0,0,1,0,0,1,0,3,0,0,19,2,0,0,0,0,0,0,3,12,0,1,0,0,1,0,0],\"zmax\":150,\"zmin\":0},{\"colorscale\":[[0.0,\"#ADC5CF\"],[0.16666666666666666,\"#92E0D0\"],[0.3333333333333333,\"#61D2D1\"],[0.5,\"#2D83A1\"],[0.6666666666666666,\"#3596B5\"],[0.8333333333333334,\"#1F5A79\"],[1.0,\"#12355C\"]],\"geo\":\"geo10\",\"locationmode\":\"USA-states\",\"locations\":[\"AK\",\"AL\",\"AR\",\"AZ\",\"CA\",\"CO\",\"CT\",\"DC\",\"DE\",\"FL\",\"GA\",\"HI\",\"IA\",\"ID\",\"IL\",\"IN\",\"KS\",\"KY\",\"LA\",\"MA\",\"MD\",\"ME\",\"MI\",\"MN\",\"MO\",\"MS\",\"MT\",\"NC\",\"ND\",\"NE\",\"NH\",\"NJ\",\"NM\",\"NV\",\"NY\",\"OH\",\"OK\",\"OR\",\"PA\",\"RI\",\"SC\",\"SD\",\"TN\",\"TX\",\"UT\",\"VA\",\"VT\",\"WA\",\"WI\",\"WV\",\"WY\"],\"showscale\":true,\"type\":\"choropleth\",\"z\":[0,0,0,2,38,4,1,41,0,11,6,4,0,0,8,5,0,1,4,7,4,0,3,4,2,1,0,5,0,1,0,11,2,4,55,4,2,5,0,1,0,0,2,19,3,8,2,8,0,0,0],\"zmax\":150,\"zmin\":0},{\"colorscale\":[[0.0,\"#ADC5CF\"],[0.16666666666666666,\"#92E0D0\"],[0.3333333333333333,\"#61D2D1\"],[0.5,\"#2D83A1\"],[0.6666666666666666,\"#3596B5\"],[0.8333333333333334,\"#1F5A79\"],[1.0,\"#12355C\"]],\"geo\":\"geo2\",\"locationmode\":\"USA-states\",\"locations\":[\"AK\",\"AL\",\"AR\",\"AZ\",\"CA\",\"CO\",\"CT\",\"DC\",\"DE\",\"FL\",\"GA\",\"HI\",\"IA\",\"ID\",\"IL\",\"IN\",\"KS\",\"KY\",\"LA\",\"MA\",\"MD\",\"ME\",\"MI\",\"MN\",\"MO\",\"MS\",\"MT\",\"NC\",\"ND\",\"NE\",\"NH\",\"NJ\",\"NM\",\"NV\",\"NY\",\"OH\",\"OK\",\"OR\",\"PA\",\"RI\",\"SC\",\"SD\",\"TN\",\"TX\",\"UT\",\"VA\",\"VT\",\"WA\",\"WI\",\"WV\",\"WY\"],\"showscale\":true,\"type\":\"choropleth\",\"z\":[0,0,0,1,15,0,0,4,0,0,0,0,0,0,0,0,0,0,0,0,3,1,1,0,1,0,0,1,0,0,0,0,0,0,18,2,0,1,1,0,1,0,0,5,0,1,0,1,0,0,0],\"zmax\":150,\"zmin\":0},{\"colorscale\":[[0.0,\"#ADC5CF\"],[0.16666666666666666,\"#92E0D0\"],[0.3333333333333333,\"#61D2D1\"],[0.5,\"#2D83A1\"],[0.6666666666666666,\"#3596B5\"],[0.8333333333333334,\"#1F5A79\"],[1.0,\"#12355C\"]],\"geo\":\"geo5\",\"locationmode\":\"USA-states\",\"locations\":[\"AK\",\"AL\",\"AR\",\"AZ\",\"CA\",\"CO\",\"CT\",\"DC\",\"DE\",\"FL\",\"GA\",\"HI\",\"IA\",\"ID\",\"IL\",\"IN\",\"KS\",\"KY\",\"LA\",\"MA\",\"MD\",\"ME\",\"MI\",\"MN\",\"MO\",\"MS\",\"MT\",\"NC\",\"ND\",\"NE\",\"NH\",\"NJ\",\"NM\",\"NV\",\"NY\",\"OH\",\"OK\",\"OR\",\"PA\",\"RI\",\"SC\",\"SD\",\"TN\",\"TX\",\"UT\",\"VA\",\"VT\",\"WA\",\"WI\",\"WV\",\"WY\"],\"showscale\":true,\"type\":\"choropleth\",\"z\":[0,13,0,2,226,13,4,52,0,74,80,1,4,1,36,15,3,3,22,25,37,1,18,7,6,10,1,24,0,6,1,23,1,12,227,17,4,14,39,3,7,3,8,72,2,14,2,19,6,1,0],\"zmax\":150,\"zmin\":0},{\"colorscale\":[[0.0,\"#ADC5CF\"],[0.16666666666666666,\"#92E0D0\"],[0.3333333333333333,\"#61D2D1\"],[0.5,\"#2D83A1\"],[0.6666666666666666,\"#3596B5\"],[0.8333333333333334,\"#1F5A79\"],[1.0,\"#12355C\"]],\"geo\":\"geo8\",\"locationmode\":\"USA-states\",\"locations\":[\"AK\",\"AL\",\"AR\",\"AZ\",\"CA\",\"CO\",\"CT\",\"DC\",\"DE\",\"FL\",\"GA\",\"HI\",\"IA\",\"ID\",\"IL\",\"IN\",\"KS\",\"KY\",\"LA\",\"MA\",\"MD\",\"ME\",\"MI\",\"MN\",\"MO\",\"MS\",\"MT\",\"NC\",\"ND\",\"NE\",\"NH\",\"NJ\",\"NM\",\"NV\",\"NY\",\"OH\",\"OK\",\"OR\",\"PA\",\"RI\",\"SC\",\"SD\",\"TN\",\"TX\",\"UT\",\"VA\",\"VT\",\"WA\",\"WI\",\"WV\",\"WY\"],\"showscale\":true,\"type\":\"choropleth\",\"z\":[0,1,0,3,56,2,0,6,0,12,6,0,0,0,11,5,0,0,2,1,7,0,1,0,1,0,13,8,0,0,0,6,1,4,29,0,0,2,3,1,1,0,2,17,1,1,0,1,1,0,0],\"zmax\":150,\"zmin\":0},{\"colorscale\":[[0.0,\"#ADC5CF\"],[0.16666666666666666,\"#92E0D0\"],[0.3333333333333333,\"#61D2D1\"],[0.5,\"#2D83A1\"],[0.6666666666666666,\"#3596B5\"],[0.8333333333333334,\"#1F5A79\"],[1.0,\"#12355C\"]],\"geo\":\"geo11\",\"locationmode\":\"USA-states\",\"locations\":[\"AK\",\"AL\",\"AR\",\"AZ\",\"CA\",\"CO\",\"CT\",\"DC\",\"DE\",\"FL\",\"GA\",\"HI\",\"IA\",\"ID\",\"IL\",\"IN\",\"KS\",\"KY\",\"LA\",\"MA\",\"MD\",\"ME\",\"MI\",\"MN\",\"MO\",\"MS\",\"MT\",\"NC\",\"ND\",\"NE\",\"NH\",\"NJ\",\"NM\",\"NV\",\"NY\",\"OH\",\"OK\",\"OR\",\"PA\",\"RI\",\"SC\",\"SD\",\"TN\",\"TX\",\"UT\",\"VA\",\"VT\",\"WA\",\"WI\",\"WV\",\"WY\"],\"showscale\":true,\"type\":\"choropleth\",\"z\":[0,4,2,4,71,1,4,62,0,29,9,2,1,2,14,10,0,1,5,9,13,0,6,1,1,1,1,6,0,1,0,3,1,3,84,11,3,5,17,1,1,1,4,40,5,6,1,11,1,6,0],\"zmax\":150,\"zmin\":0},{\"colorscale\":[[0.0,\"#ADC5CF\"],[0.16666666666666666,\"#92E0D0\"],[0.3333333333333333,\"#61D2D1\"],[0.5,\"#2D83A1\"],[0.6666666666666666,\"#3596B5\"],[0.8333333333333334,\"#1F5A79\"],[1.0,\"#12355C\"]],\"geo\":\"geo3\",\"locationmode\":\"USA-states\",\"locations\":[\"AK\",\"AL\",\"AR\",\"AZ\",\"CA\",\"CO\",\"CT\",\"DC\",\"DE\",\"FL\",\"GA\",\"HI\",\"IA\",\"ID\",\"IL\",\"IN\",\"KS\",\"KY\",\"LA\",\"MA\",\"MD\",\"ME\",\"MI\",\"MN\",\"MO\",\"MS\",\"MT\",\"NC\",\"ND\",\"NE\",\"NH\",\"NJ\",\"NM\",\"NV\",\"NY\",\"OH\",\"OK\",\"OR\",\"PA\",\"RI\",\"SC\",\"SD\",\"TN\",\"TX\",\"UT\",\"VA\",\"VT\",\"WA\",\"WI\",\"WV\",\"WY\"],\"showscale\":true,\"type\":\"choropleth\",\"z\":[0,0,0,0,6,0,0,1,0,1,0,0,0,0,3,0,0,1,1,1,0,0,0,0,0,0,0,0,0,0,0,0,0,1,8,1,0,1,1,0,0,0,0,3,0,0,0,0,0,0,0],\"zmax\":150,\"zmin\":0},{\"colorscale\":[[0.0,\"#ADC5CF\"],[0.16666666666666666,\"#92E0D0\"],[0.3333333333333333,\"#61D2D1\"],[0.5,\"#2D83A1\"],[0.6666666666666666,\"#3596B5\"],[0.8333333333333334,\"#1F5A79\"],[1.0,\"#12355C\"]],\"geo\":\"geo6\",\"locationmode\":\"USA-states\",\"locations\":[\"AK\",\"AL\",\"AR\",\"AZ\",\"CA\",\"CO\",\"CT\",\"DC\",\"DE\",\"FL\",\"GA\",\"HI\",\"IA\",\"ID\",\"IL\",\"IN\",\"KS\",\"KY\",\"LA\",\"MA\",\"MD\",\"ME\",\"MI\",\"MN\",\"MO\",\"MS\",\"MT\",\"NC\",\"ND\",\"NE\",\"NH\",\"NJ\",\"NM\",\"NV\",\"NY\",\"OH\",\"OK\",\"OR\",\"PA\",\"RI\",\"SC\",\"SD\",\"TN\",\"TX\",\"UT\",\"VA\",\"VT\",\"WA\",\"WI\",\"WV\",\"WY\"],\"showscale\":true,\"type\":\"choropleth\",\"z\":[0,6,0,3,80,1,3,14,0,32,27,2,0,0,13,1,0,1,17,4,12,1,14,2,11,7,1,6,0,2,1,5,0,5,85,8,0,9,18,2,4,1,5,26,2,7,3,7,1,0,0],\"zmax\":150,\"zmin\":0},{\"colorscale\":[[0.0,\"#ADC5CF\"],[0.16666666666666666,\"#92E0D0\"],[0.3333333333333333,\"#61D2D1\"],[0.5,\"#2D83A1\"],[0.6666666666666666,\"#3596B5\"],[0.8333333333333334,\"#1F5A79\"],[1.0,\"#12355C\"]],\"geo\":\"geo9\",\"locationmode\":\"USA-states\",\"locations\":[\"AK\",\"AL\",\"AR\",\"AZ\",\"CA\",\"CO\",\"CT\",\"DC\",\"DE\",\"FL\",\"GA\",\"HI\",\"IA\",\"ID\",\"IL\",\"IN\",\"KS\",\"KY\",\"LA\",\"MA\",\"MD\",\"ME\",\"MI\",\"MN\",\"MO\",\"MS\",\"MT\",\"NC\",\"ND\",\"NE\",\"NH\",\"NJ\",\"NM\",\"NV\",\"NY\",\"OH\",\"OK\",\"OR\",\"PA\",\"RI\",\"SC\",\"SD\",\"TN\",\"TX\",\"UT\",\"VA\",\"VT\",\"WA\",\"WI\",\"WV\",\"WY\"],\"showscale\":true,\"type\":\"choropleth\",\"z\":[0,1,0,0,46,0,0,0,0,4,7,1,0,0,5,2,0,0,0,2,2,0,1,1,0,0,20,2,0,0,0,4,0,2,18,0,0,4,1,1,0,0,0,9,4,1,0,2,2,0,0],\"zmax\":150,\"zmin\":0},{\"colorscale\":[[0.0,\"#ADC5CF\"],[0.16666666666666666,\"#92E0D0\"],[0.3333333333333333,\"#61D2D1\"],[0.5,\"#2D83A1\"],[0.6666666666666666,\"#3596B5\"],[0.8333333333333334,\"#1F5A79\"],[1.0,\"#12355C\"]],\"geo\":\"geo12\",\"locationmode\":\"USA-states\",\"locations\":[\"AK\",\"AL\",\"AR\",\"AZ\",\"CA\",\"CO\",\"CT\",\"DC\",\"DE\",\"FL\",\"GA\",\"HI\",\"IA\",\"ID\",\"IL\",\"IN\",\"KS\",\"KY\",\"LA\",\"MA\",\"MD\",\"ME\",\"MI\",\"MN\",\"MO\",\"MS\",\"MT\",\"NC\",\"ND\",\"NE\",\"NH\",\"NJ\",\"NM\",\"NV\",\"NY\",\"OH\",\"OK\",\"OR\",\"PA\",\"RI\",\"SC\",\"SD\",\"TN\",\"TX\",\"UT\",\"VA\",\"VT\",\"WA\",\"WI\",\"WV\",\"WY\"],\"showscale\":true,\"type\":\"choropleth\",\"z\":[0,3,0,3,47,3,3,58,0,18,10,2,0,1,11,3,0,0,14,3,5,0,10,3,3,1,3,6,0,1,0,5,1,3,41,5,0,3,5,1,0,0,4,15,0,3,0,0,2,1,0],\"zmax\":150,\"zmin\":0}],                        {\"annotations\":[{\"font\":{\"size\":38},\"showarrow\":false,\"text\":\"Wave 1\",\"x\":0.16666666666666666,\"xanchor\":\"center\",\"xref\":\"paper\",\"y\":1.0,\"yanchor\":\"bottom\",\"yref\":\"paper\"},{\"font\":{\"size\":38},\"showarrow\":false,\"text\":\"Wave 2\",\"x\":0.5,\"xanchor\":\"center\",\"xref\":\"paper\",\"y\":1.0,\"yanchor\":\"bottom\",\"yref\":\"paper\"},{\"font\":{\"size\":38},\"showarrow\":false,\"text\":\"Wave 3\",\"x\":0.8333333333333333,\"xanchor\":\"center\",\"xref\":\"paper\",\"y\":1.0,\"yanchor\":\"bottom\",\"yref\":\"paper\"}],\"coloraxis\":{\"showscale\":true},\"font\":{\"family\":\"Calibri\",\"size\":42},\"geo\":{\"domain\":{\"x\":[0.0,0.3333333333333333],\"y\":[0.7575000000000001,1.0]},\"scope\":\"usa\"},\"geo10\":{\"domain\":{\"x\":[0.0,0.3333333333333333],\"y\":[0.0,0.2425]},\"scope\":\"usa\"},\"geo11\":{\"domain\":{\"x\":[0.3333333333333333,0.6666666666666666],\"y\":[0.0,0.2425]},\"scope\":\"usa\"},\"geo12\":{\"domain\":{\"x\":[0.6666666666666666,1.0],\"y\":[0.0,0.2425]},\"scope\":\"usa\"},\"geo2\":{\"domain\":{\"x\":[0.3333333333333333,0.6666666666666666],\"y\":[0.7575000000000001,1.0]},\"scope\":\"usa\"},\"geo3\":{\"domain\":{\"x\":[0.6666666666666666,1.0],\"y\":[0.7575000000000001,1.0]},\"scope\":\"usa\"},\"geo4\":{\"domain\":{\"x\":[0.0,0.3333333333333333],\"y\":[0.505,0.7475]},\"scope\":\"usa\"},\"geo5\":{\"domain\":{\"x\":[0.3333333333333333,0.6666666666666666],\"y\":[0.505,0.7475]},\"scope\":\"usa\"},\"geo6\":{\"domain\":{\"x\":[0.6666666666666666,1.0],\"y\":[0.505,0.7475]},\"scope\":\"usa\"},\"geo7\":{\"domain\":{\"x\":[0.0,0.3333333333333333],\"y\":[0.2525,0.495]},\"scope\":\"usa\"},\"geo8\":{\"domain\":{\"x\":[0.3333333333333333,0.6666666666666666],\"y\":[0.2525,0.495]},\"scope\":\"usa\"},\"geo9\":{\"domain\":{\"x\":[0.6666666666666666,1.0],\"y\":[0.2525,0.495]},\"scope\":\"usa\"},\"margin\":{\"b\":15,\"l\":1,\"r\":0,\"t\":70},\"template\":{\"data\":{\"bar\":[{\"error_x\":{\"color\":\"#2a3f5f\"},\"error_y\":{\"color\":\"#2a3f5f\"},\"marker\":{\"line\":{\"color\":\"#E5ECF6\",\"width\":0.5},\"pattern\":{\"fillmode\":\"overlay\",\"size\":10,\"solidity\":0.2}},\"type\":\"bar\"}],\"barpolar\":[{\"marker\":{\"line\":{\"color\":\"#E5ECF6\",\"width\":0.5},\"pattern\":{\"fillmode\":\"overlay\",\"size\":10,\"solidity\":0.2}},\"type\":\"barpolar\"}],\"carpet\":[{\"aaxis\":{\"endlinecolor\":\"#2a3f5f\",\"gridcolor\":\"white\",\"linecolor\":\"white\",\"minorgridcolor\":\"white\",\"startlinecolor\":\"#2a3f5f\"},\"baxis\":{\"endlinecolor\":\"#2a3f5f\",\"gridcolor\":\"white\",\"linecolor\":\"white\",\"minorgridcolor\":\"white\",\"startlinecolor\":\"#2a3f5f\"},\"type\":\"carpet\"}],\"choropleth\":[{\"colorbar\":{\"outlinewidth\":0,\"ticks\":\"\"},\"type\":\"choropleth\"}],\"contour\":[{\"colorbar\":{\"outlinewidth\":0,\"ticks\":\"\"},\"colorscale\":[[0.0,\"#0d0887\"],[0.1111111111111111,\"#46039f\"],[0.2222222222222222,\"#7201a8\"],[0.3333333333333333,\"#9c179e\"],[0.4444444444444444,\"#bd3786\"],[0.5555555555555556,\"#d8576b\"],[0.6666666666666666,\"#ed7953\"],[0.7777777777777778,\"#fb9f3a\"],[0.8888888888888888,\"#fdca26\"],[1.0,\"#f0f921\"]],\"type\":\"contour\"}],\"contourcarpet\":[{\"colorbar\":{\"outlinewidth\":0,\"ticks\":\"\"},\"type\":\"contourcarpet\"}],\"heatmap\":[{\"colorbar\":{\"outlinewidth\":0,\"ticks\":\"\"},\"colorscale\":[[0.0,\"#0d0887\"],[0.1111111111111111,\"#46039f\"],[0.2222222222222222,\"#7201a8\"],[0.3333333333333333,\"#9c179e\"],[0.4444444444444444,\"#bd3786\"],[0.5555555555555556,\"#d8576b\"],[0.6666666666666666,\"#ed7953\"],[0.7777777777777778,\"#fb9f3a\"],[0.8888888888888888,\"#fdca26\"],[1.0,\"#f0f921\"]],\"type\":\"heatmap\"}],\"heatmapgl\":[{\"colorbar\":{\"outlinewidth\":0,\"ticks\":\"\"},\"colorscale\":[[0.0,\"#0d0887\"],[0.1111111111111111,\"#46039f\"],[0.2222222222222222,\"#7201a8\"],[0.3333333333333333,\"#9c179e\"],[0.4444444444444444,\"#bd3786\"],[0.5555555555555556,\"#d8576b\"],[0.6666666666666666,\"#ed7953\"],[0.7777777777777778,\"#fb9f3a\"],[0.8888888888888888,\"#fdca26\"],[1.0,\"#f0f921\"]],\"type\":\"heatmapgl\"}],\"histogram\":[{\"marker\":{\"pattern\":{\"fillmode\":\"overlay\",\"size\":10,\"solidity\":0.2}},\"type\":\"histogram\"}],\"histogram2d\":[{\"colorbar\":{\"outlinewidth\":0,\"ticks\":\"\"},\"colorscale\":[[0.0,\"#0d0887\"],[0.1111111111111111,\"#46039f\"],[0.2222222222222222,\"#7201a8\"],[0.3333333333333333,\"#9c179e\"],[0.4444444444444444,\"#bd3786\"],[0.5555555555555556,\"#d8576b\"],[0.6666666666666666,\"#ed7953\"],[0.7777777777777778,\"#fb9f3a\"],[0.8888888888888888,\"#fdca26\"],[1.0,\"#f0f921\"]],\"type\":\"histogram2d\"}],\"histogram2dcontour\":[{\"colorbar\":{\"outlinewidth\":0,\"ticks\":\"\"},\"colorscale\":[[0.0,\"#0d0887\"],[0.1111111111111111,\"#46039f\"],[0.2222222222222222,\"#7201a8\"],[0.3333333333333333,\"#9c179e\"],[0.4444444444444444,\"#bd3786\"],[0.5555555555555556,\"#d8576b\"],[0.6666666666666666,\"#ed7953\"],[0.7777777777777778,\"#fb9f3a\"],[0.8888888888888888,\"#fdca26\"],[1.0,\"#f0f921\"]],\"type\":\"histogram2dcontour\"}],\"mesh3d\":[{\"colorbar\":{\"outlinewidth\":0,\"ticks\":\"\"},\"type\":\"mesh3d\"}],\"parcoords\":[{\"line\":{\"colorbar\":{\"outlinewidth\":0,\"ticks\":\"\"}},\"type\":\"parcoords\"}],\"pie\":[{\"automargin\":true,\"type\":\"pie\"}],\"scatter\":[{\"marker\":{\"colorbar\":{\"outlinewidth\":0,\"ticks\":\"\"}},\"type\":\"scatter\"}],\"scatter3d\":[{\"line\":{\"colorbar\":{\"outlinewidth\":0,\"ticks\":\"\"}},\"marker\":{\"colorbar\":{\"outlinewidth\":0,\"ticks\":\"\"}},\"type\":\"scatter3d\"}],\"scattercarpet\":[{\"marker\":{\"colorbar\":{\"outlinewidth\":0,\"ticks\":\"\"}},\"type\":\"scattercarpet\"}],\"scattergeo\":[{\"marker\":{\"colorbar\":{\"outlinewidth\":0,\"ticks\":\"\"}},\"type\":\"scattergeo\"}],\"scattergl\":[{\"marker\":{\"colorbar\":{\"outlinewidth\":0,\"ticks\":\"\"}},\"type\":\"scattergl\"}],\"scattermapbox\":[{\"marker\":{\"colorbar\":{\"outlinewidth\":0,\"ticks\":\"\"}},\"type\":\"scattermapbox\"}],\"scatterpolar\":[{\"marker\":{\"colorbar\":{\"outlinewidth\":0,\"ticks\":\"\"}},\"type\":\"scatterpolar\"}],\"scatterpolargl\":[{\"marker\":{\"colorbar\":{\"outlinewidth\":0,\"ticks\":\"\"}},\"type\":\"scatterpolargl\"}],\"scatterternary\":[{\"marker\":{\"colorbar\":{\"outlinewidth\":0,\"ticks\":\"\"}},\"type\":\"scatterternary\"}],\"surface\":[{\"colorbar\":{\"outlinewidth\":0,\"ticks\":\"\"},\"colorscale\":[[0.0,\"#0d0887\"],[0.1111111111111111,\"#46039f\"],[0.2222222222222222,\"#7201a8\"],[0.3333333333333333,\"#9c179e\"],[0.4444444444444444,\"#bd3786\"],[0.5555555555555556,\"#d8576b\"],[0.6666666666666666,\"#ed7953\"],[0.7777777777777778,\"#fb9f3a\"],[0.8888888888888888,\"#fdca26\"],[1.0,\"#f0f921\"]],\"type\":\"surface\"}],\"table\":[{\"cells\":{\"fill\":{\"color\":\"#EBF0F8\"},\"line\":{\"color\":\"white\"}},\"header\":{\"fill\":{\"color\":\"#C8D4E3\"},\"line\":{\"color\":\"white\"}},\"type\":\"table\"}]},\"layout\":{\"annotationdefaults\":{\"arrowcolor\":\"#2a3f5f\",\"arrowhead\":0,\"arrowwidth\":1},\"autotypenumbers\":\"strict\",\"coloraxis\":{\"colorbar\":{\"outlinewidth\":0,\"ticks\":\"\"}},\"colorscale\":{\"diverging\":[[0,\"#8e0152\"],[0.1,\"#c51b7d\"],[0.2,\"#de77ae\"],[0.3,\"#f1b6da\"],[0.4,\"#fde0ef\"],[0.5,\"#f7f7f7\"],[0.6,\"#e6f5d0\"],[0.7,\"#b8e186\"],[0.8,\"#7fbc41\"],[0.9,\"#4d9221\"],[1,\"#276419\"]],\"sequential\":[[0.0,\"#0d0887\"],[0.1111111111111111,\"#46039f\"],[0.2222222222222222,\"#7201a8\"],[0.3333333333333333,\"#9c179e\"],[0.4444444444444444,\"#bd3786\"],[0.5555555555555556,\"#d8576b\"],[0.6666666666666666,\"#ed7953\"],[0.7777777777777778,\"#fb9f3a\"],[0.8888888888888888,\"#fdca26\"],[1.0,\"#f0f921\"]],\"sequentialminus\":[[0.0,\"#0d0887\"],[0.1111111111111111,\"#46039f\"],[0.2222222222222222,\"#7201a8\"],[0.3333333333333333,\"#9c179e\"],[0.4444444444444444,\"#bd3786\"],[0.5555555555555556,\"#d8576b\"],[0.6666666666666666,\"#ed7953\"],[0.7777777777777778,\"#fb9f3a\"],[0.8888888888888888,\"#fdca26\"],[1.0,\"#f0f921\"]]},\"colorway\":[\"#636efa\",\"#EF553B\",\"#00cc96\",\"#ab63fa\",\"#FFA15A\",\"#19d3f3\",\"#FF6692\",\"#B6E880\",\"#FF97FF\",\"#FECB52\"],\"font\":{\"color\":\"#2a3f5f\"},\"geo\":{\"bgcolor\":\"white\",\"lakecolor\":\"white\",\"landcolor\":\"#E5ECF6\",\"showlakes\":true,\"showland\":true,\"subunitcolor\":\"white\"},\"hoverlabel\":{\"align\":\"left\"},\"hovermode\":\"closest\",\"mapbox\":{\"style\":\"light\"},\"paper_bgcolor\":\"white\",\"plot_bgcolor\":\"#E5ECF6\",\"polar\":{\"angularaxis\":{\"gridcolor\":\"white\",\"linecolor\":\"white\",\"ticks\":\"\"},\"bgcolor\":\"#E5ECF6\",\"radialaxis\":{\"gridcolor\":\"white\",\"linecolor\":\"white\",\"ticks\":\"\"}},\"scene\":{\"xaxis\":{\"backgroundcolor\":\"#E5ECF6\",\"gridcolor\":\"white\",\"gridwidth\":2,\"linecolor\":\"white\",\"showbackground\":true,\"ticks\":\"\",\"zerolinecolor\":\"white\"},\"yaxis\":{\"backgroundcolor\":\"#E5ECF6\",\"gridcolor\":\"white\",\"gridwidth\":2,\"linecolor\":\"white\",\"showbackground\":true,\"ticks\":\"\",\"zerolinecolor\":\"white\"},\"zaxis\":{\"backgroundcolor\":\"#E5ECF6\",\"gridcolor\":\"white\",\"gridwidth\":2,\"linecolor\":\"white\",\"showbackground\":true,\"ticks\":\"\",\"zerolinecolor\":\"white\"}},\"shapedefaults\":{\"line\":{\"color\":\"#2a3f5f\"}},\"ternary\":{\"aaxis\":{\"gridcolor\":\"white\",\"linecolor\":\"white\",\"ticks\":\"\"},\"baxis\":{\"gridcolor\":\"white\",\"linecolor\":\"white\",\"ticks\":\"\"},\"bgcolor\":\"#E5ECF6\",\"caxis\":{\"gridcolor\":\"white\",\"linecolor\":\"white\",\"ticks\":\"\"}},\"title\":{\"x\":0.05},\"xaxis\":{\"automargin\":true,\"gridcolor\":\"white\",\"linecolor\":\"white\",\"ticks\":\"\",\"title\":{\"standoff\":15},\"zerolinecolor\":\"white\",\"zerolinewidth\":2},\"yaxis\":{\"automargin\":true,\"gridcolor\":\"white\",\"linecolor\":\"white\",\"ticks\":\"\",\"title\":{\"standoff\":15},\"zerolinecolor\":\"white\",\"zerolinewidth\":2}}},\"title\":{\"text\":\"Tweet Volume by Race and Wave\",\"x\":0.5,\"xanchor\":\"center\"}},                        {\"responsive\": true}                    ).then(function(){\n",
       "                            \n",
       "var gd = document.getElementById('7d5f49c6-3896-46a4-b79e-875607b1728f');\n",
       "var x = new MutationObserver(function (mutations, observer) {{\n",
       "        var display = window.getComputedStyle(gd).display;\n",
       "        if (!display || display === 'none') {{\n",
       "            console.log([gd, 'removed!']);\n",
       "            Plotly.purge(gd);\n",
       "            observer.disconnect();\n",
       "        }}\n",
       "}});\n",
       "\n",
       "// Listen for the removal of the full notebook cells\n",
       "var notebookContainer = gd.closest('#notebook-container');\n",
       "if (notebookContainer) {{\n",
       "    x.observe(notebookContainer, {childList: true});\n",
       "}}\n",
       "\n",
       "// Listen for the clearing of the current output cell\n",
       "var outputEl = gd.closest('.output');\n",
       "if (outputEl) {{\n",
       "    x.observe(outputEl, {childList: true});\n",
       "}}\n",
       "\n",
       "                        })                };                });            </script>        </div>"
      ]
     },
     "metadata": {},
     "output_type": "display_data"
    }
   ],
   "source": [
    "waves = (CovTw['Wave'].sort_values(ascending=True).unique()).tolist()\n",
    "\n",
    "cscale = ['#ADC5CF','#92E0D0','#61D2D1','#2D83A1','#3596B5','#1F5A79','#12355C',]\n",
    "\n",
    "# cscale = [[0, 'rgb(0,0,255)'], [1, 'rgb(0,50,255)']]\n",
    "rows = 4\n",
    "cols = 3\n",
    "fig = make_subplots(rows=rows, cols=cols, \n",
    "    specs = [[{'type': 'choropleth'} for c in np.arange(cols)] for r in np.arange(rows)],\n",
    "    subplot_titles = waves, vertical_spacing=0.01, horizontal_spacing=0)\n",
    "fig.update_annotations(font_size=38)\n",
    "\n",
    "for i, y in enumerate(waves):\n",
    "    fig.add_trace(go.Choropleth(locations=CovTw.State[CovTw['Wave']==y],z = CovTw.Twt_Asian[CovTw['Wave']==y],\n",
    "              locationmode = 'USA-states', zmin=0, zmax=150, colorscale=cscale), row = 1, col = i+1)     \n",
    "    fig.append_trace(go.Choropleth(locations=CovTw.State[CovTw['Wave']==y],z = CovTw.Twt_Black[CovTw['Wave']==y],\n",
    "              locationmode = 'USA-states', zmin=0, zmax=150, colorscale=cscale), row = 2, col = i+1) \n",
    "    fig.append_trace(go.Choropleth(locations=CovTw.State[CovTw['Wave']==y],z = CovTw.Twt_Latino[CovTw['Wave']==y],\n",
    "              locationmode = 'USA-states', zmin=0, zmax=150, colorscale=cscale), row = 3, col = i+1) \n",
    "    fig.append_trace(go.Choropleth(locations=CovTw.State[CovTw['Wave']==y],z = CovTw.Twt_White[CovTw['Wave']==y],\n",
    "              locationmode = 'USA-states', zmin=0, zmax=150, colorscale=cscale), row = 4, col = i+1) \n",
    "    \n",
    "fig.update_layout(title={'text':'Tweet Volume by Race and Wave', 'xanchor': 'center','x':0.5,},\n",
    "    **{'geo' + str(i) + '_scope': 'usa' for i in [''] + np.arange(2,rows*cols+1).tolist()},\n",
    "    coloraxis_showscale=True, margin={\"r\":0,\"t\":70,\"l\":1,\"b\":15}, font=dict(family=\"Calibri\",size=42))  \n",
    "\n",
    "fig.update_traces(showscale=True)\n",
    "fig.show()\n",
    "# fig.write_image(out_dir + \"\\Map Tweet Volume by Race and Wave.jpg\",width=2500, height=2000, scale=1, engine=\"kaleido\")\n"
   ]
  },
  {
   "cell_type": "code",
   "execution_count": 181,
   "id": "0ea63913",
   "metadata": {
    "scrolled": true
   },
   "outputs": [
    {
     "data": {
      "text/plain": [
       "A_Case_Per100K    9083.096235\n",
       "B_Case_Per100K    7819.622632\n",
       "L_Case_Per100K    9995.185889\n",
       "W_Case_Per100K    8225.652724\n",
       "dtype: float64"
      ]
     },
     "execution_count": 181,
     "metadata": {},
     "output_type": "execute_result"
    }
   ],
   "source": [
    "CovTw[['A_Case_Per100K', 'B_Case_Per100K', 'L_Case_Per100K','W_Case_Per100K' ]].max()"
   ]
  },
  {
   "cell_type": "code",
   "execution_count": null,
   "id": "a98872e9",
   "metadata": {},
   "outputs": [],
   "source": [
    "[\"E0DFED\",\"#CCC7EE\",\"#B8B0EF\",\"#A498F0\",\"#9080F1\",\"#7D69F1\",\"#6951F2\",\"#5539F3\",\"#4122F4\",\"#2D0AF5\"]"
   ]
  },
  {
   "cell_type": "code",
   "execution_count": 182,
   "id": "206b26f6",
   "metadata": {
    "scrolled": false
   },
   "outputs": [
    {
     "data": {
      "application/vnd.plotly.v1+json": {
       "config": {
        "plotlyServerURL": "https://plot.ly"
       },
       "data": [
        {
         "colorscale": [
          [
           0,
           "#E0DFED"
          ],
          [
           0.1111111111111111,
           "#CCC7EE"
          ],
          [
           0.2222222222222222,
           "#B8B0EF"
          ],
          [
           0.3333333333333333,
           "#A498F0"
          ],
          [
           0.4444444444444444,
           "#9080F1"
          ],
          [
           0.5555555555555556,
           "#7D69F1"
          ],
          [
           0.6666666666666666,
           "#6951F2"
          ],
          [
           0.7777777777777778,
           "#5539F3"
          ],
          [
           0.8888888888888888,
           "#4122F4"
          ],
          [
           1,
           "#2D0AF5"
          ]
         ],
         "geo": "geo",
         "locationmode": "USA-states",
         "locations": [
          "AK",
          "AL",
          "AR",
          "AZ",
          "CA",
          "CO",
          "CT",
          "DC",
          "DE",
          "FL",
          "GA",
          "HI",
          "IA",
          "ID",
          "IL",
          "IN",
          "KS",
          "KY",
          "LA",
          "MA",
          "MD",
          "ME",
          "MI",
          "MN",
          "MO",
          "MS",
          "MT",
          "NC",
          "ND",
          "NE",
          "NH",
          "NJ",
          "NM",
          "NV",
          "NY",
          "OH",
          "OK",
          "OR",
          "PA",
          "RI",
          "SC",
          "SD",
          "TN",
          "TX",
          "UT",
          "VA",
          "VT",
          "WA",
          "WI",
          "WV",
          "WY"
         ],
         "showscale": true,
         "type": "choropleth",
         "z": [
          100.6603846,
          125.9750247,
          164.478985,
          88.97108155,
          126.5601211,
          381.5493475,
          378.5469429,
          382.5703821,
          377.6852619,
          0,
          160.2772513,
          41.67042352,
          2342.45833,
          182.9635944,
          493.3193982,
          315.697808,
          712.0101589,
          540.9392083,
          0,
          407.3990948,
          262.9306609,
          197.4076697,
          371.2896747,
          523.1384002,
          0,
          187.6412755,
          11.89740817,
          203.2374182,
          0,
          0,
          219.7841566,
          533.9923444,
          143.3723274,
          269.5546912,
          0,
          365.4179183,
          198.7907512,
          76.4949541,
          237.9791665,
          0,
          251.4536511,
          4441.187574,
          340.3207899,
          36.71155608,
          336.9484911,
          0,
          103.6433365,
          181.9340028,
          420.0072767,
          0,
          76.49330225
         ],
         "zmax": 10000,
         "zmin": 0
        },
        {
         "colorscale": [
          [
           0,
           "#E0DFED"
          ],
          [
           0.1111111111111111,
           "#CCC7EE"
          ],
          [
           0.2222222222222222,
           "#B8B0EF"
          ],
          [
           0.3333333333333333,
           "#A498F0"
          ],
          [
           0.4444444444444444,
           "#9080F1"
          ],
          [
           0.5555555555555556,
           "#7D69F1"
          ],
          [
           0.6666666666666666,
           "#6951F2"
          ],
          [
           0.7777777777777778,
           "#5539F3"
          ],
          [
           0.8888888888888888,
           "#4122F4"
          ],
          [
           1,
           "#2D0AF5"
          ]
         ],
         "geo": "geo4",
         "locationmode": "USA-states",
         "locations": [
          "AK",
          "AL",
          "AR",
          "AZ",
          "CA",
          "CO",
          "CT",
          "DC",
          "DE",
          "FL",
          "GA",
          "HI",
          "IA",
          "ID",
          "IL",
          "IN",
          "KS",
          "KY",
          "LA",
          "MA",
          "MD",
          "ME",
          "MI",
          "MN",
          "MO",
          "MS",
          "MT",
          "NC",
          "ND",
          "NE",
          "NH",
          "NJ",
          "NM",
          "NV",
          "NY",
          "OH",
          "OK",
          "OR",
          "PA",
          "RI",
          "SC",
          "SD",
          "TN",
          "TX",
          "UT",
          "VA",
          "VT",
          "WA",
          "WI",
          "WV",
          "WY"
         ],
         "showscale": true,
         "type": "choropleth",
         "z": [
          53.4468182,
          580.842005,
          516.8841448,
          231.0382707,
          181.5713764,
          653.5541134,
          1399.879526,
          1277.469217,
          1185.831817,
          320.4004897,
          458.204413,
          23.43961323,
          1857.753646,
          382.5602428,
          1099.518833,
          722.8172492,
          558.4397341,
          279.4325345,
          0,
          1676.007608,
          843.948653,
          1871.969282,
          1293.841986,
          1564.078964,
          589.9741569,
          743.2948023,
          38.07170615,
          285.2481981,
          0,
          0,
          695.4108079,
          1282.832211,
          425.5654798,
          250.6592171,
          0,
          612.4810401,
          215.604687,
          123.6200167,
          612.6403286,
          2698.503143,
          330.3417996,
          5203.080959,
          461.5090586,
          69.01465487,
          855.7087723,
          386.0140693,
          388.9990163,
          366.0841633,
          953.5737895,
          205.2341093,
          137.687944
         ],
         "zmax": 10000,
         "zmin": 0
        },
        {
         "colorscale": [
          [
           0,
           "#E0DFED"
          ],
          [
           0.1111111111111111,
           "#CCC7EE"
          ],
          [
           0.2222222222222222,
           "#B8B0EF"
          ],
          [
           0.3333333333333333,
           "#A498F0"
          ],
          [
           0.4444444444444444,
           "#9080F1"
          ],
          [
           0.5555555555555556,
           "#7D69F1"
          ],
          [
           0.6666666666666666,
           "#6951F2"
          ],
          [
           0.7777777777777778,
           "#5539F3"
          ],
          [
           0.8888888888888888,
           "#4122F4"
          ],
          [
           1,
           "#2D0AF5"
          ]
         ],
         "geo": "geo7",
         "locationmode": "USA-states",
         "locations": [
          "AK",
          "AL",
          "AR",
          "AZ",
          "CA",
          "CO",
          "CT",
          "DC",
          "DE",
          "FL",
          "GA",
          "HI",
          "IA",
          "ID",
          "IL",
          "IN",
          "KS",
          "KY",
          "LA",
          "MA",
          "MD",
          "ME",
          "MI",
          "MN",
          "MO",
          "MS",
          "MT",
          "NC",
          "ND",
          "NE",
          "NH",
          "NJ",
          "NM",
          "NV",
          "NY",
          "OH",
          "OK",
          "OR",
          "PA",
          "RI",
          "SC",
          "SD",
          "TN",
          "TX",
          "UT",
          "VA",
          "VT",
          "WA",
          "WI",
          "WV",
          "WY"
         ],
         "showscale": true,
         "type": "choropleth",
         "z": [
          0,
          0,
          0,
          213.663247,
          279.9962226,
          806.6488191,
          1291.551253,
          0,
          2978.420385,
          366.2617008,
          600.587557,
          0,
          0,
          0,
          1726.686582,
          0,
          0,
          0,
          0,
          2243.045444,
          2200.513197,
          0,
          0,
          0,
          0,
          949.0152065,
          0,
          0,
          0,
          0,
          467.1155841,
          1492.814768,
          180.78232,
          275.2400152,
          0,
          0,
          0,
          0,
          0,
          4125.577392,
          0,
          2662.898992,
          0,
          53.3290528,
          890.0755127,
          0,
          0,
          636.0589898,
          0,
          0,
          137.3402472
         ],
         "zmax": 10000,
         "zmin": 0
        },
        {
         "colorscale": [
          [
           0,
           "#E0DFED"
          ],
          [
           0.1111111111111111,
           "#CCC7EE"
          ],
          [
           0.2222222222222222,
           "#B8B0EF"
          ],
          [
           0.3333333333333333,
           "#A498F0"
          ],
          [
           0.4444444444444444,
           "#9080F1"
          ],
          [
           0.5555555555555556,
           "#7D69F1"
          ],
          [
           0.6666666666666666,
           "#6951F2"
          ],
          [
           0.7777777777777778,
           "#5539F3"
          ],
          [
           0.8888888888888888,
           "#4122F4"
          ],
          [
           1,
           "#2D0AF5"
          ]
         ],
         "geo": "geo10",
         "locationmode": "USA-states",
         "locations": [
          "AK",
          "AL",
          "AR",
          "AZ",
          "CA",
          "CO",
          "CT",
          "DC",
          "DE",
          "FL",
          "GA",
          "HI",
          "IA",
          "ID",
          "IL",
          "IN",
          "KS",
          "KY",
          "LA",
          "MA",
          "MD",
          "ME",
          "MI",
          "MN",
          "MO",
          "MS",
          "MT",
          "NC",
          "ND",
          "NE",
          "NH",
          "NJ",
          "NM",
          "NV",
          "NY",
          "OH",
          "OK",
          "OR",
          "PA",
          "RI",
          "SC",
          "SD",
          "TN",
          "TX",
          "UT",
          "VA",
          "VT",
          "WA",
          "WI",
          "WV",
          "WY"
         ],
         "showscale": true,
         "type": "choropleth",
         "z": [
          57.54538344,
          206.6114303,
          150.5313943,
          91.34952302,
          67.55429243,
          190.7401924,
          525.0451036,
          470.5009222,
          414.5240581,
          97.18337888,
          191.2524369,
          56.25507175,
          402.7524199,
          94.43878459,
          256.5545615,
          266.4911023,
          244.2409721,
          131.294921,
          0,
          473.0031147,
          308.3107724,
          103.4645164,
          271.8114841,
          185.1523416,
          112.6690729,
          251.9937872,
          47.4283119,
          161.2315467,
          0,
          0,
          158.1753927,
          524.8333546,
          58.14118447,
          103.9036919,
          0,
          190.9171564,
          148.0587939,
          55.89666871,
          192.7420597,
          631.4397135,
          125.7564641,
          209.6879272,
          190.8014181,
          19.63847096,
          136.227222,
          240.4808081,
          151.8441895,
          107.0629544,
          193.4170868,
          92.85358638,
          60.63391409
         ],
         "zmax": 10000,
         "zmin": 0
        },
        {
         "colorscale": [
          [
           0,
           "#E0DFED"
          ],
          [
           0.1111111111111111,
           "#CCC7EE"
          ],
          [
           0.2222222222222222,
           "#B8B0EF"
          ],
          [
           0.3333333333333333,
           "#A498F0"
          ],
          [
           0.4444444444444444,
           "#9080F1"
          ],
          [
           0.5555555555555556,
           "#7D69F1"
          ],
          [
           0.6666666666666666,
           "#6951F2"
          ],
          [
           0.7777777777777778,
           "#5539F3"
          ],
          [
           0.8888888888888888,
           "#4122F4"
          ],
          [
           1,
           "#2D0AF5"
          ]
         ],
         "geo": "geo2",
         "locationmode": "USA-states",
         "locations": [
          "AK",
          "AL",
          "AR",
          "AZ",
          "CA",
          "CO",
          "CT",
          "DC",
          "DE",
          "FL",
          "GA",
          "HI",
          "IA",
          "ID",
          "IL",
          "IN",
          "KS",
          "KY",
          "LA",
          "MA",
          "MD",
          "ME",
          "MI",
          "MN",
          "MO",
          "MS",
          "MT",
          "NC",
          "ND",
          "NE",
          "NH",
          "NJ",
          "NM",
          "NV",
          "NY",
          "OH",
          "OK",
          "OR",
          "PA",
          "RI",
          "SC",
          "SD",
          "TN",
          "TX",
          "UT",
          "VA",
          "VT",
          "WA",
          "WI",
          "WV",
          "WY"
         ],
         "showscale": true,
         "type": "choropleth",
         "z": [
          216.6386539,
          539.0559197,
          1644.78985,
          699.3041047,
          317.6028785,
          255.6659131,
          93.85975103,
          397.0070003,
          241.0756991,
          0,
          739.6302541,
          212.6307771,
          1076.336377,
          785.9118032,
          298.9814535,
          375.0542141,
          716.7489953,
          232.2592169,
          8981.746624,
          186.4481199,
          268.4688193,
          544.572882,
          310.4331282,
          1063.128073,
          0,
          750.5651018,
          297.4352043,
          572.4240672,
          1973.437009,
          3046.809616,
          310.4451212,
          192.6593161,
          331.5485072,
          1178.737638,
          0,
          844.3220845,
          2333.479807,
          325.2411358,
          211.9969,
          0,
          1076.769347,
          1309.384612,
          761.7886294,
          18.79808595,
          1364.641389,
          646.8477064,
          442.8397106,
          215.6195998,
          925.1261601,
          0,
          401.5898368
         ],
         "zmax": 10000,
         "zmin": 0
        },
        {
         "colorscale": [
          [
           0,
           "#E0DFED"
          ],
          [
           0.1111111111111111,
           "#CCC7EE"
          ],
          [
           0.2222222222222222,
           "#B8B0EF"
          ],
          [
           0.3333333333333333,
           "#A498F0"
          ],
          [
           0.4444444444444444,
           "#9080F1"
          ],
          [
           0.5555555555555556,
           "#7D69F1"
          ],
          [
           0.6666666666666666,
           "#6951F2"
          ],
          [
           0.7777777777777778,
           "#5539F3"
          ],
          [
           0.8888888888888888,
           "#4122F4"
          ],
          [
           1,
           "#2D0AF5"
          ]
         ],
         "geo": "geo5",
         "locationmode": "USA-states",
         "locations": [
          "AK",
          "AL",
          "AR",
          "AZ",
          "CA",
          "CO",
          "CT",
          "DC",
          "DE",
          "FL",
          "GA",
          "HI",
          "IA",
          "ID",
          "IL",
          "IN",
          "KS",
          "KY",
          "LA",
          "MA",
          "MD",
          "ME",
          "MI",
          "MN",
          "MO",
          "MS",
          "MT",
          "NC",
          "ND",
          "NE",
          "NH",
          "NJ",
          "NM",
          "NV",
          "NY",
          "OH",
          "OK",
          "OR",
          "PA",
          "RI",
          "SC",
          "SD",
          "TN",
          "TX",
          "UT",
          "VA",
          "VT",
          "WA",
          "WI",
          "WV",
          "WY"
         ],
         "showscale": true,
         "type": "choropleth",
         "z": [
          805.8135666,
          1778.606989,
          2435.587726,
          1665.177605,
          690.6910202,
          494.8338287,
          416.1733344,
          960.3625062,
          937.3718172,
          2399.734886,
          1642.101928,
          183.6103036,
          2023.040346,
          2353.577146,
          835.8747416,
          836.4506962,
          1263.622756,
          835.5227025,
          3593.322947,
          576.9799283,
          1071.05019,
          3123.514459,
          558.6797044,
          2626.55171,
          1078.248278,
          2221.8853,
          780.4699762,
          1082.996271,
          4383.727839,
          2285.107212,
          959.6669149,
          407.8932542,
          591.6953195,
          1238.877635,
          0,
          1303.701735,
          1218.392884,
          1020.820963,
          659.197364,
          -2.781962003,
          2057.631812,
          1315.127527,
          2143.950002,
          154.8150775,
          2354.544578,
          1071.241406,
          1601.760655,
          722.5719455,
          1802.454135,
          884.8861958,
          516.3297902
         ],
         "zmax": 10000,
         "zmin": 0
        },
        {
         "colorscale": [
          [
           0,
           "#E0DFED"
          ],
          [
           0.1111111111111111,
           "#CCC7EE"
          ],
          [
           0.2222222222222222,
           "#B8B0EF"
          ],
          [
           0.3333333333333333,
           "#A498F0"
          ],
          [
           0.4444444444444444,
           "#9080F1"
          ],
          [
           0.5555555555555556,
           "#7D69F1"
          ],
          [
           0.6666666666666666,
           "#6951F2"
          ],
          [
           0.7777777777777778,
           "#5539F3"
          ],
          [
           0.8888888888888888,
           "#4122F4"
          ],
          [
           1,
           "#2D0AF5"
          ]
         ],
         "geo": "geo8",
         "locationmode": "USA-states",
         "locations": [
          "AK",
          "AL",
          "AR",
          "AZ",
          "CA",
          "CO",
          "CT",
          "DC",
          "DE",
          "FL",
          "GA",
          "HI",
          "IA",
          "ID",
          "IL",
          "IN",
          "KS",
          "KY",
          "LA",
          "MA",
          "MD",
          "ME",
          "MI",
          "MN",
          "MO",
          "MS",
          "MT",
          "NC",
          "ND",
          "NE",
          "NH",
          "NJ",
          "NM",
          "NV",
          "NY",
          "OH",
          "OK",
          "OR",
          "PA",
          "RI",
          "SC",
          "SD",
          "TN",
          "TX",
          "UT",
          "VA",
          "VT",
          "WA",
          "WI",
          "WV",
          "WY"
         ],
         "showscale": true,
         "type": "choropleth",
         "z": [
          0,
          0,
          0,
          2541.346459,
          1542.678211,
          1001.720214,
          468.9126758,
          0,
          1852.002916,
          2931.513949,
          2865.235685,
          0,
          0,
          0,
          1230.57386,
          0,
          0,
          0,
          0,
          1037.649745,
          2051.476421,
          0,
          0,
          4377.502967,
          0,
          1701.309721,
          0,
          0,
          0,
          0,
          1283.064265,
          567.3398672,
          903.1281444,
          2035.228767,
          0,
          0,
          0,
          0,
          0,
          526.3688886,
          0,
          1499.203065,
          0,
          118.0478155,
          3461.814815,
          3846.136801,
          0,
          1709.840568,
          0,
          0,
          747.548181
         ],
         "zmax": 10000,
         "zmin": 0
        },
        {
         "colorscale": [
          [
           0,
           "#E0DFED"
          ],
          [
           0.1111111111111111,
           "#CCC7EE"
          ],
          [
           0.2222222222222222,
           "#B8B0EF"
          ],
          [
           0.3333333333333333,
           "#A498F0"
          ],
          [
           0.4444444444444444,
           "#9080F1"
          ],
          [
           0.5555555555555556,
           "#7D69F1"
          ],
          [
           0.6666666666666666,
           "#6951F2"
          ],
          [
           0.7777777777777778,
           "#5539F3"
          ],
          [
           0.8888888888888888,
           "#4122F4"
          ],
          [
           1,
           "#2D0AF5"
          ]
         ],
         "geo": "geo11",
         "locationmode": "USA-states",
         "locations": [
          "AK",
          "AL",
          "AR",
          "AZ",
          "CA",
          "CO",
          "CT",
          "DC",
          "DE",
          "FL",
          "GA",
          "HI",
          "IA",
          "ID",
          "IL",
          "IN",
          "KS",
          "KY",
          "LA",
          "MA",
          "MD",
          "ME",
          "MI",
          "MN",
          "MO",
          "MS",
          "MT",
          "NC",
          "ND",
          "NE",
          "NH",
          "NJ",
          "NM",
          "NV",
          "NY",
          "OH",
          "OK",
          "OR",
          "PA",
          "RI",
          "SC",
          "SD",
          "TN",
          "TX",
          "UT",
          "VA",
          "VT",
          "WA",
          "WI",
          "WV",
          "WY"
         ],
         "showscale": true,
         "type": "choropleth",
         "z": [
          241.7326144,
          928.9233041,
          1312.61811,
          766.9905848,
          267.539388,
          252.3185702,
          150.9131536,
          567.3276351,
          512.0055399,
          826.0937588,
          989.4935257,
          94.50852053,
          1147.242746,
          896.3922444,
          428.5729384,
          579.9157596,
          850.5691853,
          506.5782786,
          1858.87885,
          278.7516676,
          425.4203696,
          125.2214446,
          378.5726251,
          523.3717673,
          454.1237182,
          1299.845002,
          376.7378154,
          859.4194476,
          906.2790538,
          1283.288026,
          217.5011457,
          208.8169932,
          170.0789374,
          596.1384571,
          0,
          493.4444973,
          976.203326,
          243.2912559,
          265.5483892,
          60.27699535,
          1120.219495,
          747.1920681,
          1278.603825,
          45.58401356,
          683.7522706,
          294.3195339,
          75.32696075,
          243.6994303,
          859.7303568,
          386.9588988,
          310.1368214
         ],
         "zmax": 10000,
         "zmin": 0
        },
        {
         "colorscale": [
          [
           0,
           "#E0DFED"
          ],
          [
           0.1111111111111111,
           "#CCC7EE"
          ],
          [
           0.2222222222222222,
           "#B8B0EF"
          ],
          [
           0.3333333333333333,
           "#A498F0"
          ],
          [
           0.4444444444444444,
           "#9080F1"
          ],
          [
           0.5555555555555556,
           "#7D69F1"
          ],
          [
           0.6666666666666666,
           "#6951F2"
          ],
          [
           0.7777777777777778,
           "#5539F3"
          ],
          [
           0.8888888888888888,
           "#4122F4"
          ],
          [
           1,
           "#2D0AF5"
          ]
         ],
         "geo": "geo3",
         "locationmode": "USA-states",
         "locations": [
          "AK",
          "AL",
          "AR",
          "AZ",
          "CA",
          "CO",
          "CT",
          "DC",
          "DE",
          "FL",
          "GA",
          "HI",
          "IA",
          "ID",
          "IL",
          "IN",
          "KS",
          "KY",
          "LA",
          "MA",
          "MD",
          "ME",
          "MI",
          "MN",
          "MO",
          "MS",
          "MT",
          "NC",
          "ND",
          "NE",
          "NH",
          "NJ",
          "NM",
          "NV",
          "NY",
          "OH",
          "OK",
          "OR",
          "PA",
          "RI",
          "SC",
          "SD",
          "TN",
          "TX",
          "UT",
          "VA",
          "VT",
          "WA",
          "WI",
          "WV",
          "WY"
         ],
         "showscale": true,
         "type": "choropleth",
         "z": [
          3761.634809,
          1353.499103,
          2640.554516,
          1911.373911,
          1321.411258,
          1832.550881,
          755.8507103,
          1201.848465,
          2268.79019,
          0,
          1742.624627,
          607.3836285,
          3968.243856,
          2956.525355,
          2002.748622,
          3552.252609,
          3228.332251,
          3008.880693,
          8515.129627,
          1241.439261,
          972.0786521,
          1157.217374,
          1804.655568,
          4962.512584,
          2674.896108,
          1980.285603,
          2700.711655,
          1908.080224,
          9083.096235,
          2239.405068,
          1118.151897,
          1163.30659,
          2980.949641,
          3800.433949,
          0,
          2663.611934,
          3868.329328,
          1634.46053,
          2020.868497,
          3886.400918,
          2238.186459,
          3545.292839,
          2768.936061,
          11.35256955,
          5711.276925,
          1399.223996,
          2958.546152,
          928.8962273,
          5812.876039,
          0,
          3652.555182
         ],
         "zmax": 10000,
         "zmin": 0
        },
        {
         "colorscale": [
          [
           0,
           "#E0DFED"
          ],
          [
           0.1111111111111111,
           "#CCC7EE"
          ],
          [
           0.2222222222222222,
           "#B8B0EF"
          ],
          [
           0.3333333333333333,
           "#A498F0"
          ],
          [
           0.4444444444444444,
           "#9080F1"
          ],
          [
           0.5555555555555556,
           "#7D69F1"
          ],
          [
           0.6666666666666666,
           "#6951F2"
          ],
          [
           0.7777777777777778,
           "#5539F3"
          ],
          [
           0.8888888888888888,
           "#4122F4"
          ],
          [
           1,
           "#2D0AF5"
          ]
         ],
         "geo": "geo6",
         "locationmode": "USA-states",
         "locations": [
          "AK",
          "AL",
          "AR",
          "AZ",
          "CA",
          "CO",
          "CT",
          "DC",
          "DE",
          "FL",
          "GA",
          "HI",
          "IA",
          "ID",
          "IL",
          "IN",
          "KS",
          "KY",
          "LA",
          "MA",
          "MD",
          "ME",
          "MI",
          "MN",
          "MO",
          "MS",
          "MT",
          "NC",
          "ND",
          "NE",
          "NH",
          "NJ",
          "NM",
          "NV",
          "NY",
          "OH",
          "OK",
          "OR",
          "PA",
          "RI",
          "SC",
          "SD",
          "TN",
          "TX",
          "UT",
          "VA",
          "VT",
          "WA",
          "WI",
          "WV",
          "WY"
         ],
         "showscale": true,
         "type": "choropleth",
         "z": [
          4259.300281,
          2236.789102,
          5142.038434,
          2769.937685,
          1959.408395,
          2811.131459,
          1840.625909,
          2042.641162,
          4147.58795,
          2085.545091,
          2405.573168,
          1148.541048,
          3306.594881,
          4058.465185,
          2848.745821,
          3778.47171,
          4602.614868,
          4051.910496,
          2940.027819,
          2025.768077,
          2505.673993,
          3620.923439,
          2482.754282,
          5259.843929,
          3266.793165,
          3455.703122,
          6091.472985,
          2775.092588,
          7819.622632,
          2572.377833,
          1585.536642,
          1799.435817,
          2901.582817,
          3078.524043,
          0,
          3263.129048,
          4236.16188,
          2417.599708,
          2858.057525,
          5031.178283,
          2542.92584,
          5386.854238,
          3981.64678,
          98.1411787,
          6918.324697,
          2134.659036,
          2196.700327,
          1666.926918,
          6487.485744,
          1969.057686,
          5249.352867
         ],
         "zmax": 10000,
         "zmin": 0
        },
        {
         "colorscale": [
          [
           0,
           "#E0DFED"
          ],
          [
           0.1111111111111111,
           "#CCC7EE"
          ],
          [
           0.2222222222222222,
           "#B8B0EF"
          ],
          [
           0.3333333333333333,
           "#A498F0"
          ],
          [
           0.4444444444444444,
           "#9080F1"
          ],
          [
           0.5555555555555556,
           "#7D69F1"
          ],
          [
           0.6666666666666666,
           "#6951F2"
          ],
          [
           0.7777777777777778,
           "#5539F3"
          ],
          [
           0.8888888888888888,
           "#4122F4"
          ],
          [
           1,
           "#2D0AF5"
          ]
         ],
         "geo": "geo9",
         "locationmode": "USA-states",
         "locations": [
          "AK",
          "AL",
          "AR",
          "AZ",
          "CA",
          "CO",
          "CT",
          "DC",
          "DE",
          "FL",
          "GA",
          "HI",
          "IA",
          "ID",
          "IL",
          "IN",
          "KS",
          "KY",
          "LA",
          "MA",
          "MD",
          "ME",
          "MI",
          "MN",
          "MO",
          "MS",
          "MT",
          "NC",
          "ND",
          "NE",
          "NH",
          "NJ",
          "NM",
          "NV",
          "NY",
          "OH",
          "OK",
          "OR",
          "PA",
          "RI",
          "SC",
          "SD",
          "TN",
          "TX",
          "UT",
          "VA",
          "VT",
          "WA",
          "WI",
          "WV",
          "WY"
         ],
         "showscale": true,
         "type": "choropleth",
         "z": [
          0,
          0,
          0,
          3931.8569,
          3970.715482,
          6137.909416,
          3610.575483,
          0,
          6567.740566,
          4239.089526,
          2991.504767,
          0,
          0,
          0,
          5147.043568,
          0,
          0,
          0,
          0,
          6180.498203,
          3587.575115,
          0,
          0,
          8032.356787,
          0,
          2505.486616,
          0,
          0,
          0,
          0,
          3636.685277,
          3266.539438,
          4620.917534,
          4901.100952,
          0,
          0,
          0,
          0,
          0,
          9590.109483,
          0,
          5827.547397,
          0,
          65.61913503,
          9995.185889,
          3338.033012,
          0,
          2813.611887,
          0,
          0,
          5065.94279
         ],
         "zmax": 10000,
         "zmin": 0
        },
        {
         "colorscale": [
          [
           0,
           "#E0DFED"
          ],
          [
           0.1111111111111111,
           "#CCC7EE"
          ],
          [
           0.2222222222222222,
           "#B8B0EF"
          ],
          [
           0.3333333333333333,
           "#A498F0"
          ],
          [
           0.4444444444444444,
           "#9080F1"
          ],
          [
           0.5555555555555556,
           "#7D69F1"
          ],
          [
           0.6666666666666666,
           "#6951F2"
          ],
          [
           0.7777777777777778,
           "#5539F3"
          ],
          [
           0.8888888888888888,
           "#4122F4"
          ],
          [
           1,
           "#2D0AF5"
          ]
         ],
         "geo": "geo12",
         "locationmode": "USA-states",
         "locations": [
          "AK",
          "AL",
          "AR",
          "AZ",
          "CA",
          "CO",
          "CT",
          "DC",
          "DE",
          "FL",
          "GA",
          "HI",
          "IA",
          "ID",
          "IL",
          "IN",
          "KS",
          "KY",
          "LA",
          "MA",
          "MD",
          "ME",
          "MI",
          "MN",
          "MO",
          "MS",
          "MT",
          "NC",
          "ND",
          "NE",
          "NH",
          "NJ",
          "NM",
          "NV",
          "NY",
          "OH",
          "OK",
          "OR",
          "PA",
          "RI",
          "SC",
          "SD",
          "TN",
          "TX",
          "UT",
          "VA",
          "VT",
          "WA",
          "WI",
          "WV",
          "WY"
         ],
         "showscale": true,
         "type": "choropleth",
         "z": [
          2771.839309,
          2236.28792,
          4647.477491,
          2130.600852,
          1025.696995,
          2242.327188,
          1399.235804,
          1445.409594,
          2983.814017,
          1730.934404,
          2312.071377,
          500.6701385,
          4458.377272,
          3929.6237,
          3011.652228,
          5081.556868,
          5113.144044,
          3629.599263,
          3058.676448,
          1383.92708,
          1914.436567,
          1207.668327,
          3120.341056,
          5161.927452,
          3160.413328,
          4016.696053,
          4824.244415,
          2825.253161,
          6653.116765,
          3947.849715,
          1289.197319,
          1501.389198,
          1105.896442,
          2339.935758,
          0,
          3451.452085,
          4633.009358,
          1202.496474,
          2424.139036,
          3358.356883,
          2778.556917,
          8225.652724,
          5065.456895,
          34.09357146,
          5341.901041,
          1778.795105,
          759.0509093,
          800.8137031,
          6819.524519,
          2558.940816,
          3823.514365
         ],
         "zmax": 10000,
         "zmin": 0
        }
       ],
       "layout": {
        "annotations": [
         {
          "font": {
           "size": 38
          },
          "showarrow": false,
          "text": "Wave 1",
          "x": 0.16666666666666666,
          "xanchor": "center",
          "xref": "paper",
          "y": 1,
          "yanchor": "bottom",
          "yref": "paper"
         },
         {
          "font": {
           "size": 38
          },
          "showarrow": false,
          "text": "Wave 2",
          "x": 0.5,
          "xanchor": "center",
          "xref": "paper",
          "y": 1,
          "yanchor": "bottom",
          "yref": "paper"
         },
         {
          "font": {
           "size": 38
          },
          "showarrow": false,
          "text": "Wave 3",
          "x": 0.8333333333333333,
          "xanchor": "center",
          "xref": "paper",
          "y": 1,
          "yanchor": "bottom",
          "yref": "paper"
         }
        ],
        "coloraxis": {
         "showscale": true
        },
        "font": {
         "family": "Calibri",
         "size": 42
        },
        "geo": {
         "domain": {
          "x": [
           0,
           0.3333333333333333
          ],
          "y": [
           0.7575000000000001,
           1
          ]
         },
         "scope": "usa"
        },
        "geo10": {
         "domain": {
          "x": [
           0,
           0.3333333333333333
          ],
          "y": [
           0,
           0.2425
          ]
         },
         "scope": "usa"
        },
        "geo11": {
         "domain": {
          "x": [
           0.3333333333333333,
           0.6666666666666666
          ],
          "y": [
           0,
           0.2425
          ]
         },
         "scope": "usa"
        },
        "geo12": {
         "domain": {
          "x": [
           0.6666666666666666,
           1
          ],
          "y": [
           0,
           0.2425
          ]
         },
         "scope": "usa"
        },
        "geo2": {
         "domain": {
          "x": [
           0.3333333333333333,
           0.6666666666666666
          ],
          "y": [
           0.7575000000000001,
           1
          ]
         },
         "scope": "usa"
        },
        "geo3": {
         "domain": {
          "x": [
           0.6666666666666666,
           1
          ],
          "y": [
           0.7575000000000001,
           1
          ]
         },
         "scope": "usa"
        },
        "geo4": {
         "domain": {
          "x": [
           0,
           0.3333333333333333
          ],
          "y": [
           0.505,
           0.7475
          ]
         },
         "scope": "usa"
        },
        "geo5": {
         "domain": {
          "x": [
           0.3333333333333333,
           0.6666666666666666
          ],
          "y": [
           0.505,
           0.7475
          ]
         },
         "scope": "usa"
        },
        "geo6": {
         "domain": {
          "x": [
           0.6666666666666666,
           1
          ],
          "y": [
           0.505,
           0.7475
          ]
         },
         "scope": "usa"
        },
        "geo7": {
         "domain": {
          "x": [
           0,
           0.3333333333333333
          ],
          "y": [
           0.2525,
           0.495
          ]
         },
         "scope": "usa"
        },
        "geo8": {
         "domain": {
          "x": [
           0.3333333333333333,
           0.6666666666666666
          ],
          "y": [
           0.2525,
           0.495
          ]
         },
         "scope": "usa"
        },
        "geo9": {
         "domain": {
          "x": [
           0.6666666666666666,
           1
          ],
          "y": [
           0.2525,
           0.495
          ]
         },
         "scope": "usa"
        },
        "margin": {
         "b": 15,
         "l": 1,
         "r": 0,
         "t": 70
        },
        "template": {
         "data": {
          "bar": [
           {
            "error_x": {
             "color": "#2a3f5f"
            },
            "error_y": {
             "color": "#2a3f5f"
            },
            "marker": {
             "line": {
              "color": "#E5ECF6",
              "width": 0.5
             },
             "pattern": {
              "fillmode": "overlay",
              "size": 10,
              "solidity": 0.2
             }
            },
            "type": "bar"
           }
          ],
          "barpolar": [
           {
            "marker": {
             "line": {
              "color": "#E5ECF6",
              "width": 0.5
             },
             "pattern": {
              "fillmode": "overlay",
              "size": 10,
              "solidity": 0.2
             }
            },
            "type": "barpolar"
           }
          ],
          "carpet": [
           {
            "aaxis": {
             "endlinecolor": "#2a3f5f",
             "gridcolor": "white",
             "linecolor": "white",
             "minorgridcolor": "white",
             "startlinecolor": "#2a3f5f"
            },
            "baxis": {
             "endlinecolor": "#2a3f5f",
             "gridcolor": "white",
             "linecolor": "white",
             "minorgridcolor": "white",
             "startlinecolor": "#2a3f5f"
            },
            "type": "carpet"
           }
          ],
          "choropleth": [
           {
            "colorbar": {
             "outlinewidth": 0,
             "ticks": ""
            },
            "type": "choropleth"
           }
          ],
          "contour": [
           {
            "colorbar": {
             "outlinewidth": 0,
             "ticks": ""
            },
            "colorscale": [
             [
              0,
              "#0d0887"
             ],
             [
              0.1111111111111111,
              "#46039f"
             ],
             [
              0.2222222222222222,
              "#7201a8"
             ],
             [
              0.3333333333333333,
              "#9c179e"
             ],
             [
              0.4444444444444444,
              "#bd3786"
             ],
             [
              0.5555555555555556,
              "#d8576b"
             ],
             [
              0.6666666666666666,
              "#ed7953"
             ],
             [
              0.7777777777777778,
              "#fb9f3a"
             ],
             [
              0.8888888888888888,
              "#fdca26"
             ],
             [
              1,
              "#f0f921"
             ]
            ],
            "type": "contour"
           }
          ],
          "contourcarpet": [
           {
            "colorbar": {
             "outlinewidth": 0,
             "ticks": ""
            },
            "type": "contourcarpet"
           }
          ],
          "heatmap": [
           {
            "colorbar": {
             "outlinewidth": 0,
             "ticks": ""
            },
            "colorscale": [
             [
              0,
              "#0d0887"
             ],
             [
              0.1111111111111111,
              "#46039f"
             ],
             [
              0.2222222222222222,
              "#7201a8"
             ],
             [
              0.3333333333333333,
              "#9c179e"
             ],
             [
              0.4444444444444444,
              "#bd3786"
             ],
             [
              0.5555555555555556,
              "#d8576b"
             ],
             [
              0.6666666666666666,
              "#ed7953"
             ],
             [
              0.7777777777777778,
              "#fb9f3a"
             ],
             [
              0.8888888888888888,
              "#fdca26"
             ],
             [
              1,
              "#f0f921"
             ]
            ],
            "type": "heatmap"
           }
          ],
          "heatmapgl": [
           {
            "colorbar": {
             "outlinewidth": 0,
             "ticks": ""
            },
            "colorscale": [
             [
              0,
              "#0d0887"
             ],
             [
              0.1111111111111111,
              "#46039f"
             ],
             [
              0.2222222222222222,
              "#7201a8"
             ],
             [
              0.3333333333333333,
              "#9c179e"
             ],
             [
              0.4444444444444444,
              "#bd3786"
             ],
             [
              0.5555555555555556,
              "#d8576b"
             ],
             [
              0.6666666666666666,
              "#ed7953"
             ],
             [
              0.7777777777777778,
              "#fb9f3a"
             ],
             [
              0.8888888888888888,
              "#fdca26"
             ],
             [
              1,
              "#f0f921"
             ]
            ],
            "type": "heatmapgl"
           }
          ],
          "histogram": [
           {
            "marker": {
             "pattern": {
              "fillmode": "overlay",
              "size": 10,
              "solidity": 0.2
             }
            },
            "type": "histogram"
           }
          ],
          "histogram2d": [
           {
            "colorbar": {
             "outlinewidth": 0,
             "ticks": ""
            },
            "colorscale": [
             [
              0,
              "#0d0887"
             ],
             [
              0.1111111111111111,
              "#46039f"
             ],
             [
              0.2222222222222222,
              "#7201a8"
             ],
             [
              0.3333333333333333,
              "#9c179e"
             ],
             [
              0.4444444444444444,
              "#bd3786"
             ],
             [
              0.5555555555555556,
              "#d8576b"
             ],
             [
              0.6666666666666666,
              "#ed7953"
             ],
             [
              0.7777777777777778,
              "#fb9f3a"
             ],
             [
              0.8888888888888888,
              "#fdca26"
             ],
             [
              1,
              "#f0f921"
             ]
            ],
            "type": "histogram2d"
           }
          ],
          "histogram2dcontour": [
           {
            "colorbar": {
             "outlinewidth": 0,
             "ticks": ""
            },
            "colorscale": [
             [
              0,
              "#0d0887"
             ],
             [
              0.1111111111111111,
              "#46039f"
             ],
             [
              0.2222222222222222,
              "#7201a8"
             ],
             [
              0.3333333333333333,
              "#9c179e"
             ],
             [
              0.4444444444444444,
              "#bd3786"
             ],
             [
              0.5555555555555556,
              "#d8576b"
             ],
             [
              0.6666666666666666,
              "#ed7953"
             ],
             [
              0.7777777777777778,
              "#fb9f3a"
             ],
             [
              0.8888888888888888,
              "#fdca26"
             ],
             [
              1,
              "#f0f921"
             ]
            ],
            "type": "histogram2dcontour"
           }
          ],
          "mesh3d": [
           {
            "colorbar": {
             "outlinewidth": 0,
             "ticks": ""
            },
            "type": "mesh3d"
           }
          ],
          "parcoords": [
           {
            "line": {
             "colorbar": {
              "outlinewidth": 0,
              "ticks": ""
             }
            },
            "type": "parcoords"
           }
          ],
          "pie": [
           {
            "automargin": true,
            "type": "pie"
           }
          ],
          "scatter": [
           {
            "marker": {
             "colorbar": {
              "outlinewidth": 0,
              "ticks": ""
             }
            },
            "type": "scatter"
           }
          ],
          "scatter3d": [
           {
            "line": {
             "colorbar": {
              "outlinewidth": 0,
              "ticks": ""
             }
            },
            "marker": {
             "colorbar": {
              "outlinewidth": 0,
              "ticks": ""
             }
            },
            "type": "scatter3d"
           }
          ],
          "scattercarpet": [
           {
            "marker": {
             "colorbar": {
              "outlinewidth": 0,
              "ticks": ""
             }
            },
            "type": "scattercarpet"
           }
          ],
          "scattergeo": [
           {
            "marker": {
             "colorbar": {
              "outlinewidth": 0,
              "ticks": ""
             }
            },
            "type": "scattergeo"
           }
          ],
          "scattergl": [
           {
            "marker": {
             "colorbar": {
              "outlinewidth": 0,
              "ticks": ""
             }
            },
            "type": "scattergl"
           }
          ],
          "scattermapbox": [
           {
            "marker": {
             "colorbar": {
              "outlinewidth": 0,
              "ticks": ""
             }
            },
            "type": "scattermapbox"
           }
          ],
          "scatterpolar": [
           {
            "marker": {
             "colorbar": {
              "outlinewidth": 0,
              "ticks": ""
             }
            },
            "type": "scatterpolar"
           }
          ],
          "scatterpolargl": [
           {
            "marker": {
             "colorbar": {
              "outlinewidth": 0,
              "ticks": ""
             }
            },
            "type": "scatterpolargl"
           }
          ],
          "scatterternary": [
           {
            "marker": {
             "colorbar": {
              "outlinewidth": 0,
              "ticks": ""
             }
            },
            "type": "scatterternary"
           }
          ],
          "surface": [
           {
            "colorbar": {
             "outlinewidth": 0,
             "ticks": ""
            },
            "colorscale": [
             [
              0,
              "#0d0887"
             ],
             [
              0.1111111111111111,
              "#46039f"
             ],
             [
              0.2222222222222222,
              "#7201a8"
             ],
             [
              0.3333333333333333,
              "#9c179e"
             ],
             [
              0.4444444444444444,
              "#bd3786"
             ],
             [
              0.5555555555555556,
              "#d8576b"
             ],
             [
              0.6666666666666666,
              "#ed7953"
             ],
             [
              0.7777777777777778,
              "#fb9f3a"
             ],
             [
              0.8888888888888888,
              "#fdca26"
             ],
             [
              1,
              "#f0f921"
             ]
            ],
            "type": "surface"
           }
          ],
          "table": [
           {
            "cells": {
             "fill": {
              "color": "#EBF0F8"
             },
             "line": {
              "color": "white"
             }
            },
            "header": {
             "fill": {
              "color": "#C8D4E3"
             },
             "line": {
              "color": "white"
             }
            },
            "type": "table"
           }
          ]
         },
         "layout": {
          "annotationdefaults": {
           "arrowcolor": "#2a3f5f",
           "arrowhead": 0,
           "arrowwidth": 1
          },
          "autotypenumbers": "strict",
          "coloraxis": {
           "colorbar": {
            "outlinewidth": 0,
            "ticks": ""
           }
          },
          "colorscale": {
           "diverging": [
            [
             0,
             "#8e0152"
            ],
            [
             0.1,
             "#c51b7d"
            ],
            [
             0.2,
             "#de77ae"
            ],
            [
             0.3,
             "#f1b6da"
            ],
            [
             0.4,
             "#fde0ef"
            ],
            [
             0.5,
             "#f7f7f7"
            ],
            [
             0.6,
             "#e6f5d0"
            ],
            [
             0.7,
             "#b8e186"
            ],
            [
             0.8,
             "#7fbc41"
            ],
            [
             0.9,
             "#4d9221"
            ],
            [
             1,
             "#276419"
            ]
           ],
           "sequential": [
            [
             0,
             "#0d0887"
            ],
            [
             0.1111111111111111,
             "#46039f"
            ],
            [
             0.2222222222222222,
             "#7201a8"
            ],
            [
             0.3333333333333333,
             "#9c179e"
            ],
            [
             0.4444444444444444,
             "#bd3786"
            ],
            [
             0.5555555555555556,
             "#d8576b"
            ],
            [
             0.6666666666666666,
             "#ed7953"
            ],
            [
             0.7777777777777778,
             "#fb9f3a"
            ],
            [
             0.8888888888888888,
             "#fdca26"
            ],
            [
             1,
             "#f0f921"
            ]
           ],
           "sequentialminus": [
            [
             0,
             "#0d0887"
            ],
            [
             0.1111111111111111,
             "#46039f"
            ],
            [
             0.2222222222222222,
             "#7201a8"
            ],
            [
             0.3333333333333333,
             "#9c179e"
            ],
            [
             0.4444444444444444,
             "#bd3786"
            ],
            [
             0.5555555555555556,
             "#d8576b"
            ],
            [
             0.6666666666666666,
             "#ed7953"
            ],
            [
             0.7777777777777778,
             "#fb9f3a"
            ],
            [
             0.8888888888888888,
             "#fdca26"
            ],
            [
             1,
             "#f0f921"
            ]
           ]
          },
          "colorway": [
           "#636efa",
           "#EF553B",
           "#00cc96",
           "#ab63fa",
           "#FFA15A",
           "#19d3f3",
           "#FF6692",
           "#B6E880",
           "#FF97FF",
           "#FECB52"
          ],
          "font": {
           "color": "#2a3f5f"
          },
          "geo": {
           "bgcolor": "white",
           "lakecolor": "white",
           "landcolor": "#E5ECF6",
           "showlakes": true,
           "showland": true,
           "subunitcolor": "white"
          },
          "hoverlabel": {
           "align": "left"
          },
          "hovermode": "closest",
          "mapbox": {
           "style": "light"
          },
          "paper_bgcolor": "white",
          "plot_bgcolor": "#E5ECF6",
          "polar": {
           "angularaxis": {
            "gridcolor": "white",
            "linecolor": "white",
            "ticks": ""
           },
           "bgcolor": "#E5ECF6",
           "radialaxis": {
            "gridcolor": "white",
            "linecolor": "white",
            "ticks": ""
           }
          },
          "scene": {
           "xaxis": {
            "backgroundcolor": "#E5ECF6",
            "gridcolor": "white",
            "gridwidth": 2,
            "linecolor": "white",
            "showbackground": true,
            "ticks": "",
            "zerolinecolor": "white"
           },
           "yaxis": {
            "backgroundcolor": "#E5ECF6",
            "gridcolor": "white",
            "gridwidth": 2,
            "linecolor": "white",
            "showbackground": true,
            "ticks": "",
            "zerolinecolor": "white"
           },
           "zaxis": {
            "backgroundcolor": "#E5ECF6",
            "gridcolor": "white",
            "gridwidth": 2,
            "linecolor": "white",
            "showbackground": true,
            "ticks": "",
            "zerolinecolor": "white"
           }
          },
          "shapedefaults": {
           "line": {
            "color": "#2a3f5f"
           }
          },
          "ternary": {
           "aaxis": {
            "gridcolor": "white",
            "linecolor": "white",
            "ticks": ""
           },
           "baxis": {
            "gridcolor": "white",
            "linecolor": "white",
            "ticks": ""
           },
           "bgcolor": "#E5ECF6",
           "caxis": {
            "gridcolor": "white",
            "linecolor": "white",
            "ticks": ""
           }
          },
          "title": {
           "x": 0.05
          },
          "xaxis": {
           "automargin": true,
           "gridcolor": "white",
           "linecolor": "white",
           "ticks": "",
           "title": {
            "standoff": 15
           },
           "zerolinecolor": "white",
           "zerolinewidth": 2
          },
          "yaxis": {
           "automargin": true,
           "gridcolor": "white",
           "linecolor": "white",
           "ticks": "",
           "title": {
            "standoff": 15
           },
           "zerolinecolor": "white",
           "zerolinewidth": 2
          }
         }
        },
        "title": {
         "text": "COVID-19 Cases by Race and Wave",
         "x": 0.5,
         "xanchor": "center"
        }
       }
      },
      "text/html": [
       "<div>                            <div id=\"df26bb2a-cd7b-41b8-b665-7e29373fef56\" class=\"plotly-graph-div\" style=\"height:525px; width:100%;\"></div>            <script type=\"text/javascript\">                require([\"plotly\"], function(Plotly) {                    window.PLOTLYENV=window.PLOTLYENV || {};                                    if (document.getElementById(\"df26bb2a-cd7b-41b8-b665-7e29373fef56\")) {                    Plotly.newPlot(                        \"df26bb2a-cd7b-41b8-b665-7e29373fef56\",                        [{\"colorscale\":[[0.0,\"#E0DFED\"],[0.1111111111111111,\"#CCC7EE\"],[0.2222222222222222,\"#B8B0EF\"],[0.3333333333333333,\"#A498F0\"],[0.4444444444444444,\"#9080F1\"],[0.5555555555555556,\"#7D69F1\"],[0.6666666666666666,\"#6951F2\"],[0.7777777777777778,\"#5539F3\"],[0.8888888888888888,\"#4122F4\"],[1.0,\"#2D0AF5\"]],\"geo\":\"geo\",\"locationmode\":\"USA-states\",\"locations\":[\"AK\",\"AL\",\"AR\",\"AZ\",\"CA\",\"CO\",\"CT\",\"DC\",\"DE\",\"FL\",\"GA\",\"HI\",\"IA\",\"ID\",\"IL\",\"IN\",\"KS\",\"KY\",\"LA\",\"MA\",\"MD\",\"ME\",\"MI\",\"MN\",\"MO\",\"MS\",\"MT\",\"NC\",\"ND\",\"NE\",\"NH\",\"NJ\",\"NM\",\"NV\",\"NY\",\"OH\",\"OK\",\"OR\",\"PA\",\"RI\",\"SC\",\"SD\",\"TN\",\"TX\",\"UT\",\"VA\",\"VT\",\"WA\",\"WI\",\"WV\",\"WY\"],\"showscale\":true,\"type\":\"choropleth\",\"z\":[100.6603846,125.9750247,164.478985,88.97108155,126.5601211,381.5493475,378.5469429,382.5703821,377.6852619,0.0,160.2772513,41.67042352,2342.45833,182.9635944,493.3193982,315.697808,712.0101589,540.9392083,0.0,407.3990948,262.9306609,197.4076697,371.2896747,523.1384002,0.0,187.6412755,11.89740817,203.2374182,0.0,0.0,219.7841566,533.9923444,143.3723274,269.5546912,0.0,365.4179183,198.7907512,76.4949541,237.9791665,0.0,251.4536511,4441.187574,340.3207899,36.71155608,336.9484911,0.0,103.6433365,181.9340028,420.0072767,0.0,76.49330225],\"zmax\":10000,\"zmin\":0},{\"colorscale\":[[0.0,\"#E0DFED\"],[0.1111111111111111,\"#CCC7EE\"],[0.2222222222222222,\"#B8B0EF\"],[0.3333333333333333,\"#A498F0\"],[0.4444444444444444,\"#9080F1\"],[0.5555555555555556,\"#7D69F1\"],[0.6666666666666666,\"#6951F2\"],[0.7777777777777778,\"#5539F3\"],[0.8888888888888888,\"#4122F4\"],[1.0,\"#2D0AF5\"]],\"geo\":\"geo4\",\"locationmode\":\"USA-states\",\"locations\":[\"AK\",\"AL\",\"AR\",\"AZ\",\"CA\",\"CO\",\"CT\",\"DC\",\"DE\",\"FL\",\"GA\",\"HI\",\"IA\",\"ID\",\"IL\",\"IN\",\"KS\",\"KY\",\"LA\",\"MA\",\"MD\",\"ME\",\"MI\",\"MN\",\"MO\",\"MS\",\"MT\",\"NC\",\"ND\",\"NE\",\"NH\",\"NJ\",\"NM\",\"NV\",\"NY\",\"OH\",\"OK\",\"OR\",\"PA\",\"RI\",\"SC\",\"SD\",\"TN\",\"TX\",\"UT\",\"VA\",\"VT\",\"WA\",\"WI\",\"WV\",\"WY\"],\"showscale\":true,\"type\":\"choropleth\",\"z\":[53.4468182,580.842005,516.8841448,231.0382707,181.5713764,653.5541134,1399.879526,1277.469217,1185.831817,320.4004897,458.204413,23.43961323,1857.753646,382.5602428,1099.518833,722.8172492,558.4397341,279.4325345,0.0,1676.007608,843.948653,1871.969282,1293.841986,1564.078964,589.9741569,743.2948023,38.07170615,285.2481981,0.0,0.0,695.4108079,1282.832211,425.5654798,250.6592171,0.0,612.4810401,215.604687,123.6200167,612.6403286,2698.503143,330.3417996,5203.080959,461.5090586,69.01465487,855.7087723,386.0140693,388.9990163,366.0841633,953.5737895,205.2341093,137.687944],\"zmax\":10000,\"zmin\":0},{\"colorscale\":[[0.0,\"#E0DFED\"],[0.1111111111111111,\"#CCC7EE\"],[0.2222222222222222,\"#B8B0EF\"],[0.3333333333333333,\"#A498F0\"],[0.4444444444444444,\"#9080F1\"],[0.5555555555555556,\"#7D69F1\"],[0.6666666666666666,\"#6951F2\"],[0.7777777777777778,\"#5539F3\"],[0.8888888888888888,\"#4122F4\"],[1.0,\"#2D0AF5\"]],\"geo\":\"geo7\",\"locationmode\":\"USA-states\",\"locations\":[\"AK\",\"AL\",\"AR\",\"AZ\",\"CA\",\"CO\",\"CT\",\"DC\",\"DE\",\"FL\",\"GA\",\"HI\",\"IA\",\"ID\",\"IL\",\"IN\",\"KS\",\"KY\",\"LA\",\"MA\",\"MD\",\"ME\",\"MI\",\"MN\",\"MO\",\"MS\",\"MT\",\"NC\",\"ND\",\"NE\",\"NH\",\"NJ\",\"NM\",\"NV\",\"NY\",\"OH\",\"OK\",\"OR\",\"PA\",\"RI\",\"SC\",\"SD\",\"TN\",\"TX\",\"UT\",\"VA\",\"VT\",\"WA\",\"WI\",\"WV\",\"WY\"],\"showscale\":true,\"type\":\"choropleth\",\"z\":[0.0,0.0,0.0,213.663247,279.9962226,806.6488191,1291.551253,0.0,2978.420385,366.2617008,600.587557,0.0,0.0,0.0,1726.686582,0.0,0.0,0.0,0.0,2243.045444,2200.513197,0.0,0.0,0.0,0.0,949.0152065,0.0,0.0,0.0,0.0,467.1155841,1492.814768,180.78232,275.2400152,0.0,0.0,0.0,0.0,0.0,4125.577392,0.0,2662.898992,0.0,53.3290528,890.0755127,0.0,0.0,636.0589898,0.0,0.0,137.3402472],\"zmax\":10000,\"zmin\":0},{\"colorscale\":[[0.0,\"#E0DFED\"],[0.1111111111111111,\"#CCC7EE\"],[0.2222222222222222,\"#B8B0EF\"],[0.3333333333333333,\"#A498F0\"],[0.4444444444444444,\"#9080F1\"],[0.5555555555555556,\"#7D69F1\"],[0.6666666666666666,\"#6951F2\"],[0.7777777777777778,\"#5539F3\"],[0.8888888888888888,\"#4122F4\"],[1.0,\"#2D0AF5\"]],\"geo\":\"geo10\",\"locationmode\":\"USA-states\",\"locations\":[\"AK\",\"AL\",\"AR\",\"AZ\",\"CA\",\"CO\",\"CT\",\"DC\",\"DE\",\"FL\",\"GA\",\"HI\",\"IA\",\"ID\",\"IL\",\"IN\",\"KS\",\"KY\",\"LA\",\"MA\",\"MD\",\"ME\",\"MI\",\"MN\",\"MO\",\"MS\",\"MT\",\"NC\",\"ND\",\"NE\",\"NH\",\"NJ\",\"NM\",\"NV\",\"NY\",\"OH\",\"OK\",\"OR\",\"PA\",\"RI\",\"SC\",\"SD\",\"TN\",\"TX\",\"UT\",\"VA\",\"VT\",\"WA\",\"WI\",\"WV\",\"WY\"],\"showscale\":true,\"type\":\"choropleth\",\"z\":[57.54538344,206.6114303,150.5313943,91.34952302,67.55429243,190.7401924,525.0451036,470.5009222,414.5240581,97.18337888,191.2524369,56.25507175,402.7524199,94.43878459,256.5545615,266.4911023,244.2409721,131.294921,0.0,473.0031147,308.3107724,103.4645164,271.8114841,185.1523416,112.6690729,251.9937872,47.4283119,161.2315467,0.0,0.0,158.1753927,524.8333546,58.14118447,103.9036919,0.0,190.9171564,148.0587939,55.89666871,192.7420597,631.4397135,125.7564641,209.6879272,190.8014181,19.63847096,136.227222,240.4808081,151.8441895,107.0629544,193.4170868,92.85358638,60.63391409],\"zmax\":10000,\"zmin\":0},{\"colorscale\":[[0.0,\"#E0DFED\"],[0.1111111111111111,\"#CCC7EE\"],[0.2222222222222222,\"#B8B0EF\"],[0.3333333333333333,\"#A498F0\"],[0.4444444444444444,\"#9080F1\"],[0.5555555555555556,\"#7D69F1\"],[0.6666666666666666,\"#6951F2\"],[0.7777777777777778,\"#5539F3\"],[0.8888888888888888,\"#4122F4\"],[1.0,\"#2D0AF5\"]],\"geo\":\"geo2\",\"locationmode\":\"USA-states\",\"locations\":[\"AK\",\"AL\",\"AR\",\"AZ\",\"CA\",\"CO\",\"CT\",\"DC\",\"DE\",\"FL\",\"GA\",\"HI\",\"IA\",\"ID\",\"IL\",\"IN\",\"KS\",\"KY\",\"LA\",\"MA\",\"MD\",\"ME\",\"MI\",\"MN\",\"MO\",\"MS\",\"MT\",\"NC\",\"ND\",\"NE\",\"NH\",\"NJ\",\"NM\",\"NV\",\"NY\",\"OH\",\"OK\",\"OR\",\"PA\",\"RI\",\"SC\",\"SD\",\"TN\",\"TX\",\"UT\",\"VA\",\"VT\",\"WA\",\"WI\",\"WV\",\"WY\"],\"showscale\":true,\"type\":\"choropleth\",\"z\":[216.6386539,539.0559197,1644.78985,699.3041047,317.6028785,255.6659131,93.85975103,397.0070003,241.0756991,0.0,739.6302541,212.6307771,1076.336377,785.9118032,298.9814535,375.0542141,716.7489953,232.2592169,8981.746624,186.4481199,268.4688193,544.572882,310.4331282,1063.128073,0.0,750.5651018,297.4352043,572.4240672,1973.437009,3046.809616,310.4451212,192.6593161,331.5485072,1178.737638,0.0,844.3220845,2333.479807,325.2411358,211.9969,0.0,1076.769347,1309.384612,761.7886294,18.79808595,1364.641389,646.8477064,442.8397106,215.6195998,925.1261601,0.0,401.5898368],\"zmax\":10000,\"zmin\":0},{\"colorscale\":[[0.0,\"#E0DFED\"],[0.1111111111111111,\"#CCC7EE\"],[0.2222222222222222,\"#B8B0EF\"],[0.3333333333333333,\"#A498F0\"],[0.4444444444444444,\"#9080F1\"],[0.5555555555555556,\"#7D69F1\"],[0.6666666666666666,\"#6951F2\"],[0.7777777777777778,\"#5539F3\"],[0.8888888888888888,\"#4122F4\"],[1.0,\"#2D0AF5\"]],\"geo\":\"geo5\",\"locationmode\":\"USA-states\",\"locations\":[\"AK\",\"AL\",\"AR\",\"AZ\",\"CA\",\"CO\",\"CT\",\"DC\",\"DE\",\"FL\",\"GA\",\"HI\",\"IA\",\"ID\",\"IL\",\"IN\",\"KS\",\"KY\",\"LA\",\"MA\",\"MD\",\"ME\",\"MI\",\"MN\",\"MO\",\"MS\",\"MT\",\"NC\",\"ND\",\"NE\",\"NH\",\"NJ\",\"NM\",\"NV\",\"NY\",\"OH\",\"OK\",\"OR\",\"PA\",\"RI\",\"SC\",\"SD\",\"TN\",\"TX\",\"UT\",\"VA\",\"VT\",\"WA\",\"WI\",\"WV\",\"WY\"],\"showscale\":true,\"type\":\"choropleth\",\"z\":[805.8135666,1778.606989,2435.587726,1665.177605,690.6910202,494.8338287,416.1733344,960.3625062,937.3718172,2399.734886,1642.101928,183.6103036,2023.040346,2353.577146,835.8747416,836.4506962,1263.622756,835.5227025,3593.322947,576.9799283,1071.05019,3123.514459,558.6797044,2626.55171,1078.248278,2221.8853,780.4699762,1082.996271,4383.727839,2285.107212,959.6669149,407.8932542,591.6953195,1238.877635,0.0,1303.701735,1218.392884,1020.820963,659.197364,-2.781962003,2057.631812,1315.127527,2143.950002,154.8150775,2354.544578,1071.241406,1601.760655,722.5719455,1802.454135,884.8861958,516.3297902],\"zmax\":10000,\"zmin\":0},{\"colorscale\":[[0.0,\"#E0DFED\"],[0.1111111111111111,\"#CCC7EE\"],[0.2222222222222222,\"#B8B0EF\"],[0.3333333333333333,\"#A498F0\"],[0.4444444444444444,\"#9080F1\"],[0.5555555555555556,\"#7D69F1\"],[0.6666666666666666,\"#6951F2\"],[0.7777777777777778,\"#5539F3\"],[0.8888888888888888,\"#4122F4\"],[1.0,\"#2D0AF5\"]],\"geo\":\"geo8\",\"locationmode\":\"USA-states\",\"locations\":[\"AK\",\"AL\",\"AR\",\"AZ\",\"CA\",\"CO\",\"CT\",\"DC\",\"DE\",\"FL\",\"GA\",\"HI\",\"IA\",\"ID\",\"IL\",\"IN\",\"KS\",\"KY\",\"LA\",\"MA\",\"MD\",\"ME\",\"MI\",\"MN\",\"MO\",\"MS\",\"MT\",\"NC\",\"ND\",\"NE\",\"NH\",\"NJ\",\"NM\",\"NV\",\"NY\",\"OH\",\"OK\",\"OR\",\"PA\",\"RI\",\"SC\",\"SD\",\"TN\",\"TX\",\"UT\",\"VA\",\"VT\",\"WA\",\"WI\",\"WV\",\"WY\"],\"showscale\":true,\"type\":\"choropleth\",\"z\":[0.0,0.0,0.0,2541.346459,1542.678211,1001.720214,468.9126758,0.0,1852.002916,2931.513949,2865.235685,0.0,0.0,0.0,1230.57386,0.0,0.0,0.0,0.0,1037.649745,2051.476421,0.0,0.0,4377.502967,0.0,1701.309721,0.0,0.0,0.0,0.0,1283.064265,567.3398672,903.1281444,2035.228767,0.0,0.0,0.0,0.0,0.0,526.3688886,0.0,1499.203065,0.0,118.0478155,3461.814815,3846.136801,0.0,1709.840568,0.0,0.0,747.548181],\"zmax\":10000,\"zmin\":0},{\"colorscale\":[[0.0,\"#E0DFED\"],[0.1111111111111111,\"#CCC7EE\"],[0.2222222222222222,\"#B8B0EF\"],[0.3333333333333333,\"#A498F0\"],[0.4444444444444444,\"#9080F1\"],[0.5555555555555556,\"#7D69F1\"],[0.6666666666666666,\"#6951F2\"],[0.7777777777777778,\"#5539F3\"],[0.8888888888888888,\"#4122F4\"],[1.0,\"#2D0AF5\"]],\"geo\":\"geo11\",\"locationmode\":\"USA-states\",\"locations\":[\"AK\",\"AL\",\"AR\",\"AZ\",\"CA\",\"CO\",\"CT\",\"DC\",\"DE\",\"FL\",\"GA\",\"HI\",\"IA\",\"ID\",\"IL\",\"IN\",\"KS\",\"KY\",\"LA\",\"MA\",\"MD\",\"ME\",\"MI\",\"MN\",\"MO\",\"MS\",\"MT\",\"NC\",\"ND\",\"NE\",\"NH\",\"NJ\",\"NM\",\"NV\",\"NY\",\"OH\",\"OK\",\"OR\",\"PA\",\"RI\",\"SC\",\"SD\",\"TN\",\"TX\",\"UT\",\"VA\",\"VT\",\"WA\",\"WI\",\"WV\",\"WY\"],\"showscale\":true,\"type\":\"choropleth\",\"z\":[241.7326144,928.9233041,1312.61811,766.9905848,267.539388,252.3185702,150.9131536,567.3276351,512.0055399,826.0937588,989.4935257,94.50852053,1147.242746,896.3922444,428.5729384,579.9157596,850.5691853,506.5782786,1858.87885,278.7516676,425.4203696,125.2214446,378.5726251,523.3717673,454.1237182,1299.845002,376.7378154,859.4194476,906.2790538,1283.288026,217.5011457,208.8169932,170.0789374,596.1384571,0.0,493.4444973,976.203326,243.2912559,265.5483892,60.27699535,1120.219495,747.1920681,1278.603825,45.58401356,683.7522706,294.3195339,75.32696075,243.6994303,859.7303568,386.9588988,310.1368214],\"zmax\":10000,\"zmin\":0},{\"colorscale\":[[0.0,\"#E0DFED\"],[0.1111111111111111,\"#CCC7EE\"],[0.2222222222222222,\"#B8B0EF\"],[0.3333333333333333,\"#A498F0\"],[0.4444444444444444,\"#9080F1\"],[0.5555555555555556,\"#7D69F1\"],[0.6666666666666666,\"#6951F2\"],[0.7777777777777778,\"#5539F3\"],[0.8888888888888888,\"#4122F4\"],[1.0,\"#2D0AF5\"]],\"geo\":\"geo3\",\"locationmode\":\"USA-states\",\"locations\":[\"AK\",\"AL\",\"AR\",\"AZ\",\"CA\",\"CO\",\"CT\",\"DC\",\"DE\",\"FL\",\"GA\",\"HI\",\"IA\",\"ID\",\"IL\",\"IN\",\"KS\",\"KY\",\"LA\",\"MA\",\"MD\",\"ME\",\"MI\",\"MN\",\"MO\",\"MS\",\"MT\",\"NC\",\"ND\",\"NE\",\"NH\",\"NJ\",\"NM\",\"NV\",\"NY\",\"OH\",\"OK\",\"OR\",\"PA\",\"RI\",\"SC\",\"SD\",\"TN\",\"TX\",\"UT\",\"VA\",\"VT\",\"WA\",\"WI\",\"WV\",\"WY\"],\"showscale\":true,\"type\":\"choropleth\",\"z\":[3761.634809,1353.499103,2640.554516,1911.373911,1321.411258,1832.550881,755.8507103,1201.848465,2268.79019,0.0,1742.624627,607.3836285,3968.243856,2956.525355,2002.748622,3552.252609,3228.332251,3008.880693,8515.129627,1241.439261,972.0786521,1157.217374,1804.655568,4962.512584,2674.896108,1980.285603,2700.711655,1908.080224,9083.096235,2239.405068,1118.151897,1163.30659,2980.949641,3800.433949,0.0,2663.611934,3868.329328,1634.46053,2020.868497,3886.400918,2238.186459,3545.292839,2768.936061,11.35256955,5711.276925,1399.223996,2958.546152,928.8962273,5812.876039,0.0,3652.555182],\"zmax\":10000,\"zmin\":0},{\"colorscale\":[[0.0,\"#E0DFED\"],[0.1111111111111111,\"#CCC7EE\"],[0.2222222222222222,\"#B8B0EF\"],[0.3333333333333333,\"#A498F0\"],[0.4444444444444444,\"#9080F1\"],[0.5555555555555556,\"#7D69F1\"],[0.6666666666666666,\"#6951F2\"],[0.7777777777777778,\"#5539F3\"],[0.8888888888888888,\"#4122F4\"],[1.0,\"#2D0AF5\"]],\"geo\":\"geo6\",\"locationmode\":\"USA-states\",\"locations\":[\"AK\",\"AL\",\"AR\",\"AZ\",\"CA\",\"CO\",\"CT\",\"DC\",\"DE\",\"FL\",\"GA\",\"HI\",\"IA\",\"ID\",\"IL\",\"IN\",\"KS\",\"KY\",\"LA\",\"MA\",\"MD\",\"ME\",\"MI\",\"MN\",\"MO\",\"MS\",\"MT\",\"NC\",\"ND\",\"NE\",\"NH\",\"NJ\",\"NM\",\"NV\",\"NY\",\"OH\",\"OK\",\"OR\",\"PA\",\"RI\",\"SC\",\"SD\",\"TN\",\"TX\",\"UT\",\"VA\",\"VT\",\"WA\",\"WI\",\"WV\",\"WY\"],\"showscale\":true,\"type\":\"choropleth\",\"z\":[4259.300281,2236.789102,5142.038434,2769.937685,1959.408395,2811.131459,1840.625909,2042.641162,4147.58795,2085.545091,2405.573168,1148.541048,3306.594881,4058.465185,2848.745821,3778.47171,4602.614868,4051.910496,2940.027819,2025.768077,2505.673993,3620.923439,2482.754282,5259.843929,3266.793165,3455.703122,6091.472985,2775.092588,7819.622632,2572.377833,1585.536642,1799.435817,2901.582817,3078.524043,0.0,3263.129048,4236.16188,2417.599708,2858.057525,5031.178283,2542.92584,5386.854238,3981.64678,98.1411787,6918.324697,2134.659036,2196.700327,1666.926918,6487.485744,1969.057686,5249.352867],\"zmax\":10000,\"zmin\":0},{\"colorscale\":[[0.0,\"#E0DFED\"],[0.1111111111111111,\"#CCC7EE\"],[0.2222222222222222,\"#B8B0EF\"],[0.3333333333333333,\"#A498F0\"],[0.4444444444444444,\"#9080F1\"],[0.5555555555555556,\"#7D69F1\"],[0.6666666666666666,\"#6951F2\"],[0.7777777777777778,\"#5539F3\"],[0.8888888888888888,\"#4122F4\"],[1.0,\"#2D0AF5\"]],\"geo\":\"geo9\",\"locationmode\":\"USA-states\",\"locations\":[\"AK\",\"AL\",\"AR\",\"AZ\",\"CA\",\"CO\",\"CT\",\"DC\",\"DE\",\"FL\",\"GA\",\"HI\",\"IA\",\"ID\",\"IL\",\"IN\",\"KS\",\"KY\",\"LA\",\"MA\",\"MD\",\"ME\",\"MI\",\"MN\",\"MO\",\"MS\",\"MT\",\"NC\",\"ND\",\"NE\",\"NH\",\"NJ\",\"NM\",\"NV\",\"NY\",\"OH\",\"OK\",\"OR\",\"PA\",\"RI\",\"SC\",\"SD\",\"TN\",\"TX\",\"UT\",\"VA\",\"VT\",\"WA\",\"WI\",\"WV\",\"WY\"],\"showscale\":true,\"type\":\"choropleth\",\"z\":[0.0,0.0,0.0,3931.8569,3970.715482,6137.909416,3610.575483,0.0,6567.740566,4239.089526,2991.504767,0.0,0.0,0.0,5147.043568,0.0,0.0,0.0,0.0,6180.498203,3587.575115,0.0,0.0,8032.356787,0.0,2505.486616,0.0,0.0,0.0,0.0,3636.685277,3266.539438,4620.917534,4901.100952,0.0,0.0,0.0,0.0,0.0,9590.109483,0.0,5827.547397,0.0,65.61913503,9995.185889,3338.033012,0.0,2813.611887,0.0,0.0,5065.94279],\"zmax\":10000,\"zmin\":0},{\"colorscale\":[[0.0,\"#E0DFED\"],[0.1111111111111111,\"#CCC7EE\"],[0.2222222222222222,\"#B8B0EF\"],[0.3333333333333333,\"#A498F0\"],[0.4444444444444444,\"#9080F1\"],[0.5555555555555556,\"#7D69F1\"],[0.6666666666666666,\"#6951F2\"],[0.7777777777777778,\"#5539F3\"],[0.8888888888888888,\"#4122F4\"],[1.0,\"#2D0AF5\"]],\"geo\":\"geo12\",\"locationmode\":\"USA-states\",\"locations\":[\"AK\",\"AL\",\"AR\",\"AZ\",\"CA\",\"CO\",\"CT\",\"DC\",\"DE\",\"FL\",\"GA\",\"HI\",\"IA\",\"ID\",\"IL\",\"IN\",\"KS\",\"KY\",\"LA\",\"MA\",\"MD\",\"ME\",\"MI\",\"MN\",\"MO\",\"MS\",\"MT\",\"NC\",\"ND\",\"NE\",\"NH\",\"NJ\",\"NM\",\"NV\",\"NY\",\"OH\",\"OK\",\"OR\",\"PA\",\"RI\",\"SC\",\"SD\",\"TN\",\"TX\",\"UT\",\"VA\",\"VT\",\"WA\",\"WI\",\"WV\",\"WY\"],\"showscale\":true,\"type\":\"choropleth\",\"z\":[2771.839309,2236.28792,4647.477491,2130.600852,1025.696995,2242.327188,1399.235804,1445.409594,2983.814017,1730.934404,2312.071377,500.6701385,4458.377272,3929.6237,3011.652228,5081.556868,5113.144044,3629.599263,3058.676448,1383.92708,1914.436567,1207.668327,3120.341056,5161.927452,3160.413328,4016.696053,4824.244415,2825.253161,6653.116765,3947.849715,1289.197319,1501.389198,1105.896442,2339.935758,0.0,3451.452085,4633.009358,1202.496474,2424.139036,3358.356883,2778.556917,8225.652724,5065.456895,34.09357146,5341.901041,1778.795105,759.0509093,800.8137031,6819.524519,2558.940816,3823.514365],\"zmax\":10000,\"zmin\":0}],                        {\"annotations\":[{\"font\":{\"size\":38},\"showarrow\":false,\"text\":\"Wave 1\",\"x\":0.16666666666666666,\"xanchor\":\"center\",\"xref\":\"paper\",\"y\":1.0,\"yanchor\":\"bottom\",\"yref\":\"paper\"},{\"font\":{\"size\":38},\"showarrow\":false,\"text\":\"Wave 2\",\"x\":0.5,\"xanchor\":\"center\",\"xref\":\"paper\",\"y\":1.0,\"yanchor\":\"bottom\",\"yref\":\"paper\"},{\"font\":{\"size\":38},\"showarrow\":false,\"text\":\"Wave 3\",\"x\":0.8333333333333333,\"xanchor\":\"center\",\"xref\":\"paper\",\"y\":1.0,\"yanchor\":\"bottom\",\"yref\":\"paper\"}],\"coloraxis\":{\"showscale\":true},\"font\":{\"family\":\"Calibri\",\"size\":42},\"geo\":{\"domain\":{\"x\":[0.0,0.3333333333333333],\"y\":[0.7575000000000001,1.0]},\"scope\":\"usa\"},\"geo10\":{\"domain\":{\"x\":[0.0,0.3333333333333333],\"y\":[0.0,0.2425]},\"scope\":\"usa\"},\"geo11\":{\"domain\":{\"x\":[0.3333333333333333,0.6666666666666666],\"y\":[0.0,0.2425]},\"scope\":\"usa\"},\"geo12\":{\"domain\":{\"x\":[0.6666666666666666,1.0],\"y\":[0.0,0.2425]},\"scope\":\"usa\"},\"geo2\":{\"domain\":{\"x\":[0.3333333333333333,0.6666666666666666],\"y\":[0.7575000000000001,1.0]},\"scope\":\"usa\"},\"geo3\":{\"domain\":{\"x\":[0.6666666666666666,1.0],\"y\":[0.7575000000000001,1.0]},\"scope\":\"usa\"},\"geo4\":{\"domain\":{\"x\":[0.0,0.3333333333333333],\"y\":[0.505,0.7475]},\"scope\":\"usa\"},\"geo5\":{\"domain\":{\"x\":[0.3333333333333333,0.6666666666666666],\"y\":[0.505,0.7475]},\"scope\":\"usa\"},\"geo6\":{\"domain\":{\"x\":[0.6666666666666666,1.0],\"y\":[0.505,0.7475]},\"scope\":\"usa\"},\"geo7\":{\"domain\":{\"x\":[0.0,0.3333333333333333],\"y\":[0.2525,0.495]},\"scope\":\"usa\"},\"geo8\":{\"domain\":{\"x\":[0.3333333333333333,0.6666666666666666],\"y\":[0.2525,0.495]},\"scope\":\"usa\"},\"geo9\":{\"domain\":{\"x\":[0.6666666666666666,1.0],\"y\":[0.2525,0.495]},\"scope\":\"usa\"},\"margin\":{\"b\":15,\"l\":1,\"r\":0,\"t\":70},\"template\":{\"data\":{\"bar\":[{\"error_x\":{\"color\":\"#2a3f5f\"},\"error_y\":{\"color\":\"#2a3f5f\"},\"marker\":{\"line\":{\"color\":\"#E5ECF6\",\"width\":0.5},\"pattern\":{\"fillmode\":\"overlay\",\"size\":10,\"solidity\":0.2}},\"type\":\"bar\"}],\"barpolar\":[{\"marker\":{\"line\":{\"color\":\"#E5ECF6\",\"width\":0.5},\"pattern\":{\"fillmode\":\"overlay\",\"size\":10,\"solidity\":0.2}},\"type\":\"barpolar\"}],\"carpet\":[{\"aaxis\":{\"endlinecolor\":\"#2a3f5f\",\"gridcolor\":\"white\",\"linecolor\":\"white\",\"minorgridcolor\":\"white\",\"startlinecolor\":\"#2a3f5f\"},\"baxis\":{\"endlinecolor\":\"#2a3f5f\",\"gridcolor\":\"white\",\"linecolor\":\"white\",\"minorgridcolor\":\"white\",\"startlinecolor\":\"#2a3f5f\"},\"type\":\"carpet\"}],\"choropleth\":[{\"colorbar\":{\"outlinewidth\":0,\"ticks\":\"\"},\"type\":\"choropleth\"}],\"contour\":[{\"colorbar\":{\"outlinewidth\":0,\"ticks\":\"\"},\"colorscale\":[[0.0,\"#0d0887\"],[0.1111111111111111,\"#46039f\"],[0.2222222222222222,\"#7201a8\"],[0.3333333333333333,\"#9c179e\"],[0.4444444444444444,\"#bd3786\"],[0.5555555555555556,\"#d8576b\"],[0.6666666666666666,\"#ed7953\"],[0.7777777777777778,\"#fb9f3a\"],[0.8888888888888888,\"#fdca26\"],[1.0,\"#f0f921\"]],\"type\":\"contour\"}],\"contourcarpet\":[{\"colorbar\":{\"outlinewidth\":0,\"ticks\":\"\"},\"type\":\"contourcarpet\"}],\"heatmap\":[{\"colorbar\":{\"outlinewidth\":0,\"ticks\":\"\"},\"colorscale\":[[0.0,\"#0d0887\"],[0.1111111111111111,\"#46039f\"],[0.2222222222222222,\"#7201a8\"],[0.3333333333333333,\"#9c179e\"],[0.4444444444444444,\"#bd3786\"],[0.5555555555555556,\"#d8576b\"],[0.6666666666666666,\"#ed7953\"],[0.7777777777777778,\"#fb9f3a\"],[0.8888888888888888,\"#fdca26\"],[1.0,\"#f0f921\"]],\"type\":\"heatmap\"}],\"heatmapgl\":[{\"colorbar\":{\"outlinewidth\":0,\"ticks\":\"\"},\"colorscale\":[[0.0,\"#0d0887\"],[0.1111111111111111,\"#46039f\"],[0.2222222222222222,\"#7201a8\"],[0.3333333333333333,\"#9c179e\"],[0.4444444444444444,\"#bd3786\"],[0.5555555555555556,\"#d8576b\"],[0.6666666666666666,\"#ed7953\"],[0.7777777777777778,\"#fb9f3a\"],[0.8888888888888888,\"#fdca26\"],[1.0,\"#f0f921\"]],\"type\":\"heatmapgl\"}],\"histogram\":[{\"marker\":{\"pattern\":{\"fillmode\":\"overlay\",\"size\":10,\"solidity\":0.2}},\"type\":\"histogram\"}],\"histogram2d\":[{\"colorbar\":{\"outlinewidth\":0,\"ticks\":\"\"},\"colorscale\":[[0.0,\"#0d0887\"],[0.1111111111111111,\"#46039f\"],[0.2222222222222222,\"#7201a8\"],[0.3333333333333333,\"#9c179e\"],[0.4444444444444444,\"#bd3786\"],[0.5555555555555556,\"#d8576b\"],[0.6666666666666666,\"#ed7953\"],[0.7777777777777778,\"#fb9f3a\"],[0.8888888888888888,\"#fdca26\"],[1.0,\"#f0f921\"]],\"type\":\"histogram2d\"}],\"histogram2dcontour\":[{\"colorbar\":{\"outlinewidth\":0,\"ticks\":\"\"},\"colorscale\":[[0.0,\"#0d0887\"],[0.1111111111111111,\"#46039f\"],[0.2222222222222222,\"#7201a8\"],[0.3333333333333333,\"#9c179e\"],[0.4444444444444444,\"#bd3786\"],[0.5555555555555556,\"#d8576b\"],[0.6666666666666666,\"#ed7953\"],[0.7777777777777778,\"#fb9f3a\"],[0.8888888888888888,\"#fdca26\"],[1.0,\"#f0f921\"]],\"type\":\"histogram2dcontour\"}],\"mesh3d\":[{\"colorbar\":{\"outlinewidth\":0,\"ticks\":\"\"},\"type\":\"mesh3d\"}],\"parcoords\":[{\"line\":{\"colorbar\":{\"outlinewidth\":0,\"ticks\":\"\"}},\"type\":\"parcoords\"}],\"pie\":[{\"automargin\":true,\"type\":\"pie\"}],\"scatter\":[{\"marker\":{\"colorbar\":{\"outlinewidth\":0,\"ticks\":\"\"}},\"type\":\"scatter\"}],\"scatter3d\":[{\"line\":{\"colorbar\":{\"outlinewidth\":0,\"ticks\":\"\"}},\"marker\":{\"colorbar\":{\"outlinewidth\":0,\"ticks\":\"\"}},\"type\":\"scatter3d\"}],\"scattercarpet\":[{\"marker\":{\"colorbar\":{\"outlinewidth\":0,\"ticks\":\"\"}},\"type\":\"scattercarpet\"}],\"scattergeo\":[{\"marker\":{\"colorbar\":{\"outlinewidth\":0,\"ticks\":\"\"}},\"type\":\"scattergeo\"}],\"scattergl\":[{\"marker\":{\"colorbar\":{\"outlinewidth\":0,\"ticks\":\"\"}},\"type\":\"scattergl\"}],\"scattermapbox\":[{\"marker\":{\"colorbar\":{\"outlinewidth\":0,\"ticks\":\"\"}},\"type\":\"scattermapbox\"}],\"scatterpolar\":[{\"marker\":{\"colorbar\":{\"outlinewidth\":0,\"ticks\":\"\"}},\"type\":\"scatterpolar\"}],\"scatterpolargl\":[{\"marker\":{\"colorbar\":{\"outlinewidth\":0,\"ticks\":\"\"}},\"type\":\"scatterpolargl\"}],\"scatterternary\":[{\"marker\":{\"colorbar\":{\"outlinewidth\":0,\"ticks\":\"\"}},\"type\":\"scatterternary\"}],\"surface\":[{\"colorbar\":{\"outlinewidth\":0,\"ticks\":\"\"},\"colorscale\":[[0.0,\"#0d0887\"],[0.1111111111111111,\"#46039f\"],[0.2222222222222222,\"#7201a8\"],[0.3333333333333333,\"#9c179e\"],[0.4444444444444444,\"#bd3786\"],[0.5555555555555556,\"#d8576b\"],[0.6666666666666666,\"#ed7953\"],[0.7777777777777778,\"#fb9f3a\"],[0.8888888888888888,\"#fdca26\"],[1.0,\"#f0f921\"]],\"type\":\"surface\"}],\"table\":[{\"cells\":{\"fill\":{\"color\":\"#EBF0F8\"},\"line\":{\"color\":\"white\"}},\"header\":{\"fill\":{\"color\":\"#C8D4E3\"},\"line\":{\"color\":\"white\"}},\"type\":\"table\"}]},\"layout\":{\"annotationdefaults\":{\"arrowcolor\":\"#2a3f5f\",\"arrowhead\":0,\"arrowwidth\":1},\"autotypenumbers\":\"strict\",\"coloraxis\":{\"colorbar\":{\"outlinewidth\":0,\"ticks\":\"\"}},\"colorscale\":{\"diverging\":[[0,\"#8e0152\"],[0.1,\"#c51b7d\"],[0.2,\"#de77ae\"],[0.3,\"#f1b6da\"],[0.4,\"#fde0ef\"],[0.5,\"#f7f7f7\"],[0.6,\"#e6f5d0\"],[0.7,\"#b8e186\"],[0.8,\"#7fbc41\"],[0.9,\"#4d9221\"],[1,\"#276419\"]],\"sequential\":[[0.0,\"#0d0887\"],[0.1111111111111111,\"#46039f\"],[0.2222222222222222,\"#7201a8\"],[0.3333333333333333,\"#9c179e\"],[0.4444444444444444,\"#bd3786\"],[0.5555555555555556,\"#d8576b\"],[0.6666666666666666,\"#ed7953\"],[0.7777777777777778,\"#fb9f3a\"],[0.8888888888888888,\"#fdca26\"],[1.0,\"#f0f921\"]],\"sequentialminus\":[[0.0,\"#0d0887\"],[0.1111111111111111,\"#46039f\"],[0.2222222222222222,\"#7201a8\"],[0.3333333333333333,\"#9c179e\"],[0.4444444444444444,\"#bd3786\"],[0.5555555555555556,\"#d8576b\"],[0.6666666666666666,\"#ed7953\"],[0.7777777777777778,\"#fb9f3a\"],[0.8888888888888888,\"#fdca26\"],[1.0,\"#f0f921\"]]},\"colorway\":[\"#636efa\",\"#EF553B\",\"#00cc96\",\"#ab63fa\",\"#FFA15A\",\"#19d3f3\",\"#FF6692\",\"#B6E880\",\"#FF97FF\",\"#FECB52\"],\"font\":{\"color\":\"#2a3f5f\"},\"geo\":{\"bgcolor\":\"white\",\"lakecolor\":\"white\",\"landcolor\":\"#E5ECF6\",\"showlakes\":true,\"showland\":true,\"subunitcolor\":\"white\"},\"hoverlabel\":{\"align\":\"left\"},\"hovermode\":\"closest\",\"mapbox\":{\"style\":\"light\"},\"paper_bgcolor\":\"white\",\"plot_bgcolor\":\"#E5ECF6\",\"polar\":{\"angularaxis\":{\"gridcolor\":\"white\",\"linecolor\":\"white\",\"ticks\":\"\"},\"bgcolor\":\"#E5ECF6\",\"radialaxis\":{\"gridcolor\":\"white\",\"linecolor\":\"white\",\"ticks\":\"\"}},\"scene\":{\"xaxis\":{\"backgroundcolor\":\"#E5ECF6\",\"gridcolor\":\"white\",\"gridwidth\":2,\"linecolor\":\"white\",\"showbackground\":true,\"ticks\":\"\",\"zerolinecolor\":\"white\"},\"yaxis\":{\"backgroundcolor\":\"#E5ECF6\",\"gridcolor\":\"white\",\"gridwidth\":2,\"linecolor\":\"white\",\"showbackground\":true,\"ticks\":\"\",\"zerolinecolor\":\"white\"},\"zaxis\":{\"backgroundcolor\":\"#E5ECF6\",\"gridcolor\":\"white\",\"gridwidth\":2,\"linecolor\":\"white\",\"showbackground\":true,\"ticks\":\"\",\"zerolinecolor\":\"white\"}},\"shapedefaults\":{\"line\":{\"color\":\"#2a3f5f\"}},\"ternary\":{\"aaxis\":{\"gridcolor\":\"white\",\"linecolor\":\"white\",\"ticks\":\"\"},\"baxis\":{\"gridcolor\":\"white\",\"linecolor\":\"white\",\"ticks\":\"\"},\"bgcolor\":\"#E5ECF6\",\"caxis\":{\"gridcolor\":\"white\",\"linecolor\":\"white\",\"ticks\":\"\"}},\"title\":{\"x\":0.05},\"xaxis\":{\"automargin\":true,\"gridcolor\":\"white\",\"linecolor\":\"white\",\"ticks\":\"\",\"title\":{\"standoff\":15},\"zerolinecolor\":\"white\",\"zerolinewidth\":2},\"yaxis\":{\"automargin\":true,\"gridcolor\":\"white\",\"linecolor\":\"white\",\"ticks\":\"\",\"title\":{\"standoff\":15},\"zerolinecolor\":\"white\",\"zerolinewidth\":2}}},\"title\":{\"text\":\"COVID-19 Cases by Race and Wave\",\"x\":0.5,\"xanchor\":\"center\"}},                        {\"responsive\": true}                    ).then(function(){\n",
       "                            \n",
       "var gd = document.getElementById('df26bb2a-cd7b-41b8-b665-7e29373fef56');\n",
       "var x = new MutationObserver(function (mutations, observer) {{\n",
       "        var display = window.getComputedStyle(gd).display;\n",
       "        if (!display || display === 'none') {{\n",
       "            console.log([gd, 'removed!']);\n",
       "            Plotly.purge(gd);\n",
       "            observer.disconnect();\n",
       "        }}\n",
       "}});\n",
       "\n",
       "// Listen for the removal of the full notebook cells\n",
       "var notebookContainer = gd.closest('#notebook-container');\n",
       "if (notebookContainer) {{\n",
       "    x.observe(notebookContainer, {childList: true});\n",
       "}}\n",
       "\n",
       "// Listen for the clearing of the current output cell\n",
       "var outputEl = gd.closest('.output');\n",
       "if (outputEl) {{\n",
       "    x.observe(outputEl, {childList: true});\n",
       "}}\n",
       "\n",
       "                        })                };                });            </script>        </div>"
      ]
     },
     "metadata": {},
     "output_type": "display_data"
    }
   ],
   "source": [
    "waves = (CovTw['Wave'].sort_values(ascending=True).unique()).tolist()\n",
    "\n",
    "cscale = [\"#E0DFED\",\"#CCC7EE\",\"#B8B0EF\",\"#A498F0\",\"#9080F1\",\"#7D69F1\",\"#6951F2\",\"#5539F3\",\"#4122F4\",\"#2D0AF5\"]\n",
    "\n",
    "# cscale = [[0, 'rgb(0,0,255)'], [1, 'rgb(0,50,255)']]\n",
    "rows = 4\n",
    "cols = 3\n",
    "fig = make_subplots(rows=rows, cols=cols, \n",
    "    specs = [[{'type': 'choropleth'} for c in np.arange(cols)] for r in np.arange(rows)],\n",
    "    subplot_titles = waves, vertical_spacing=0.01, horizontal_spacing=0)\n",
    "fig.update_annotations(font_size=38)\n",
    "\n",
    "for i, y in enumerate(waves):\n",
    "    fig.add_trace(go.Choropleth(locations=CovTw.State[CovTw['Wave']==y],z = CovTw.A_Case_Per100K[CovTw['Wave']==y],\n",
    "              locationmode = 'USA-states', zmin=0, zmax=10000, colorscale=cscale), row = 1, col = i+1)     \n",
    "    fig.append_trace(go.Choropleth(locations=CovTw.State[CovTw['Wave']==y],z = CovTw.B_Case_Per100K[CovTw['Wave']==y],\n",
    "              locationmode = 'USA-states', zmin=0, zmax=10000, colorscale=cscale), row = 2, col = i+1) \n",
    "    fig.append_trace(go.Choropleth(locations=CovTw.State[CovTw['Wave']==y],z = CovTw.L_Case_Per100K[CovTw['Wave']==y],\n",
    "              locationmode = 'USA-states', zmin=0, zmax=10000, colorscale=cscale), row = 3, col = i+1) \n",
    "    fig.append_trace(go.Choropleth(locations=CovTw.State[CovTw['Wave']==y],z = CovTw.W_Case_Per100K[CovTw['Wave']==y],\n",
    "              locationmode = 'USA-states', zmin=0, zmax=10000, colorscale=cscale), row = 4, col = i+1) \n",
    "    \n",
    "fig.update_layout(title={'text':'COVID-19 Cases by Race and Wave', 'xanchor': 'center','x':0.5,},\n",
    "    **{'geo' + str(i) + '_scope': 'usa' for i in [''] + np.arange(2,rows*cols+1).tolist()},\n",
    "    coloraxis_showscale=True, margin={\"r\":0,\"t\":70,\"l\":1,\"b\":15}, font=dict(family=\"Calibri\",size=42))  \n",
    "\n",
    "fig.update_traces(showscale=True)\n",
    "fig.show()\n",
    "fig.write_image(out_dir + \"\\Map COVID-19 Cases by Race and Wave.jpg\",width=2500, height=2000, scale=1, engine=\"kaleido\")"
   ]
  },
  {
   "cell_type": "code",
   "execution_count": 65,
   "id": "cf1b73da",
   "metadata": {
    "scrolled": false
   },
   "outputs": [
    {
     "data": {
      "text/plain": [
       "A_Death_Per100K     95.190316\n",
       "B_Death_Per100K    186.243793\n",
       "L_Death_Per100K    160.215531\n",
       "W_Death_Per100K    139.383203\n",
       "dtype: float64"
      ]
     },
     "execution_count": 65,
     "metadata": {},
     "output_type": "execute_result"
    }
   ],
   "source": [
    "CovTw[['A_Death_Per100K', 'B_Death_Per100K','L_Death_Per100K', 'W_Death_Per100K' ]].max()"
   ]
  },
  {
   "cell_type": "code",
   "execution_count": 176,
   "id": "434eea19",
   "metadata": {},
   "outputs": [
    {
     "data": {
      "application/vnd.plotly.v1+json": {
       "config": {
        "plotlyServerURL": "https://plot.ly"
       },
       "data": [
        {
         "colorscale": [
          [
           0,
           "#E0DFED"
          ],
          [
           0.1111111111111111,
           "#CCC7EE"
          ],
          [
           0.2222222222222222,
           "#B8B0EF"
          ],
          [
           0.3333333333333333,
           "#A498F0"
          ],
          [
           0.4444444444444444,
           "#9080F1"
          ],
          [
           0.5555555555555556,
           "#7D69F1"
          ],
          [
           0.6666666666666666,
           "#6951F2"
          ],
          [
           0.7777777777777778,
           "#5539F3"
          ],
          [
           0.8888888888888888,
           "#4122F4"
          ],
          [
           1,
           "#2D0AF5"
          ]
         ],
         "geo": "geo",
         "locationmode": "USA-states",
         "locations": [
          "AK",
          "AL",
          "AR",
          "AZ",
          "CA",
          "CO",
          "CT",
          "DC",
          "DE",
          "FL",
          "GA",
          "HI",
          "IA",
          "ID",
          "IL",
          "IN",
          "KS",
          "KY",
          "LA",
          "MA",
          "MD",
          "ME",
          "MI",
          "MN",
          "MO",
          "MS",
          "MT",
          "NC",
          "ND",
          "NE",
          "NH",
          "NJ",
          "NM",
          "NV",
          "NY",
          "OH",
          "OK",
          "OR",
          "PA",
          "RI",
          "SC",
          "SD",
          "TN",
          "TX",
          "UT",
          "VA",
          "VT",
          "WA",
          "WI",
          "WV",
          "WY"
         ],
         "showscale": true,
         "type": "choropleth",
         "z": [
          4.376538463,
          4.394477606,
          2.222688987,
          5.157743858,
          10.37550722,
          30.07834272,
          22.99874694,
          25.26408184,
          2.678618878,
          0,
          7.449167601,
          0,
          34.50646832,
          8.316527018,
          36.58963502,
          5.870413786,
          4.738836332,
          8.990679363,
          26.48366738,
          28.75237911,
          26.10846081,
          0,
          17.48007187,
          9.736290913,
          0,
          0,
          0,
          3.695225786,
          0,
          0,
          0,
          73.62549864,
          0,
          25.437429,
          95.19031639,
          7.409755014,
          2.311520363,
          3.852263875,
          30.58089772,
          0,
          4.979280219,
          0,
          5.796217832,
          0.442307905,
          0,
          0,
          18.844243,
          15.25385526,
          9.868012374,
          0,
          0
         ],
         "zmax": 186,
         "zmin": 0
        },
        {
         "colorscale": [
          [
           0,
           "#E0DFED"
          ],
          [
           0.1111111111111111,
           "#CCC7EE"
          ],
          [
           0.2222222222222222,
           "#B8B0EF"
          ],
          [
           0.3333333333333333,
           "#A498F0"
          ],
          [
           0.4444444444444444,
           "#9080F1"
          ],
          [
           0.5555555555555556,
           "#7D69F1"
          ],
          [
           0.6666666666666666,
           "#6951F2"
          ],
          [
           0.7777777777777778,
           "#5539F3"
          ],
          [
           0.8888888888888888,
           "#4122F4"
          ],
          [
           1,
           "#2D0AF5"
          ]
         ],
         "geo": "geo4",
         "locationmode": "USA-states",
         "locations": [
          "AK",
          "AL",
          "AR",
          "AZ",
          "CA",
          "CO",
          "CT",
          "DC",
          "DE",
          "FL",
          "GA",
          "HI",
          "IA",
          "ID",
          "IL",
          "IN",
          "KS",
          "KY",
          "LA",
          "MA",
          "MD",
          "ME",
          "MI",
          "MN",
          "MO",
          "MS",
          "MT",
          "NC",
          "ND",
          "NE",
          "NH",
          "NJ",
          "NM",
          "NV",
          "NY",
          "OH",
          "OK",
          "OR",
          "PA",
          "RI",
          "SC",
          "SD",
          "TN",
          "TX",
          "UT",
          "VA",
          "VT",
          "WA",
          "WI",
          "WV",
          "WY"
         ],
         "showscale": true,
         "type": "choropleth",
         "z": [
          0,
          21.43271534,
          10.02389151,
          9.140668282,
          17.42418091,
          41.16542143,
          152.1437692,
          108.820297,
          45.64511359,
          15.45244432,
          30.44759808,
          0,
          22.38257404,
          8.316527018,
          87.56888044,
          47.5600663,
          34.35656341,
          18.86932706,
          97.74126046,
          65.68812766,
          57.51164445,
          0,
          159.685101,
          17.41298183,
          38.74287076,
          33.24073371,
          0,
          13.11067365,
          0,
          0,
          0,
          174.1201108,
          0,
          19.22460072,
          186.2437931,
          25.39319269,
          9.404404765,
          7.646598971,
          77.8975284,
          59.81218307,
          14.56625258,
          0,
          11.26713772,
          1.959314354,
          0,
          17.37248126,
          0,
          11.72891009,
          39.93461258,
          4.461611071,
          0
         ],
         "zmax": 186,
         "zmin": 0
        },
        {
         "colorscale": [
          [
           0,
           "#E0DFED"
          ],
          [
           0.1111111111111111,
           "#CCC7EE"
          ],
          [
           0.2222222222222222,
           "#B8B0EF"
          ],
          [
           0.3333333333333333,
           "#A498F0"
          ],
          [
           0.4444444444444444,
           "#9080F1"
          ],
          [
           0.5555555555555556,
           "#7D69F1"
          ],
          [
           0.6666666666666666,
           "#6951F2"
          ],
          [
           0.7777777777777778,
           "#5539F3"
          ],
          [
           0.8888888888888888,
           "#4122F4"
          ],
          [
           1,
           "#2D0AF5"
          ]
         ],
         "geo": "geo7",
         "locationmode": "USA-states",
         "locations": [
          "AK",
          "AL",
          "AR",
          "AZ",
          "CA",
          "CO",
          "CT",
          "DC",
          "DE",
          "FL",
          "GA",
          "HI",
          "IA",
          "ID",
          "IL",
          "IN",
          "KS",
          "KY",
          "LA",
          "MA",
          "MD",
          "ME",
          "MI",
          "MN",
          "MO",
          "MS",
          "MT",
          "NC",
          "ND",
          "NE",
          "NH",
          "NJ",
          "NM",
          "NV",
          "NY",
          "OH",
          "OK",
          "OR",
          "PA",
          "RI",
          "SC",
          "SD",
          "TN",
          "TX",
          "UT",
          "VA",
          "VT",
          "WA",
          "WI",
          "WV",
          "WY"
         ],
         "showscale": true,
         "type": "choropleth",
         "z": [
          0,
          0,
          0,
          6.434821011,
          10.08448525,
          23.21291566,
          59.07014071,
          70.87067113,
          26.11653406,
          10.14797956,
          8.397703374,
          0,
          0,
          0,
          48.08181269,
          0,
          0,
          0,
          0,
          53.31748215,
          38.32844247,
          0,
          0,
          0,
          0,
          10.80882923,
          0,
          0,
          0,
          0,
          8.019151659,
          122.6680794,
          0,
          7.853952734,
          160.2155306,
          0,
          0,
          0,
          0,
          47.90755346,
          0,
          0,
          0,
          1.098454236,
          0,
          0,
          0,
          9.677540223,
          0,
          0,
          0
         ],
         "zmax": 186,
         "zmin": 0
        },
        {
         "colorscale": [
          [
           0,
           "#E0DFED"
          ],
          [
           0.1111111111111111,
           "#CCC7EE"
          ],
          [
           0.2222222222222222,
           "#B8B0EF"
          ],
          [
           0.3333333333333333,
           "#A498F0"
          ],
          [
           0.4444444444444444,
           "#9080F1"
          ],
          [
           0.5555555555555556,
           "#7D69F1"
          ],
          [
           0.6666666666666666,
           "#6951F2"
          ],
          [
           0.7777777777777778,
           "#5539F3"
          ],
          [
           0.8888888888888888,
           "#4122F4"
          ],
          [
           1,
           "#2D0AF5"
          ]
         ],
         "geo": "geo10",
         "locationmode": "USA-states",
         "locations": [
          "AK",
          "AL",
          "AR",
          "AZ",
          "CA",
          "CO",
          "CT",
          "DC",
          "DE",
          "FL",
          "GA",
          "HI",
          "IA",
          "ID",
          "IL",
          "IN",
          "KS",
          "KY",
          "LA",
          "MA",
          "MD",
          "ME",
          "MI",
          "MN",
          "MO",
          "MS",
          "MT",
          "NC",
          "ND",
          "NE",
          "NH",
          "NJ",
          "NM",
          "NV",
          "NY",
          "OH",
          "OK",
          "OR",
          "PA",
          "RI",
          "SC",
          "SD",
          "TN",
          "TX",
          "UT",
          "VA",
          "VT",
          "WA",
          "WI",
          "WV",
          "WY"
         ],
         "showscale": true,
         "type": "choropleth",
         "z": [
          1.050098238,
          9.576218455,
          3.303605535,
          8.157519755,
          5.68389016,
          19.50052696,
          106.0998704,
          18.17685584,
          33.40486915,
          7.823086809,
          15.02463398,
          0,
          14.54580357,
          5.110043823,
          25.4517545,
          22.90847348,
          5.617542358,
          7.879762085,
          40.04281691,
          53.47381796,
          32.18119044,
          0,
          35.83877169,
          13.76322952,
          8.827803201,
          18.13070054,
          1.29056631,
          7.061856662,
          0,
          0,
          7.02646873,
          99.90655508,
          0,
          9.949316989,
          62.20138922,
          17.90870678,
          8.9679317,
          3.130902821,
          38.43770203,
          69.08942157,
          6.93542602,
          0,
          3.899002201,
          0.875052395,
          0,
          13.14035848,
          8.671952592,
          12.91490549,
          8.048092059,
          3.428076391,
          0
         ],
         "zmax": 186,
         "zmin": 0
        },
        {
         "colorscale": [
          [
           0,
           "#E0DFED"
          ],
          [
           0.1111111111111111,
           "#CCC7EE"
          ],
          [
           0.2222222222222222,
           "#B8B0EF"
          ],
          [
           0.3333333333333333,
           "#A498F0"
          ],
          [
           0.4444444444444444,
           "#9080F1"
          ],
          [
           0.5555555555555556,
           "#7D69F1"
          ],
          [
           0.6666666666666666,
           "#6951F2"
          ],
          [
           0.7777777777777778,
           "#5539F3"
          ],
          [
           0.8888888888888888,
           "#4122F4"
          ],
          [
           1,
           "#2D0AF5"
          ]
         ],
         "geo": "geo2",
         "locationmode": "USA-states",
         "locations": [
          "AK",
          "AL",
          "AR",
          "AZ",
          "CA",
          "CO",
          "CT",
          "DC",
          "DE",
          "FL",
          "GA",
          "HI",
          "IA",
          "ID",
          "IL",
          "IN",
          "KS",
          "KY",
          "LA",
          "MA",
          "MD",
          "ME",
          "MI",
          "MN",
          "MO",
          "MS",
          "MT",
          "NC",
          "ND",
          "NE",
          "NH",
          "NJ",
          "NM",
          "NV",
          "NY",
          "OH",
          "OK",
          "OR",
          "PA",
          "RI",
          "SC",
          "SD",
          "TN",
          "TX",
          "UT",
          "VA",
          "VT",
          "WA",
          "WI",
          "WV",
          "WY"
         ],
         "showscale": true,
         "type": "choropleth",
         "z": [
          2.188269231,
          4.394477606,
          22.22688987,
          18.91172748,
          15.71248556,
          2.228025387,
          6.837465307,
          3.609154548,
          0,
          0,
          16.82070103,
          0,
          -1.327171858,
          0,
          16.23042176,
          5.218145587,
          8.292963582,
          5.993786242,
          12.61127018,
          21.67487041,
          10.54887306,
          0,
          10.35856111,
          21.34494546,
          0,
          13.40294825,
          0,
          7.390451572,
          0,
          39.17326649,
          10.98920783,
          29.16565646,
          5.973846976,
          17.64208786,
          8.637076631,
          8.969703438,
          19.64792309,
          6.053557518,
          6.668015292,
          0,
          17.42748077,
          38.28609977,
          7.45228007,
          18.28206006,
          30.88694502,
          20.33847367,
          0,
          7.626927628,
          9.251261601,
          0,
          0
         ],
         "zmax": 186,
         "zmin": 0
        },
        {
         "colorscale": [
          [
           0,
           "#E0DFED"
          ],
          [
           0.1111111111111111,
           "#CCC7EE"
          ],
          [
           0.2222222222222222,
           "#B8B0EF"
          ],
          [
           0.3333333333333333,
           "#A498F0"
          ],
          [
           0.4444444444444444,
           "#9080F1"
          ],
          [
           0.5555555555555556,
           "#7D69F1"
          ],
          [
           0.6666666666666666,
           "#6951F2"
          ],
          [
           0.7777777777777778,
           "#5539F3"
          ],
          [
           0.8888888888888888,
           "#4122F4"
          ],
          [
           1,
           "#2D0AF5"
          ]
         ],
         "geo": "geo5",
         "locationmode": "USA-states",
         "locations": [
          "AK",
          "AL",
          "AR",
          "AZ",
          "CA",
          "CO",
          "CT",
          "DC",
          "DE",
          "FL",
          "GA",
          "HI",
          "IA",
          "ID",
          "IL",
          "IN",
          "KS",
          "KY",
          "LA",
          "MA",
          "MD",
          "ME",
          "MI",
          "MN",
          "MO",
          "MS",
          "MT",
          "NC",
          "ND",
          "NE",
          "NH",
          "NJ",
          "NM",
          "NV",
          "NY",
          "OH",
          "OK",
          "OR",
          "PA",
          "RI",
          "SC",
          "SD",
          "TN",
          "TX",
          "UT",
          "VA",
          "VT",
          "WA",
          "WI",
          "WV",
          "WY"
         ],
         "showscale": true,
         "type": "choropleth",
         "z": [
          0,
          43.09671898,
          31.16122795,
          40.34501862,
          25.36820294,
          9.760873122,
          20.12898665,
          31.80421287,
          27.29295452,
          46.98137398,
          41.73237219,
          0,
          12.91302349,
          24.94958105,
          30.77042524,
          20.42848485,
          6.405460975,
          13.31952498,
          50.46857999,
          77.78857223,
          28.11680395,
          21.39393465,
          30.25000091,
          32.85998183,
          26.63572365,
          68.97007851,
          0,
          22.62501667,
          0,
          30.46809616,
          41.72464847,
          61.65537224,
          15.9302586,
          18.85489686,
          22.74758193,
          27.95326934,
          7.31453704,
          6.372165809,
          34.34192112,
          13.90981002,
          57.37319894,
          11.48582993,
          35.48704795,
          40.79467947,
          18.83635662,
          132.2168046,
          0,
          10.66264553,
          20.50696321,
          0,
          17.21099301
         ],
         "zmax": 186,
         "zmin": 0
        },
        {
         "colorscale": [
          [
           0,
           "#E0DFED"
          ],
          [
           0.1111111111111111,
           "#CCC7EE"
          ],
          [
           0.2222222222222222,
           "#B8B0EF"
          ],
          [
           0.3333333333333333,
           "#A498F0"
          ],
          [
           0.4444444444444444,
           "#9080F1"
          ],
          [
           0.5555555555555556,
           "#7D69F1"
          ],
          [
           0.6666666666666666,
           "#6951F2"
          ],
          [
           0.7777777777777778,
           "#5539F3"
          ],
          [
           0.8888888888888888,
           "#4122F4"
          ],
          [
           1,
           "#2D0AF5"
          ]
         ],
         "geo": "geo8",
         "locationmode": "USA-states",
         "locations": [
          "AK",
          "AL",
          "AR",
          "AZ",
          "CA",
          "CO",
          "CT",
          "DC",
          "DE",
          "FL",
          "GA",
          "HI",
          "IA",
          "ID",
          "IL",
          "IN",
          "KS",
          "KY",
          "LA",
          "MA",
          "MD",
          "ME",
          "MI",
          "MN",
          "MO",
          "MS",
          "MT",
          "NC",
          "ND",
          "NE",
          "NH",
          "NJ",
          "NM",
          "NV",
          "NY",
          "OH",
          "OK",
          "OR",
          "PA",
          "RI",
          "SC",
          "SD",
          "TN",
          "TX",
          "UT",
          "VA",
          "VT",
          "WA",
          "WI",
          "WV",
          "WY"
         ],
         "showscale": true,
         "type": "choropleth",
         "z": [
          0,
          0,
          0,
          62.17305935,
          29.57462957,
          11.6893611,
          9.729199646,
          30.18565622,
          23.8455311,
          40.98438156,
          25.69899587,
          0,
          0,
          0,
          26.33051647,
          0,
          0,
          0,
          0,
          23.99905229,
          32.24195161,
          0,
          0,
          28.62635961,
          0,
          27.02207308,
          0,
          0,
          0,
          0,
          16.03830332,
          52.80303236,
          15.5711749,
          14.77012007,
          21.27064194,
          0,
          0,
          0,
          0,
          11.05558926,
          0,
          15.11293412,
          0,
          61.18029947,
          20.98908309,
          29.13896726,
          0,
          18.50430768,
          0,
          0,
          3.476968284
         ],
         "zmax": 186,
         "zmin": 0
        },
        {
         "colorscale": [
          [
           0,
           "#E0DFED"
          ],
          [
           0.1111111111111111,
           "#CCC7EE"
          ],
          [
           0.2222222222222222,
           "#B8B0EF"
          ],
          [
           0.3333333333333333,
           "#A498F0"
          ],
          [
           0.4444444444444444,
           "#9080F1"
          ],
          [
           0.5555555555555556,
           "#7D69F1"
          ],
          [
           0.6666666666666666,
           "#6951F2"
          ],
          [
           0.7777777777777778,
           "#5539F3"
          ],
          [
           0.8888888888888888,
           "#4122F4"
          ],
          [
           1,
           "#2D0AF5"
          ]
         ],
         "geo": "geo11",
         "locationmode": "USA-states",
         "locations": [
          "AK",
          "AL",
          "AR",
          "AZ",
          "CA",
          "CO",
          "CT",
          "DC",
          "DE",
          "FL",
          "GA",
          "HI",
          "IA",
          "ID",
          "IL",
          "IN",
          "KS",
          "KY",
          "LA",
          "MA",
          "MD",
          "ME",
          "MI",
          "MN",
          "MO",
          "MS",
          "MT",
          "NC",
          "ND",
          "NE",
          "NH",
          "NJ",
          "NM",
          "NV",
          "NY",
          "OH",
          "OK",
          "OR",
          "PA",
          "RI",
          "SC",
          "SD",
          "TN",
          "TX",
          "UT",
          "VA",
          "VT",
          "WA",
          "WI",
          "WV",
          "WY"
         ],
         "showscale": true,
         "type": "choropleth",
         "z": [
          2.100196476,
          23.5791794,
          18.21329893,
          25.74028193,
          10.10137719,
          5.028971587,
          14.15156312,
          4.194659039,
          22.62420683,
          26.17676197,
          28.91749968,
          0,
          17.58945103,
          16.68849755,
          14.76289375,
          12.75094279,
          7.327229163,
          10.28244364,
          42.35962928,
          74.07086354,
          15.50684339,
          9.290367167,
          10.26524818,
          16.60705139,
          8.80787588,
          44.00711175,
          4.516982086,
          14.35060029,
          0,
          18.34981944,
          24.59264056,
          41.43115204,
          11.05321419,
          12.66742936,
          7.860394769,
          15.8613944,
          11.46488523,
          5.37136539,
          15.16919923,
          11.39740458,
          30.61664563,
          13.761196,
          17.09414758,
          17.2954345,
          7.736360756,
          11.19530643,
          0.069988594,
          9.726482224,
          8.533404143,
          0,
          2.824561215
         ],
         "zmax": 186,
         "zmin": 0
        },
        {
         "colorscale": [
          [
           0,
           "#E0DFED"
          ],
          [
           0.1111111111111111,
           "#CCC7EE"
          ],
          [
           0.2222222222222222,
           "#B8B0EF"
          ],
          [
           0.3333333333333333,
           "#A498F0"
          ],
          [
           0.4444444444444444,
           "#9080F1"
          ],
          [
           0.5555555555555556,
           "#7D69F1"
          ],
          [
           0.6666666666666666,
           "#6951F2"
          ],
          [
           0.7777777777777778,
           "#5539F3"
          ],
          [
           0.8888888888888888,
           "#4122F4"
          ],
          [
           1,
           "#2D0AF5"
          ]
         ],
         "geo": "geo3",
         "locationmode": "USA-states",
         "locations": [
          "AK",
          "AL",
          "AR",
          "AZ",
          "CA",
          "CO",
          "CT",
          "DC",
          "DE",
          "FL",
          "GA",
          "HI",
          "IA",
          "ID",
          "IL",
          "IN",
          "KS",
          "KY",
          "LA",
          "MA",
          "MD",
          "ME",
          "MI",
          "MN",
          "MO",
          "MS",
          "MT",
          "NC",
          "ND",
          "NE",
          "NH",
          "NJ",
          "NM",
          "NV",
          "NY",
          "OH",
          "OK",
          "OR",
          "PA",
          "RI",
          "SC",
          "SD",
          "TN",
          "TX",
          "UT",
          "VA",
          "VT",
          "WA",
          "WI",
          "WV",
          "WY"
         ],
         "showscale": true,
         "type": "choropleth",
         "z": [
          37.20057693,
          13.18343282,
          24.44957886,
          13.32417163,
          23.38439192,
          25.0652856,
          13.05334286,
          10.82746364,
          13.39309439,
          0,
          17.54158822,
          29.02047352,
          35.83364018,
          41.58263509,
          30.46763383,
          14.34990037,
          27.24830891,
          10.48912592,
          23.96141335,
          15.039706,
          14.24097862,
          0,
          14.56672656,
          40.06858183,
          31.12248993,
          36.85810768,
          0,
          15.78869199,
          0,
          10.88146291,
          2.747301957,
          15.05706655,
          47.79077581,
          87.38987706,
          34.54830652,
          7.79974212,
          20.80368327,
          14.30840868,
          20.92377212,
          63.98512607,
          24.8964011,
          76.57219954,
          17.3886535,
          16.14423852,
          23.86718479,
          11.27363145,
          0,
          15.57164391,
          39.4720495,
          0,
          76.49330225
         ],
         "zmax": 186,
         "zmin": 0
        },
        {
         "colorscale": [
          [
           0,
           "#E0DFED"
          ],
          [
           0.1111111111111111,
           "#CCC7EE"
          ],
          [
           0.2222222222222222,
           "#B8B0EF"
          ],
          [
           0.3333333333333333,
           "#A498F0"
          ],
          [
           0.4444444444444444,
           "#9080F1"
          ],
          [
           0.5555555555555556,
           "#7D69F1"
          ],
          [
           0.6666666666666666,
           "#6951F2"
          ],
          [
           0.7777777777777778,
           "#5539F3"
          ],
          [
           0.8888888888888888,
           "#4122F4"
          ],
          [
           1,
           "#2D0AF5"
          ]
         ],
         "geo": "geo6",
         "locationmode": "USA-states",
         "locations": [
          "AK",
          "AL",
          "AR",
          "AZ",
          "CA",
          "CO",
          "CT",
          "DC",
          "DE",
          "FL",
          "GA",
          "HI",
          "IA",
          "ID",
          "IL",
          "IN",
          "KS",
          "KY",
          "LA",
          "MA",
          "MD",
          "ME",
          "MI",
          "MN",
          "MO",
          "MS",
          "MT",
          "NC",
          "ND",
          "NE",
          "NH",
          "NJ",
          "NM",
          "NV",
          "NY",
          "OH",
          "OK",
          "OR",
          "PA",
          "RI",
          "SC",
          "SD",
          "TN",
          "TX",
          "UT",
          "VA",
          "VT",
          "WA",
          "WI",
          "WV",
          "WY"
         ],
         "showscale": true,
         "type": "choropleth",
         "z": [
          32.89034966,
          39.70449065,
          76.48665043,
          27.10680939,
          31.68830886,
          21.64367518,
          33.1997572,
          38.04033304,
          31.05749997,
          44.24747998,
          39.99859288,
          19.53301102,
          44.76514809,
          33.26610807,
          50.51202423,
          38.3034091,
          46.00285609,
          32.74383225,
          53.66447952,
          23.43260694,
          34.06245222,
          16.04545099,
          42.82992918,
          26.68118183,
          34.46976001,
          71.72532649,
          0,
          41.28951735,
          0,
          32.64438874,
          4.636072053,
          29.78480093,
          59.16953195,
          62.11024849,
          59.2283249,
          25.04723639,
          35.52775134,
          31.86082904,
          37.06414658,
          48.68433506,
          45.63101574,
          22.97165986,
          64.14283917,
          34.21489246,
          18.83635662,
          32.89682621,
          11.44114754,
          15.63854678,
          40.20444104,
          25.28246274,
          0
         ],
         "zmax": 186,
         "zmin": 0
        },
        {
         "colorscale": [
          [
           0,
           "#E0DFED"
          ],
          [
           0.1111111111111111,
           "#CCC7EE"
          ],
          [
           0.2222222222222222,
           "#B8B0EF"
          ],
          [
           0.3333333333333333,
           "#A498F0"
          ],
          [
           0.4444444444444444,
           "#9080F1"
          ],
          [
           0.5555555555555556,
           "#7D69F1"
          ],
          [
           0.6666666666666666,
           "#6951F2"
          ],
          [
           0.7777777777777778,
           "#5539F3"
          ],
          [
           0.8888888888888888,
           "#4122F4"
          ],
          [
           1,
           "#2D0AF5"
          ]
         ],
         "geo": "geo9",
         "locationmode": "USA-states",
         "locations": [
          "AK",
          "AL",
          "AR",
          "AZ",
          "CA",
          "CO",
          "CT",
          "DC",
          "DE",
          "FL",
          "GA",
          "HI",
          "IA",
          "ID",
          "IL",
          "IN",
          "KS",
          "KY",
          "LA",
          "MA",
          "MD",
          "ME",
          "MI",
          "MN",
          "MO",
          "MS",
          "MT",
          "NC",
          "ND",
          "NE",
          "NH",
          "NJ",
          "NM",
          "NV",
          "NY",
          "OH",
          "OK",
          "OR",
          "PA",
          "RI",
          "SC",
          "SD",
          "TN",
          "TX",
          "UT",
          "VA",
          "VT",
          "WA",
          "WI",
          "WV",
          "WY"
         ],
         "showscale": true,
         "type": "choropleth",
         "z": [
          0,
          0,
          0,
          44.81716887,
          35.89293489,
          46.50873458,
          31.44616314,
          34.12291573,
          20.43902666,
          46.27329172,
          24.78840153,
          0,
          0,
          0,
          47.16596864,
          0,
          0,
          0,
          0,
          29.1947234,
          23.19446519,
          0,
          0,
          25.96344243,
          0,
          16.21324385,
          0,
          0,
          0,
          0,
          14.0335154,
          30.27671232,
          67.768887,
          56.97046311,
          47.78499461,
          0,
          0,
          0,
          0,
          38.080363,
          0,
          30.22586824,
          0,
          59.09143567,
          28.1392103,
          15.60298905,
          0,
          17.9725747,
          0,
          0,
          41.72361941
         ],
         "zmax": 186,
         "zmin": 0
        },
        {
         "colorscale": [
          [
           0,
           "#E0DFED"
          ],
          [
           0.1111111111111111,
           "#CCC7EE"
          ],
          [
           0.2222222222222222,
           "#B8B0EF"
          ],
          [
           0.3333333333333333,
           "#A498F0"
          ],
          [
           0.4444444444444444,
           "#9080F1"
          ],
          [
           0.5555555555555556,
           "#7D69F1"
          ],
          [
           0.6666666666666666,
           "#6951F2"
          ],
          [
           0.7777777777777778,
           "#5539F3"
          ],
          [
           0.8888888888888888,
           "#4122F4"
          ],
          [
           1,
           "#2D0AF5"
          ]
         ],
         "geo": "geo12",
         "locationmode": "USA-states",
         "locations": [
          "AK",
          "AL",
          "AR",
          "AZ",
          "CA",
          "CO",
          "CT",
          "DC",
          "DE",
          "FL",
          "GA",
          "HI",
          "IA",
          "ID",
          "IL",
          "IN",
          "KS",
          "KY",
          "LA",
          "MA",
          "MD",
          "ME",
          "MI",
          "MN",
          "MO",
          "MS",
          "MT",
          "NC",
          "ND",
          "NE",
          "NH",
          "NJ",
          "NM",
          "NV",
          "NY",
          "OH",
          "OK",
          "OR",
          "PA",
          "RI",
          "SC",
          "SD",
          "TN",
          "TX",
          "UT",
          "VA",
          "VT",
          "WA",
          "WI",
          "WV",
          "WY"
         ],
         "showscale": true,
         "type": "choropleth",
         "z": [
          12.39115921,
          39.23840455,
          89.32775492,
          38.85845559,
          16.95786284,
          38.57666812,
          40.28036066,
          5.942433639,
          37.80823827,
          37.70753324,
          42.40030441,
          7.031883968,
          92.54811759,
          63.51978525,
          62.45755418,
          64.83530232,
          72.946637,
          35.85937631,
          63.62589215,
          39.19419653,
          36.3422932,
          12.22834653,
          60.82351538,
          63.80146933,
          43.62090566,
          76.48172094,
          53.12831311,
          37.29454422,
          0,
          47.91341742,
          15.72970841,
          29.25431385,
          33.47909963,
          51.84927565,
          27.6637771,
          38.96225424,
          41.78001121,
          19.53223778,
          60.7447767,
          64.50695994,
          44.07255765,
          139.3832031,
          75.3102839,
          28.07340225,
          22.76059759,
          27.03309434,
          10.71241203,
          20.43815141,
          71.32065501,
          49.52979337,
          59.31578552
         ],
         "zmax": 186,
         "zmin": 0
        }
       ],
       "layout": {
        "annotations": [
         {
          "font": {
           "size": 38
          },
          "showarrow": false,
          "text": "Wave 1",
          "x": 0.16666666666666666,
          "xanchor": "center",
          "xref": "paper",
          "y": 1,
          "yanchor": "bottom",
          "yref": "paper"
         },
         {
          "font": {
           "size": 38
          },
          "showarrow": false,
          "text": "Wave 2",
          "x": 0.5,
          "xanchor": "center",
          "xref": "paper",
          "y": 1,
          "yanchor": "bottom",
          "yref": "paper"
         },
         {
          "font": {
           "size": 38
          },
          "showarrow": false,
          "text": "Wave 3",
          "x": 0.8333333333333333,
          "xanchor": "center",
          "xref": "paper",
          "y": 1,
          "yanchor": "bottom",
          "yref": "paper"
         }
        ],
        "coloraxis": {
         "showscale": true
        },
        "font": {
         "family": "Calibri",
         "size": 42
        },
        "geo": {
         "domain": {
          "x": [
           0,
           0.3333333333333333
          ],
          "y": [
           0.7575000000000001,
           1
          ]
         },
         "scope": "usa"
        },
        "geo10": {
         "domain": {
          "x": [
           0,
           0.3333333333333333
          ],
          "y": [
           0,
           0.2425
          ]
         },
         "scope": "usa"
        },
        "geo11": {
         "domain": {
          "x": [
           0.3333333333333333,
           0.6666666666666666
          ],
          "y": [
           0,
           0.2425
          ]
         },
         "scope": "usa"
        },
        "geo12": {
         "domain": {
          "x": [
           0.6666666666666666,
           1
          ],
          "y": [
           0,
           0.2425
          ]
         },
         "scope": "usa"
        },
        "geo2": {
         "domain": {
          "x": [
           0.3333333333333333,
           0.6666666666666666
          ],
          "y": [
           0.7575000000000001,
           1
          ]
         },
         "scope": "usa"
        },
        "geo3": {
         "domain": {
          "x": [
           0.6666666666666666,
           1
          ],
          "y": [
           0.7575000000000001,
           1
          ]
         },
         "scope": "usa"
        },
        "geo4": {
         "domain": {
          "x": [
           0,
           0.3333333333333333
          ],
          "y": [
           0.505,
           0.7475
          ]
         },
         "scope": "usa"
        },
        "geo5": {
         "domain": {
          "x": [
           0.3333333333333333,
           0.6666666666666666
          ],
          "y": [
           0.505,
           0.7475
          ]
         },
         "scope": "usa"
        },
        "geo6": {
         "domain": {
          "x": [
           0.6666666666666666,
           1
          ],
          "y": [
           0.505,
           0.7475
          ]
         },
         "scope": "usa"
        },
        "geo7": {
         "domain": {
          "x": [
           0,
           0.3333333333333333
          ],
          "y": [
           0.2525,
           0.495
          ]
         },
         "scope": "usa"
        },
        "geo8": {
         "domain": {
          "x": [
           0.3333333333333333,
           0.6666666666666666
          ],
          "y": [
           0.2525,
           0.495
          ]
         },
         "scope": "usa"
        },
        "geo9": {
         "domain": {
          "x": [
           0.6666666666666666,
           1
          ],
          "y": [
           0.2525,
           0.495
          ]
         },
         "scope": "usa"
        },
        "margin": {
         "b": 15,
         "l": 1,
         "r": 0,
         "t": 70
        },
        "template": {
         "data": {
          "bar": [
           {
            "error_x": {
             "color": "#2a3f5f"
            },
            "error_y": {
             "color": "#2a3f5f"
            },
            "marker": {
             "line": {
              "color": "#E5ECF6",
              "width": 0.5
             },
             "pattern": {
              "fillmode": "overlay",
              "size": 10,
              "solidity": 0.2
             }
            },
            "type": "bar"
           }
          ],
          "barpolar": [
           {
            "marker": {
             "line": {
              "color": "#E5ECF6",
              "width": 0.5
             },
             "pattern": {
              "fillmode": "overlay",
              "size": 10,
              "solidity": 0.2
             }
            },
            "type": "barpolar"
           }
          ],
          "carpet": [
           {
            "aaxis": {
             "endlinecolor": "#2a3f5f",
             "gridcolor": "white",
             "linecolor": "white",
             "minorgridcolor": "white",
             "startlinecolor": "#2a3f5f"
            },
            "baxis": {
             "endlinecolor": "#2a3f5f",
             "gridcolor": "white",
             "linecolor": "white",
             "minorgridcolor": "white",
             "startlinecolor": "#2a3f5f"
            },
            "type": "carpet"
           }
          ],
          "choropleth": [
           {
            "colorbar": {
             "outlinewidth": 0,
             "ticks": ""
            },
            "type": "choropleth"
           }
          ],
          "contour": [
           {
            "colorbar": {
             "outlinewidth": 0,
             "ticks": ""
            },
            "colorscale": [
             [
              0,
              "#0d0887"
             ],
             [
              0.1111111111111111,
              "#46039f"
             ],
             [
              0.2222222222222222,
              "#7201a8"
             ],
             [
              0.3333333333333333,
              "#9c179e"
             ],
             [
              0.4444444444444444,
              "#bd3786"
             ],
             [
              0.5555555555555556,
              "#d8576b"
             ],
             [
              0.6666666666666666,
              "#ed7953"
             ],
             [
              0.7777777777777778,
              "#fb9f3a"
             ],
             [
              0.8888888888888888,
              "#fdca26"
             ],
             [
              1,
              "#f0f921"
             ]
            ],
            "type": "contour"
           }
          ],
          "contourcarpet": [
           {
            "colorbar": {
             "outlinewidth": 0,
             "ticks": ""
            },
            "type": "contourcarpet"
           }
          ],
          "heatmap": [
           {
            "colorbar": {
             "outlinewidth": 0,
             "ticks": ""
            },
            "colorscale": [
             [
              0,
              "#0d0887"
             ],
             [
              0.1111111111111111,
              "#46039f"
             ],
             [
              0.2222222222222222,
              "#7201a8"
             ],
             [
              0.3333333333333333,
              "#9c179e"
             ],
             [
              0.4444444444444444,
              "#bd3786"
             ],
             [
              0.5555555555555556,
              "#d8576b"
             ],
             [
              0.6666666666666666,
              "#ed7953"
             ],
             [
              0.7777777777777778,
              "#fb9f3a"
             ],
             [
              0.8888888888888888,
              "#fdca26"
             ],
             [
              1,
              "#f0f921"
             ]
            ],
            "type": "heatmap"
           }
          ],
          "heatmapgl": [
           {
            "colorbar": {
             "outlinewidth": 0,
             "ticks": ""
            },
            "colorscale": [
             [
              0,
              "#0d0887"
             ],
             [
              0.1111111111111111,
              "#46039f"
             ],
             [
              0.2222222222222222,
              "#7201a8"
             ],
             [
              0.3333333333333333,
              "#9c179e"
             ],
             [
              0.4444444444444444,
              "#bd3786"
             ],
             [
              0.5555555555555556,
              "#d8576b"
             ],
             [
              0.6666666666666666,
              "#ed7953"
             ],
             [
              0.7777777777777778,
              "#fb9f3a"
             ],
             [
              0.8888888888888888,
              "#fdca26"
             ],
             [
              1,
              "#f0f921"
             ]
            ],
            "type": "heatmapgl"
           }
          ],
          "histogram": [
           {
            "marker": {
             "pattern": {
              "fillmode": "overlay",
              "size": 10,
              "solidity": 0.2
             }
            },
            "type": "histogram"
           }
          ],
          "histogram2d": [
           {
            "colorbar": {
             "outlinewidth": 0,
             "ticks": ""
            },
            "colorscale": [
             [
              0,
              "#0d0887"
             ],
             [
              0.1111111111111111,
              "#46039f"
             ],
             [
              0.2222222222222222,
              "#7201a8"
             ],
             [
              0.3333333333333333,
              "#9c179e"
             ],
             [
              0.4444444444444444,
              "#bd3786"
             ],
             [
              0.5555555555555556,
              "#d8576b"
             ],
             [
              0.6666666666666666,
              "#ed7953"
             ],
             [
              0.7777777777777778,
              "#fb9f3a"
             ],
             [
              0.8888888888888888,
              "#fdca26"
             ],
             [
              1,
              "#f0f921"
             ]
            ],
            "type": "histogram2d"
           }
          ],
          "histogram2dcontour": [
           {
            "colorbar": {
             "outlinewidth": 0,
             "ticks": ""
            },
            "colorscale": [
             [
              0,
              "#0d0887"
             ],
             [
              0.1111111111111111,
              "#46039f"
             ],
             [
              0.2222222222222222,
              "#7201a8"
             ],
             [
              0.3333333333333333,
              "#9c179e"
             ],
             [
              0.4444444444444444,
              "#bd3786"
             ],
             [
              0.5555555555555556,
              "#d8576b"
             ],
             [
              0.6666666666666666,
              "#ed7953"
             ],
             [
              0.7777777777777778,
              "#fb9f3a"
             ],
             [
              0.8888888888888888,
              "#fdca26"
             ],
             [
              1,
              "#f0f921"
             ]
            ],
            "type": "histogram2dcontour"
           }
          ],
          "mesh3d": [
           {
            "colorbar": {
             "outlinewidth": 0,
             "ticks": ""
            },
            "type": "mesh3d"
           }
          ],
          "parcoords": [
           {
            "line": {
             "colorbar": {
              "outlinewidth": 0,
              "ticks": ""
             }
            },
            "type": "parcoords"
           }
          ],
          "pie": [
           {
            "automargin": true,
            "type": "pie"
           }
          ],
          "scatter": [
           {
            "marker": {
             "colorbar": {
              "outlinewidth": 0,
              "ticks": ""
             }
            },
            "type": "scatter"
           }
          ],
          "scatter3d": [
           {
            "line": {
             "colorbar": {
              "outlinewidth": 0,
              "ticks": ""
             }
            },
            "marker": {
             "colorbar": {
              "outlinewidth": 0,
              "ticks": ""
             }
            },
            "type": "scatter3d"
           }
          ],
          "scattercarpet": [
           {
            "marker": {
             "colorbar": {
              "outlinewidth": 0,
              "ticks": ""
             }
            },
            "type": "scattercarpet"
           }
          ],
          "scattergeo": [
           {
            "marker": {
             "colorbar": {
              "outlinewidth": 0,
              "ticks": ""
             }
            },
            "type": "scattergeo"
           }
          ],
          "scattergl": [
           {
            "marker": {
             "colorbar": {
              "outlinewidth": 0,
              "ticks": ""
             }
            },
            "type": "scattergl"
           }
          ],
          "scattermapbox": [
           {
            "marker": {
             "colorbar": {
              "outlinewidth": 0,
              "ticks": ""
             }
            },
            "type": "scattermapbox"
           }
          ],
          "scatterpolar": [
           {
            "marker": {
             "colorbar": {
              "outlinewidth": 0,
              "ticks": ""
             }
            },
            "type": "scatterpolar"
           }
          ],
          "scatterpolargl": [
           {
            "marker": {
             "colorbar": {
              "outlinewidth": 0,
              "ticks": ""
             }
            },
            "type": "scatterpolargl"
           }
          ],
          "scatterternary": [
           {
            "marker": {
             "colorbar": {
              "outlinewidth": 0,
              "ticks": ""
             }
            },
            "type": "scatterternary"
           }
          ],
          "surface": [
           {
            "colorbar": {
             "outlinewidth": 0,
             "ticks": ""
            },
            "colorscale": [
             [
              0,
              "#0d0887"
             ],
             [
              0.1111111111111111,
              "#46039f"
             ],
             [
              0.2222222222222222,
              "#7201a8"
             ],
             [
              0.3333333333333333,
              "#9c179e"
             ],
             [
              0.4444444444444444,
              "#bd3786"
             ],
             [
              0.5555555555555556,
              "#d8576b"
             ],
             [
              0.6666666666666666,
              "#ed7953"
             ],
             [
              0.7777777777777778,
              "#fb9f3a"
             ],
             [
              0.8888888888888888,
              "#fdca26"
             ],
             [
              1,
              "#f0f921"
             ]
            ],
            "type": "surface"
           }
          ],
          "table": [
           {
            "cells": {
             "fill": {
              "color": "#EBF0F8"
             },
             "line": {
              "color": "white"
             }
            },
            "header": {
             "fill": {
              "color": "#C8D4E3"
             },
             "line": {
              "color": "white"
             }
            },
            "type": "table"
           }
          ]
         },
         "layout": {
          "annotationdefaults": {
           "arrowcolor": "#2a3f5f",
           "arrowhead": 0,
           "arrowwidth": 1
          },
          "autotypenumbers": "strict",
          "coloraxis": {
           "colorbar": {
            "outlinewidth": 0,
            "ticks": ""
           }
          },
          "colorscale": {
           "diverging": [
            [
             0,
             "#8e0152"
            ],
            [
             0.1,
             "#c51b7d"
            ],
            [
             0.2,
             "#de77ae"
            ],
            [
             0.3,
             "#f1b6da"
            ],
            [
             0.4,
             "#fde0ef"
            ],
            [
             0.5,
             "#f7f7f7"
            ],
            [
             0.6,
             "#e6f5d0"
            ],
            [
             0.7,
             "#b8e186"
            ],
            [
             0.8,
             "#7fbc41"
            ],
            [
             0.9,
             "#4d9221"
            ],
            [
             1,
             "#276419"
            ]
           ],
           "sequential": [
            [
             0,
             "#0d0887"
            ],
            [
             0.1111111111111111,
             "#46039f"
            ],
            [
             0.2222222222222222,
             "#7201a8"
            ],
            [
             0.3333333333333333,
             "#9c179e"
            ],
            [
             0.4444444444444444,
             "#bd3786"
            ],
            [
             0.5555555555555556,
             "#d8576b"
            ],
            [
             0.6666666666666666,
             "#ed7953"
            ],
            [
             0.7777777777777778,
             "#fb9f3a"
            ],
            [
             0.8888888888888888,
             "#fdca26"
            ],
            [
             1,
             "#f0f921"
            ]
           ],
           "sequentialminus": [
            [
             0,
             "#0d0887"
            ],
            [
             0.1111111111111111,
             "#46039f"
            ],
            [
             0.2222222222222222,
             "#7201a8"
            ],
            [
             0.3333333333333333,
             "#9c179e"
            ],
            [
             0.4444444444444444,
             "#bd3786"
            ],
            [
             0.5555555555555556,
             "#d8576b"
            ],
            [
             0.6666666666666666,
             "#ed7953"
            ],
            [
             0.7777777777777778,
             "#fb9f3a"
            ],
            [
             0.8888888888888888,
             "#fdca26"
            ],
            [
             1,
             "#f0f921"
            ]
           ]
          },
          "colorway": [
           "#636efa",
           "#EF553B",
           "#00cc96",
           "#ab63fa",
           "#FFA15A",
           "#19d3f3",
           "#FF6692",
           "#B6E880",
           "#FF97FF",
           "#FECB52"
          ],
          "font": {
           "color": "#2a3f5f"
          },
          "geo": {
           "bgcolor": "white",
           "lakecolor": "white",
           "landcolor": "#E5ECF6",
           "showlakes": true,
           "showland": true,
           "subunitcolor": "white"
          },
          "hoverlabel": {
           "align": "left"
          },
          "hovermode": "closest",
          "mapbox": {
           "style": "light"
          },
          "paper_bgcolor": "white",
          "plot_bgcolor": "#E5ECF6",
          "polar": {
           "angularaxis": {
            "gridcolor": "white",
            "linecolor": "white",
            "ticks": ""
           },
           "bgcolor": "#E5ECF6",
           "radialaxis": {
            "gridcolor": "white",
            "linecolor": "white",
            "ticks": ""
           }
          },
          "scene": {
           "xaxis": {
            "backgroundcolor": "#E5ECF6",
            "gridcolor": "white",
            "gridwidth": 2,
            "linecolor": "white",
            "showbackground": true,
            "ticks": "",
            "zerolinecolor": "white"
           },
           "yaxis": {
            "backgroundcolor": "#E5ECF6",
            "gridcolor": "white",
            "gridwidth": 2,
            "linecolor": "white",
            "showbackground": true,
            "ticks": "",
            "zerolinecolor": "white"
           },
           "zaxis": {
            "backgroundcolor": "#E5ECF6",
            "gridcolor": "white",
            "gridwidth": 2,
            "linecolor": "white",
            "showbackground": true,
            "ticks": "",
            "zerolinecolor": "white"
           }
          },
          "shapedefaults": {
           "line": {
            "color": "#2a3f5f"
           }
          },
          "ternary": {
           "aaxis": {
            "gridcolor": "white",
            "linecolor": "white",
            "ticks": ""
           },
           "baxis": {
            "gridcolor": "white",
            "linecolor": "white",
            "ticks": ""
           },
           "bgcolor": "#E5ECF6",
           "caxis": {
            "gridcolor": "white",
            "linecolor": "white",
            "ticks": ""
           }
          },
          "title": {
           "x": 0.05
          },
          "xaxis": {
           "automargin": true,
           "gridcolor": "white",
           "linecolor": "white",
           "ticks": "",
           "title": {
            "standoff": 15
           },
           "zerolinecolor": "white",
           "zerolinewidth": 2
          },
          "yaxis": {
           "automargin": true,
           "gridcolor": "white",
           "linecolor": "white",
           "ticks": "",
           "title": {
            "standoff": 15
           },
           "zerolinecolor": "white",
           "zerolinewidth": 2
          }
         }
        },
        "title": {
         "text": "COVID-19 Deaths by Race and Wave",
         "x": 0.5,
         "xanchor": "center"
        }
       }
      },
      "text/html": [
       "<div>                            <div id=\"59bbfe4b-a7f0-4103-84e8-cbfba1f3537e\" class=\"plotly-graph-div\" style=\"height:525px; width:100%;\"></div>            <script type=\"text/javascript\">                require([\"plotly\"], function(Plotly) {                    window.PLOTLYENV=window.PLOTLYENV || {};                                    if (document.getElementById(\"59bbfe4b-a7f0-4103-84e8-cbfba1f3537e\")) {                    Plotly.newPlot(                        \"59bbfe4b-a7f0-4103-84e8-cbfba1f3537e\",                        [{\"colorscale\":[[0.0,\"#E0DFED\"],[0.1111111111111111,\"#CCC7EE\"],[0.2222222222222222,\"#B8B0EF\"],[0.3333333333333333,\"#A498F0\"],[0.4444444444444444,\"#9080F1\"],[0.5555555555555556,\"#7D69F1\"],[0.6666666666666666,\"#6951F2\"],[0.7777777777777778,\"#5539F3\"],[0.8888888888888888,\"#4122F4\"],[1.0,\"#2D0AF5\"]],\"geo\":\"geo\",\"locationmode\":\"USA-states\",\"locations\":[\"AK\",\"AL\",\"AR\",\"AZ\",\"CA\",\"CO\",\"CT\",\"DC\",\"DE\",\"FL\",\"GA\",\"HI\",\"IA\",\"ID\",\"IL\",\"IN\",\"KS\",\"KY\",\"LA\",\"MA\",\"MD\",\"ME\",\"MI\",\"MN\",\"MO\",\"MS\",\"MT\",\"NC\",\"ND\",\"NE\",\"NH\",\"NJ\",\"NM\",\"NV\",\"NY\",\"OH\",\"OK\",\"OR\",\"PA\",\"RI\",\"SC\",\"SD\",\"TN\",\"TX\",\"UT\",\"VA\",\"VT\",\"WA\",\"WI\",\"WV\",\"WY\"],\"showscale\":true,\"type\":\"choropleth\",\"z\":[4.376538463,4.394477606,2.222688987,5.157743858,10.37550722,30.07834272,22.99874694,25.26408184,2.678618878,0.0,7.449167601,0.0,34.50646832,8.316527018,36.58963502,5.870413786,4.738836332,8.990679363,26.48366738,28.75237911,26.10846081,0.0,17.48007187,9.736290913,0.0,0.0,0.0,3.695225786,0.0,0.0,0.0,73.62549864,0.0,25.437429,95.19031639,7.409755014,2.311520363,3.852263875,30.58089772,0.0,4.979280219,0.0,5.796217832,0.442307905,0.0,0.0,18.844243,15.25385526,9.868012374,0.0,0.0],\"zmax\":186,\"zmin\":0},{\"colorscale\":[[0.0,\"#E0DFED\"],[0.1111111111111111,\"#CCC7EE\"],[0.2222222222222222,\"#B8B0EF\"],[0.3333333333333333,\"#A498F0\"],[0.4444444444444444,\"#9080F1\"],[0.5555555555555556,\"#7D69F1\"],[0.6666666666666666,\"#6951F2\"],[0.7777777777777778,\"#5539F3\"],[0.8888888888888888,\"#4122F4\"],[1.0,\"#2D0AF5\"]],\"geo\":\"geo4\",\"locationmode\":\"USA-states\",\"locations\":[\"AK\",\"AL\",\"AR\",\"AZ\",\"CA\",\"CO\",\"CT\",\"DC\",\"DE\",\"FL\",\"GA\",\"HI\",\"IA\",\"ID\",\"IL\",\"IN\",\"KS\",\"KY\",\"LA\",\"MA\",\"MD\",\"ME\",\"MI\",\"MN\",\"MO\",\"MS\",\"MT\",\"NC\",\"ND\",\"NE\",\"NH\",\"NJ\",\"NM\",\"NV\",\"NY\",\"OH\",\"OK\",\"OR\",\"PA\",\"RI\",\"SC\",\"SD\",\"TN\",\"TX\",\"UT\",\"VA\",\"VT\",\"WA\",\"WI\",\"WV\",\"WY\"],\"showscale\":true,\"type\":\"choropleth\",\"z\":[0.0,21.43271534,10.02389151,9.140668282,17.42418091,41.16542143,152.1437692,108.820297,45.64511359,15.45244432,30.44759808,0.0,22.38257404,8.316527018,87.56888044,47.5600663,34.35656341,18.86932706,97.74126046,65.68812766,57.51164445,0.0,159.685101,17.41298183,38.74287076,33.24073371,0.0,13.11067365,0.0,0.0,0.0,174.1201108,0.0,19.22460072,186.2437931,25.39319269,9.404404765,7.646598971,77.8975284,59.81218307,14.56625258,0.0,11.26713772,1.959314354,0.0,17.37248126,0.0,11.72891009,39.93461258,4.461611071,0.0],\"zmax\":186,\"zmin\":0},{\"colorscale\":[[0.0,\"#E0DFED\"],[0.1111111111111111,\"#CCC7EE\"],[0.2222222222222222,\"#B8B0EF\"],[0.3333333333333333,\"#A498F0\"],[0.4444444444444444,\"#9080F1\"],[0.5555555555555556,\"#7D69F1\"],[0.6666666666666666,\"#6951F2\"],[0.7777777777777778,\"#5539F3\"],[0.8888888888888888,\"#4122F4\"],[1.0,\"#2D0AF5\"]],\"geo\":\"geo7\",\"locationmode\":\"USA-states\",\"locations\":[\"AK\",\"AL\",\"AR\",\"AZ\",\"CA\",\"CO\",\"CT\",\"DC\",\"DE\",\"FL\",\"GA\",\"HI\",\"IA\",\"ID\",\"IL\",\"IN\",\"KS\",\"KY\",\"LA\",\"MA\",\"MD\",\"ME\",\"MI\",\"MN\",\"MO\",\"MS\",\"MT\",\"NC\",\"ND\",\"NE\",\"NH\",\"NJ\",\"NM\",\"NV\",\"NY\",\"OH\",\"OK\",\"OR\",\"PA\",\"RI\",\"SC\",\"SD\",\"TN\",\"TX\",\"UT\",\"VA\",\"VT\",\"WA\",\"WI\",\"WV\",\"WY\"],\"showscale\":true,\"type\":\"choropleth\",\"z\":[0.0,0.0,0.0,6.434821011,10.08448525,23.21291566,59.07014071,70.87067113,26.11653406,10.14797956,8.397703374,0.0,0.0,0.0,48.08181269,0.0,0.0,0.0,0.0,53.31748215,38.32844247,0.0,0.0,0.0,0.0,10.80882923,0.0,0.0,0.0,0.0,8.019151659,122.6680794,0.0,7.853952734,160.2155306,0.0,0.0,0.0,0.0,47.90755346,0.0,0.0,0.0,1.098454236,0.0,0.0,0.0,9.677540223,0.0,0.0,0.0],\"zmax\":186,\"zmin\":0},{\"colorscale\":[[0.0,\"#E0DFED\"],[0.1111111111111111,\"#CCC7EE\"],[0.2222222222222222,\"#B8B0EF\"],[0.3333333333333333,\"#A498F0\"],[0.4444444444444444,\"#9080F1\"],[0.5555555555555556,\"#7D69F1\"],[0.6666666666666666,\"#6951F2\"],[0.7777777777777778,\"#5539F3\"],[0.8888888888888888,\"#4122F4\"],[1.0,\"#2D0AF5\"]],\"geo\":\"geo10\",\"locationmode\":\"USA-states\",\"locations\":[\"AK\",\"AL\",\"AR\",\"AZ\",\"CA\",\"CO\",\"CT\",\"DC\",\"DE\",\"FL\",\"GA\",\"HI\",\"IA\",\"ID\",\"IL\",\"IN\",\"KS\",\"KY\",\"LA\",\"MA\",\"MD\",\"ME\",\"MI\",\"MN\",\"MO\",\"MS\",\"MT\",\"NC\",\"ND\",\"NE\",\"NH\",\"NJ\",\"NM\",\"NV\",\"NY\",\"OH\",\"OK\",\"OR\",\"PA\",\"RI\",\"SC\",\"SD\",\"TN\",\"TX\",\"UT\",\"VA\",\"VT\",\"WA\",\"WI\",\"WV\",\"WY\"],\"showscale\":true,\"type\":\"choropleth\",\"z\":[1.050098238,9.576218455,3.303605535,8.157519755,5.68389016,19.50052696,106.0998704,18.17685584,33.40486915,7.823086809,15.02463398,0.0,14.54580357,5.110043823,25.4517545,22.90847348,5.617542358,7.879762085,40.04281691,53.47381796,32.18119044,0.0,35.83877169,13.76322952,8.827803201,18.13070054,1.29056631,7.061856662,0.0,0.0,7.02646873,99.90655508,0.0,9.949316989,62.20138922,17.90870678,8.9679317,3.130902821,38.43770203,69.08942157,6.93542602,0.0,3.899002201,0.875052395,0.0,13.14035848,8.671952592,12.91490549,8.048092059,3.428076391,0.0],\"zmax\":186,\"zmin\":0},{\"colorscale\":[[0.0,\"#E0DFED\"],[0.1111111111111111,\"#CCC7EE\"],[0.2222222222222222,\"#B8B0EF\"],[0.3333333333333333,\"#A498F0\"],[0.4444444444444444,\"#9080F1\"],[0.5555555555555556,\"#7D69F1\"],[0.6666666666666666,\"#6951F2\"],[0.7777777777777778,\"#5539F3\"],[0.8888888888888888,\"#4122F4\"],[1.0,\"#2D0AF5\"]],\"geo\":\"geo2\",\"locationmode\":\"USA-states\",\"locations\":[\"AK\",\"AL\",\"AR\",\"AZ\",\"CA\",\"CO\",\"CT\",\"DC\",\"DE\",\"FL\",\"GA\",\"HI\",\"IA\",\"ID\",\"IL\",\"IN\",\"KS\",\"KY\",\"LA\",\"MA\",\"MD\",\"ME\",\"MI\",\"MN\",\"MO\",\"MS\",\"MT\",\"NC\",\"ND\",\"NE\",\"NH\",\"NJ\",\"NM\",\"NV\",\"NY\",\"OH\",\"OK\",\"OR\",\"PA\",\"RI\",\"SC\",\"SD\",\"TN\",\"TX\",\"UT\",\"VA\",\"VT\",\"WA\",\"WI\",\"WV\",\"WY\"],\"showscale\":true,\"type\":\"choropleth\",\"z\":[2.188269231,4.394477606,22.22688987,18.91172748,15.71248556,2.228025387,6.837465307,3.609154548,0.0,0.0,16.82070103,0.0,-1.327171858,0.0,16.23042176,5.218145587,8.292963582,5.993786242,12.61127018,21.67487041,10.54887306,0.0,10.35856111,21.34494546,0.0,13.40294825,0.0,7.390451572,0.0,39.17326649,10.98920783,29.16565646,5.973846976,17.64208786,8.637076631,8.969703438,19.64792309,6.053557518,6.668015292,0.0,17.42748077,38.28609977,7.45228007,18.28206006,30.88694502,20.33847367,0.0,7.626927628,9.251261601,0.0,0.0],\"zmax\":186,\"zmin\":0},{\"colorscale\":[[0.0,\"#E0DFED\"],[0.1111111111111111,\"#CCC7EE\"],[0.2222222222222222,\"#B8B0EF\"],[0.3333333333333333,\"#A498F0\"],[0.4444444444444444,\"#9080F1\"],[0.5555555555555556,\"#7D69F1\"],[0.6666666666666666,\"#6951F2\"],[0.7777777777777778,\"#5539F3\"],[0.8888888888888888,\"#4122F4\"],[1.0,\"#2D0AF5\"]],\"geo\":\"geo5\",\"locationmode\":\"USA-states\",\"locations\":[\"AK\",\"AL\",\"AR\",\"AZ\",\"CA\",\"CO\",\"CT\",\"DC\",\"DE\",\"FL\",\"GA\",\"HI\",\"IA\",\"ID\",\"IL\",\"IN\",\"KS\",\"KY\",\"LA\",\"MA\",\"MD\",\"ME\",\"MI\",\"MN\",\"MO\",\"MS\",\"MT\",\"NC\",\"ND\",\"NE\",\"NH\",\"NJ\",\"NM\",\"NV\",\"NY\",\"OH\",\"OK\",\"OR\",\"PA\",\"RI\",\"SC\",\"SD\",\"TN\",\"TX\",\"UT\",\"VA\",\"VT\",\"WA\",\"WI\",\"WV\",\"WY\"],\"showscale\":true,\"type\":\"choropleth\",\"z\":[0.0,43.09671898,31.16122795,40.34501862,25.36820294,9.760873122,20.12898665,31.80421287,27.29295452,46.98137398,41.73237219,0.0,12.91302349,24.94958105,30.77042524,20.42848485,6.405460975,13.31952498,50.46857999,77.78857223,28.11680395,21.39393465,30.25000091,32.85998183,26.63572365,68.97007851,0.0,22.62501667,0.0,30.46809616,41.72464847,61.65537224,15.9302586,18.85489686,22.74758193,27.95326934,7.31453704,6.372165809,34.34192112,13.90981002,57.37319894,11.48582993,35.48704795,40.79467947,18.83635662,132.2168046,0.0,10.66264553,20.50696321,0.0,17.21099301],\"zmax\":186,\"zmin\":0},{\"colorscale\":[[0.0,\"#E0DFED\"],[0.1111111111111111,\"#CCC7EE\"],[0.2222222222222222,\"#B8B0EF\"],[0.3333333333333333,\"#A498F0\"],[0.4444444444444444,\"#9080F1\"],[0.5555555555555556,\"#7D69F1\"],[0.6666666666666666,\"#6951F2\"],[0.7777777777777778,\"#5539F3\"],[0.8888888888888888,\"#4122F4\"],[1.0,\"#2D0AF5\"]],\"geo\":\"geo8\",\"locationmode\":\"USA-states\",\"locations\":[\"AK\",\"AL\",\"AR\",\"AZ\",\"CA\",\"CO\",\"CT\",\"DC\",\"DE\",\"FL\",\"GA\",\"HI\",\"IA\",\"ID\",\"IL\",\"IN\",\"KS\",\"KY\",\"LA\",\"MA\",\"MD\",\"ME\",\"MI\",\"MN\",\"MO\",\"MS\",\"MT\",\"NC\",\"ND\",\"NE\",\"NH\",\"NJ\",\"NM\",\"NV\",\"NY\",\"OH\",\"OK\",\"OR\",\"PA\",\"RI\",\"SC\",\"SD\",\"TN\",\"TX\",\"UT\",\"VA\",\"VT\",\"WA\",\"WI\",\"WV\",\"WY\"],\"showscale\":true,\"type\":\"choropleth\",\"z\":[0.0,0.0,0.0,62.17305935,29.57462957,11.6893611,9.729199646,30.18565622,23.8455311,40.98438156,25.69899587,0.0,0.0,0.0,26.33051647,0.0,0.0,0.0,0.0,23.99905229,32.24195161,0.0,0.0,28.62635961,0.0,27.02207308,0.0,0.0,0.0,0.0,16.03830332,52.80303236,15.5711749,14.77012007,21.27064194,0.0,0.0,0.0,0.0,11.05558926,0.0,15.11293412,0.0,61.18029947,20.98908309,29.13896726,0.0,18.50430768,0.0,0.0,3.476968284],\"zmax\":186,\"zmin\":0},{\"colorscale\":[[0.0,\"#E0DFED\"],[0.1111111111111111,\"#CCC7EE\"],[0.2222222222222222,\"#B8B0EF\"],[0.3333333333333333,\"#A498F0\"],[0.4444444444444444,\"#9080F1\"],[0.5555555555555556,\"#7D69F1\"],[0.6666666666666666,\"#6951F2\"],[0.7777777777777778,\"#5539F3\"],[0.8888888888888888,\"#4122F4\"],[1.0,\"#2D0AF5\"]],\"geo\":\"geo11\",\"locationmode\":\"USA-states\",\"locations\":[\"AK\",\"AL\",\"AR\",\"AZ\",\"CA\",\"CO\",\"CT\",\"DC\",\"DE\",\"FL\",\"GA\",\"HI\",\"IA\",\"ID\",\"IL\",\"IN\",\"KS\",\"KY\",\"LA\",\"MA\",\"MD\",\"ME\",\"MI\",\"MN\",\"MO\",\"MS\",\"MT\",\"NC\",\"ND\",\"NE\",\"NH\",\"NJ\",\"NM\",\"NV\",\"NY\",\"OH\",\"OK\",\"OR\",\"PA\",\"RI\",\"SC\",\"SD\",\"TN\",\"TX\",\"UT\",\"VA\",\"VT\",\"WA\",\"WI\",\"WV\",\"WY\"],\"showscale\":true,\"type\":\"choropleth\",\"z\":[2.100196476,23.5791794,18.21329893,25.74028193,10.10137719,5.028971587,14.15156312,4.194659039,22.62420683,26.17676197,28.91749968,0.0,17.58945103,16.68849755,14.76289375,12.75094279,7.327229163,10.28244364,42.35962928,74.07086354,15.50684339,9.290367167,10.26524818,16.60705139,8.80787588,44.00711175,4.516982086,14.35060029,0.0,18.34981944,24.59264056,41.43115204,11.05321419,12.66742936,7.860394769,15.8613944,11.46488523,5.37136539,15.16919923,11.39740458,30.61664563,13.761196,17.09414758,17.2954345,7.736360756,11.19530643,0.069988594,9.726482224,8.533404143,0.0,2.824561215],\"zmax\":186,\"zmin\":0},{\"colorscale\":[[0.0,\"#E0DFED\"],[0.1111111111111111,\"#CCC7EE\"],[0.2222222222222222,\"#B8B0EF\"],[0.3333333333333333,\"#A498F0\"],[0.4444444444444444,\"#9080F1\"],[0.5555555555555556,\"#7D69F1\"],[0.6666666666666666,\"#6951F2\"],[0.7777777777777778,\"#5539F3\"],[0.8888888888888888,\"#4122F4\"],[1.0,\"#2D0AF5\"]],\"geo\":\"geo3\",\"locationmode\":\"USA-states\",\"locations\":[\"AK\",\"AL\",\"AR\",\"AZ\",\"CA\",\"CO\",\"CT\",\"DC\",\"DE\",\"FL\",\"GA\",\"HI\",\"IA\",\"ID\",\"IL\",\"IN\",\"KS\",\"KY\",\"LA\",\"MA\",\"MD\",\"ME\",\"MI\",\"MN\",\"MO\",\"MS\",\"MT\",\"NC\",\"ND\",\"NE\",\"NH\",\"NJ\",\"NM\",\"NV\",\"NY\",\"OH\",\"OK\",\"OR\",\"PA\",\"RI\",\"SC\",\"SD\",\"TN\",\"TX\",\"UT\",\"VA\",\"VT\",\"WA\",\"WI\",\"WV\",\"WY\"],\"showscale\":true,\"type\":\"choropleth\",\"z\":[37.20057693,13.18343282,24.44957886,13.32417163,23.38439192,25.0652856,13.05334286,10.82746364,13.39309439,0.0,17.54158822,29.02047352,35.83364018,41.58263509,30.46763383,14.34990037,27.24830891,10.48912592,23.96141335,15.039706,14.24097862,0.0,14.56672656,40.06858183,31.12248993,36.85810768,0.0,15.78869199,0.0,10.88146291,2.747301957,15.05706655,47.79077581,87.38987706,34.54830652,7.79974212,20.80368327,14.30840868,20.92377212,63.98512607,24.8964011,76.57219954,17.3886535,16.14423852,23.86718479,11.27363145,0.0,15.57164391,39.4720495,0.0,76.49330225],\"zmax\":186,\"zmin\":0},{\"colorscale\":[[0.0,\"#E0DFED\"],[0.1111111111111111,\"#CCC7EE\"],[0.2222222222222222,\"#B8B0EF\"],[0.3333333333333333,\"#A498F0\"],[0.4444444444444444,\"#9080F1\"],[0.5555555555555556,\"#7D69F1\"],[0.6666666666666666,\"#6951F2\"],[0.7777777777777778,\"#5539F3\"],[0.8888888888888888,\"#4122F4\"],[1.0,\"#2D0AF5\"]],\"geo\":\"geo6\",\"locationmode\":\"USA-states\",\"locations\":[\"AK\",\"AL\",\"AR\",\"AZ\",\"CA\",\"CO\",\"CT\",\"DC\",\"DE\",\"FL\",\"GA\",\"HI\",\"IA\",\"ID\",\"IL\",\"IN\",\"KS\",\"KY\",\"LA\",\"MA\",\"MD\",\"ME\",\"MI\",\"MN\",\"MO\",\"MS\",\"MT\",\"NC\",\"ND\",\"NE\",\"NH\",\"NJ\",\"NM\",\"NV\",\"NY\",\"OH\",\"OK\",\"OR\",\"PA\",\"RI\",\"SC\",\"SD\",\"TN\",\"TX\",\"UT\",\"VA\",\"VT\",\"WA\",\"WI\",\"WV\",\"WY\"],\"showscale\":true,\"type\":\"choropleth\",\"z\":[32.89034966,39.70449065,76.48665043,27.10680939,31.68830886,21.64367518,33.1997572,38.04033304,31.05749997,44.24747998,39.99859288,19.53301102,44.76514809,33.26610807,50.51202423,38.3034091,46.00285609,32.74383225,53.66447952,23.43260694,34.06245222,16.04545099,42.82992918,26.68118183,34.46976001,71.72532649,0.0,41.28951735,0.0,32.64438874,4.636072053,29.78480093,59.16953195,62.11024849,59.2283249,25.04723639,35.52775134,31.86082904,37.06414658,48.68433506,45.63101574,22.97165986,64.14283917,34.21489246,18.83635662,32.89682621,11.44114754,15.63854678,40.20444104,25.28246274,0.0],\"zmax\":186,\"zmin\":0},{\"colorscale\":[[0.0,\"#E0DFED\"],[0.1111111111111111,\"#CCC7EE\"],[0.2222222222222222,\"#B8B0EF\"],[0.3333333333333333,\"#A498F0\"],[0.4444444444444444,\"#9080F1\"],[0.5555555555555556,\"#7D69F1\"],[0.6666666666666666,\"#6951F2\"],[0.7777777777777778,\"#5539F3\"],[0.8888888888888888,\"#4122F4\"],[1.0,\"#2D0AF5\"]],\"geo\":\"geo9\",\"locationmode\":\"USA-states\",\"locations\":[\"AK\",\"AL\",\"AR\",\"AZ\",\"CA\",\"CO\",\"CT\",\"DC\",\"DE\",\"FL\",\"GA\",\"HI\",\"IA\",\"ID\",\"IL\",\"IN\",\"KS\",\"KY\",\"LA\",\"MA\",\"MD\",\"ME\",\"MI\",\"MN\",\"MO\",\"MS\",\"MT\",\"NC\",\"ND\",\"NE\",\"NH\",\"NJ\",\"NM\",\"NV\",\"NY\",\"OH\",\"OK\",\"OR\",\"PA\",\"RI\",\"SC\",\"SD\",\"TN\",\"TX\",\"UT\",\"VA\",\"VT\",\"WA\",\"WI\",\"WV\",\"WY\"],\"showscale\":true,\"type\":\"choropleth\",\"z\":[0.0,0.0,0.0,44.81716887,35.89293489,46.50873458,31.44616314,34.12291573,20.43902666,46.27329172,24.78840153,0.0,0.0,0.0,47.16596864,0.0,0.0,0.0,0.0,29.1947234,23.19446519,0.0,0.0,25.96344243,0.0,16.21324385,0.0,0.0,0.0,0.0,14.0335154,30.27671232,67.768887,56.97046311,47.78499461,0.0,0.0,0.0,0.0,38.080363,0.0,30.22586824,0.0,59.09143567,28.1392103,15.60298905,0.0,17.9725747,0.0,0.0,41.72361941],\"zmax\":186,\"zmin\":0},{\"colorscale\":[[0.0,\"#E0DFED\"],[0.1111111111111111,\"#CCC7EE\"],[0.2222222222222222,\"#B8B0EF\"],[0.3333333333333333,\"#A498F0\"],[0.4444444444444444,\"#9080F1\"],[0.5555555555555556,\"#7D69F1\"],[0.6666666666666666,\"#6951F2\"],[0.7777777777777778,\"#5539F3\"],[0.8888888888888888,\"#4122F4\"],[1.0,\"#2D0AF5\"]],\"geo\":\"geo12\",\"locationmode\":\"USA-states\",\"locations\":[\"AK\",\"AL\",\"AR\",\"AZ\",\"CA\",\"CO\",\"CT\",\"DC\",\"DE\",\"FL\",\"GA\",\"HI\",\"IA\",\"ID\",\"IL\",\"IN\",\"KS\",\"KY\",\"LA\",\"MA\",\"MD\",\"ME\",\"MI\",\"MN\",\"MO\",\"MS\",\"MT\",\"NC\",\"ND\",\"NE\",\"NH\",\"NJ\",\"NM\",\"NV\",\"NY\",\"OH\",\"OK\",\"OR\",\"PA\",\"RI\",\"SC\",\"SD\",\"TN\",\"TX\",\"UT\",\"VA\",\"VT\",\"WA\",\"WI\",\"WV\",\"WY\"],\"showscale\":true,\"type\":\"choropleth\",\"z\":[12.39115921,39.23840455,89.32775492,38.85845559,16.95786284,38.57666812,40.28036066,5.942433639,37.80823827,37.70753324,42.40030441,7.031883968,92.54811759,63.51978525,62.45755418,64.83530232,72.946637,35.85937631,63.62589215,39.19419653,36.3422932,12.22834653,60.82351538,63.80146933,43.62090566,76.48172094,53.12831311,37.29454422,0.0,47.91341742,15.72970841,29.25431385,33.47909963,51.84927565,27.6637771,38.96225424,41.78001121,19.53223778,60.7447767,64.50695994,44.07255765,139.3832031,75.3102839,28.07340225,22.76059759,27.03309434,10.71241203,20.43815141,71.32065501,49.52979337,59.31578552],\"zmax\":186,\"zmin\":0}],                        {\"annotations\":[{\"font\":{\"size\":38},\"showarrow\":false,\"text\":\"Wave 1\",\"x\":0.16666666666666666,\"xanchor\":\"center\",\"xref\":\"paper\",\"y\":1.0,\"yanchor\":\"bottom\",\"yref\":\"paper\"},{\"font\":{\"size\":38},\"showarrow\":false,\"text\":\"Wave 2\",\"x\":0.5,\"xanchor\":\"center\",\"xref\":\"paper\",\"y\":1.0,\"yanchor\":\"bottom\",\"yref\":\"paper\"},{\"font\":{\"size\":38},\"showarrow\":false,\"text\":\"Wave 3\",\"x\":0.8333333333333333,\"xanchor\":\"center\",\"xref\":\"paper\",\"y\":1.0,\"yanchor\":\"bottom\",\"yref\":\"paper\"}],\"coloraxis\":{\"showscale\":true},\"font\":{\"family\":\"Calibri\",\"size\":42},\"geo\":{\"domain\":{\"x\":[0.0,0.3333333333333333],\"y\":[0.7575000000000001,1.0]},\"scope\":\"usa\"},\"geo10\":{\"domain\":{\"x\":[0.0,0.3333333333333333],\"y\":[0.0,0.2425]},\"scope\":\"usa\"},\"geo11\":{\"domain\":{\"x\":[0.3333333333333333,0.6666666666666666],\"y\":[0.0,0.2425]},\"scope\":\"usa\"},\"geo12\":{\"domain\":{\"x\":[0.6666666666666666,1.0],\"y\":[0.0,0.2425]},\"scope\":\"usa\"},\"geo2\":{\"domain\":{\"x\":[0.3333333333333333,0.6666666666666666],\"y\":[0.7575000000000001,1.0]},\"scope\":\"usa\"},\"geo3\":{\"domain\":{\"x\":[0.6666666666666666,1.0],\"y\":[0.7575000000000001,1.0]},\"scope\":\"usa\"},\"geo4\":{\"domain\":{\"x\":[0.0,0.3333333333333333],\"y\":[0.505,0.7475]},\"scope\":\"usa\"},\"geo5\":{\"domain\":{\"x\":[0.3333333333333333,0.6666666666666666],\"y\":[0.505,0.7475]},\"scope\":\"usa\"},\"geo6\":{\"domain\":{\"x\":[0.6666666666666666,1.0],\"y\":[0.505,0.7475]},\"scope\":\"usa\"},\"geo7\":{\"domain\":{\"x\":[0.0,0.3333333333333333],\"y\":[0.2525,0.495]},\"scope\":\"usa\"},\"geo8\":{\"domain\":{\"x\":[0.3333333333333333,0.6666666666666666],\"y\":[0.2525,0.495]},\"scope\":\"usa\"},\"geo9\":{\"domain\":{\"x\":[0.6666666666666666,1.0],\"y\":[0.2525,0.495]},\"scope\":\"usa\"},\"margin\":{\"b\":15,\"l\":1,\"r\":0,\"t\":70},\"template\":{\"data\":{\"bar\":[{\"error_x\":{\"color\":\"#2a3f5f\"},\"error_y\":{\"color\":\"#2a3f5f\"},\"marker\":{\"line\":{\"color\":\"#E5ECF6\",\"width\":0.5},\"pattern\":{\"fillmode\":\"overlay\",\"size\":10,\"solidity\":0.2}},\"type\":\"bar\"}],\"barpolar\":[{\"marker\":{\"line\":{\"color\":\"#E5ECF6\",\"width\":0.5},\"pattern\":{\"fillmode\":\"overlay\",\"size\":10,\"solidity\":0.2}},\"type\":\"barpolar\"}],\"carpet\":[{\"aaxis\":{\"endlinecolor\":\"#2a3f5f\",\"gridcolor\":\"white\",\"linecolor\":\"white\",\"minorgridcolor\":\"white\",\"startlinecolor\":\"#2a3f5f\"},\"baxis\":{\"endlinecolor\":\"#2a3f5f\",\"gridcolor\":\"white\",\"linecolor\":\"white\",\"minorgridcolor\":\"white\",\"startlinecolor\":\"#2a3f5f\"},\"type\":\"carpet\"}],\"choropleth\":[{\"colorbar\":{\"outlinewidth\":0,\"ticks\":\"\"},\"type\":\"choropleth\"}],\"contour\":[{\"colorbar\":{\"outlinewidth\":0,\"ticks\":\"\"},\"colorscale\":[[0.0,\"#0d0887\"],[0.1111111111111111,\"#46039f\"],[0.2222222222222222,\"#7201a8\"],[0.3333333333333333,\"#9c179e\"],[0.4444444444444444,\"#bd3786\"],[0.5555555555555556,\"#d8576b\"],[0.6666666666666666,\"#ed7953\"],[0.7777777777777778,\"#fb9f3a\"],[0.8888888888888888,\"#fdca26\"],[1.0,\"#f0f921\"]],\"type\":\"contour\"}],\"contourcarpet\":[{\"colorbar\":{\"outlinewidth\":0,\"ticks\":\"\"},\"type\":\"contourcarpet\"}],\"heatmap\":[{\"colorbar\":{\"outlinewidth\":0,\"ticks\":\"\"},\"colorscale\":[[0.0,\"#0d0887\"],[0.1111111111111111,\"#46039f\"],[0.2222222222222222,\"#7201a8\"],[0.3333333333333333,\"#9c179e\"],[0.4444444444444444,\"#bd3786\"],[0.5555555555555556,\"#d8576b\"],[0.6666666666666666,\"#ed7953\"],[0.7777777777777778,\"#fb9f3a\"],[0.8888888888888888,\"#fdca26\"],[1.0,\"#f0f921\"]],\"type\":\"heatmap\"}],\"heatmapgl\":[{\"colorbar\":{\"outlinewidth\":0,\"ticks\":\"\"},\"colorscale\":[[0.0,\"#0d0887\"],[0.1111111111111111,\"#46039f\"],[0.2222222222222222,\"#7201a8\"],[0.3333333333333333,\"#9c179e\"],[0.4444444444444444,\"#bd3786\"],[0.5555555555555556,\"#d8576b\"],[0.6666666666666666,\"#ed7953\"],[0.7777777777777778,\"#fb9f3a\"],[0.8888888888888888,\"#fdca26\"],[1.0,\"#f0f921\"]],\"type\":\"heatmapgl\"}],\"histogram\":[{\"marker\":{\"pattern\":{\"fillmode\":\"overlay\",\"size\":10,\"solidity\":0.2}},\"type\":\"histogram\"}],\"histogram2d\":[{\"colorbar\":{\"outlinewidth\":0,\"ticks\":\"\"},\"colorscale\":[[0.0,\"#0d0887\"],[0.1111111111111111,\"#46039f\"],[0.2222222222222222,\"#7201a8\"],[0.3333333333333333,\"#9c179e\"],[0.4444444444444444,\"#bd3786\"],[0.5555555555555556,\"#d8576b\"],[0.6666666666666666,\"#ed7953\"],[0.7777777777777778,\"#fb9f3a\"],[0.8888888888888888,\"#fdca26\"],[1.0,\"#f0f921\"]],\"type\":\"histogram2d\"}],\"histogram2dcontour\":[{\"colorbar\":{\"outlinewidth\":0,\"ticks\":\"\"},\"colorscale\":[[0.0,\"#0d0887\"],[0.1111111111111111,\"#46039f\"],[0.2222222222222222,\"#7201a8\"],[0.3333333333333333,\"#9c179e\"],[0.4444444444444444,\"#bd3786\"],[0.5555555555555556,\"#d8576b\"],[0.6666666666666666,\"#ed7953\"],[0.7777777777777778,\"#fb9f3a\"],[0.8888888888888888,\"#fdca26\"],[1.0,\"#f0f921\"]],\"type\":\"histogram2dcontour\"}],\"mesh3d\":[{\"colorbar\":{\"outlinewidth\":0,\"ticks\":\"\"},\"type\":\"mesh3d\"}],\"parcoords\":[{\"line\":{\"colorbar\":{\"outlinewidth\":0,\"ticks\":\"\"}},\"type\":\"parcoords\"}],\"pie\":[{\"automargin\":true,\"type\":\"pie\"}],\"scatter\":[{\"marker\":{\"colorbar\":{\"outlinewidth\":0,\"ticks\":\"\"}},\"type\":\"scatter\"}],\"scatter3d\":[{\"line\":{\"colorbar\":{\"outlinewidth\":0,\"ticks\":\"\"}},\"marker\":{\"colorbar\":{\"outlinewidth\":0,\"ticks\":\"\"}},\"type\":\"scatter3d\"}],\"scattercarpet\":[{\"marker\":{\"colorbar\":{\"outlinewidth\":0,\"ticks\":\"\"}},\"type\":\"scattercarpet\"}],\"scattergeo\":[{\"marker\":{\"colorbar\":{\"outlinewidth\":0,\"ticks\":\"\"}},\"type\":\"scattergeo\"}],\"scattergl\":[{\"marker\":{\"colorbar\":{\"outlinewidth\":0,\"ticks\":\"\"}},\"type\":\"scattergl\"}],\"scattermapbox\":[{\"marker\":{\"colorbar\":{\"outlinewidth\":0,\"ticks\":\"\"}},\"type\":\"scattermapbox\"}],\"scatterpolar\":[{\"marker\":{\"colorbar\":{\"outlinewidth\":0,\"ticks\":\"\"}},\"type\":\"scatterpolar\"}],\"scatterpolargl\":[{\"marker\":{\"colorbar\":{\"outlinewidth\":0,\"ticks\":\"\"}},\"type\":\"scatterpolargl\"}],\"scatterternary\":[{\"marker\":{\"colorbar\":{\"outlinewidth\":0,\"ticks\":\"\"}},\"type\":\"scatterternary\"}],\"surface\":[{\"colorbar\":{\"outlinewidth\":0,\"ticks\":\"\"},\"colorscale\":[[0.0,\"#0d0887\"],[0.1111111111111111,\"#46039f\"],[0.2222222222222222,\"#7201a8\"],[0.3333333333333333,\"#9c179e\"],[0.4444444444444444,\"#bd3786\"],[0.5555555555555556,\"#d8576b\"],[0.6666666666666666,\"#ed7953\"],[0.7777777777777778,\"#fb9f3a\"],[0.8888888888888888,\"#fdca26\"],[1.0,\"#f0f921\"]],\"type\":\"surface\"}],\"table\":[{\"cells\":{\"fill\":{\"color\":\"#EBF0F8\"},\"line\":{\"color\":\"white\"}},\"header\":{\"fill\":{\"color\":\"#C8D4E3\"},\"line\":{\"color\":\"white\"}},\"type\":\"table\"}]},\"layout\":{\"annotationdefaults\":{\"arrowcolor\":\"#2a3f5f\",\"arrowhead\":0,\"arrowwidth\":1},\"autotypenumbers\":\"strict\",\"coloraxis\":{\"colorbar\":{\"outlinewidth\":0,\"ticks\":\"\"}},\"colorscale\":{\"diverging\":[[0,\"#8e0152\"],[0.1,\"#c51b7d\"],[0.2,\"#de77ae\"],[0.3,\"#f1b6da\"],[0.4,\"#fde0ef\"],[0.5,\"#f7f7f7\"],[0.6,\"#e6f5d0\"],[0.7,\"#b8e186\"],[0.8,\"#7fbc41\"],[0.9,\"#4d9221\"],[1,\"#276419\"]],\"sequential\":[[0.0,\"#0d0887\"],[0.1111111111111111,\"#46039f\"],[0.2222222222222222,\"#7201a8\"],[0.3333333333333333,\"#9c179e\"],[0.4444444444444444,\"#bd3786\"],[0.5555555555555556,\"#d8576b\"],[0.6666666666666666,\"#ed7953\"],[0.7777777777777778,\"#fb9f3a\"],[0.8888888888888888,\"#fdca26\"],[1.0,\"#f0f921\"]],\"sequentialminus\":[[0.0,\"#0d0887\"],[0.1111111111111111,\"#46039f\"],[0.2222222222222222,\"#7201a8\"],[0.3333333333333333,\"#9c179e\"],[0.4444444444444444,\"#bd3786\"],[0.5555555555555556,\"#d8576b\"],[0.6666666666666666,\"#ed7953\"],[0.7777777777777778,\"#fb9f3a\"],[0.8888888888888888,\"#fdca26\"],[1.0,\"#f0f921\"]]},\"colorway\":[\"#636efa\",\"#EF553B\",\"#00cc96\",\"#ab63fa\",\"#FFA15A\",\"#19d3f3\",\"#FF6692\",\"#B6E880\",\"#FF97FF\",\"#FECB52\"],\"font\":{\"color\":\"#2a3f5f\"},\"geo\":{\"bgcolor\":\"white\",\"lakecolor\":\"white\",\"landcolor\":\"#E5ECF6\",\"showlakes\":true,\"showland\":true,\"subunitcolor\":\"white\"},\"hoverlabel\":{\"align\":\"left\"},\"hovermode\":\"closest\",\"mapbox\":{\"style\":\"light\"},\"paper_bgcolor\":\"white\",\"plot_bgcolor\":\"#E5ECF6\",\"polar\":{\"angularaxis\":{\"gridcolor\":\"white\",\"linecolor\":\"white\",\"ticks\":\"\"},\"bgcolor\":\"#E5ECF6\",\"radialaxis\":{\"gridcolor\":\"white\",\"linecolor\":\"white\",\"ticks\":\"\"}},\"scene\":{\"xaxis\":{\"backgroundcolor\":\"#E5ECF6\",\"gridcolor\":\"white\",\"gridwidth\":2,\"linecolor\":\"white\",\"showbackground\":true,\"ticks\":\"\",\"zerolinecolor\":\"white\"},\"yaxis\":{\"backgroundcolor\":\"#E5ECF6\",\"gridcolor\":\"white\",\"gridwidth\":2,\"linecolor\":\"white\",\"showbackground\":true,\"ticks\":\"\",\"zerolinecolor\":\"white\"},\"zaxis\":{\"backgroundcolor\":\"#E5ECF6\",\"gridcolor\":\"white\",\"gridwidth\":2,\"linecolor\":\"white\",\"showbackground\":true,\"ticks\":\"\",\"zerolinecolor\":\"white\"}},\"shapedefaults\":{\"line\":{\"color\":\"#2a3f5f\"}},\"ternary\":{\"aaxis\":{\"gridcolor\":\"white\",\"linecolor\":\"white\",\"ticks\":\"\"},\"baxis\":{\"gridcolor\":\"white\",\"linecolor\":\"white\",\"ticks\":\"\"},\"bgcolor\":\"#E5ECF6\",\"caxis\":{\"gridcolor\":\"white\",\"linecolor\":\"white\",\"ticks\":\"\"}},\"title\":{\"x\":0.05},\"xaxis\":{\"automargin\":true,\"gridcolor\":\"white\",\"linecolor\":\"white\",\"ticks\":\"\",\"title\":{\"standoff\":15},\"zerolinecolor\":\"white\",\"zerolinewidth\":2},\"yaxis\":{\"automargin\":true,\"gridcolor\":\"white\",\"linecolor\":\"white\",\"ticks\":\"\",\"title\":{\"standoff\":15},\"zerolinecolor\":\"white\",\"zerolinewidth\":2}}},\"title\":{\"text\":\"COVID-19 Deaths by Race and Wave\",\"x\":0.5,\"xanchor\":\"center\"}},                        {\"responsive\": true}                    ).then(function(){\n",
       "                            \n",
       "var gd = document.getElementById('59bbfe4b-a7f0-4103-84e8-cbfba1f3537e');\n",
       "var x = new MutationObserver(function (mutations, observer) {{\n",
       "        var display = window.getComputedStyle(gd).display;\n",
       "        if (!display || display === 'none') {{\n",
       "            console.log([gd, 'removed!']);\n",
       "            Plotly.purge(gd);\n",
       "            observer.disconnect();\n",
       "        }}\n",
       "}});\n",
       "\n",
       "// Listen for the removal of the full notebook cells\n",
       "var notebookContainer = gd.closest('#notebook-container');\n",
       "if (notebookContainer) {{\n",
       "    x.observe(notebookContainer, {childList: true});\n",
       "}}\n",
       "\n",
       "// Listen for the clearing of the current output cell\n",
       "var outputEl = gd.closest('.output');\n",
       "if (outputEl) {{\n",
       "    x.observe(outputEl, {childList: true});\n",
       "}}\n",
       "\n",
       "                        })                };                });            </script>        </div>"
      ]
     },
     "metadata": {},
     "output_type": "display_data"
    }
   ],
   "source": [
    "waves = (CovTw['Wave'].sort_values(ascending=True).unique()).tolist()\n",
    "\n",
    "cscale = [\"#E0DFED\",\"#CCC7EE\",\"#B8B0EF\",\"#A498F0\",\"#9080F1\",\"#7D69F1\",\"#6951F2\",\"#5539F3\",\"#4122F4\",\"#2D0AF5\"]\n",
    "\n",
    "# cscale = [[0, 'rgb(0,0,255)'], [1, 'rgb(0,50,255)']]\n",
    "rows = 4\n",
    "cols = 3\n",
    "fig = make_subplots(rows=rows, cols=cols, \n",
    "    specs = [[{'type': 'choropleth'} for c in np.arange(cols)] for r in np.arange(rows)],\n",
    "    subplot_titles = waves, vertical_spacing=0.01, horizontal_spacing=0)\n",
    "fig.update_annotations(font_size=38)\n",
    "\n",
    "for i, y in enumerate(waves):\n",
    "    fig.add_trace(go.Choropleth(locations=CovTw.State[CovTw['Wave']==y],z = CovTw.A_Death_Per100K[CovTw['Wave']==y],\n",
    "              locationmode = 'USA-states', zmin=0, zmax=186, colorscale=cscale), row = 1, col = i+1)     \n",
    "    fig.append_trace(go.Choropleth(locations=CovTw.State[CovTw['Wave']==y],z = CovTw.B_Death_Per100K[CovTw['Wave']==y],\n",
    "              locationmode = 'USA-states', zmin=0, zmax=186, colorscale=cscale), row = 2, col = i+1) \n",
    "    fig.append_trace(go.Choropleth(locations=CovTw.State[CovTw['Wave']==y],z = CovTw.L_Death_Per100K[CovTw['Wave']==y],\n",
    "              locationmode = 'USA-states', zmin=0, zmax=186, colorscale=cscale), row = 3, col = i+1) \n",
    "    fig.append_trace(go.Choropleth(locations=CovTw.State[CovTw['Wave']==y],z = CovTw.W_Death_Per100K[CovTw['Wave']==y],\n",
    "              locationmode = 'USA-states', zmin=0, zmax=186, colorscale=cscale), row = 4, col = i+1) \n",
    "    \n",
    "fig.update_layout(title={'text':'COVID-19 Deaths by Race and Wave', 'xanchor': 'center','x':0.5,},\n",
    "    **{'geo' + str(i) + '_scope': 'usa' for i in [''] + np.arange(2,rows*cols+1).tolist()},\n",
    "    coloraxis_showscale=True, margin={\"r\":0,\"t\":70,\"l\":1,\"b\":15}, font=dict(family=\"Calibri\",size=42))  \n",
    "\n",
    "fig.update_traces(showscale=True)\n",
    "fig.show()\n",
    "# fig.write_image(out_dir + \"\\Map COVID-19 Deaths by Race and Wave.jpg\",width=2500, height=2000, scale=1, engine=\"kaleido\")"
   ]
  },
  {
   "cell_type": "code",
   "execution_count": 183,
   "id": "5af8d820",
   "metadata": {
    "scrolled": true
   },
   "outputs": [
    {
     "data": {
      "text/html": [
       "<div>\n",
       "<style scoped>\n",
       "    .dataframe tbody tr th:only-of-type {\n",
       "        vertical-align: middle;\n",
       "    }\n",
       "\n",
       "    .dataframe tbody tr th {\n",
       "        vertical-align: top;\n",
       "    }\n",
       "\n",
       "    .dataframe thead th {\n",
       "        text-align: right;\n",
       "    }\n",
       "</style>\n",
       "<table border=\"1\" class=\"dataframe\">\n",
       "  <thead>\n",
       "    <tr style=\"text-align: right;\">\n",
       "      <th></th>\n",
       "      <th>Wave</th>\n",
       "      <th>State</th>\n",
       "      <th>Cases_Asian</th>\n",
       "      <th>Cases_Black</th>\n",
       "      <th>Cases_Latinx</th>\n",
       "      <th>Cases_White</th>\n",
       "      <th>Deaths_Asian</th>\n",
       "      <th>Deaths_Black</th>\n",
       "      <th>Deaths_Latinx</th>\n",
       "      <th>Deaths_White</th>\n",
       "      <th>Asian_Pop</th>\n",
       "      <th>Black_Pop</th>\n",
       "      <th>Latino_Pop</th>\n",
       "      <th>White_Pop</th>\n",
       "      <th>Twt_Asian</th>\n",
       "      <th>Twt_Black</th>\n",
       "      <th>Twt_Latino</th>\n",
       "      <th>Twt_White</th>\n",
       "    </tr>\n",
       "  </thead>\n",
       "  <tbody>\n",
       "    <tr>\n",
       "      <th>0</th>\n",
       "      <td>Wave 1</td>\n",
       "      <td>AK</td>\n",
       "      <td>46.0</td>\n",
       "      <td>13.0</td>\n",
       "      <td>NaN</td>\n",
       "      <td>274.0</td>\n",
       "      <td>2.0</td>\n",
       "      <td>0.0</td>\n",
       "      <td>NaN</td>\n",
       "      <td>5.0</td>\n",
       "      <td>45698.216</td>\n",
       "      <td>24323.244</td>\n",
       "      <td>5.159476e+04</td>\n",
       "      <td>4.761459e+05</td>\n",
       "      <td>0</td>\n",
       "      <td>0</td>\n",
       "      <td>0</td>\n",
       "      <td>0</td>\n",
       "    </tr>\n",
       "    <tr>\n",
       "      <th>1</th>\n",
       "      <td>Wave 1</td>\n",
       "      <td>AL</td>\n",
       "      <td>86.0</td>\n",
       "      <td>7534.0</td>\n",
       "      <td>NaN</td>\n",
       "      <td>6861.0</td>\n",
       "      <td>3.0</td>\n",
       "      <td>278.0</td>\n",
       "      <td>NaN</td>\n",
       "      <td>318.0</td>\n",
       "      <td>68267.500</td>\n",
       "      <td>1297082.500</td>\n",
       "      <td>2.096788e+05</td>\n",
       "      <td>3.320726e+06</td>\n",
       "      <td>0</td>\n",
       "      <td>2</td>\n",
       "      <td>0</td>\n",
       "      <td>0</td>\n",
       "    </tr>\n",
       "    <tr>\n",
       "      <th>2</th>\n",
       "      <td>Wave 1</td>\n",
       "      <td>AR</td>\n",
       "      <td>74.0</td>\n",
       "      <td>2372.0</td>\n",
       "      <td>NaN</td>\n",
       "      <td>3463.0</td>\n",
       "      <td>1.0</td>\n",
       "      <td>46.0</td>\n",
       "      <td>NaN</td>\n",
       "      <td>76.0</td>\n",
       "      <td>44990.550</td>\n",
       "      <td>458903.610</td>\n",
       "      <td>2.249528e+05</td>\n",
       "      <td>2.300517e+06</td>\n",
       "      <td>0</td>\n",
       "      <td>1</td>\n",
       "      <td>0</td>\n",
       "      <td>0</td>\n",
       "    </tr>\n",
       "    <tr>\n",
       "      <th>3</th>\n",
       "      <td>Wave 1</td>\n",
       "      <td>AZ</td>\n",
       "      <td>207.0</td>\n",
       "      <td>733.0</td>\n",
       "      <td>4715.0</td>\n",
       "      <td>4972.0</td>\n",
       "      <td>12.0</td>\n",
       "      <td>29.0</td>\n",
       "      <td>142.0</td>\n",
       "      <td>444.0</td>\n",
       "      <td>232659.867</td>\n",
       "      <td>317263.455</td>\n",
       "      <td>2.206744e+06</td>\n",
       "      <td>5.442831e+06</td>\n",
       "      <td>2</td>\n",
       "      <td>5</td>\n",
       "      <td>0</td>\n",
       "      <td>2</td>\n",
       "    </tr>\n",
       "    <tr>\n",
       "      <th>4</th>\n",
       "      <td>Wave 1</td>\n",
       "      <td>CA</td>\n",
       "      <td>7209.0</td>\n",
       "      <td>4137.0</td>\n",
       "      <td>42897.0</td>\n",
       "      <td>15843.0</td>\n",
       "      <td>591.0</td>\n",
       "      <td>397.0</td>\n",
       "      <td>1545.0</td>\n",
       "      <td>1333.0</td>\n",
       "      <td>5696107.065</td>\n",
       "      <td>2278442.826</td>\n",
       "      <td>1.532056e+07</td>\n",
       "      <td>2.345225e+07</td>\n",
       "      <td>9</td>\n",
       "      <td>77</td>\n",
       "      <td>23</td>\n",
       "      <td>38</td>\n",
       "    </tr>\n",
       "  </tbody>\n",
       "</table>\n",
       "</div>"
      ],
      "text/plain": [
       "     Wave State  Cases_Asian  Cases_Black  Cases_Latinx  Cases_White  \\\n",
       "0  Wave 1    AK         46.0         13.0           NaN        274.0   \n",
       "1  Wave 1    AL         86.0       7534.0           NaN       6861.0   \n",
       "2  Wave 1    AR         74.0       2372.0           NaN       3463.0   \n",
       "3  Wave 1    AZ        207.0        733.0        4715.0       4972.0   \n",
       "4  Wave 1    CA       7209.0       4137.0       42897.0      15843.0   \n",
       "\n",
       "   Deaths_Asian  Deaths_Black  Deaths_Latinx  Deaths_White    Asian_Pop  \\\n",
       "0           2.0           0.0            NaN           5.0    45698.216   \n",
       "1           3.0         278.0            NaN         318.0    68267.500   \n",
       "2           1.0          46.0            NaN          76.0    44990.550   \n",
       "3          12.0          29.0          142.0         444.0   232659.867   \n",
       "4         591.0         397.0         1545.0        1333.0  5696107.065   \n",
       "\n",
       "     Black_Pop    Latino_Pop     White_Pop  Twt_Asian  Twt_Black  Twt_Latino  \\\n",
       "0    24323.244  5.159476e+04  4.761459e+05          0          0           0   \n",
       "1  1297082.500  2.096788e+05  3.320726e+06          0          2           0   \n",
       "2   458903.610  2.249528e+05  2.300517e+06          0          1           0   \n",
       "3   317263.455  2.206744e+06  5.442831e+06          2          5           0   \n",
       "4  2278442.826  1.532056e+07  2.345225e+07          9         77          23   \n",
       "\n",
       "   Twt_White  \n",
       "0          0  \n",
       "1          0  \n",
       "2          0  \n",
       "3          2  \n",
       "4         38  "
      ]
     },
     "execution_count": 183,
     "metadata": {},
     "output_type": "execute_result"
    }
   ],
   "source": [
    "CovTwPop = pd.read_csv(\"tweet_COVID_Pop_summary_by_wave_state_final.csv\")\n",
    "CovTwPop.head()"
   ]
  },
  {
   "cell_type": "code",
   "execution_count": 193,
   "id": "c5db6140",
   "metadata": {},
   "outputs": [
    {
     "name": "stdout",
     "output_type": "stream",
     "text": [
      "[[ 1.34790575e-03 -1.05768644e+02]]\n"
     ]
    }
   ],
   "source": [
    "regression_model = sklearn.linear_model.LinearRegression()\n",
    "\n",
    "training_data_1 = CovTwPop.loc[CovTwPop['Wave']=='Wave 1',['Asian_Pop','Twt_Asian']]\n",
    "target_values_1 = CovTwPop.loc[CovTwPop['Wave']=='Wave 1',[\"Cases_Asian\"]].fillna(0)\n",
    "\n",
    "regression_model.fit(training_data_1, target_values_1)\n",
    "\n",
    "estimates = regression_model.coef_\n",
    "print(estimates)"
   ]
  }
 ],
 "metadata": {
  "kernelspec": {
   "display_name": "Python 3 (ipykernel)",
   "language": "python",
   "name": "python3"
  },
  "language_info": {
   "codemirror_mode": {
    "name": "ipython",
    "version": 3
   },
   "file_extension": ".py",
   "mimetype": "text/x-python",
   "name": "python",
   "nbconvert_exporter": "python",
   "pygments_lexer": "ipython3",
   "version": "3.8.8"
  }
 },
 "nbformat": 4,
 "nbformat_minor": 5
}
